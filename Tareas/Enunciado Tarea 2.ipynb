{
  "nbformat": 4,
  "nbformat_minor": 0,
  "metadata": {
    "kernelspec": {
      "name": "python3",
      "display_name": "Python 3"
    },
    "language_info": {
      "codemirror_mode": {
        "name": "ipython",
        "version": 3
      },
      "file_extension": ".py",
      "mimetype": "text/x-python",
      "name": "python",
      "nbconvert_exporter": "python",
      "pygments_lexer": "ipython3",
      "version": "3.7.4"
    },
    "colab": {
      "name": "Enunciado Tarea 2.ipynb",
      "provenance": [],
      "machine_shape": "hm"
    },
    "accelerator": "GPU"
  },
  "cells": [
    {
      "cell_type": "markdown",
      "metadata": {
        "id": "7wUsAGTPUcnv",
        "colab_type": "text"
      },
      "source": [
        "### <img src=\"http://www.exalumnos.usm.cl/wp-content/uploads/2015/06/Isotipo-Negro.gif\" title=\"Title text\" width=\"20%\" height=\"20%\" />\n",
        "\n",
        "\n",
        "<hr style=\"height:2px;border:none\"/>\n",
        "<h1 align='center'> INF-395/477 Redes Neuronales Artificiales - 2019-2 </h1>\n",
        "\n",
        "<H3 align='center'> Tarea 2  </H3>\n",
        "<hr style=\"height:2px;border:none\"/>\n",
        "\n",
        "**Temas**  \n",
        "* Manipulaciones en pandas y numpy, preprocesamientos\n",
        "* Recurrent Neural Networks \n",
        "* LSTM, GRU\n",
        "* Autoencoders\n",
        "* GAN\n",
        " \n",
        "\n",
        "\n",
        "**Formalidades**  \n",
        "* Equipos de trabajo de 2 personas (*Ambos estudiantes deben estar preparados para presentar la tarea el día de la entrega*).\n",
        "* El entregable debe ser un _Jupyter Notebook_ incluyendo los códigos utilizados, los resultados, los gráficos realizados y comentarios. Debe seguir una estructura similar a un informe (se debe introducir los problemas a trabajar, presentar los resultados y discutirlos), se penalizará fuertemente ausencia de comentarios, explicaciones de gráficos, _etc_. Si lo prefiere puede entregar un _Jupyter Notebook_ por pregunta o uno por toda la tarea, con tal de que todos los entregables esten bien identificados y se encuentren en el mismo repositorio de _Github_.\n",
        "* Se debe preparar una presentación del trabajo realizado y sus hallazgos. El presentador será elegido aleatoriamente y deberá apoyarse en el _Jupyter Notebook_ que entregarán. \n",
        "* Formato de entrega: envı́o de link del repositorio en _Github_, al correo electrónico del ayudante (<alvaro.valderrama.13@sansano.usm.cl>), en copia al profesor (<cvalle@inf.utfsm.cl>).   Especificar el siguiente asunto: [INF-395/477-2019 Tarea 2]. Invitar como colaborador al usuario de github \"avalderr\" para poder acceder al repositorio en caso de ser privado.\n",
        "* Fecha de entrega y presentaciones: 21 de Febrero 2020 (Fase I). Hora límite de entrega: 23:59. Cualquier _commit_ luego de la hora límite no será evaluado. Se realizará descuento por atrasos en envío del mail igualmente.  \n",
        "\n",
        "<hr style=\"height:2px;border:none\"/>\n",
        "\n",
        "La tarea se divide en tres partes:\n",
        "\n",
        "* 1 - Redes Recurrentes en Texto\n",
        "* 2 - Autoencoders en Fashion MNIST    \n",
        "* 3 - GAN para MNIST.\n",
        "\n",
        "La tarea tiene ejemplos de códigos con los cuales pueden guiarse en gran parte, sin embargo, solo son guias y pueden ser creativos al momento de resolver la tarea. Soluciones creativas o elegantes serán valoradas. También en algunas ocaciones se hacen elecciones arbitrarias, ustedes pueden realizar otras elecciones con tal de que haya una pequeña justificación de por qué su elección es mejor o equivalente.\n",
        "Recuerden intercalar su código con *comentarios* en celdas _Markdown_, con los comentarios de la pregunta y con cualquier analisis, fórmula (en $ \\LaTeX $) o explicación que les parezca relevante para justificar sus procedimientos. *No respondan las preguntas en comentarios en el código*.\n",
        "Noten que en general cuando se les pide elegir algo o proponer algo no se evaluará tanto la elección en si. En cambio la argumentación detrás de la elección será lo más ponderado.\n",
        "Si algun modelo se demora demasiado en correr en su maquina, no olvide que puede correr _Jupyter Notebooks_ en _Collab_ de Google, incluso con la opción de aceleración con GPU (particularmente útil para los modelos más grandes), esto puede ser relevante para las maquinas más lentas al momento de realizar exploraciones con _K-folds_ o las redes más grandes. Existe también la posibilidad de utilizar _Google Cloud Plataform_, donde tienen 300 dolares de prueba por un año y pueden comprar tiempo de procesamiento en maquinas aceleradas con GPU; maquinas ya configuradas para _deep leraning_ pueden encontrarse en el _Marketplace_."
      ]
    },
    {
      "cell_type": "markdown",
      "metadata": {
        "id": "7cXszO_JUcnz",
        "colab_type": "text"
      },
      "source": [
        "# 1 - Redes Recurrentes en texto\n",
        "\n",
        "El analisis de texto y en general de lenguaje natural es una de las tareas desafiantes que los avances tanto del machine learning como de redes neuronales han logrado potenciar el los último años. La naturaleza inherentemente secuencial del texto y sus características similares a variables categóricas han inspirado muchos avances interesantes en el area. Para esta primera aproximación a procesamiento de secuencias, y en particular de texto, utilizaremos un dataset relativamente estandar, de texto anotado con categorias de entidades. Este dataset se encuentra disponible en el siguiente link https://www.kaggle.com/abhinavwalia95/entity-annotated-corpus. \n",
        "\n",
        "Durante esta pregunta realizaremos dos tareas distintas, la de predicción del _tag_ para cada palabra de la secuencia (_many to many_) y la de predicción del siguiente caracter (_many to one_). \n"
      ]
    },
    {
      "cell_type": "markdown",
      "metadata": {
        "id": "DbP0duAXUcn0",
        "colab_type": "text"
      },
      "source": [
        "#### 1.a El dataset\n",
        "\n",
        "Investigue en la documentación del dataset cual es la tarea original para el cual fue propuesto, en particular cual es la variable que buscamos predecir, a qué se refiere esta misma y por qué es necesario utilizar técnicas avanzadas para resolver esta tarea (¿no bastaría con un diccionario? De un ejemplo en caso contrario). \n",
        "\n",
        "Cargue el conjunto de datos. Este conjunto de datos es bastante grande, por lo que como ven en el código propuesto, nos contentaremos con no considerar las lineas corruptas del registro.\n",
        "\n",
        "Solo nos quedaremos con `word` y `lemma` de las variables regresoras, guardando `sentence_idx` para poder reconstruir las frases como unidad básica con la que trabajaremos. ¿Qué diferencia hay entre la palabra y su lemma? De ejemplos donde la diferencia sea significativa y explique en qué circunstancias preferiría una sobra la otra. \n",
        "\n",
        "Para la primera parte de estas preguntas, preferiremos los lemas pues buscaremos predecir el `tag` de la palabra."
      ]
    },
    {
      "cell_type": "code",
      "metadata": {
        "id": "Gc5Gfd_SadSj",
        "colab_type": "code",
        "outputId": "69c5944d-f0e3-49b7-f36a-2e32a239b577",
        "colab": {
          "base_uri": "https://localhost:8080/",
          "height": 34
        }
      },
      "source": [
        "# Colab library to upload files to notebook\n",
        "from google.colab import files\n",
        "\n",
        "# Install Kaggle library\n",
        "!pip install -q kaggle\n",
        "\n",
        "# check if dataset exist\n",
        "!ls"
      ],
      "execution_count": 4,
      "outputs": [
        {
          "output_type": "stream",
          "text": [
            "sample_data\n"
          ],
          "name": "stdout"
        }
      ]
    },
    {
      "cell_type": "code",
      "metadata": {
        "id": "SgrHw_4UagfU",
        "colab_type": "code",
        "colab": {}
      },
      "source": [
        "!mkdir /root/.kaggle\n",
        "!echo '{\"username\":\"sebastingallardo\",\"key\":\"df9d642f8dce03217fe5b41f25881f75\"}' > /root/.kaggle/kaggle.json"
      ],
      "execution_count": 0,
      "outputs": []
    },
    {
      "cell_type": "code",
      "metadata": {
        "id": "QA9G8w4Maq5x",
        "colab_type": "code",
        "outputId": "0bc5c4f3-b7eb-4b1e-b1a2-d6ac3853c8fd",
        "colab": {
          "base_uri": "https://localhost:8080/",
          "height": 85
        }
      },
      "source": [
        "!kaggle datasets download -d abhinavwalia95/entity-annotated-corpus"
      ],
      "execution_count": 6,
      "outputs": [
        {
          "output_type": "stream",
          "text": [
            "Warning: Your Kaggle API key is readable by other users on this system! To fix this, you can run 'chmod 600 /root/.kaggle/kaggle.json'\n",
            "Downloading entity-annotated-corpus.zip to /content\n",
            " 53% 14.0M/26.4M [00:00<00:00, 146MB/s]\n",
            "100% 26.4M/26.4M [00:00<00:00, 169MB/s]\n"
          ],
          "name": "stdout"
        }
      ]
    },
    {
      "cell_type": "code",
      "metadata": {
        "id": "P8DdExj9eRVS",
        "colab_type": "code",
        "colab": {}
      },
      "source": [
        "!unzip -q 'entity-annotated-corpus.zip'"
      ],
      "execution_count": 0,
      "outputs": []
    },
    {
      "cell_type": "code",
      "metadata": {
        "id": "IufsyvdAen0o",
        "colab_type": "code",
        "outputId": "59ea9322-24b8-4115-ca1c-801fb4e60e7f",
        "colab": {
          "base_uri": "https://localhost:8080/",
          "height": 51
        }
      },
      "source": [
        "import os\n",
        "import glob\n",
        "print(os.getcwd())\n",
        "data_path = os.path.join(os.getcwd())\n",
        "print(os.listdir(data_path))"
      ],
      "execution_count": 8,
      "outputs": [
        {
          "output_type": "stream",
          "text": [
            "/content\n",
            "['.config', 'entity-annotated-corpus.zip', 'ner.csv', 'ner_dataset.csv', 'sample_data']\n"
          ],
          "name": "stdout"
        }
      ]
    },
    {
      "cell_type": "code",
      "metadata": {
        "id": "IKAOYucqUcn1",
        "colab_type": "code",
        "outputId": "604d7c4f-863d-4808-9b5c-dfd279acc727",
        "colab": {
          "base_uri": "https://localhost:8080/",
          "height": 34
        }
      },
      "source": [
        "import pandas as pd\n",
        "df = pd.read_csv(os.path.join(\"ner.csv\"), engine='python', error_bad_lines=False)\n",
        "df = df.dropna()[['lemma','tag','word','sentence_idx']]"
      ],
      "execution_count": 9,
      "outputs": [
        {
          "output_type": "stream",
          "text": [
            "Skipping line 281837: Expected 25 fields in line 281837, saw 34\n"
          ],
          "name": "stderr"
        }
      ]
    },
    {
      "cell_type": "code",
      "metadata": {
        "id": "zauuzv2Dfprm",
        "colab_type": "code",
        "outputId": "ac86febe-6cb3-4e35-a338-3ddbb112583d",
        "colab": {
          "base_uri": "https://localhost:8080/",
          "height": 255
        }
      },
      "source": [
        "print(df)"
      ],
      "execution_count": 0,
      "outputs": [
        {
          "output_type": "stream",
          "text": [
            "            lemma tag           word  sentence_idx\n",
            "0        thousand   O      Thousands           1.0\n",
            "1              of   O             of           1.0\n",
            "2        demonstr   O  demonstrators           1.0\n",
            "3            have   O           have           1.0\n",
            "4           march   O        marched           1.0\n",
            "...           ...  ..            ...           ...\n",
            "1050790      they   O           they       47959.0\n",
            "1050791   respond   O      responded       47959.0\n",
            "1050792        to   O             to       47959.0\n",
            "1050793       the   O            the       47959.0\n",
            "1050794    attack   O         attack       47959.0\n",
            "\n",
            "[1050794 rows x 4 columns]\n"
          ],
          "name": "stdout"
        }
      ]
    },
    {
      "cell_type": "markdown",
      "metadata": {
        "id": "q-zFeEzWUcn7",
        "colab_type": "text"
      },
      "source": [
        "#### 1.b Preprocesamiento\n",
        "\n",
        "Para poder utilizar este conjunto de datos, debemos transformar nuestra tabla de palabras y sentencias, a una tabla donde cada entrada sea una sentencia, ademas codificando los distintos lemmas y tags como valores numericos. Esto pueden realizarlo con alguna de las utilidades de `keras` o `sklearn`, sin embargo en el código siguiente se propone un metodo solo usando python y `pandas`. Pueden utilizar el método que deseen. Note eso si que independiente la aproximación que utilice debe comenzar desde 1 para la codificación, pues el valor 0 lo reservaremos para representar la ausencia de palabras más adelante. \n",
        "\n",
        "Complete y explique que realiza cada linea del código."
      ]
    },
    {
      "cell_type": "code",
      "metadata": {
        "id": "7k-o_xmGUcn9",
        "colab_type": "code",
        "colab": {}
      },
      "source": [
        "import numpy as np\n",
        "\n",
        "lemma_to_code = {lemma:code+1 for code, lemma in enumerate(df.lemma.unique())}\n",
        "tag_to_code = {tag:code+1 for code, tag in enumerate(df.tag.unique())}\n",
        "n_lemmas = len(lemma_to_code)\n",
        "\n",
        "df['lemma'] = df.lemma.apply(lambda x: lemma_to_code[x])\n",
        "df['tag'] = df.tag.apply(lambda x: tag_to_code[x])\n",
        "\n",
        "dff = df.groupby(\"sentence_idx\")[['lemma','tag']].agg(list).applymap(np.asarray)"
      ],
      "execution_count": 0,
      "outputs": []
    },
    {
      "cell_type": "code",
      "metadata": {
        "id": "7OQFSWyrICy5",
        "colab_type": "code",
        "outputId": "cbc7375b-e65e-43ca-be3b-bc6603f0dcb7",
        "colab": {
          "base_uri": "https://localhost:8080/",
          "height": 71
        }
      },
      "source": [
        "print(tag_to_code)\n",
        "tag_to_code[\"PAD\"] = 0\n",
        "n_tags = len(tag_to_code)\n",
        "print(n_tags)"
      ],
      "execution_count": 11,
      "outputs": [
        {
          "output_type": "stream",
          "text": [
            "{'O': 1, 'B-geo': 2, 'B-gpe': 3, 'B-per': 4, 'I-geo': 5, 'B-org': 6, 'I-org': 7, 'B-tim': 8, 'B-art': 9, 'I-art': 10, 'I-per': 11, 'I-gpe': 12, 'I-tim': 13, 'B-nat': 14, 'B-eve': 15, 'I-eve': 16, 'I-nat': 17}\n",
            "18\n"
          ],
          "name": "stdout"
        }
      ]
    },
    {
      "cell_type": "markdown",
      "metadata": {
        "id": "uygAlSB0UcoB",
        "colab_type": "text"
      },
      "source": [
        "#### 1.c Padding\n",
        "\n",
        "Ahora que ya tenemos las sentencias codificadas y agrupadas, explore el tamaño de estas, en número de lemmas: ¿Son todas las sentencias de igual tamaño? ¿Le hace sentido esto? ¿Las redes que conoce pueden manajar ejemplos de distintos tamaños, y si pueden que problemas podría traer? ¿Estan las clases repartidas de manera equitativa?\n",
        "\n",
        "En esta parte de la tarea, deben lograr que todas las secuencias de lemmas (y los tags correspondientes) queden del mismo largo, es decir realizar _padding_. El _padding_ debe realizarse con el valor 0, pueden escoger si realizarlo al comienzo de la secuencia o al final, expliquen su elección. Pueden utilizar la función `keras.preprocessing.sequence.pad_sequences` o escribir sus propios códigos. Elija un valor de `maxlen` que le parezca adecuado.\n",
        "\n",
        "¿Opinan que es deseable utilizar el valor 0 como codificación de palabras que \"no existen\", o creen que es irrelevante por ejemplo que su valor sea 1?"
      ]
    },
    {
      "cell_type": "code",
      "metadata": {
        "id": "ESviEzbd9a9t",
        "colab_type": "code",
        "outputId": "1a38488b-1219-4206-ed2e-1a4aaf3df16c",
        "colab": {
          "base_uri": "https://localhost:8080/",
          "height": 289
        }
      },
      "source": [
        "print(dff.shape)\n",
        "print(dff)"
      ],
      "execution_count": 0,
      "outputs": [
        {
          "output_type": "stream",
          "text": [
            "(35177, 2)\n",
            "                                                          lemma                                                tag\n",
            "sentence_idx                                                                                                      \n",
            "1.0           [1, 2, 3, 4, 5, 6, 7, 8, 9, 10, 11, 12, 13, 14...  [1, 1, 1, 1, 1, 1, 2, 1, 1, 1, 1, 1, 2, 1, 1, ...\n",
            "2.0           [23, 2, 24, 25, 12, 10, 26, 27, 10, 9, 28, 29,...  [1, 1, 1, 1, 1, 1, 1, 1, 1, 1, 1, 1, 1, 1, 1, ...\n",
            "3.0           [42, 5, 19, 10, 43, 2, 44, 8, 45, 46, 12, 47, ...  [1, 1, 1, 1, 1, 1, 1, 1, 1, 1, 1, 2, 5, 1, 1, ...\n",
            "4.0           [49, 50, 10, 37, 2, 51, 52, 53, 54, 55, 56, 57...  [1, 1, 1, 1, 1, 1, 1, 1, 1, 1, 1, 1, 1, 1, 1, ...\n",
            "5.0           [10, 9, 60, 61, 10, 62, 2, 10, 63, 64, 2, 65, ...  [1, 1, 1, 1, 1, 1, 1, 1, 1, 1, 1, 2, 1, 1, 6, ...\n",
            "...                                                         ...                                                ...\n",
            "47955.0       [1261, 489, 148, 308, 172, 716, 233, 484, 1360...  [3, 1, 1, 1, 1, 1, 1, 3, 1, 1, 1, 1, 1, 1, 1, ...\n",
            "47956.0       [1261, 119, 164, 356, 38, 58, 841, 12, 334, 66...  [3, 1, 1, 1, 1, 1, 1, 1, 8, 1, 1, 1, 1, 1, 1, ...\n",
            "47957.0       [175, 277, 235, 12, 205, 2326, 8, 45, 817, 719...                  [1, 1, 1, 1, 1, 1, 1, 1, 1, 1, 1]\n",
            "47958.0       [42, 120, 257, 612, 2, 10, 1110, 2255, 2638, 4...                  [1, 1, 1, 1, 1, 1, 1, 1, 1, 1, 1]\n",
            "47959.0                   [1261, 308, 164, 42, 104, 8, 10, 214]                           [3, 1, 1, 1, 1, 1, 1, 1]\n",
            "\n",
            "[35177 rows x 2 columns]\n"
          ],
          "name": "stdout"
        }
      ]
    },
    {
      "cell_type": "code",
      "metadata": {
        "id": "S3TP_rlLrUZN",
        "colab_type": "code",
        "outputId": "f42d2966-500a-45f1-ef91-c9e6d862824c",
        "colab": {
          "base_uri": "https://localhost:8080/",
          "height": 435
        }
      },
      "source": [
        "import matplotlib.pyplot as plt\n",
        "\n",
        "print(dff.iloc[4].lemma.shape)\n",
        "print(dff.iloc[42].lemma.shape)\n",
        "largo = []\n",
        "for i in range(dff.shape[0]):\n",
        "  largo.append(dff.iloc[i].lemma.shape[0])\n",
        "\n",
        "plt.boxplot(largo)"
      ],
      "execution_count": 0,
      "outputs": [
        {
          "output_type": "stream",
          "text": [
            "(50,)\n",
            "(70,)\n"
          ],
          "name": "stdout"
        },
        {
          "output_type": "execute_result",
          "data": {
            "text/plain": [
              "{'boxes': [<matplotlib.lines.Line2D at 0x7f7daafd4e80>],\n",
              " 'caps': [<matplotlib.lines.Line2D at 0x7f7dab086780>,\n",
              "  <matplotlib.lines.Line2D at 0x7f7dab086ac8>],\n",
              " 'fliers': [<matplotlib.lines.Line2D at 0x7f7dab068198>],\n",
              " 'means': [],\n",
              " 'medians': [<matplotlib.lines.Line2D at 0x7f7dab086e10>],\n",
              " 'whiskers': [<matplotlib.lines.Line2D at 0x7f7dab0860f0>,\n",
              "  <matplotlib.lines.Line2D at 0x7f7dab086438>]}"
            ]
          },
          "metadata": {
            "tags": []
          },
          "execution_count": 48
        },
        {
          "output_type": "display_data",
          "data": {
            "image/png": "[encoded data removed]",
            "text/plain": [
              "<Figure size 432x288 with 1 Axes>"
            ]
          },
          "metadata": {
            "tags": []
          }
        }
      ]
    },
    {
      "cell_type": "code",
      "metadata": {
        "id": "cekxdNpGA1Fx",
        "colab_type": "code",
        "outputId": "b8d1946c-9a52-469a-ebd3-11cf98ddffd5",
        "colab": {
          "base_uri": "https://localhost:8080/",
          "height": 68
        }
      },
      "source": [
        "print(dff.iloc[423].tag.shape == dff.iloc[423].lemma.shape)\n",
        "print(dff.iloc[34242].tag.shape == dff.iloc[34242].lemma.shape)\n",
        "print(np.max(largo))"
      ],
      "execution_count": 0,
      "outputs": [
        {
          "output_type": "stream",
          "text": [
            "True\n",
            "True\n",
            "140\n"
          ],
          "name": "stdout"
        }
      ]
    },
    {
      "cell_type": "code",
      "metadata": {
        "id": "8JfDPL4cUcoC",
        "colab_type": "code",
        "outputId": "6329725a-88c5-471e-b510-42da478774b0",
        "colab": {
          "base_uri": "https://localhost:8080/",
          "height": 136
        }
      },
      "source": [
        "from keras.preprocessing.sequence import pad_sequences\n",
        "\n",
        "max_len = 140\n",
        "x = pad_sequences(dff.lemma.values,\n",
        "                  maxlen=max_len,\n",
        "                  padding='pre',\n",
        "                  truncating='post'\n",
        ")\n",
        "\n",
        "y = pad_sequences(dff.tag.values,\n",
        "                  maxlen=max_len,\n",
        "                  padding='pre',\n",
        "                  truncating='post'\n",
        ")\n",
        "\n",
        "print(y)"
      ],
      "execution_count": 12,
      "outputs": [
        {
          "output_type": "stream",
          "text": [
            "[[0 0 0 ... 1 1 1]\n",
            " [0 0 0 ... 1 1 1]\n",
            " [0 0 0 ... 2 5 1]\n",
            " ...\n",
            " [0 0 0 ... 1 1 1]\n",
            " [0 0 0 ... 1 1 1]\n",
            " [0 0 0 ... 1 1 1]]\n"
          ],
          "name": "stdout"
        }
      ]
    },
    {
      "cell_type": "markdown",
      "metadata": {
        "id": "azMxxxVMUcoF",
        "colab_type": "text"
      },
      "source": [
        "#### 1.d Even more encodding and preprocessing\n",
        "\n",
        "Para la primera tarea, buscaremos realizar la predicción del tag, la cual es una variable categórica. Por lo tanto, como ya sabemos de la tarea anterior, resulta conveniente tener los _targets_ en _one hot vector_. \n",
        "\n",
        "Además debemos separar ambos conjuntos (`x` e `y`) en los conjuntos de entrenamiento y validación. \n",
        "\n",
        "Realice esto con las herramientas y proporciones que estime convenientes. "
      ]
    },
    {
      "cell_type": "code",
      "metadata": {
        "id": "PbY34nCWUcoH",
        "colab_type": "code",
        "outputId": "a64c3b7e-9aca-48db-bd25-e8ea23b2be36",
        "colab": {
          "base_uri": "https://localhost:8080/",
          "height": 51
        }
      },
      "source": [
        "from sklearn.model_selection import train_test_split\n",
        "from keras.utils.np_utils import to_categorical\n",
        "\n",
        "y = [to_categorical(i, num_classes=n_tags) for i in y]\n",
        "x_tr, x_val, y_tr, y_val = train_test_split(x, y, test_size=0.25, random_state=1)\n",
        "\n",
        "y_tr = np.array(y_tr)\n",
        "y_val = np.array(y_val)\n",
        "\n",
        "print(x_tr.shape)\n",
        "print(x_val.shape)"
      ],
      "execution_count": 13,
      "outputs": [
        {
          "output_type": "stream",
          "text": [
            "(26382, 140)\n",
            "(8795, 140)\n"
          ],
          "name": "stdout"
        }
      ]
    },
    {
      "cell_type": "markdown",
      "metadata": {
        "id": "mbFc1vzkUcoL",
        "colab_type": "text"
      },
      "source": [
        "#### 1.e Primera red recurrente\n",
        "\n",
        "Ahora entrenaremos una primera red recurrente LSTM. Explique la particularidad de estas redes y por qué podría comportarse bien para este tipo de problemas. \n",
        "\n",
        "La tarea de esta red será procesar la secuencia de _lemmas_ y predecir su _tag_. ¿Cuáles son las dimensiones de nuestro input y de nuestro output?\n",
        "\n",
        "Considerando que si bien los _lemmas_ estan representados como enteros, esta representación no tiene ninguna relación con el \"significado\" de estos. Por eso, es recomendable utilizar otra representación que mejor extraiga la naturaleza \"categorica\" de estos, sin embargo por la cantidad de ejemplos que tenemos, no resultaría practico utilizar _one hot vector_, pues las dimensiones explotarían. Para esto, utilizaremos una primera capa que realiza una transformación entrenable entre el espacio discreto de la representación original y un _embedding_ en $\\mathbb{R}^d$ donde $d$ corresponde a la dimensión de nuestro espacio de llegada.\n",
        "\n",
        "Utilice un _embedding_ de dmensión 100, luego agregue una capa LSTM con 128 unidades y finalmente la capa densa de salida. Compile y entrene el modelo por al menos 10 epochs. Grafique el proceso de entrenamiento y evalue el desempeño final considerando alguna métrica relevante (F1 score, matriz de confusión, etc), considerando la repartición de clases que observó en la pregunta c."
      ]
    },
    {
      "cell_type": "code",
      "metadata": {
        "id": "_E8Z9JaAUcoM",
        "colab_type": "code",
        "outputId": "b687843f-b598-488c-d573-b2fe9cc28051",
        "colab": {
          "base_uri": "https://localhost:8080/",
          "height": 1000
        }
      },
      "source": [
        "from keras.models import Sequential\n",
        "from keras.layers import LSTM, Embedding, Dense\n",
        "\n",
        "ltsm = Sequential()\n",
        "\n",
        "embedding_dim = 100\n",
        "ltsm.add(Embedding(input_dim=n_lemmas, output_dim=embedding_dim, input_length=max_len))\n",
        "\n",
        "ltsm.add(LSTM(units=128,return_sequences=True)) # You can use CuDNNLSTM if you have a CUDA enabled GPU for faster performance\n",
        "\n",
        "ltsm.add(Dense(n_tags, activation='softmax'))\n",
        "\n",
        "ltsm.compile(loss='categorical_crossentropy', optimizer='adam', metrics=['accuracy'])\n",
        "\n",
        "ltsm.summary()\n",
        "history = ltsm.fit(x_tr,y_tr, validation_data=(x_val,y_val), epochs=10, batch_size=128)\n",
        "\n"
      ],
      "execution_count": 23,
      "outputs": [
        {
          "output_type": "stream",
          "text": [
            "WARNING:tensorflow:From /usr/local/lib/python3.6/dist-packages/keras/backend/tensorflow_backend.py:66: The name tf.get_default_graph is deprecated. Please use tf.compat.v1.get_default_graph instead.\n",
            "\n",
            "WARNING:tensorflow:From /usr/local/lib/python3.6/dist-packages/keras/backend/tensorflow_backend.py:541: The name tf.placeholder is deprecated. Please use tf.compat.v1.placeholder instead.\n",
            "\n",
            "WARNING:tensorflow:From /usr/local/lib/python3.6/dist-packages/keras/backend/tensorflow_backend.py:4432: The name tf.random_uniform is deprecated. Please use tf.random.uniform instead.\n",
            "\n",
            "WARNING:tensorflow:From /usr/local/lib/python3.6/dist-packages/keras/optimizers.py:793: The name tf.train.Optimizer is deprecated. Please use tf.compat.v1.train.Optimizer instead.\n",
            "\n",
            "WARNING:tensorflow:From /usr/local/lib/python3.6/dist-packages/keras/backend/tensorflow_backend.py:3576: The name tf.log is deprecated. Please use tf.math.log instead.\n",
            "\n",
            "Model: \"sequential_1\"\n",
            "_________________________________________________________________\n",
            "Layer (type)                 Output Shape              Param #   \n",
            "=================================================================\n",
            "embedding_1 (Embedding)      (None, 140, 100)          2023900   \n",
            "_________________________________________________________________\n",
            "lstm_1 (LSTM)                (None, 140, 128)          117248    \n",
            "_________________________________________________________________\n",
            "dense_1 (Dense)              (None, 140, 18)           2322      \n",
            "=================================================================\n",
            "Total params: 2,143,470\n",
            "Trainable params: 2,143,470\n",
            "Non-trainable params: 0\n",
            "_________________________________________________________________\n",
            "WARNING:tensorflow:From /usr/local/lib/python3.6/dist-packages/tensorflow_core/python/ops/math_grad.py:1424: where (from tensorflow.python.ops.array_ops) is deprecated and will be removed in a future version.\n",
            "Instructions for updating:\n",
            "Use tf.where in 2.0, which has the same broadcast rule as np.where\n",
            "WARNING:tensorflow:From /usr/local/lib/python3.6/dist-packages/keras/backend/tensorflow_backend.py:1033: The name tf.assign_add is deprecated. Please use tf.compat.v1.assign_add instead.\n",
            "\n",
            "WARNING:tensorflow:From /usr/local/lib/python3.6/dist-packages/keras/backend/tensorflow_backend.py:1020: The name tf.assign is deprecated. Please use tf.compat.v1.assign instead.\n",
            "\n",
            "WARNING:tensorflow:From /usr/local/lib/python3.6/dist-packages/keras/backend/tensorflow_backend.py:3005: The name tf.Session is deprecated. Please use tf.compat.v1.Session instead.\n",
            "\n",
            "Train on 26382 samples, validate on 8795 samples\n",
            "Epoch 1/10\n",
            "WARNING:tensorflow:From /usr/local/lib/python3.6/dist-packages/keras/backend/tensorflow_backend.py:190: The name tf.get_default_session is deprecated. Please use tf.compat.v1.get_default_session instead.\n",
            "\n",
            "WARNING:tensorflow:From /usr/local/lib/python3.6/dist-packages/keras/backend/tensorflow_backend.py:197: The name tf.ConfigProto is deprecated. Please use tf.compat.v1.ConfigProto instead.\n",
            "\n",
            "WARNING:tensorflow:From /usr/local/lib/python3.6/dist-packages/keras/backend/tensorflow_backend.py:207: The name tf.global_variables is deprecated. Please use tf.compat.v1.global_variables instead.\n",
            "\n",
            "WARNING:tensorflow:From /usr/local/lib/python3.6/dist-packages/keras/backend/tensorflow_backend.py:216: The name tf.is_variable_initialized is deprecated. Please use tf.compat.v1.is_variable_initialized instead.\n",
            "\n",
            "WARNING:tensorflow:From /usr/local/lib/python3.6/dist-packages/keras/backend/tensorflow_backend.py:223: The name tf.variables_initializer is deprecated. Please use tf.compat.v1.variables_initializer instead.\n",
            "\n",
            "26382/26382 [==============================] - 52s 2ms/step - loss: 0.3903 - acc: 0.9281 - val_loss: 0.1607 - val_acc: 0.9673\n",
            "Epoch 2/10\n",
            "26382/26382 [==============================] - 43s 2ms/step - loss: 0.1165 - acc: 0.9706 - val_loss: 0.0795 - val_acc: 0.9788\n",
            "Epoch 3/10\n",
            "26382/26382 [==============================] - 43s 2ms/step - loss: 0.0631 - acc: 0.9833 - val_loss: 0.0525 - val_acc: 0.9863\n",
            "Epoch 4/10\n",
            "26382/26382 [==============================] - 43s 2ms/step - loss: 0.0427 - acc: 0.9884 - val_loss: 0.0425 - val_acc: 0.9881\n",
            "Epoch 5/10\n",
            "26382/26382 [==============================] - 42s 2ms/step - loss: 0.0344 - acc: 0.9902 - val_loss: 0.0390 - val_acc: 0.9887\n",
            "Epoch 6/10\n",
            "26382/26382 [==============================] - 42s 2ms/step - loss: 0.0306 - acc: 0.9910 - val_loss: 0.0373 - val_acc: 0.9890\n",
            "Epoch 7/10\n",
            "26382/26382 [==============================] - 42s 2ms/step - loss: 0.0281 - acc: 0.9915 - val_loss: 0.0364 - val_acc: 0.9892\n",
            "Epoch 8/10\n",
            "26382/26382 [==============================] - 44s 2ms/step - loss: 0.0263 - acc: 0.9918 - val_loss: 0.0367 - val_acc: 0.9892\n",
            "Epoch 9/10\n",
            "26382/26382 [==============================] - 43s 2ms/step - loss: 0.0250 - acc: 0.9922 - val_loss: 0.0366 - val_acc: 0.9890\n",
            "Epoch 10/10\n",
            "26382/26382 [==============================] - 43s 2ms/step - loss: 0.0238 - acc: 0.9924 - val_loss: 0.0374 - val_acc: 0.9892\n"
          ],
          "name": "stdout"
        }
      ]
    },
    {
      "cell_type": "code",
      "metadata": {
        "id": "q6vGWkKbOSDA",
        "colab_type": "code",
        "outputId": "9663322e-603f-4079-f0e8-189bd008ac95",
        "colab": {
          "base_uri": "https://localhost:8080/",
          "height": 313
        }
      },
      "source": [
        "import matplotlib.pyplot as plt \n",
        "\n",
        "plt.plot(history.history[\"acc\"],label=\"training accuracy\")\n",
        "plt.plot(history.history[\"val_acc\"],label=\"val accuracy\")\n",
        "plt.legend(loc=\"upper left\")\n",
        "plt.ylabel('accuracy')\n",
        "plt.xlabel('epoch')\n",
        "plt.plot\n",
        "score = ltsm.evaluate(x_val, y_val, verbose=0)\n",
        "print('Test loss:', score[0])\n",
        "print('Test accuracy:', score[1])"
      ],
      "execution_count": 24,
      "outputs": [
        {
          "output_type": "stream",
          "text": [
            "Test loss: 0.03737807533258467\n",
            "Test accuracy: 0.9892203361219544\n"
          ],
          "name": "stdout"
        },
        {
          "output_type": "display_data",
          "data": {
            "image/png": "[encoded data removed]",
            "text/plain": [
              "<Figure size 432x288 with 1 Axes>"
            ]
          },
          "metadata": {
            "tags": []
          }
        }
      ]
    },
    {
      "cell_type": "code",
      "metadata": {
        "id": "uem9SFea_JsM",
        "colab_type": "code",
        "outputId": "d8bf8529-fc17-4c90-e61e-86b7f0d8ddec",
        "colab": {
          "base_uri": "https://localhost:8080/",
          "height": 496
        }
      },
      "source": [
        "!pip install seqeval\n",
        "!pip install sklearn_crfsuite"
      ],
      "execution_count": 25,
      "outputs": [
        {
          "output_type": "stream",
          "text": [
            "Collecting seqeval\n",
            "  Downloading https://files.pythonhosted.org/packages/34/91/068aca8d60ce56dd9ba4506850e876aba5e66a6f2f29aa223224b50df0de/seqeval-0.0.12.tar.gz\n",
            "Requirement already satisfied: numpy>=1.14.0 in /usr/local/lib/python3.6/dist-packages (from seqeval) (1.17.5)\n",
            "Requirement already satisfied: Keras>=2.2.4 in /usr/local/lib/python3.6/dist-packages (from seqeval) (2.2.5)\n",
            "Requirement already satisfied: six>=1.9.0 in /usr/local/lib/python3.6/dist-packages (from Keras>=2.2.4->seqeval) (1.12.0)\n",
            "Requirement already satisfied: scipy>=0.14 in /usr/local/lib/python3.6/dist-packages (from Keras>=2.2.4->seqeval) (1.4.1)\n",
            "Requirement already satisfied: keras-preprocessing>=1.1.0 in /usr/local/lib/python3.6/dist-packages (from Keras>=2.2.4->seqeval) (1.1.0)\n",
            "Requirement already satisfied: keras-applications>=1.0.8 in /usr/local/lib/python3.6/dist-packages (from Keras>=2.2.4->seqeval) (1.0.8)\n",
            "Requirement already satisfied: h5py in /usr/local/lib/python3.6/dist-packages (from Keras>=2.2.4->seqeval) (2.8.0)\n",
            "Requirement already satisfied: pyyaml in /usr/local/lib/python3.6/dist-packages (from Keras>=2.2.4->seqeval) (3.13)\n",
            "Building wheels for collected packages: seqeval\n",
            "  Building wheel for seqeval (setup.py) ... \u001b[?25l\u001b[?25hdone\n",
            "  Created wheel for seqeval: filename=seqeval-0.0.12-cp36-none-any.whl size=7424 sha256=87aaff66ce388d6e564434e64782d390839dfd79c3f9966890faf0a168c00da2\n",
            "  Stored in directory: /root/.cache/pip/wheels/4f/32/0a/df3b340a82583566975377d65e724895b3fad101a3fb729f68\n",
            "Successfully built seqeval\n",
            "Installing collected packages: seqeval\n",
            "Successfully installed seqeval-0.0.12\n",
            "Collecting sklearn_crfsuite\n",
            "  Downloading https://files.pythonhosted.org/packages/25/74/5b7befa513482e6dee1f3dd68171a6c9dfc14c0eaa00f885ffeba54fe9b0/sklearn_crfsuite-0.3.6-py2.py3-none-any.whl\n",
            "Requirement already satisfied: tqdm>=2.0 in /usr/local/lib/python3.6/dist-packages (from sklearn_crfsuite) (4.28.1)\n",
            "Collecting python-crfsuite>=0.8.3\n",
            "\u001b[?25l  Downloading https://files.pythonhosted.org/packages/2f/86/cfcd71edca9d25d3d331209a20f6314b6f3f134c29478f90559cee9ce091/python_crfsuite-0.9.6-cp36-cp36m-manylinux1_x86_64.whl (754kB)\n",
            "\u001b[K     |████████████████████████████████| 757kB 4.2MB/s \n",
            "\u001b[?25hRequirement already satisfied: tabulate in /usr/local/lib/python3.6/dist-packages (from sklearn_crfsuite) (0.8.6)\n",
            "Requirement already satisfied: six in /usr/local/lib/python3.6/dist-packages (from sklearn_crfsuite) (1.12.0)\n",
            "Installing collected packages: python-crfsuite, sklearn-crfsuite\n",
            "Successfully installed python-crfsuite-0.9.6 sklearn-crfsuite-0.3.6\n"
          ],
          "name": "stdout"
        }
      ]
    },
    {
      "cell_type": "code",
      "metadata": {
        "id": "EY2w3ZhF_-nB",
        "colab_type": "code",
        "outputId": "52eb7ffc-6aca-407f-b645-03bdcb1658b3",
        "colab": {
          "base_uri": "https://localhost:8080/",
          "height": 34
        }
      },
      "source": [
        "idx2tag = {i: w for w, i in tag_to_code.items()}\n",
        "\n",
        "def pred2label(pred):\n",
        "    out = []\n",
        "    for pred_i in pred:\n",
        "        out_i = []\n",
        "        for p in pred_i:\n",
        "            p_i = np.argmax(p)\n",
        "            out_i.append(list(idx2tag.values())[p_i].replace(\"PAD\", \"O\"))\n",
        "        out.append(out_i)\n",
        "    return out\n",
        "test_pred = ltsm.predict(x_val, verbose=1)   \n",
        "pred_labels = pred2label(test_pred)\n",
        "test_labels = pred2label(y_val)"
      ],
      "execution_count": 27,
      "outputs": [
        {
          "output_type": "stream",
          "text": [
            "8795/8795 [==============================] - 17s 2ms/step\n"
          ],
          "name": "stdout"
        }
      ]
    },
    {
      "cell_type": "code",
      "metadata": {
        "id": "BJx_weC81i3D",
        "colab_type": "code",
        "outputId": "4f7bcff2-5b3e-4fde-99c7-7b2b0846b429",
        "colab": {
          "base_uri": "https://localhost:8080/",
          "height": 34
        }
      },
      "source": [
        "from seqeval.metrics import precision_score, recall_score, f1_score, classification_report\n",
        "from  sklearn_crfsuite.metrics import flat_classification_report  \n",
        "\n",
        "print(\"F1-score: {:.1%}\".format(f1_score(test_labels, pred_labels)))"
      ],
      "execution_count": 28,
      "outputs": [
        {
          "output_type": "stream",
          "text": [
            "F1-score: 94.7%\n"
          ],
          "name": "stdout"
        }
      ]
    },
    {
      "cell_type": "code",
      "metadata": {
        "id": "k-RJScSnVW4T",
        "colab_type": "code",
        "colab": {
          "base_uri": "https://localhost:8080/",
          "height": 479
        },
        "outputId": "eb7b5f0d-fea8-4cd5-d82b-14c224899e84"
      },
      "source": [
        "report = flat_classification_report(y_pred=pred_labels, y_true=test_labels)\n",
        "print(report)"
      ],
      "execution_count": 29,
      "outputs": [
        {
          "output_type": "stream",
          "text": [
            "/usr/local/lib/python3.6/dist-packages/sklearn/metrics/_classification.py:1272: UndefinedMetricWarning: Precision and F-score are ill-defined and being set to 0.0 in labels with no predicted samples. Use `zero_division` parameter to control this behavior.\n",
            "  _warn_prf(average, modifier, msg_start, len(result))\n"
          ],
          "name": "stderr"
        },
        {
          "output_type": "stream",
          "text": [
            "              precision    recall  f1-score   support\n",
            "\n",
            "       B-art       0.91      0.80      0.85      5000\n",
            "       B-eve       0.00      0.00      0.00        66\n",
            "       B-geo       0.97      0.99      0.98    220977\n",
            "       B-gpe       0.81      0.81      0.81      9380\n",
            "       B-nat       0.79      0.57      0.66      1494\n",
            "       B-org       0.79      0.66      0.72      1828\n",
            "       B-per       0.90      0.91      0.91      4145\n",
            "       B-tim       0.66      0.53      0.59      4104\n",
            "       I-art       0.00      0.00      0.00       100\n",
            "       I-eve       0.71      0.05      0.10        96\n",
            "       I-geo       0.81      0.71      0.75      4058\n",
            "       I-gpe       0.86      0.81      0.84      4134\n",
            "       I-nat       0.00      0.00      0.00        83\n",
            "       I-org       0.70      0.49      0.58      5020\n",
            "       I-per       0.00      0.00      0.00        64\n",
            "       I-tim       0.00      0.00      0.00        48\n",
            "           O       1.00      1.00      1.00    970703\n",
            "\n",
            "    accuracy                           0.99   1231300\n",
            "   macro avg       0.58      0.49      0.52   1231300\n",
            "weighted avg       0.99      0.99      0.99   1231300\n",
            "\n"
          ],
          "name": "stdout"
        }
      ]
    },
    {
      "cell_type": "markdown",
      "metadata": {
        "id": "_b3LMn57UcoQ",
        "colab_type": "text"
      },
      "source": [
        "#### 1.f Comparación con otras aproximaciones. \n",
        "\n",
        "Ahora entrenaremos dos redes más para comparar los desempeños de la red recurrente. Para esto entrenaremos una red convolucional 1-dimensional y una red densa. Discuta las diferencias entre ambas redes y la red recurrente, y cual cree a priori se adecua mejor a la naturaleza del problema. \n",
        "\n",
        "Defina y entrene luego las redes con la misma primera capa de encodding y las siguientes configuraciones:\n",
        "* Convolucional: 2 capas conv1d con 128 filtros y kernel de tamaño 5\n",
        "* Densa: 2 capas densas de 128 unidades\n",
        "\n",
        "Compare los desempeños de las 3 redes en el problema su métrica preferida"
      ]
    },
    {
      "cell_type": "code",
      "metadata": {
        "id": "WIFrmqY7UcoR",
        "colab_type": "code",
        "colab": {
          "base_uri": "https://localhost:8080/",
          "height": 663
        },
        "outputId": "f26f9cd6-7281-4394-f8b7-59087e8ee273"
      },
      "source": [
        "from keras.layers import Conv1D, Embedding\n",
        "from keras.models import Sequential\n",
        "from keras.layers import Dense\n",
        "\n",
        "conv = Sequential()\n",
        "\n",
        "embedding_dim = 100\n",
        "conv.add(Embedding(input_dim=n_lemmas, output_dim=embedding_dim, input_length=max_len))\n",
        "conv.add(Conv1D(128, 5, activation='relu', padding='same'))\n",
        "conv.add(Conv1D(128, 5, activation='relu', padding='same'))\n",
        "conv.add(Dense(n_tags, activation=\"softmax\"))\n",
        "\n",
        "conv.compile(loss='categorical_crossentropy', optimizer='adam', metrics=['accuracy'])\n",
        "\n",
        "history = conv.fit(x_tr,y_tr, validation_data=(x_val,y_val), epochs=0, batch_size=128)\n",
        "conv.summary()\n",
        "history = conv.fit(x_tr,y_tr, validation_data=(x_val,y_val), epochs=10, batch_size=128)"
      ],
      "execution_count": 78,
      "outputs": [
        {
          "output_type": "stream",
          "text": [
            "Train on 26382 samples, validate on 8795 samples\n",
            "Model: \"sequential_66\"\n",
            "_________________________________________________________________\n",
            "Layer (type)                 Output Shape              Param #   \n",
            "=================================================================\n",
            "embedding_32 (Embedding)     (None, 140, 100)          2023900   \n",
            "_________________________________________________________________\n",
            "conv1d_94 (Conv1D)           (None, 140, 128)          64128     \n",
            "_________________________________________________________________\n",
            "conv1d_95 (Conv1D)           (None, 140, 128)          82048     \n",
            "_________________________________________________________________\n",
            "dense_13 (Dense)             (None, 140, 18)           2322      \n",
            "=================================================================\n",
            "Total params: 2,172,398\n",
            "Trainable params: 2,172,398\n",
            "Non-trainable params: 0\n",
            "_________________________________________________________________\n",
            "Train on 26382 samples, validate on 8795 samples\n",
            "Epoch 1/10\n",
            "26382/26382 [==============================] - 3s 116us/step - loss: 0.2401 - acc: 0.9675 - val_loss: 0.0683 - val_acc: 0.9792\n",
            "Epoch 2/10\n",
            "26382/26382 [==============================] - 2s 75us/step - loss: 0.0499 - acc: 0.9866 - val_loss: 0.0401 - val_acc: 0.9893\n",
            "Epoch 3/10\n",
            "26382/26382 [==============================] - 2s 76us/step - loss: 0.0286 - acc: 0.9919 - val_loss: 0.0328 - val_acc: 0.9907\n",
            "Epoch 4/10\n",
            "26382/26382 [==============================] - 2s 76us/step - loss: 0.0213 - acc: 0.9936 - val_loss: 0.0320 - val_acc: 0.9906\n",
            "Epoch 5/10\n",
            "26382/26382 [==============================] - 2s 75us/step - loss: 0.0177 - acc: 0.9945 - val_loss: 0.0323 - val_acc: 0.9909\n",
            "Epoch 6/10\n",
            "26382/26382 [==============================] - 2s 75us/step - loss: 0.0150 - acc: 0.9953 - val_loss: 0.0335 - val_acc: 0.9908\n",
            "Epoch 7/10\n",
            "26382/26382 [==============================] - 2s 75us/step - loss: 0.0129 - acc: 0.9959 - val_loss: 0.0350 - val_acc: 0.9905\n",
            "Epoch 8/10\n",
            "26382/26382 [==============================] - 2s 75us/step - loss: 0.0112 - acc: 0.9964 - val_loss: 0.0373 - val_acc: 0.9904\n",
            "Epoch 9/10\n",
            "26382/26382 [==============================] - 2s 76us/step - loss: 0.0097 - acc: 0.9969 - val_loss: 0.0401 - val_acc: 0.9902\n",
            "Epoch 10/10\n",
            "26382/26382 [==============================] - 2s 75us/step - loss: 0.0084 - acc: 0.9973 - val_loss: 0.0422 - val_acc: 0.9904\n"
          ],
          "name": "stdout"
        }
      ]
    },
    {
      "cell_type": "code",
      "metadata": {
        "id": "sLNSZDe69G1_",
        "colab_type": "code",
        "colab": {
          "base_uri": "https://localhost:8080/",
          "height": 663
        },
        "outputId": "48c9ca3c-cce7-4f46-84f9-17c89d76551e"
      },
      "source": [
        "from keras.layers import Flatten\n",
        "\n",
        "dense = Sequential()\n",
        "\n",
        "embedding_dim = 100\n",
        "dense.add(Embedding(input_dim=n_lemmas, output_dim=embedding_dim, input_length=max_len))\n",
        "dense.add(Dense(128, activation='relu'))\n",
        "dense.add(Dense(128, activation='relu'))\n",
        "dense.add(Dense(n_tags, activation=\"softmax\"))\n",
        "\n",
        "dense.compile(loss='categorical_crossentropy', optimizer='adam', metrics=['accuracy'])\n",
        "\n",
        "history = dense.fit(x_tr,y_tr, validation_data=(x_val,y_val), epochs=0, batch_size=128)\n",
        "dense.summary()\n",
        "history = dense.fit(x_tr,y_tr, validation_data=(x_val,y_val), epochs=10, batch_size=128)\n"
      ],
      "execution_count": 76,
      "outputs": [
        {
          "output_type": "stream",
          "text": [
            "Train on 26382 samples, validate on 8795 samples\n",
            "Model: \"sequential_64\"\n",
            "_________________________________________________________________\n",
            "Layer (type)                 Output Shape              Param #   \n",
            "=================================================================\n",
            "embedding_31 (Embedding)     (None, 140, 100)          2023900   \n",
            "_________________________________________________________________\n",
            "dense_9 (Dense)              (None, 140, 128)          12928     \n",
            "_________________________________________________________________\n",
            "dense_10 (Dense)             (None, 140, 128)          16512     \n",
            "_________________________________________________________________\n",
            "dense_11 (Dense)             (None, 140, 18)           2322      \n",
            "=================================================================\n",
            "Total params: 2,055,662\n",
            "Trainable params: 2,055,662\n",
            "Non-trainable params: 0\n",
            "_________________________________________________________________\n",
            "Train on 26382 samples, validate on 8795 samples\n",
            "Epoch 1/10\n",
            "26382/26382 [==============================] - 2s 90us/step - loss: 0.4261 - acc: 0.9623 - val_loss: 0.0604 - val_acc: 0.9845\n",
            "Epoch 2/10\n",
            "26382/26382 [==============================] - 1s 56us/step - loss: 0.0504 - acc: 0.9859 - val_loss: 0.0496 - val_acc: 0.9860\n",
            "Epoch 3/10\n",
            "26382/26382 [==============================] - 1s 55us/step - loss: 0.0432 - acc: 0.9872 - val_loss: 0.0484 - val_acc: 0.9861\n",
            "Epoch 4/10\n",
            "26382/26382 [==============================] - 1s 55us/step - loss: 0.0409 - acc: 0.9875 - val_loss: 0.0484 - val_acc: 0.9860\n",
            "Epoch 5/10\n",
            "26382/26382 [==============================] - 2s 57us/step - loss: 0.0398 - acc: 0.9876 - val_loss: 0.0483 - val_acc: 0.9861\n",
            "Epoch 6/10\n",
            "26382/26382 [==============================] - 1s 56us/step - loss: 0.0392 - acc: 0.9876 - val_loss: 0.0483 - val_acc: 0.9862\n",
            "Epoch 7/10\n",
            "26382/26382 [==============================] - 1s 55us/step - loss: 0.0387 - acc: 0.9876 - val_loss: 0.0483 - val_acc: 0.9863\n",
            "Epoch 8/10\n",
            "26382/26382 [==============================] - 2s 58us/step - loss: 0.0384 - acc: 0.9877 - val_loss: 0.0484 - val_acc: 0.9861\n",
            "Epoch 9/10\n",
            "26382/26382 [==============================] - 2s 57us/step - loss: 0.0381 - acc: 0.9877 - val_loss: 0.0486 - val_acc: 0.9862\n",
            "Epoch 10/10\n",
            "26382/26382 [==============================] - 1s 56us/step - loss: 0.0378 - acc: 0.9877 - val_loss: 0.0487 - val_acc: 0.9862\n"
          ],
          "name": "stdout"
        }
      ]
    },
    {
      "cell_type": "markdown",
      "metadata": {
        "id": "zc8HZvirUcoV",
        "colab_type": "text"
      },
      "source": [
        "#### 1.g Red más profunda o bidireccional\n",
        "\n",
        "Una pregunta natural que surge es saber que ocurre al aumentar la profundidad de la red, o por ejemplo porqué solo se recorre el _input_ en la dirección original. Considerando el tiempo acotado de este semestre, pueden elegir realizar una de las dos exploraciones solamente. \n",
        "\n",
        "* Profundidad: Entrene un par de redes con más capas LSTM y grafique como se comporta el desempeño a medida se aumenta la profundidad\n",
        "* Bidireccional: Varie la cantidad de unidades (a lo menos 4 valores distintos) de la capa LSTM y compare con la red utilizando capas LSTM bidireccionales (como muestra el código). Comente sobre el número de parámetros en ambos casos."
      ]
    },
    {
      "cell_type": "code",
      "metadata": {
        "id": "64G_KilTUcoW",
        "colab_type": "code",
        "colab": {}
      },
      "source": [
        "from keras.layers import Bidirectional\n",
        "\n",
        "model.add(Bidirectional(LSTM(# . . .  ) ) ) "
      ],
      "execution_count": 0,
      "outputs": []
    },
    {
      "cell_type": "markdown",
      "metadata": {
        "id": "XVPeQaaxUcoZ",
        "colab_type": "text"
      },
      "source": [
        "#### 1.h Dimensión del Embedding\n",
        "\n",
        "Como podrán haber notado, gran parte de los parámetros entrenables se encuentran en el embedding. Elija una de las redes entrenadas anteriormente y varíe la dimensión del embedding en un conjunto de potencias de 2 que le parezca razonable (a lo menos 6 valores). Comente sus observaciones."
      ]
    },
    {
      "cell_type": "code",
      "metadata": {
        "id": "8aKqe5nMUcoa",
        "colab_type": "code",
        "colab": {}
      },
      "source": [
        "# Do it yourself "
      ],
      "execution_count": 0,
      "outputs": []
    },
    {
      "cell_type": "markdown",
      "metadata": {
        "id": "6ZNHM0liUcoe",
        "colab_type": "text"
      },
      "source": [
        "#### 1.i Escribamos palabras - Datasest\n",
        "\n",
        "Ahora buscaremos otra aplicación a las redes recurrentes, predecir el caracter siguiente. Si logramos entrenar una red que sea buena en esta tarea, podremos escribir texto automáticamente, pues podemos, a partir de una frase, predecir el caracter siguiente, y luego introducir la nueva frase sin el primer caracter en la red nuevamente, e iterando así escribir automáticamente. Si bien las redes recurrentes son adecuadas para esta tarea, no pretendemos entrenar un _Shakespeare_ en esta tarea, sin embargo es interesante investigar qué tan verosimil o no puede lograr ser el texto generado. \n",
        "\n",
        "Para esto, primero crearmos nuestro nuevo dataset. Para esta tarea preferiremos unir todas las frases en un solo gran corpus y luego crear nuevas secuencias semi redundantes. Esto nos evita primero el problema de tener que hacer padding, pues crearemos todas las entradas iguales, pero también nos permite aprovechar mejormente el dataset, de cierta forma aumentando el número de datos. El _target_ en este caso será solo el caracter siguiente correspondiente a cada secuencia. \n",
        "\n",
        "En este item debe cargar el dataset, completando el código propuesto abajo. "
      ]
    },
    {
      "cell_type": "code",
      "metadata": {
        "id": "09TxuGb5Ucof",
        "colab_type": "code",
        "colab": {}
      },
      "source": [
        "df_w = pd.read_csv(os.path.join(\"data\",\"entity-annotated-corpus\",\"ner.csv\"), engine='python', error_bad_lines=False)\n",
        "\n",
        "df_w = df_w.dropna()[['word']]\n",
        "\n",
        "corpus = ' '.join(list(df_w.word.values)).lower()\n",
        "\n",
        "sentence_length = 40\n",
        "steps = 5\n",
        "\n",
        "sentences = []\n",
        "next_char = []\n",
        "for i in range(0,len(corpus) - sentence_length - 1 , steps):\n",
        "    sentences.append( # . . . )\n",
        "    next_char.append( # . . . )\n",
        "\n",
        "chars_to_code = {char:code for code, char in enumerate(set(corpus))}\n",
        "code_to_chars = {code:char for char,code in chars_to_code.items()}\n",
        "\n",
        "x = pd.np.array([[chars_to_code[char] for char in sentence] for sentence in sentences])\n",
        "# . . .\n",
        "y = to_categorical(y)"
      ],
      "execution_count": 0,
      "outputs": []
    },
    {
      "cell_type": "markdown",
      "metadata": {
        "id": "kIOuoDybUcoi",
        "colab_type": "text"
      },
      "source": [
        "#### 1.j Escribamos palabras - Red\n",
        "\n",
        "Entrene ahora una red con estos datos utilizando GRU. El resto de la estructura queda a su elección. Evalue el desempeño de su red evaluando qué tan bien genera texto, puede utilizar las funciones propuestas como `callback` para ver como progresa su red. Pruebe a lo menos 2 estructuras distintas. \n",
        "\n",
        "Una vez esté satisfecho de su red, hagala escribir algunos textos a partir de textos semilla elegidos por usted. Describa sus observaciones. ¿Qué cree ocurriría si entrenamos la red con otro dataset?"
      ]
    },
    {
      "cell_type": "code",
      "metadata": {
        "id": "6qcqCMEfUcoj",
        "colab_type": "code",
        "colab": {}
      },
      "source": [
        "def predict_char(model, sentence):\n",
        "    x = [chars_to_code[char] for char in sentence]\n",
        "    x = pad_sequences([x], maxlen=sentence_length, padding='pre', value=0)\n",
        "    probas = model.predict(x)[0]\n",
        "    next_index = np.random.choice(len(chars_to_code), p=probas)\n",
        "    return code_to_chars[next_index]\n",
        "\n",
        "def on_epoch_end(epoch, logs):\n",
        "    print(f'\\n Generating random text for epoch: {epoch}')\n",
        "    start_index = random.randint(0,x.shape[0]-1)\n",
        "    sentence = ''.join([code_to_chars[code] for code in x[start_index]])\n",
        "    print('\\n Generating with seed: ' + sentence)\n",
        "    sys.stdout.write(sentence)\n",
        "    for i in range(400):\n",
        "        next_char = predict_char(char, sentence)\n",
        "        sentence = sentence[1:] + next_char #for next character\n",
        "        sys.stdout.write(next_char)\n",
        "        sys.stdout.flush()\n",
        "    return\n",
        "\n",
        "print_text_callback = LambdaCallback(on_epoch_end=on_epoch_end)\n",
        "\n",
        "# . . . \n",
        "\n",
        "character.fit(x,y, epochs=35, callbacks=[print_text_callback])"
      ],
      "execution_count": 0,
      "outputs": []
    },
    {
      "cell_type": "markdown",
      "metadata": {
        "id": "1gtrgBG1Ucom",
        "colab_type": "text"
      },
      "source": [
        "# 2 - Autoencoders en Fashion MNIST\n",
        "\n",
        "Si bien las redes neuronales han tenido desempeños sorprendentes en muchas áreas donde antes solo un ser humano podía alcanzar buenos desempeños, uno de sus desventajas suele serla alta dimensionalidad de los espacios de hipótesis. En la práctica, esto implica que para aprender una tarea predictiva con alguna capacidad de generalización, se requieren grandes bases de datos etiquetadas. Esto implica un problema, considerando que al momento de buscar la base de datos, no se tiene a priori una manera de automatizar esta etiquetación. Esta necesidad de gran cantidad de trabajo de clasificación realizado por humanos, ha engendrado soluciones ingeniosas, como la aproximación de _Facebook_ hace algunos años de pedirle a los mismos usuarios que etiquetaran a las personas en sus fotos, o la solución de _Amazon_, _Mechanical Turk_, donde cualquier usuario puede realizar tareas repetitivas de clasificación a cambio de dinero real, o por otro lado cualquier persona puede comprar la etiquetación de una base de datos la cual realizan varias personas en cualquier parte del mundo. \n",
        "\n",
        "Otra aproximación, quizás aún más ingeniosa, para solucionar el problema de las etiquetas, es utilizar las bases de datos sin preocuparse de sus etiquetas. Esta aproximación de aprendizaje no supervisado tiene su representante en redes neuronales en los _Autoencoders_, redes que utilizan el mismo input como target y buscan representaciones de menor dimensionalidad al interior de la red. Estas redes han permitido el uso de cantidades masivas de datos para aprender de ellos sin necesidad de tener etiquetas. Durante esta pregunta veremos algunos de los aspectos y posibilidades básicas que nos presentan los _autoencoders_, utilizando una base de datos de imagenes de articulos de vestimenta, el Fashion MNIST. "
      ]
    },
    {
      "cell_type": "markdown",
      "metadata": {
        "id": "vlnEwUxeUcon",
        "colab_type": "text"
      },
      "source": [
        "### 2.a Carga de datos y visualizaciones\n",
        "Cargue los datos. Puede user las funciones de `keras.datasets` como muestra el código o descargarlo manualmente. \n",
        "\n",
        "Luego, visualice algunas imagenes de cada una de las catégorias junto con sus nombres (investigue un poco para encontrar la codificación de `y`). Note que las imagenes deben representarse en blanco y negro, puede usar `cmap='Greys'`. ¿Qué pares de categorías cree podrían ocasionar problemas al momento de clasificación? ¿Qué tan bien cree que se desempeñaría un humano en esta tarea?"
      ]
    },
    {
      "cell_type": "code",
      "metadata": {
        "id": "6ITS6QlZUcoo",
        "colab_type": "code",
        "colab": {}
      },
      "source": [
        "from keras.datasets import fashion_mnist\n",
        "(x_train,y_train),(x_val,y_val) = fashion_mnist.load_data()\n",
        "\n",
        "import matplotlib.pyplot as plt\n",
        "\n",
        "plt.imshow(# . . .)"
      ],
      "execution_count": 0,
      "outputs": []
    },
    {
      "cell_type": "markdown",
      "metadata": {
        "id": "trEOE3oDUcos",
        "colab_type": "text"
      },
      "source": [
        "### 2.b Posibilidades de preprocesamiento y pequeños análisis. \n",
        "\n",
        "¿Cuáles son los rangos de valores de `x`? ¿Por qué?\n",
        "\n",
        "¿Las distintas clases de ejemplos están balanceadas?\n",
        "\n",
        "¿Considera necesario realizar un preprocesamiento? Escale los valores de `x` al intervalo $[0,1]$, y guarde el conjunto de datos original de igual manera que el escalado. ¿Se pierde información al realizar este preprocesamiento? \n",
        "\n",
        "Las primeras redes que entrenaremos utilizarán arquitecturas _fully connected_, por lo cual también es necesario transformar nuestras imagenes 2-dimensionales a vectores, como muestra el ejemplo de código."
      ]
    },
    {
      "cell_type": "code",
      "metadata": {
        "id": "1oXV2oRkUcot",
        "colab_type": "code",
        "colab": {}
      },
      "source": [
        "# . . . \n",
        "x_train_vector = x_train.reshape(-1,28*28)"
      ],
      "execution_count": 0,
      "outputs": []
    },
    {
      "cell_type": "markdown",
      "metadata": {
        "id": "MeXwnzvjUcox",
        "colab_type": "text"
      },
      "source": [
        "### 2.c Primer Autoencoder\n",
        "\n",
        "Entrenaremos un primer autoencoder de una capa oculta, usando arquitectura densa. Para esto, utilize como guía los códigos presentados abajo. \n",
        "\n",
        "Utilice en primera instancia su conjunto de datos escalados. Considerando el intervalo de los datos escalados, ¿Qué función de activación correspondería a la capa de salida de la red? ¿Debería afectar la elección de la función de activación de la capa oculta? \n",
        "\n",
        "Entrene esta primera red utilizando pérdida _binary cross entropy_. Compare luego las imagenes originales con las imagenes reconstruidas, como muestra el código. ¿Qué le parece el desempeño de la red, logra aprender la tarea en su opinion? Grafique como varia la pérdida a lo largo del entrenamiento y visualice algunas imagenes reconstruidas. "
      ]
    },
    {
      "cell_type": "code",
      "metadata": {
        "id": "zci6J8pRUcoy",
        "colab_type": "code",
        "colab": {}
      },
      "source": [
        "from keras.layers import Dense\n",
        "from keras.models import Sequential\n",
        "\n",
        "autoencoder = Sequential()\n",
        "\n",
        "autoencoder.add(Dense(32,activation='relu')) # encoder\n",
        " \n",
        "autoencoder.add(Dense(28*28,activation= # . . . )) #decoder\n",
        "\n",
        "autoencoder.compile(# . . .\n",
        "    \n",
        "autoencoder.fit(x_tr,x_tr,epochs=50,validation_data=(x_val,x_val) # . . .\n",
        "    \n",
        "                \n",
        "plt.imshow(autoencoder.predict(x_val[i]).reshape(28,28),cmap='Greys')"
      ],
      "execution_count": 0,
      "outputs": []
    },
    {
      "cell_type": "markdown",
      "metadata": {
        "id": "dbDWiAkQUco0",
        "colab_type": "text"
      },
      "source": [
        "### 2.d Sin escalar\n",
        "Entrene nuevamente la misma estructura de red pero esta vez utilizando los datos originales (sin escalar). ¿Qué función de activación debe utilizar para la capa de salida? ¿Le parece sea una buena aproximación comparando con las caracteristicas de la red anterior? \n",
        "\n",
        "Compare los desempeños viendo las imagenes reconstruidas. \n",
        "\n",
        "De aquí en adelante prefiera la versión de los datos escaladas para consistencia. "
      ]
    },
    {
      "cell_type": "code",
      "metadata": {
        "id": "scK-wEelUco1",
        "colab_type": "code",
        "colab": {}
      },
      "source": [
        "# do it yourself"
      ],
      "execution_count": 0,
      "outputs": []
    },
    {
      "cell_type": "markdown",
      "metadata": {
        "id": "4Wu-bIcqUco4",
        "colab_type": "text"
      },
      "source": [
        "### 2.e Dimensionalidad\n",
        "\n",
        "Una forma de interpretar lo que realiza el autoencoder, es considerar que si el autoencoder hace bien su tarea, la información necesaria para reconstruir la imagen original se encuentra en la capa oculta, la cual tiene menor dimensionalidad que la imagen original. Uno puede considerar por lo tanto que la capa de _encoding_ esta comprimiendo la información contenida en la imagen, mientras la capa de _decoding_ hace el proceso contrario, descomprimiendola a su estado original lo mejor posible. \n",
        "\n",
        "Explore como cambia el desempeño de la red en cuestión frente a cambios en la dimensión de la capa oculta. Pruebe a lo menos 5 niveles de compresión distintos, incluyendo uno donde la capa oculta tenga $50\\%$ de ratio de compresión y otro donde la capa oculta tenga tan solo 2 neuronas. ¿Qué observa?"
      ]
    },
    {
      "cell_type": "code",
      "metadata": {
        "id": "Ubk0K285Uco5",
        "colab_type": "code",
        "colab": {}
      },
      "source": [
        "# do it yourself"
      ],
      "execution_count": 0,
      "outputs": []
    },
    {
      "cell_type": "markdown",
      "metadata": {
        "id": "A_qX1lXDUco8",
        "colab_type": "text"
      },
      "source": [
        "### 2.f Deep autoencoder\n",
        "\n",
        "Pruebe ahora con una arquitectura ligeramente más profunda. Para esto utilice a lo menos 3 capas de encoding, es decir, 3 capas que progresivamente reduzcan la dimensionalidad de la representación hasta una dimensión objetivo inicialmente igual a la mejor obtenida en la pregunta anterior. Utilice igualmente a lo menos 2 capas de decoding, que se encarguen de aumentar la dimensionaliad de la representación hasta alcanzar la dimensión de la imagen original. Note que las primeras capas no necesariamente deben tener menor dimensionalidad que la imagen, la dimensión relevante es aquella de la última capa de encoding. \n",
        "\n",
        "¿Cómo aumenta el número de parámetros entrenables? ¿Aumenta el tamaño de la representación \"comprimida\"?\n",
        "\n",
        "Una vez esté satisfecho con su arquitectura profunda, varíe la dimensión objetivo de la última capa de encoding, realizando una exploración similar a la pregunta anterior. \n",
        "\n",
        "¿Puede obtener una representación de menor dimensionalidad que la encontrada en el item anterior sin perder calidad en las imagenes obtenidas?\n",
        "\n",
        "Utilice gráficos y muestre algunas imágenes reconstruidas para complementar sus comentarios. \n"
      ]
    },
    {
      "cell_type": "code",
      "metadata": {
        "id": "3DEvuyZuUco9",
        "colab_type": "code",
        "colab": {}
      },
      "source": [
        "# do it yourself"
      ],
      "execution_count": 0,
      "outputs": []
    },
    {
      "cell_type": "code",
      "metadata": {
        "id": "fFrRThT_UcpA",
        "colab_type": "code",
        "colab": {}
      },
      "source": [
        ""
      ],
      "execution_count": 0,
      "outputs": []
    },
    {
      "cell_type": "markdown",
      "metadata": {
        "id": "Re3OmZPDUcpC",
        "colab_type": "text"
      },
      "source": [
        "### 2.g Convolutional Autoencoder\n",
        "\n",
        "Como hemos hasta ahora  utilizado una arquitectura fully connected, nuestra red no toma en cuenta la infomación local contenida en la proximidad de un pixel en la imagen. Como vimos en la tarea anterior, esta información podría ser crucial al momento de procesar imágenes. \n",
        "\n",
        "En este item deberá implementar un autoencoder convolucional. La sección de encoding de la red se creará de igual manera que las redes convolucionales creadas en la tarea 1. Puede utilizar capas de Max Pooling o Strides mayores a 1 para reducir la dimensionalidad en esta etapa. Tenga en mente como varía la dimensión de la imagen a lo largo del proceso. \n",
        "\n",
        "Para luego recuperar la dimensionalidad de la imagen original debemos utilizar una capa llamada usualmente como \"Deconvolution Layer\". Esta capa realiza el proceso inverso que aquel realizado por una capa convolucional, por lo cual utilizando por ejemplo `stride=2` puede duplicar la dimensionalidad de su input. \n",
        "\n",
        "Puede realizar la profundidad que desee, pero tome en cuenta que una mayor profundidad de la sección convolucional permite a la red reducir dimensionalidad más lentamente, sin \"forzar\" la compresión de las características. Note que para reconstruir la dimensión original puede usar `output_padding` para corregir problemas de paridad, entre otros. \n",
        "\n",
        "Puede igualmente optar por usar algun número de capas densas en el cuello de botella del autoencoder, usando al comienzo de esta una capa `Flatten` y al final de ella una capa `Reshape` (`keras.layers.Reshape(target_shape)`) para recuperar la bidimensionalidad.\n",
        "\n",
        "¡No olvide que para entrenar esta red debe usar la versión bidimensional de los datos escalados!\n",
        "\n",
        "Visualice que tan bien se comporta la convolución, en terminos de la función de pérdida y visualizando las imagenes reconstruidas. Compárese con la red densa. "
      ]
    },
    {
      "cell_type": "code",
      "metadata": {
        "id": "u7hX-Au0UcpD",
        "colab_type": "code",
        "colab": {}
      },
      "source": [
        "autoencoder_conv.add(Deconvolution2D(64, 2, strides=2,activation='relu', padding='same'))\n",
        "autoencoder_conv.add(Deconvolution2D(1, 2, strides=2,activation='sigmoid', padding='same'))\n",
        "\n",
        "# . . ."
      ],
      "execution_count": 0,
      "outputs": []
    },
    {
      "cell_type": "markdown",
      "metadata": {
        "id": "4gv7NlnBUcpF",
        "colab_type": "text"
      },
      "source": [
        "### 2.h Transfer Learning y reducción de dimensionalidad\n",
        "\n",
        "Como mencionamos inicialmente, una de las utilidades de los autoencoders corresponde a la no necesidad de tener etiquetas. En ese caso, podemos utilizar los autoencoders para extraer representaciones significativas de los ejemplos no etiquetados, y luego utilizar ese conocimiento para mejorar el desempeño de nuestros algoritmos. \n",
        "\n",
        "Para simular esta tarea supongamos que tenemos la misma base de datos original, sin embargo solo poseemos un pequeño porcentaje de las etiquetas del conjunto de entrenamiento, menos del $5\\%$ (considere que si tuviera que etiquetar manualmente incluso solo un $5\\%$ correspondería a 3000 imagenes por etiquetar!).\n",
        "\n",
        "Seleccione un subconjunto de datos correspondiente a menos del $5\\%$ de los datos y entrene un modelo predictivo para el problema de clasificación. Si bien la aproximación convolucional suele ser la mejor para este tipo de bases de datos, utilice arquitectura densa. \n",
        "\n",
        "Luego, utilizando el mejor autoencoder entrenado hasta ahora (o entrene uno nuevo si prefiere), utilize lo aprendido por la red sobre el conjunto de datos sin etiquetas para intentar aprender la relación suyaciente. Para esto, lo más fácil es primero preprocesar el conjunto `x` de entrenamiento, utilizando la sección de encoding de su autoencoder. Puede crear un nuevo modelo secuencial solo con las capas de encoding como se muestra en el código y luego usar el método `.predict` del modelo. Luego sobre estos datos preprocesados entrene un nuevo modelo predictivo fully connected. \n",
        "\n",
        "La otra opción sería crear un modelo cuya primeras capas correspondan a la sección de encoding del autoencoder y las últimas capas a su modelo denso, pero fijando el atributo `trainable` de las primeras capas como `False`, sin embargo esto resulta poco eficiente. \n",
        "\n",
        "\n",
        "Comente sus resultados basándose en métricas adecuadas. Comente igualmente sobre la dimensionalidad de las representaciones utilizadas por cada uno de los dos modelos entrenados en esta sección y el número de parametros _entrenables_ y totales del modelo (considerando el encoding). \n",
        "\n",
        "Considerando la dimensionalidad obtenida por el encoder, compare la calidad de la representación obtenida por el autoencoder frente a otras aproximaciones de reducción de dimensionalidad, como por ejemplo Principal Component Analysis (PCA). Para esto, transforme los datos de entrenamiento utilizando PCA con un número de componentes principales igual a la dimensión de la representación engendrada por su encoder. Compare el desempeño de un modelo determinado utilizando ambas representaciones. \n",
        "\n",
        "Comente sus resultados."
      ]
    },
    {
      "cell_type": "code",
      "metadata": {
        "id": "wGZ3gOtnUcpG",
        "colab_type": "code",
        "colab": {}
      },
      "source": [
        "encoder = Sequential()\n",
        "\n",
        "encoder.add(best_autoencoder.get_layer(index=0))\n",
        "\n",
        "# . . . add as many as you need\n",
        "\n",
        "encoder.predict( # . . .\n",
        "\n",
        "\n",
        "    \n",
        "    \n",
        "from sklearn.decomposition import PCA\n",
        "\n",
        "pca = PCA(n_components=d)\n",
        "\n",
        "# . . . fit and transform\n"
      ],
      "execution_count": 0,
      "outputs": []
    },
    {
      "cell_type": "markdown",
      "metadata": {
        "id": "sqVHsBUTUcpI",
        "colab_type": "text"
      },
      "source": [
        "### 2.i Denoising Autoencoder \n",
        "\n",
        "Otra utilidad que se le ha dado a los autoencoders es la posibilidad de utilizarlos para separar ruido de información. Para entrenar tal tipo de modelo, la idea es simple: utilizar como datos de entrada imagenes a las cuales se les ha agregado artificialmente ruido y como objetivo la imagen original sin ruido. \n",
        "\n",
        "Entrene alguna arquitectura de autoencoder que le parezca apropiada para la tarea utilizando algún tipo de ruido aleatorio. Puede utilizar cambios en valores de pixeles aleatoriamente, o por ejemplo \"promediar\" ponderadamente la imagen original con alguna otra imagen del dataset ligeramente modificada. Puede utilizar las librerías `random` de `numpy` o utilizar por ejemplo el `ImageDataGenerator` que utilizamos en la tarea anterior para generar imágenes similares con las cuales \"sumar\" ruido. Sea creativo, puede crear el ruido que desee. Idealmente, considerando la naturaleza del problema que se buscaría modelar (eliminar ruido real de mediciones), la naturaleza del ruido agregado debe ser estocástica y no puede \"repetirse\" el mismo patron de ruido a lo largo de todo el entrenamiendo, es decir, si agregó un ruido estocástico a cada imagen del conjunto, este proceso debe iterarse igualmente luego de cada época de entrenamiento, para evitar que la red aprenda un patrón especifico de ruido, si no aprenda realmente a diferenciar ruido sin información de la información suyaciente a la imagen. \n",
        "\n",
        "Una vez esté satisfecho con la red, muestre ejemplos de la imagen con ruido, la imagen original y la imagen reconstruida. Pruebe igualmente entregarle a la red nuevas."
      ]
    },
    {
      "cell_type": "code",
      "metadata": {
        "id": "ADOwFwH8UcpJ",
        "colab_type": "code",
        "colab": {}
      },
      "source": [
        "from numpy.random import # . . .\n",
        "\n",
        "# . . .\n",
        "\n",
        "from keras.preprocessing.image import ImageDataGenerator"
      ],
      "execution_count": 0,
      "outputs": []
    },
    {
      "cell_type": "markdown",
      "metadata": {
        "id": "PIlMRCsmUcpM",
        "colab_type": "text"
      },
      "source": [
        "### 2.j Generación de imágenes\n",
        "\n",
        "Otra utilización posible que podría darse, quizás, a los autoencoders, es utilizar los decoders para generar nuevas imagenes. La idea de esto sería considerar que la habilidad que tiene la sección decoder de generar una imagen a partir de una representación de menor dimensionalidad puede aprovecharse. \n",
        "\n",
        "Para esto, extraiga la sección de encoding y la sección de decoding de alguno de los autoencoders entrenados que prefiera. Obtenga los valores de la representación interna de las imagenes usando el encoder para calcularlos. Luego agréguele a esta representación algún ruido de su preferencia, y calcule la imagen resultante utilizando el decoder. ¿Qué observa? Muestre las imagenes obtenidas junto con otras imagenes de la misma categoría que la imagen que utilizó originalmente. Preube con distintos valores de ruido.\n",
        "\n",
        "Pruebe también, por ejemplo, calcular la imagen obtenida al promediar las representaciones comprimidas de varias (o todas) las imagenes de una clase. Utilice el encoder para generar imagenes a partir de otros valores que se les ocurran y especule sobre el por qué la imagen obtenida se asimila o no a las imagenes del dataset. "
      ]
    },
    {
      "cell_type": "code",
      "metadata": {
        "id": "WKM5QCbnUcpN",
        "colab_type": "code",
        "colab": {}
      },
      "source": [
        "# do it yourself"
      ],
      "execution_count": 0,
      "outputs": []
    },
    {
      "cell_type": "markdown",
      "metadata": {
        "id": "4glRJBpdUcpR",
        "colab_type": "text"
      },
      "source": [
        "# 3 - GAN para MNIST \n",
        "\n",
        "Probablemente uno de los desarrollos recientes del area de las redes neuronales más interesantes son las GAN, o _Generative Adversarial Networks_. Estas han deslumbrado al mundo los últimos años generando resultados inesperados, como los llamados _deep fakes_ (https://www.youtube.com/watch?v=dh-QM54RuAs), caras no no existentes generadas artificialmente, entre muchas otras aplicaciones de las cuales las más creativas y divertidas son ampliamente divulgadas. Estos resultados nos dan cuenta que estas redes cuando son implementadas correctamente tienen la habilidad de realizar tareas muy especificas logrando desempeños que en logran incluso en algunos casos engañar a observadores humanos.\n",
        "\n",
        "<img src=\"https://pathmind.com/images/wiki/GANs.png\" background=\"white\">\n",
        "\n",
        "Dependiendo del problema que uno quiera resolver las GAN no requieren datos etiquetados. Esto lo logran gracias a su estructura adversarial, es decir, donde simultaneamente se entrenan dos redes, una especializada en generar datos y otra red especializada en discriminar datos verdaderos de datos falsos, en su configuración más simple al menos. En esta parte de la tarea deberan generar una red de este tipo que genere dígitos que aparenten ser hechos a mano. Para esto utilizaremos las imagenes de entrenamiento del dataset MNIST que ya conocen.\n",
        "\n",
        "A diferencia de otras preguntas, en esta deberán tener mayor iniciativa propia y solamente se presentará una estructura básica la cual ustedes deberán completar y ajustar para que el entrenamiento se realice bien. Además deberán:\n",
        "\n",
        "* Graficar alguna medida del desempeño tanto del generador como del disciminador (por ejemplo f1-score, precision and recall o accuracy) a lo largo del entrenamiento. ¿Variaciones en esta medidas representan mejoras en nuestra red?\n",
        "* Visualizar imagenes generadas por el generador a lo largo del entrenamiento y ver su evolución (idealmente graficar epocas representativas de etapas del entrenamiento)\n",
        "* Explicar el comportamiento de la evolución de ambos desempeños y por qué no necesariamente esos valores representan que la red alcance su cometido\n",
        "* Describir, teórica o práctiamente, que ocurriría si la red generadora no pudiera por algún motivo (divergencia en entrenamiento, excesivo _underfitting_, etc) generar imágenes razonables.\n",
        "* Describir la contraparte de lo que ocurriría si la red discriminadora no pudiera aprender a diferenciar imagenes reales de ruido aleatorio.\n",
        "* Una vez teniendo una red entrenada a completitud, muestre varias imagenes generadas. ¿Se logra obtener imagenes convincentes?\n",
        "* Igualmente con la red entrenada, guarde el ruido aleatorio que origina dos números reconocibles distintos. ¿Qué ocurre si vemos las imagenes generadas por el generador al entregarle puntos distribuidos linealmente entre los dos puntos?\n",
        "* Proponga o investigue como realizaría las siguientes tareas:\n",
        "    * A partir de una base de datos de imagenes RGB, entrenar una GAN que genere imágenes a color convincentes a partir de imagenes en blanco y negro, es decir que deduzca el color a partir de imagenes en blanco y negro.\n",
        "    * A partir de una base de datos de cuadros de paisajes reales y las fotos correspondientes al cuadro, entrenar una GAN que permita transformar fotografias a cuadros y viceversa (puede utilizar más de 2 redes)\n",
        "    * Proponga un problema que les parezca interesante y una estructura de GAN que le permitiría resolverlo\n",
        "    \n",
        "Esta pregunta si bien es libre, debe ser redactada de manera ordenada. La recomendación es separar tanto el código como las respuestas en varios bloques, y enunciar nuevamente las preguntas o redactar sus respuestas de manera que no quede duda a qué pregunta en particular estan respondiendo. El código de abajo está incompleto y es solo una guía (de todas formas la estructura y entrenamiento de la red \"funciona\", aunque se recomienda prueben pequeños cambios), puede crear funciones, cambiar nombres e incluso las redes mismas como estimen conveniente, la intención es que se aproximen a la exploración que deberán hacer si alguna vez les toca resolver un problema real con ANN y luego reportar sus resultados. \n",
        "\n",
        "<!-- glhf -->"
      ]
    },
    {
      "cell_type": "code",
      "metadata": {
        "id": "N-WRKn2rUcpR",
        "colab_type": "code",
        "colab": {}
      },
      "source": [
        "from keras.datasets import mnist\n",
        "\n",
        "(x,_),(_,_) = mnist.load_data()\n",
        "x = x.reshape((-1,28,28,1)).astype(np.float32)\n",
        "x = x/255\n",
        "\n",
        "\n",
        "generator_net = Sequential()\n",
        "\n",
        "generator_net.add(Dense(7*7*256, input_dim=100))\n",
        "generator_net.add(BatchNormalization(momentum=0.9))\n",
        "generator_net.add(LeakyReLU())\n",
        "generator_net.add(Reshape((7,7,256)))\n",
        "generator_net.add(Dropout(dropout_prob))\n",
        "\n",
        "generator_net.add(UpSampling2D())\n",
        "generator_net.add(Conv2D(128, 5, padding='same'))\n",
        "generator_net.add(BatchNormalization(momentum=0.9))\n",
        "generator_net.add(LeakyReLU())\n",
        "\n",
        "generator_net.add(UpSampling2D())\n",
        "generator_net.add(Conv2D(64, 5, padding='same'))\n",
        "generator_net.add(BatchNormalization(momentum=0.9))\n",
        "generator_net.add(LeakyReLU())\n",
        "\n",
        "generator_net.add(Conv2D(32, 5, padding='same'))\n",
        "generator_net.add(BatchNormalization(momentum=0.9))\n",
        "generator_net.add(LeakyReLU())\n",
        "\n",
        "generator_net.add(Conv2D(1, 5, padding='same'))\n",
        "generator_net.add(Activation('sigmoid'))\n",
        "\n",
        "\n",
        "discriminator_net = Sequential()\n",
        "\n",
        "discriminator_net.add(Conv2D(64, 5, strides=2, input_shape=input_shape, padding='same'))\n",
        "discriminator_net.add(LeakyReLU())\n",
        "\n",
        "discriminator_net.add(Conv2D(128, 5, strides=2, padding='same'))\n",
        "discriminator_net.add(LeakyReLU())\n",
        "discriminator_net.add(Dropout(dropout_prob))\n",
        "\n",
        "discriminator_net.add(Conv2D(256, 5, strides=2, padding='same'))\n",
        "discriminator_net.add(LeakyReLU())\n",
        "discriminator_net.add(Dropout(dropout_prob))\n",
        "\n",
        "discriminator_net.add(Conv2D(512, 5, strides=1, padding='same'))\n",
        "discriminator_net.add(LeakyReLU())\n",
        "discriminator_net.add(Dropout(dropout_prob))\n",
        "\n",
        "discriminator_net.add(Flatten())\n",
        "discriminator_net.add(Dense(1))\n",
        "discriminator_net.add(Activation('sigmoid'))\n",
        "\n",
        "optimizer_discriminator = RMSprop(lr=0.0008, clipvalue=1.0, decay=1e-10)\n",
        "discriminator = Sequential()\n",
        "discriminator.add(discriminator_net)\n",
        "discriminator.compile(loss='binary_crossentropy', optimizer = optimizer_discriminator, metrics=['accuracy'])\n",
        "\n",
        "optimizer_gan = Adam(lr=0.0004, clipvalue=1.0, decay=1e-10)\n",
        "gan = Sequential()\n",
        "gan.add(generator_net)\n",
        "for layer in discriminator_net.layers:\n",
        "    layer.trainable = False\n",
        "gan.add(discriminator_net)\n",
        "gan.compile(loss='binary_crossentropy', optimizer=optimizer_gan, metrics=['accuracy'])\n",
        "\n",
        "\n",
        "for i in range(total_epochs):\n",
        "    images_train = # select batch_size random images from x\n",
        "    \n",
        "    noise = # generate (batch_size,latent_dim) sized noise\n",
        "    images_fake = generator_net.predict(noise)\n",
        "\n",
        "    x_train = np.concatenate((images_train, images_fake))\n",
        "\n",
        "    response_dis = discriminator.train_on_batch(x_train, y)\n",
        "    response_gen = gan.train_on_batch(noise,y_gen)\n",
        "\n",
        "    if i%save_results_every==0:\n",
        "        # save accuracies and losses for plotting\n",
        "        \n",
        "        if i%plot_every==0:\n",
        "            # plot random generated images and losses and accuracies"
      ],
      "execution_count": 0,
      "outputs": []
    }
  ]
}