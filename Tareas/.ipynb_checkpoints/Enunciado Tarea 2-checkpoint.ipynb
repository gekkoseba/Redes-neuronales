{
 "cells": [
  {
   "cell_type": "markdown",
   "metadata": {
    "colab_type": "text",
    "id": "7wUsAGTPUcnv"
   },
   "source": [
    "### <img src=\"http://www.exalumnos.usm.cl/wp-content/uploads/2015/06/Isotipo-Negro.gif\" title=\"Title text\" width=\"20%\" height=\"20%\" />\n",
    "\n",
    "\n",
    "<hr style=\"height:2px;border:none\"/>\n",
    "<h1 align='center'> INF-395/477 Redes Neuronales Artificiales - 2019-2 </h1>\n",
    "\n",
    "<H3 align='center'> Tarea 2  </H3>\n",
    "<hr style=\"height:2px;border:none\"/>\n",
    "\n",
    "**Temas**  \n",
    "* Manipulaciones en pandas y numpy, preprocesamientos\n",
    "* Recurrent Neural Networks \n",
    "* LSTM, GRU\n",
    "* Autoencoders\n",
    "* GAN\n",
    " \n",
    "\n",
    "\n",
    "**Formalidades**  \n",
    "* Equipos de trabajo de 2 personas (*Ambos estudiantes deben estar preparados para presentar la tarea el día de la entrega*).\n",
    "* El entregable debe ser un _Jupyter Notebook_ incluyendo los códigos utilizados, los resultados, los gráficos realizados y comentarios. Debe seguir una estructura similar a un informe (se debe introducir los problemas a trabajar, presentar los resultados y discutirlos), se penalizará fuertemente ausencia de comentarios, explicaciones de gráficos, _etc_. Si lo prefiere puede entregar un _Jupyter Notebook_ por pregunta o uno por toda la tarea, con tal de que todos los entregables esten bien identificados y se encuentren en el mismo repositorio de _Github_.\n",
    "* Se debe preparar una presentación del trabajo realizado y sus hallazgos. El presentador será elegido aleatoriamente y deberá apoyarse en el _Jupyter Notebook_ que entregarán. \n",
    "* Formato de entrega: envı́o de link del repositorio en _Github_, al correo electrónico del ayudante (<alvaro.valderrama.13@sansano.usm.cl>), en copia al profesor (<cvalle@inf.utfsm.cl>).   Especificar el siguiente asunto: [INF-395/477-2019 Tarea 2]. Invitar como colaborador al usuario de github \"avalderr\" para poder acceder al repositorio en caso de ser privado.\n",
    "* Fecha de entrega y presentaciones: 21 de Febrero 2020 (Fase I). Hora límite de entrega: 23:59. Cualquier _commit_ luego de la hora límite no será evaluado. Se realizará descuento por atrasos en envío del mail igualmente.  \n",
    "\n",
    "<hr style=\"height:2px;border:none\"/>\n",
    "\n",
    "La tarea se divide en tres partes:\n",
    "\n",
    "* 1 - Redes Recurrentes en Texto\n",
    "* 2 - Autoencoders en Fashion MNIST    \n",
    "* 3 - GAN para MNIST.\n",
    "\n",
    "La tarea tiene ejemplos de códigos con los cuales pueden guiarse en gran parte, sin embargo, solo son guias y pueden ser creativos al momento de resolver la tarea. Soluciones creativas o elegantes serán valoradas. También en algunas ocaciones se hacen elecciones arbitrarias, ustedes pueden realizar otras elecciones con tal de que haya una pequeña justificación de por qué su elección es mejor o equivalente.\n",
    "Recuerden intercalar su código con *comentarios* en celdas _Markdown_, con los comentarios de la pregunta y con cualquier analisis, fórmula (en $ \\LaTeX $) o explicación que les parezca relevante para justificar sus procedimientos. *No respondan las preguntas en comentarios en el código*.\n",
    "Noten que en general cuando se les pide elegir algo o proponer algo no se evaluará tanto la elección en si. En cambio la argumentación detrás de la elección será lo más ponderado.\n",
    "Si algun modelo se demora demasiado en correr en su maquina, no olvide que puede correr _Jupyter Notebooks_ en _Collab_ de Google, incluso con la opción de aceleración con GPU (particularmente útil para los modelos más grandes), esto puede ser relevante para las maquinas más lentas al momento de realizar exploraciones con _K-folds_ o las redes más grandes. Existe también la posibilidad de utilizar _Google Cloud Plataform_, donde tienen 300 dolares de prueba por un año y pueden comprar tiempo de procesamiento en maquinas aceleradas con GPU; maquinas ya configuradas para _deep leraning_ pueden encontrarse en el _Marketplace_."
   ]
  },
  {
   "cell_type": "markdown",
   "metadata": {
    "colab_type": "text",
    "id": "7cXszO_JUcnz"
   },
   "source": [
    "# 1 - Redes Recurrentes en texto\n",
    "\n",
    "El analisis de texto y en general de lenguaje natural es una de las tareas desafiantes que los avances tanto del machine learning como de redes neuronales han logrado potenciar el los último años. La naturaleza inherentemente secuencial del texto y sus características similares a variables categóricas han inspirado muchos avances interesantes en el area. Para esta primera aproximación a procesamiento de secuencias, y en particular de texto, utilizaremos un dataset relativamente estandar, de texto anotado con categorias de entidades. Este dataset se encuentra disponible en el siguiente link https://www.kaggle.com/abhinavwalia95/entity-annotated-corpus. \n",
    "\n",
    "Durante esta pregunta realizaremos dos tareas distintas, la de predicción del _tag_ para cada palabra de la secuencia (_many to many_) y la de predicción del siguiente caracter (_many to one_). \n"
   ]
  },
  {
   "cell_type": "markdown",
   "metadata": {
    "colab_type": "text",
    "id": "DbP0duAXUcn0"
   },
   "source": [
    "#### 1.a El dataset\n",
    "\n",
    "Investigue en la documentación del dataset cual es la tarea original para el cual fue propuesto, en particular cual es la variable que buscamos predecir, a qué se refiere esta misma y por qué es necesario utilizar técnicas avanzadas para resolver esta tarea (¿no bastaría con un diccionario? De un ejemplo en caso contrario). \n",
    "\n",
    "Cargue el conjunto de datos. Este conjunto de datos es bastante grande, por lo que como ven en el código propuesto, nos contentaremos con no considerar las lineas corruptas del registro.\n",
    "\n",
    "Solo nos quedaremos con `word` y `lemma` de las variables regresoras, guardando `sentence_idx` para poder reconstruir las frases como unidad básica con la que trabajaremos. ¿Qué diferencia hay entre la palabra y su lemma? De ejemplos donde la diferencia sea significativa y explique en qué circunstancias preferiría una sobra la otra. \n",
    "\n",
    "Para la primera parte de estas preguntas, preferiremos los lemas pues buscaremos predecir el `tag` de la palabra."
   ]
  },
  {
   "cell_type": "code",
   "execution_count": 1,
   "metadata": {
    "colab": {
     "base_uri": "https://localhost:8080/",
     "height": 34
    },
    "colab_type": "code",
    "id": "Gc5Gfd_SadSj",
    "outputId": "b904de74-8e3d-4b03-f0dc-2c6ee47d231f"
   },
   "outputs": [
    {
     "name": "stdout",
     "output_type": "stream",
     "text": [
      "sample_data\n"
     ]
    }
   ],
   "source": [
    "# Colab library to upload files to notebook\n",
    "from google.colab import files\n",
    "\n",
    "# Install Kaggle library\n",
    "!pip install -q kaggle\n",
    "\n",
    "# check if dataset exist\n",
    "!ls"
   ]
  },
  {
   "cell_type": "code",
   "execution_count": 0,
   "metadata": {
    "colab": {},
    "colab_type": "code",
    "id": "SgrHw_4UagfU"
   },
   "outputs": [],
   "source": [
    "!mkdir /root/.kaggle\n",
    "!echo '{\"username\":\"sebastingallardo\",\"key\":\"df9d642f8dce03217fe5b41f25881f75\"}' > /root/.kaggle/kaggle.json"
   ]
  },
  {
   "cell_type": "code",
   "execution_count": 3,
   "metadata": {
    "colab": {
     "base_uri": "https://localhost:8080/",
     "height": 85
    },
    "colab_type": "code",
    "id": "QA9G8w4Maq5x",
    "outputId": "de74ff70-03c6-48e9-efbc-917d22b04521"
   },
   "outputs": [
    {
     "name": "stdout",
     "output_type": "stream",
     "text": [
      "Warning: Your Kaggle API key is readable by other users on this system! To fix this, you can run 'chmod 600 /root/.kaggle/kaggle.json'\n",
      "Downloading entity-annotated-corpus.zip to /content\n",
      "\r",
      "  0% 0.00/26.4M [00:00<?, ?B/s]\r",
      " 19% 5.00M/26.4M [00:00<00:01, 20.7MB/s]\n",
      "\r",
      "100% 26.4M/26.4M [00:00<00:00, 76.0MB/s]\n"
     ]
    }
   ],
   "source": [
    "!kaggle datasets download -d abhinavwalia95/entity-annotated-corpus"
   ]
  },
  {
   "cell_type": "code",
   "execution_count": 0,
   "metadata": {
    "colab": {},
    "colab_type": "code",
    "id": "P8DdExj9eRVS"
   },
   "outputs": [],
   "source": [
    "!unzip -q 'entity-annotated-corpus.zip'"
   ]
  },
  {
   "cell_type": "code",
   "execution_count": 5,
   "metadata": {
    "colab": {
     "base_uri": "https://localhost:8080/",
     "height": 51
    },
    "colab_type": "code",
    "id": "IufsyvdAen0o",
    "outputId": "67df97e1-b7a2-48f1-aeb8-548193b7b100"
   },
   "outputs": [
    {
     "name": "stdout",
     "output_type": "stream",
     "text": [
      "/content\n",
      "['.config', 'entity-annotated-corpus.zip', 'ner.csv', 'ner_dataset.csv', 'sample_data']\n"
     ]
    }
   ],
   "source": [
    "import os\n",
    "import glob\n",
    "print(os.getcwd())\n",
    "data_path = os.path.join(os.getcwd())\n",
    "print(os.listdir(data_path))"
   ]
  },
  {
   "cell_type": "code",
   "execution_count": 6,
   "metadata": {
    "colab": {
     "base_uri": "https://localhost:8080/",
     "height": 34
    },
    "colab_type": "code",
    "id": "IKAOYucqUcn1",
    "outputId": "9ea78699-be83-46fc-9989-a29887ce0648"
   },
   "outputs": [
    {
     "name": "stderr",
     "output_type": "stream",
     "text": [
      "Skipping line 281837: Expected 25 fields in line 281837, saw 34\n"
     ]
    }
   ],
   "source": [
    "import pandas as pd\n",
    "df = pd.read_csv(os.path.join(\"ner.csv\"), engine='python', error_bad_lines=False)\n",
    "df = df.dropna()[['lemma','tag','word','sentence_idx']]"
   ]
  },
  {
   "cell_type": "code",
   "execution_count": 0,
   "metadata": {
    "colab": {
     "base_uri": "https://localhost:8080/",
     "height": 255
    },
    "colab_type": "code",
    "id": "zauuzv2Dfprm",
    "outputId": "ac86febe-6cb3-4e35-a338-3ddbb112583d"
   },
   "outputs": [
    {
     "name": "stdout",
     "output_type": "stream",
     "text": [
      "            lemma tag           word  sentence_idx\n",
      "0        thousand   O      Thousands           1.0\n",
      "1              of   O             of           1.0\n",
      "2        demonstr   O  demonstrators           1.0\n",
      "3            have   O           have           1.0\n",
      "4           march   O        marched           1.0\n",
      "...           ...  ..            ...           ...\n",
      "1050790      they   O           they       47959.0\n",
      "1050791   respond   O      responded       47959.0\n",
      "1050792        to   O             to       47959.0\n",
      "1050793       the   O            the       47959.0\n",
      "1050794    attack   O         attack       47959.0\n",
      "\n",
      "[1050794 rows x 4 columns]\n"
     ]
    }
   ],
   "source": [
    "print(df)"
   ]
  },
  {
   "cell_type": "markdown",
   "metadata": {
    "colab_type": "text",
    "id": "q-zFeEzWUcn7"
   },
   "source": [
    "#### 1.b Preprocesamiento\n",
    "\n",
    "Para poder utilizar este conjunto de datos, debemos transformar nuestra tabla de palabras y sentencias, a una tabla donde cada entrada sea una sentencia, ademas codificando los distintos lemmas y tags como valores numericos. Esto pueden realizarlo con alguna de las utilidades de `keras` o `sklearn`, sin embargo en el código siguiente se propone un metodo solo usando python y `pandas`. Pueden utilizar el método que deseen. Note eso si que independiente la aproximación que utilice debe comenzar desde 1 para la codificación, pues el valor 0 lo reservaremos para representar la ausencia de palabras más adelante. \n",
    "\n",
    "Complete y explique que realiza cada linea del código."
   ]
  },
  {
   "cell_type": "code",
   "execution_count": 0,
   "metadata": {
    "colab": {},
    "colab_type": "code",
    "id": "7k-o_xmGUcn9"
   },
   "outputs": [],
   "source": [
    "import numpy as np\n",
    "\n",
    "lemma_to_code = {lemma:code+1 for code, lemma in enumerate(df.lemma.unique())}\n",
    "tag_to_code = {tag:code+1 for code, tag in enumerate(df.tag.unique())}\n",
    "n_lemmas = len(lemma_to_code)\n",
    "\n",
    "df['lemma'] = df.lemma.apply(lambda x: lemma_to_code[x])\n",
    "df['tag'] = df.tag.apply(lambda x: tag_to_code[x])\n",
    "\n",
    "dff = df.groupby(\"sentence_idx\")[['lemma','tag']].agg(list).applymap(np.asarray)"
   ]
  },
  {
   "cell_type": "code",
   "execution_count": 8,
   "metadata": {
    "colab": {
     "base_uri": "https://localhost:8080/",
     "height": 71
    },
    "colab_type": "code",
    "id": "7OQFSWyrICy5",
    "outputId": "a2358adb-748a-4b54-af60-10536094c543"
   },
   "outputs": [
    {
     "name": "stdout",
     "output_type": "stream",
     "text": [
      "{'O': 1, 'B-geo': 2, 'B-gpe': 3, 'B-per': 4, 'I-geo': 5, 'B-org': 6, 'I-org': 7, 'B-tim': 8, 'B-art': 9, 'I-art': 10, 'I-per': 11, 'I-gpe': 12, 'I-tim': 13, 'B-nat': 14, 'B-eve': 15, 'I-eve': 16, 'I-nat': 17}\n",
      "18\n"
     ]
    }
   ],
   "source": [
    "print(tag_to_code)\n",
    "tag_to_code[\"PAD\"] = 0\n",
    "n_tags = len(tag_to_code)\n",
    "print(n_tags)"
   ]
  },
  {
   "cell_type": "markdown",
   "metadata": {
    "colab_type": "text",
    "id": "uygAlSB0UcoB"
   },
   "source": [
    "#### 1.c Padding\n",
    "\n",
    "Ahora que ya tenemos las sentencias codificadas y agrupadas, explore el tamaño de estas, en número de lemmas: ¿Son todas las sentencias de igual tamaño? ¿Le hace sentido esto? ¿Las redes que conoce pueden manajar ejemplos de distintos tamaños, y si pueden que problemas podría traer? ¿Estan las clases repartidas de manera equitativa?\n",
    "\n",
    "En esta parte de la tarea, deben lograr que todas las secuencias de lemmas (y los tags correspondientes) queden del mismo largo, es decir realizar _padding_. El _padding_ debe realizarse con el valor 0, pueden escoger si realizarlo al comienzo de la secuencia o al final, expliquen su elección. Pueden utilizar la función `keras.preprocessing.sequence.pad_sequences` o escribir sus propios códigos. Elija un valor de `maxlen` que le parezca adecuado.\n",
    "\n",
    "¿Opinan que es deseable utilizar el valor 0 como codificación de palabras que \"no existen\", o creen que es irrelevante por ejemplo que su valor sea 1?"
   ]
  },
  {
   "cell_type": "code",
   "execution_count": 0,
   "metadata": {
    "colab": {
     "base_uri": "https://localhost:8080/",
     "height": 289
    },
    "colab_type": "code",
    "id": "ESviEzbd9a9t",
    "outputId": "1a38488b-1219-4206-ed2e-1a4aaf3df16c"
   },
   "outputs": [
    {
     "name": "stdout",
     "output_type": "stream",
     "text": [
      "(35177, 2)\n",
      "                                                          lemma                                                tag\n",
      "sentence_idx                                                                                                      \n",
      "1.0           [1, 2, 3, 4, 5, 6, 7, 8, 9, 10, 11, 12, 13, 14...  [1, 1, 1, 1, 1, 1, 2, 1, 1, 1, 1, 1, 2, 1, 1, ...\n",
      "2.0           [23, 2, 24, 25, 12, 10, 26, 27, 10, 9, 28, 29,...  [1, 1, 1, 1, 1, 1, 1, 1, 1, 1, 1, 1, 1, 1, 1, ...\n",
      "3.0           [42, 5, 19, 10, 43, 2, 44, 8, 45, 46, 12, 47, ...  [1, 1, 1, 1, 1, 1, 1, 1, 1, 1, 1, 2, 5, 1, 1, ...\n",
      "4.0           [49, 50, 10, 37, 2, 51, 52, 53, 54, 55, 56, 57...  [1, 1, 1, 1, 1, 1, 1, 1, 1, 1, 1, 1, 1, 1, 1, ...\n",
      "5.0           [10, 9, 60, 61, 10, 62, 2, 10, 63, 64, 2, 65, ...  [1, 1, 1, 1, 1, 1, 1, 1, 1, 1, 1, 2, 1, 1, 6, ...\n",
      "...                                                         ...                                                ...\n",
      "47955.0       [1261, 489, 148, 308, 172, 716, 233, 484, 1360...  [3, 1, 1, 1, 1, 1, 1, 3, 1, 1, 1, 1, 1, 1, 1, ...\n",
      "47956.0       [1261, 119, 164, 356, 38, 58, 841, 12, 334, 66...  [3, 1, 1, 1, 1, 1, 1, 1, 8, 1, 1, 1, 1, 1, 1, ...\n",
      "47957.0       [175, 277, 235, 12, 205, 2326, 8, 45, 817, 719...                  [1, 1, 1, 1, 1, 1, 1, 1, 1, 1, 1]\n",
      "47958.0       [42, 120, 257, 612, 2, 10, 1110, 2255, 2638, 4...                  [1, 1, 1, 1, 1, 1, 1, 1, 1, 1, 1]\n",
      "47959.0                   [1261, 308, 164, 42, 104, 8, 10, 214]                           [3, 1, 1, 1, 1, 1, 1, 1]\n",
      "\n",
      "[35177 rows x 2 columns]\n"
     ]
    }
   ],
   "source": [
    "print(dff.shape)\n",
    "print(dff)"
   ]
  },
  {
   "cell_type": "code",
   "execution_count": 9,
   "metadata": {
    "colab": {
     "base_uri": "https://localhost:8080/",
     "height": 435
    },
    "colab_type": "code",
    "id": "S3TP_rlLrUZN",
    "outputId": "89beb434-0caa-4ecd-f498-e1f113b9cb6c"
   },
   "outputs": [
    {
     "name": "stdout",
     "output_type": "stream",
     "text": [
      "(50,)\n",
      "(70,)\n"
     ]
    },
    {
     "data": {
      "text/plain": [
       "{'boxes': [<matplotlib.lines.Line2D at 0x7fb8ff128278>],\n",
       " 'caps': [<matplotlib.lines.Line2D at 0x7fb8ff129eb8>,\n",
       "  <matplotlib.lines.Line2D at 0x7fb8ff1296a0>],\n",
       " 'fliers': [<matplotlib.lines.Line2D at 0x7fb8ff12c4e0>],\n",
       " 'means': [],\n",
       " 'medians': [<matplotlib.lines.Line2D at 0x7fb8ff129cf8>],\n",
       " 'whiskers': [<matplotlib.lines.Line2D at 0x7fb8ff128e10>,\n",
       "  <matplotlib.lines.Line2D at 0x7fb8ff1297b8>]}"
      ]
     },
     "execution_count": 9,
     "metadata": {
      "tags": []
     },
     "output_type": "execute_result"
    },
    {
     "data": {
      "image/png": "[encoded data removed]",
      "text/plain": [
       "<Figure size 432x288 with 1 Axes>"
      ]
     },
     "metadata": {
      "tags": []
     },
     "output_type": "display_data"
    }
   ],
   "source": [
    "import matplotlib.pyplot as plt\n",
    "\n",
    "print(dff.iloc[4].lemma.shape)\n",
    "print(dff.iloc[42].lemma.shape)\n",
    "largo = []\n",
    "for i in range(dff.shape[0]):\n",
    "  largo.append(dff.iloc[i].lemma.shape[0])\n",
    "\n",
    "plt.boxplot(largo)"
   ]
  },
  {
   "cell_type": "code",
   "execution_count": 0,
   "metadata": {
    "colab": {
     "base_uri": "https://localhost:8080/",
     "height": 68
    },
    "colab_type": "code",
    "id": "cekxdNpGA1Fx",
    "outputId": "b8d1946c-9a52-469a-ebd3-11cf98ddffd5"
   },
   "outputs": [
    {
     "name": "stdout",
     "output_type": "stream",
     "text": [
      "True\n",
      "True\n",
      "140\n"
     ]
    }
   ],
   "source": [
    "print(dff.iloc[423].tag.shape == dff.iloc[423].lemma.shape)\n",
    "print(dff.iloc[34242].tag.shape == dff.iloc[34242].lemma.shape)\n",
    "print(np.max(largo))"
   ]
  },
  {
   "cell_type": "code",
   "execution_count": 10,
   "metadata": {
    "colab": {
     "base_uri": "https://localhost:8080/",
     "height": 199
    },
    "colab_type": "code",
    "id": "8JfDPL4cUcoC",
    "outputId": "7edb5aaf-6d9d-4eab-9c1e-9546f16df3e6"
   },
   "outputs": [
    {
     "name": "stderr",
     "output_type": "stream",
     "text": [
      "Using TensorFlow backend.\n"
     ]
    },
    {
     "data": {
      "text/html": [
       "<p style=\"color: red;\">\n",
       "The default version of TensorFlow in Colab will soon switch to TensorFlow 2.x.<br>\n",
       "We recommend you <a href=\"https://www.tensorflow.org/guide/migrate\" target=\"_blank\">upgrade</a> now \n",
       "or ensure your notebook will continue to use TensorFlow 1.x via the <code>%tensorflow_version 1.x</code> magic:\n",
       "<a href=\"https://colab.research.google.com/notebooks/tensorflow_version.ipynb\" target=\"_blank\">more info</a>.</p>\n"
      ],
      "text/plain": [
       "<IPython.core.display.HTML object>"
      ]
     },
     "metadata": {
      "tags": []
     },
     "output_type": "display_data"
    },
    {
     "name": "stdout",
     "output_type": "stream",
     "text": [
      "[[0 0 0 ... 1 1 1]\n",
      " [0 0 0 ... 1 1 1]\n",
      " [0 0 0 ... 2 5 1]\n",
      " ...\n",
      " [0 0 0 ... 1 1 1]\n",
      " [0 0 0 ... 1 1 1]\n",
      " [0 0 0 ... 1 1 1]]\n"
     ]
    }
   ],
   "source": [
    "from keras.preprocessing.sequence import pad_sequences\n",
    "\n",
    "max_len = 140\n",
    "x = pad_sequences(dff.lemma.values,\n",
    "                  maxlen=max_len,\n",
    "                  padding='pre',\n",
    "                  truncating='post'\n",
    ")\n",
    "\n",
    "y = pad_sequences(dff.tag.values,\n",
    "                  maxlen=max_len,\n",
    "                  padding='pre',\n",
    "                  truncating='post'\n",
    ")\n",
    "\n",
    "print(y)"
   ]
  },
  {
   "cell_type": "markdown",
   "metadata": {
    "colab_type": "text",
    "id": "azMxxxVMUcoF"
   },
   "source": [
    "#### 1.d Even more encodding and preprocessing\n",
    "\n",
    "Para la primera tarea, buscaremos realizar la predicción del tag, la cual es una variable categórica. Por lo tanto, como ya sabemos de la tarea anterior, resulta conveniente tener los _targets_ en _one hot vector_. \n",
    "\n",
    "Además debemos separar ambos conjuntos (`x` e `y`) en los conjuntos de entrenamiento y validación. \n",
    "\n",
    "Realice esto con las herramientas y proporciones que estime convenientes. "
   ]
  },
  {
   "cell_type": "code",
   "execution_count": 11,
   "metadata": {
    "colab": {
     "base_uri": "https://localhost:8080/",
     "height": 51
    },
    "colab_type": "code",
    "id": "PbY34nCWUcoH",
    "outputId": "c1598a1f-c389-4134-a19e-fb3f660034e9"
   },
   "outputs": [
    {
     "name": "stdout",
     "output_type": "stream",
     "text": [
      "(26382, 140)\n",
      "(8795, 140)\n"
     ]
    }
   ],
   "source": [
    "from sklearn.model_selection import train_test_split\n",
    "from keras.utils.np_utils import to_categorical\n",
    "\n",
    "y = [to_categorical(i, num_classes=n_tags) for i in y]\n",
    "x_tr, x_val, y_tr, y_val = train_test_split(x, y, test_size=0.25, random_state=1)\n",
    "\n",
    "y_tr = np.array(y_tr)\n",
    "y_val = np.array(y_val)\n",
    "\n",
    "print(x_tr.shape)\n",
    "print(x_val.shape)"
   ]
  },
  {
   "cell_type": "markdown",
   "metadata": {
    "colab_type": "text",
    "id": "mbFc1vzkUcoL"
   },
   "source": [
    "#### 1.e Primera red recurrente\n",
    "\n",
    "Ahora entrenaremos una primera red recurrente LSTM. Explique la particularidad de estas redes y por qué podría comportarse bien para este tipo de problemas. \n",
    "\n",
    "La tarea de esta red será procesar la secuencia de _lemmas_ y predecir su _tag_. ¿Cuáles son las dimensiones de nuestro input y de nuestro output?\n",
    "\n",
    "Considerando que si bien los _lemmas_ estan representados como enteros, esta representación no tiene ninguna relación con el \"significado\" de estos. Por eso, es recomendable utilizar otra representación que mejor extraiga la naturaleza \"categorica\" de estos, sin embargo por la cantidad de ejemplos que tenemos, no resultaría practico utilizar _one hot vector_, pues las dimensiones explotarían. Para esto, utilizaremos una primera capa que realiza una transformación entrenable entre el espacio discreto de la representación original y un _embedding_ en $\\mathbb{R}^d$ donde $d$ corresponde a la dimensión de nuestro espacio de llegada.\n",
    "\n",
    "Utilice un _embedding_ de dmensión 100, luego agregue una capa LSTM con 128 unidades y finalmente la capa densa de salida. Compile y entrene el modelo por al menos 10 epochs. Grafique el proceso de entrenamiento y evalue el desempeño final considerando alguna métrica relevante (F1 score, matriz de confusión, etc), considerando la repartición de clases que observó en la pregunta c."
   ]
  },
  {
   "cell_type": "code",
   "execution_count": 15,
   "metadata": {
    "colab": {
     "base_uri": "https://localhost:8080/",
     "height": 612
    },
    "colab_type": "code",
    "id": "_E8Z9JaAUcoM",
    "outputId": "6fe2977c-88e2-47f4-e440-6ec57533feef"
   },
   "outputs": [
    {
     "name": "stdout",
     "output_type": "stream",
     "text": [
      "Model: \"sequential_2\"\n",
      "_________________________________________________________________\n",
      "Layer (type)                 Output Shape              Param #   \n",
      "=================================================================\n",
      "embedding_2 (Embedding)      (None, 140, 100)          2023900   \n",
      "_________________________________________________________________\n",
      "lstm_2 (LSTM)                (None, 140, 128)          117248    \n",
      "_________________________________________________________________\n",
      "dense_2 (Dense)              (None, 140, 18)           2322      \n",
      "=================================================================\n",
      "Total params: 2,143,470\n",
      "Trainable params: 2,143,470\n",
      "Non-trainable params: 0\n",
      "_________________________________________________________________\n",
      "Train on 26382 samples, validate on 8795 samples\n",
      "Epoch 1/10\n",
      "26382/26382 [==============================] - 60s 2ms/step - loss: 0.3948 - acc: 0.9246 - val_loss: 0.1644 - val_acc: 0.9670\n",
      "Epoch 2/10\n",
      "26382/26382 [==============================] - 59s 2ms/step - loss: 0.1238 - acc: 0.9691 - val_loss: 0.0833 - val_acc: 0.9757\n",
      "Epoch 3/10\n",
      "26382/26382 [==============================] - 60s 2ms/step - loss: 0.0658 - acc: 0.9821 - val_loss: 0.0544 - val_acc: 0.9860\n",
      "Epoch 4/10\n",
      "26382/26382 [==============================] - 59s 2ms/step - loss: 0.0442 - acc: 0.9883 - val_loss: 0.0431 - val_acc: 0.9882\n",
      "Epoch 5/10\n",
      "26382/26382 [==============================] - 59s 2ms/step - loss: 0.0351 - acc: 0.9901 - val_loss: 0.0395 - val_acc: 0.9887\n",
      "Epoch 6/10\n",
      "26382/26382 [==============================] - 59s 2ms/step - loss: 0.0309 - acc: 0.9908 - val_loss: 0.0373 - val_acc: 0.9890\n",
      "Epoch 7/10\n",
      "26382/26382 [==============================] - 59s 2ms/step - loss: 0.0282 - acc: 0.9913 - val_loss: 0.0374 - val_acc: 0.9891\n",
      "Epoch 8/10\n",
      "26382/26382 [==============================] - 59s 2ms/step - loss: 0.0263 - acc: 0.9917 - val_loss: 0.0364 - val_acc: 0.9892\n",
      "Epoch 9/10\n",
      "26382/26382 [==============================] - 59s 2ms/step - loss: 0.0248 - acc: 0.9921 - val_loss: 0.0360 - val_acc: 0.9893\n",
      "Epoch 10/10\n",
      "26382/26382 [==============================] - 59s 2ms/step - loss: 0.0235 - acc: 0.9925 - val_loss: 0.0371 - val_acc: 0.9894\n"
     ]
    }
   ],
   "source": [
    "from keras.models import Sequential\n",
    "from keras.layers import LSTM, Embedding, Dense\n",
    "\n",
    "ltsm = Sequential()\n",
    "\n",
    "embedding_dim = 100\n",
    "ltsm.add(Embedding(input_dim=n_lemmas, output_dim=embedding_dim, input_length=max_len))\n",
    "\n",
    "ltsm.add(LSTM(units=128,return_sequences=True)) # You can use CuDNNLSTM if you have a CUDA enabled GPU for faster performance\n",
    "\n",
    "ltsm.add(Dense(n_tags, activation='softmax'))\n",
    "\n",
    "ltsm.compile(loss='categorical_crossentropy', optimizer='adam', metrics=['accuracy'])\n",
    "\n",
    "ltsm.summary()\n",
    "history = ltsm.fit(x_tr,y_tr, validation_data=(x_val,y_val), epochs=10, batch_size=128)\n",
    "\n"
   ]
  },
  {
   "cell_type": "code",
   "execution_count": 0,
   "metadata": {
    "colab": {
     "base_uri": "https://localhost:8080/",
     "height": 313
    },
    "colab_type": "code",
    "id": "q6vGWkKbOSDA",
    "outputId": "9663322e-603f-4079-f0e8-189bd008ac95"
   },
   "outputs": [
    {
     "name": "stdout",
     "output_type": "stream",
     "text": [
      "Test loss: 0.03737807533258467\n",
      "Test accuracy: 0.9892203361219544\n"
     ]
    },
    {
     "data": {
      "image/png": "[encoded data removed]",
      "text/plain": [
       "<Figure size 432x288 with 1 Axes>"
      ]
     },
     "metadata": {
      "tags": []
     },
     "output_type": "display_data"
    }
   ],
   "source": [
    "import matplotlib.pyplot as plt \n",
    "\n",
    "plt.plot(history.history[\"acc\"],label=\"training accuracy\")\n",
    "plt.plot(history.history[\"val_acc\"],label=\"val accuracy\")\n",
    "plt.legend(loc=\"upper left\")\n",
    "plt.ylabel('accuracy')\n",
    "plt.xlabel('epoch')\n",
    "plt.plot\n",
    "score = ltsm.evaluate(x_val, y_val, verbose=0)\n",
    "print('Test loss:', score[0])\n",
    "print('Test accuracy:', score[1])"
   ]
  },
  {
   "cell_type": "code",
   "execution_count": 13,
   "metadata": {
    "colab": {
     "base_uri": "https://localhost:8080/",
     "height": 496
    },
    "colab_type": "code",
    "id": "uem9SFea_JsM",
    "outputId": "9c65af0c-2948-4c3a-af74-98dbbc31454a"
   },
   "outputs": [
    {
     "name": "stdout",
     "output_type": "stream",
     "text": [
      "Collecting seqeval\n",
      "  Downloading https://files.pythonhosted.org/packages/34/91/068aca8d60ce56dd9ba4506850e876aba5e66a6f2f29aa223224b50df0de/seqeval-0.0.12.tar.gz\n",
      "Requirement already satisfied: numpy>=1.14.0 in /usr/local/lib/python3.6/dist-packages (from seqeval) (1.17.5)\n",
      "Requirement already satisfied: Keras>=2.2.4 in /usr/local/lib/python3.6/dist-packages (from seqeval) (2.2.5)\n",
      "Requirement already satisfied: keras-preprocessing>=1.1.0 in /usr/local/lib/python3.6/dist-packages (from Keras>=2.2.4->seqeval) (1.1.0)\n",
      "Requirement already satisfied: h5py in /usr/local/lib/python3.6/dist-packages (from Keras>=2.2.4->seqeval) (2.8.0)\n",
      "Requirement already satisfied: six>=1.9.0 in /usr/local/lib/python3.6/dist-packages (from Keras>=2.2.4->seqeval) (1.12.0)\n",
      "Requirement already satisfied: scipy>=0.14 in /usr/local/lib/python3.6/dist-packages (from Keras>=2.2.4->seqeval) (1.4.1)\n",
      "Requirement already satisfied: pyyaml in /usr/local/lib/python3.6/dist-packages (from Keras>=2.2.4->seqeval) (3.13)\n",
      "Requirement already satisfied: keras-applications>=1.0.8 in /usr/local/lib/python3.6/dist-packages (from Keras>=2.2.4->seqeval) (1.0.8)\n",
      "Building wheels for collected packages: seqeval\n",
      "  Building wheel for seqeval (setup.py) ... \u001b[?25l\u001b[?25hdone\n",
      "  Created wheel for seqeval: filename=seqeval-0.0.12-cp36-none-any.whl size=7424 sha256=4d9603e219bece2f94f4ad2f9430a83ff87436af32ce5c4ddcb5950ff1cb0e75\n",
      "  Stored in directory: /root/.cache/pip/wheels/4f/32/0a/df3b340a82583566975377d65e724895b3fad101a3fb729f68\n",
      "Successfully built seqeval\n",
      "Installing collected packages: seqeval\n",
      "Successfully installed seqeval-0.0.12\n",
      "Collecting sklearn_crfsuite\n",
      "  Downloading https://files.pythonhosted.org/packages/25/74/5b7befa513482e6dee1f3dd68171a6c9dfc14c0eaa00f885ffeba54fe9b0/sklearn_crfsuite-0.3.6-py2.py3-none-any.whl\n",
      "Requirement already satisfied: tabulate in /usr/local/lib/python3.6/dist-packages (from sklearn_crfsuite) (0.8.6)\n",
      "Requirement already satisfied: six in /usr/local/lib/python3.6/dist-packages (from sklearn_crfsuite) (1.12.0)\n",
      "Requirement already satisfied: tqdm>=2.0 in /usr/local/lib/python3.6/dist-packages (from sklearn_crfsuite) (4.28.1)\n",
      "Collecting python-crfsuite>=0.8.3\n",
      "\u001b[?25l  Downloading https://files.pythonhosted.org/packages/2f/86/cfcd71edca9d25d3d331209a20f6314b6f3f134c29478f90559cee9ce091/python_crfsuite-0.9.6-cp36-cp36m-manylinux1_x86_64.whl (754kB)\n",
      "\u001b[K     |████████████████████████████████| 757kB 7.6MB/s \n",
      "\u001b[?25hInstalling collected packages: python-crfsuite, sklearn-crfsuite\n",
      "Successfully installed python-crfsuite-0.9.6 sklearn-crfsuite-0.3.6\n"
     ]
    }
   ],
   "source": [
    "!pip install seqeval\n",
    "!pip install sklearn_crfsuite"
   ]
  },
  {
   "cell_type": "code",
   "execution_count": 0,
   "metadata": {
    "colab": {},
    "colab_type": "code",
    "id": "00xjsiRigypw"
   },
   "outputs": [],
   "source": [
    "idx2tag = {i: w for w, i in tag_to_code.items()}\n",
    "\n",
    "def pred2label(pred):\n",
    "    out = []\n",
    "    for pred_i in pred:\n",
    "        out_i = []\n",
    "        for p in pred_i:\n",
    "            p_i = np.argmax(p)\n",
    "            out_i.append(list(idx2tag.values())[p_i].replace(\"PAD\", \"O\"))\n",
    "        out.append(out_i)\n",
    "    return out"
   ]
  },
  {
   "cell_type": "code",
   "execution_count": 0,
   "metadata": {
    "colab": {
     "base_uri": "https://localhost:8080/",
     "height": 34
    },
    "colab_type": "code",
    "id": "EY2w3ZhF_-nB",
    "outputId": "92a0cd4c-9f82-4083-e4e8-d19d7a80ec38"
   },
   "outputs": [
    {
     "name": "stdout",
     "output_type": "stream",
     "text": [
      "8795/8795 [==============================] - 20s 2ms/step\n"
     ]
    }
   ],
   "source": [
    "test_pred = ltsm.predict(x_val, verbose=1)   \n",
    "pred_labels = pred2label(test_pred)\n",
    "test_labels = pred2label(y_val)"
   ]
  },
  {
   "cell_type": "code",
   "execution_count": 0,
   "metadata": {
    "colab": {
     "base_uri": "https://localhost:8080/",
     "height": 34
    },
    "colab_type": "code",
    "id": "BJx_weC81i3D",
    "outputId": "4f7bcff2-5b3e-4fde-99c7-7b2b0846b429"
   },
   "outputs": [
    {
     "name": "stdout",
     "output_type": "stream",
     "text": [
      "F1-score: 94.7%\n"
     ]
    }
   ],
   "source": [
    "from seqeval.metrics import precision_score, recall_score, f1_score, classification_report\n",
    "from  sklearn_crfsuite.metrics import flat_classification_report  \n",
    "\n",
    "print(\"F1-score: {:.1%}\".format(f1_score(test_labels, pred_labels)))"
   ]
  },
  {
   "cell_type": "code",
   "execution_count": 0,
   "metadata": {
    "colab": {
     "base_uri": "https://localhost:8080/",
     "height": 479
    },
    "colab_type": "code",
    "id": "k-RJScSnVW4T",
    "outputId": "eb7b5f0d-fea8-4cd5-d82b-14c224899e84"
   },
   "outputs": [
    {
     "name": "stderr",
     "output_type": "stream",
     "text": [
      "/usr/local/lib/python3.6/dist-packages/sklearn/metrics/_classification.py:1272: UndefinedMetricWarning: Precision and F-score are ill-defined and being set to 0.0 in labels with no predicted samples. Use `zero_division` parameter to control this behavior.\n",
      "  _warn_prf(average, modifier, msg_start, len(result))\n"
     ]
    },
    {
     "name": "stdout",
     "output_type": "stream",
     "text": [
      "              precision    recall  f1-score   support\n",
      "\n",
      "       B-art       0.91      0.80      0.85      5000\n",
      "       B-eve       0.00      0.00      0.00        66\n",
      "       B-geo       0.97      0.99      0.98    220977\n",
      "       B-gpe       0.81      0.81      0.81      9380\n",
      "       B-nat       0.79      0.57      0.66      1494\n",
      "       B-org       0.79      0.66      0.72      1828\n",
      "       B-per       0.90      0.91      0.91      4145\n",
      "       B-tim       0.66      0.53      0.59      4104\n",
      "       I-art       0.00      0.00      0.00       100\n",
      "       I-eve       0.71      0.05      0.10        96\n",
      "       I-geo       0.81      0.71      0.75      4058\n",
      "       I-gpe       0.86      0.81      0.84      4134\n",
      "       I-nat       0.00      0.00      0.00        83\n",
      "       I-org       0.70      0.49      0.58      5020\n",
      "       I-per       0.00      0.00      0.00        64\n",
      "       I-tim       0.00      0.00      0.00        48\n",
      "           O       1.00      1.00      1.00    970703\n",
      "\n",
      "    accuracy                           0.99   1231300\n",
      "   macro avg       0.58      0.49      0.52   1231300\n",
      "weighted avg       0.99      0.99      0.99   1231300\n",
      "\n"
     ]
    }
   ],
   "source": [
    "report = flat_classification_report(y_pred=pred_labels, y_true=test_labels)\n",
    "print(report)"
   ]
  },
  {
   "cell_type": "markdown",
   "metadata": {
    "colab_type": "text",
    "id": "_b3LMn57UcoQ"
   },
   "source": [
    "#### 1.f Comparación con otras aproximaciones. \n",
    "\n",
    "Ahora entrenaremos dos redes más para comparar los desempeños de la red recurrente. Para esto entrenaremos una red convolucional 1-dimensional y una red densa. Discuta las diferencias entre ambas redes y la red recurrente, y cual cree a priori se adecua mejor a la naturaleza del problema. \n",
    "\n",
    "Defina y entrene luego las redes con la misma primera capa de encodding y las siguientes configuraciones:\n",
    "* Convolucional: 2 capas conv1d con 128 filtros y kernel de tamaño 5\n",
    "* Densa: 2 capas densas de 128 unidades\n",
    "\n",
    "Compare los desempeños de las 3 redes en el problema su métrica preferida"
   ]
  },
  {
   "cell_type": "code",
   "execution_count": 0,
   "metadata": {
    "colab": {
     "base_uri": "https://localhost:8080/",
     "height": 663
    },
    "colab_type": "code",
    "id": "WIFrmqY7UcoR",
    "outputId": "f26f9cd6-7281-4394-f8b7-59087e8ee273"
   },
   "outputs": [
    {
     "name": "stdout",
     "output_type": "stream",
     "text": [
      "Train on 26382 samples, validate on 8795 samples\n",
      "Model: \"sequential_66\"\n",
      "_________________________________________________________________\n",
      "Layer (type)                 Output Shape              Param #   \n",
      "=================================================================\n",
      "embedding_32 (Embedding)     (None, 140, 100)          2023900   \n",
      "_________________________________________________________________\n",
      "conv1d_94 (Conv1D)           (None, 140, 128)          64128     \n",
      "_________________________________________________________________\n",
      "conv1d_95 (Conv1D)           (None, 140, 128)          82048     \n",
      "_________________________________________________________________\n",
      "dense_13 (Dense)             (None, 140, 18)           2322      \n",
      "=================================================================\n",
      "Total params: 2,172,398\n",
      "Trainable params: 2,172,398\n",
      "Non-trainable params: 0\n",
      "_________________________________________________________________\n",
      "Train on 26382 samples, validate on 8795 samples\n",
      "Epoch 1/10\n",
      "26382/26382 [==============================] - 3s 116us/step - loss: 0.2401 - acc: 0.9675 - val_loss: 0.0683 - val_acc: 0.9792\n",
      "Epoch 2/10\n",
      "26382/26382 [==============================] - 2s 75us/step - loss: 0.0499 - acc: 0.9866 - val_loss: 0.0401 - val_acc: 0.9893\n",
      "Epoch 3/10\n",
      "26382/26382 [==============================] - 2s 76us/step - loss: 0.0286 - acc: 0.9919 - val_loss: 0.0328 - val_acc: 0.9907\n",
      "Epoch 4/10\n",
      "26382/26382 [==============================] - 2s 76us/step - loss: 0.0213 - acc: 0.9936 - val_loss: 0.0320 - val_acc: 0.9906\n",
      "Epoch 5/10\n",
      "26382/26382 [==============================] - 2s 75us/step - loss: 0.0177 - acc: 0.9945 - val_loss: 0.0323 - val_acc: 0.9909\n",
      "Epoch 6/10\n",
      "26382/26382 [==============================] - 2s 75us/step - loss: 0.0150 - acc: 0.9953 - val_loss: 0.0335 - val_acc: 0.9908\n",
      "Epoch 7/10\n",
      "26382/26382 [==============================] - 2s 75us/step - loss: 0.0129 - acc: 0.9959 - val_loss: 0.0350 - val_acc: 0.9905\n",
      "Epoch 8/10\n",
      "26382/26382 [==============================] - 2s 75us/step - loss: 0.0112 - acc: 0.9964 - val_loss: 0.0373 - val_acc: 0.9904\n",
      "Epoch 9/10\n",
      "26382/26382 [==============================] - 2s 76us/step - loss: 0.0097 - acc: 0.9969 - val_loss: 0.0401 - val_acc: 0.9902\n",
      "Epoch 10/10\n",
      "26382/26382 [==============================] - 2s 75us/step - loss: 0.0084 - acc: 0.9973 - val_loss: 0.0422 - val_acc: 0.9904\n"
     ]
    }
   ],
   "source": [
    "from keras.layers import Conv1D, Embedding\n",
    "from keras.models import Sequential\n",
    "from keras.layers import Dense\n",
    "\n",
    "conv = Sequential()\n",
    "\n",
    "embedding_dim = 100\n",
    "conv.add(Embedding(input_dim=n_lemmas, output_dim=embedding_dim, input_length=max_len))\n",
    "conv.add(Conv1D(128, 5, activation='relu', padding='same'))\n",
    "conv.add(Conv1D(128, 5, activation='relu', padding='same'))\n",
    "conv.add(Dense(n_tags, activation=\"softmax\"))\n",
    "\n",
    "conv.compile(loss='categorical_crossentropy', optimizer='adam', metrics=['accuracy'])\n",
    "\n",
    "history = conv.fit(x_tr,y_tr, validation_data=(x_val,y_val), epochs=0, batch_size=128)\n",
    "conv.summary()\n",
    "history = conv.fit(x_tr,y_tr, validation_data=(x_val,y_val), epochs=10, batch_size=128)"
   ]
  },
  {
   "cell_type": "code",
   "execution_count": 0,
   "metadata": {
    "colab": {
     "base_uri": "https://localhost:8080/",
     "height": 51
    },
    "colab_type": "code",
    "id": "i1qUI8EsKUfo",
    "outputId": "6d26ca86-efaf-42bb-c569-10cd9f616abc"
   },
   "outputs": [
    {
     "name": "stdout",
     "output_type": "stream",
     "text": [
      "8795/8795 [==============================] - 0s 49us/step\n",
      "F1-score: 95.3%\n"
     ]
    }
   ],
   "source": [
    "from seqeval.metrics import precision_score, recall_score, f1_score, classification_report\n",
    "from  sklearn_crfsuite.metrics import flat_classification_report  \n",
    "\n",
    "test_pred = conv.predict(x_val, verbose=1)   \n",
    "pred_labels = pred2label(test_pred)\n",
    "test_labels = pred2label(y_val)\n",
    "print(\"F1-score: {:.1%}\".format(f1_score(test_labels, pred_labels)))"
   ]
  },
  {
   "cell_type": "code",
   "execution_count": 0,
   "metadata": {
    "colab": {
     "base_uri": "https://localhost:8080/",
     "height": 425
    },
    "colab_type": "code",
    "id": "7IXrirSjK0DA",
    "outputId": "065c5a65-2577-42ba-b2d5-632cebbc316f"
   },
   "outputs": [
    {
     "name": "stdout",
     "output_type": "stream",
     "text": [
      "              precision    recall  f1-score   support\n",
      "\n",
      "       B-art       0.89      0.86      0.88      5000\n",
      "       B-eve       0.57      0.12      0.20        66\n",
      "       B-geo       0.98      0.99      0.98    220977\n",
      "       B-gpe       0.83      0.83      0.83      9380\n",
      "       B-nat       0.71      0.71      0.71      1494\n",
      "       B-org       0.80      0.68      0.74      1828\n",
      "       B-per       0.94      0.90      0.92      4145\n",
      "       B-tim       0.69      0.55      0.61      4104\n",
      "       I-art       0.39      0.14      0.21       100\n",
      "       I-eve       0.57      0.22      0.32        96\n",
      "       I-geo       0.82      0.76      0.79      4058\n",
      "       I-gpe       0.83      0.82      0.83      4134\n",
      "       I-nat       0.47      0.11      0.18        83\n",
      "       I-org       0.72      0.59      0.64      5020\n",
      "       I-per       0.00      0.00      0.00        64\n",
      "       I-tim       0.96      0.46      0.62        48\n",
      "           O       1.00      1.00      1.00    970703\n",
      "\n",
      "    accuracy                           0.99   1231300\n",
      "   macro avg       0.72      0.57      0.61   1231300\n",
      "weighted avg       0.99      0.99      0.99   1231300\n",
      "\n"
     ]
    }
   ],
   "source": [
    "report = flat_classification_report(y_pred=pred_labels, y_true=test_labels)\n",
    "print(report)"
   ]
  },
  {
   "cell_type": "code",
   "execution_count": 0,
   "metadata": {
    "colab": {
     "base_uri": "https://localhost:8080/",
     "height": 663
    },
    "colab_type": "code",
    "id": "sLNSZDe69G1_",
    "outputId": "48c9ca3c-cce7-4f46-84f9-17c89d76551e"
   },
   "outputs": [
    {
     "name": "stdout",
     "output_type": "stream",
     "text": [
      "Train on 26382 samples, validate on 8795 samples\n",
      "Model: \"sequential_64\"\n",
      "_________________________________________________________________\n",
      "Layer (type)                 Output Shape              Param #   \n",
      "=================================================================\n",
      "embedding_31 (Embedding)     (None, 140, 100)          2023900   \n",
      "_________________________________________________________________\n",
      "dense_9 (Dense)              (None, 140, 128)          12928     \n",
      "_________________________________________________________________\n",
      "dense_10 (Dense)             (None, 140, 128)          16512     \n",
      "_________________________________________________________________\n",
      "dense_11 (Dense)             (None, 140, 18)           2322      \n",
      "=================================================================\n",
      "Total params: 2,055,662\n",
      "Trainable params: 2,055,662\n",
      "Non-trainable params: 0\n",
      "_________________________________________________________________\n",
      "Train on 26382 samples, validate on 8795 samples\n",
      "Epoch 1/10\n",
      "26382/26382 [==============================] - 2s 90us/step - loss: 0.4261 - acc: 0.9623 - val_loss: 0.0604 - val_acc: 0.9845\n",
      "Epoch 2/10\n",
      "26382/26382 [==============================] - 1s 56us/step - loss: 0.0504 - acc: 0.9859 - val_loss: 0.0496 - val_acc: 0.9860\n",
      "Epoch 3/10\n",
      "26382/26382 [==============================] - 1s 55us/step - loss: 0.0432 - acc: 0.9872 - val_loss: 0.0484 - val_acc: 0.9861\n",
      "Epoch 4/10\n",
      "26382/26382 [==============================] - 1s 55us/step - loss: 0.0409 - acc: 0.9875 - val_loss: 0.0484 - val_acc: 0.9860\n",
      "Epoch 5/10\n",
      "26382/26382 [==============================] - 2s 57us/step - loss: 0.0398 - acc: 0.9876 - val_loss: 0.0483 - val_acc: 0.9861\n",
      "Epoch 6/10\n",
      "26382/26382 [==============================] - 1s 56us/step - loss: 0.0392 - acc: 0.9876 - val_loss: 0.0483 - val_acc: 0.9862\n",
      "Epoch 7/10\n",
      "26382/26382 [==============================] - 1s 55us/step - loss: 0.0387 - acc: 0.9876 - val_loss: 0.0483 - val_acc: 0.9863\n",
      "Epoch 8/10\n",
      "26382/26382 [==============================] - 2s 58us/step - loss: 0.0384 - acc: 0.9877 - val_loss: 0.0484 - val_acc: 0.9861\n",
      "Epoch 9/10\n",
      "26382/26382 [==============================] - 2s 57us/step - loss: 0.0381 - acc: 0.9877 - val_loss: 0.0486 - val_acc: 0.9862\n",
      "Epoch 10/10\n",
      "26382/26382 [==============================] - 1s 56us/step - loss: 0.0378 - acc: 0.9877 - val_loss: 0.0487 - val_acc: 0.9862\n"
     ]
    }
   ],
   "source": [
    "from keras.layers import Flatten\n",
    "\n",
    "dense = Sequential()\n",
    "\n",
    "embedding_dim = 100\n",
    "dense.add(Embedding(input_dim=n_lemmas, output_dim=embedding_dim, input_length=max_len))\n",
    "dense.add(Dense(128, activation='relu'))\n",
    "dense.add(Dense(128, activation='relu'))\n",
    "dense.add(Dense(n_tags, activation=\"softmax\"))\n",
    "\n",
    "dense.compile(loss='categorical_crossentropy', optimizer='adam', metrics=['accuracy'])\n",
    "\n",
    "history = dense.fit(x_tr,y_tr, validation_data=(x_val,y_val), epochs=0, batch_size=128)\n",
    "dense.summary()\n",
    "history = dense.fit(x_tr,y_tr, validation_data=(x_val,y_val), epochs=10, batch_size=128)\n"
   ]
  },
  {
   "cell_type": "code",
   "execution_count": 0,
   "metadata": {
    "colab": {
     "base_uri": "https://localhost:8080/",
     "height": 51
    },
    "colab_type": "code",
    "id": "J9j0XrT3LBBH",
    "outputId": "85080c10-6de1-4511-944a-d5eeb4dd11b2"
   },
   "outputs": [
    {
     "name": "stdout",
     "output_type": "stream",
     "text": [
      "8795/8795 [==============================] - 1s 71us/step\n",
      "F1-score: 93.2%\n"
     ]
    }
   ],
   "source": [
    "test_pred = dense.predict(x_val, verbose=1)   \n",
    "pred_labels = pred2label(test_pred)\n",
    "test_labels = pred2label(y_val)\n",
    "print(\"F1-score: {:.1%}\".format(f1_score(test_labels, pred_labels)))"
   ]
  },
  {
   "cell_type": "code",
   "execution_count": 0,
   "metadata": {
    "colab": {
     "base_uri": "https://localhost:8080/",
     "height": 479
    },
    "colab_type": "code",
    "id": "iGgUX6SJLRic",
    "outputId": "5c93f3fe-9e6f-4779-8ed8-d34e9b3d0898"
   },
   "outputs": [
    {
     "name": "stderr",
     "output_type": "stream",
     "text": [
      "/usr/local/lib/python3.6/dist-packages/sklearn/metrics/_classification.py:1272: UndefinedMetricWarning: Precision and F-score are ill-defined and being set to 0.0 in labels with no predicted samples. Use `zero_division` parameter to control this behavior.\n",
      "  _warn_prf(average, modifier, msg_start, len(result))\n"
     ]
    },
    {
     "name": "stdout",
     "output_type": "stream",
     "text": [
      "              precision    recall  f1-score   support\n",
      "\n",
      "       B-art       0.86      0.79      0.82      5000\n",
      "       B-eve       0.67      0.15      0.25        66\n",
      "       B-geo       0.96      0.99      0.98    220977\n",
      "       B-gpe       0.77      0.81      0.79      9380\n",
      "       B-nat       0.64      0.11      0.19      1494\n",
      "       B-org       0.55      0.52      0.54      1828\n",
      "       B-per       0.93      0.91      0.92      4145\n",
      "       B-tim       0.54      0.17      0.25      4104\n",
      "       I-art       0.50      0.22      0.31       100\n",
      "       I-eve       0.67      0.17      0.27        96\n",
      "       I-geo       0.70      0.63      0.66      4058\n",
      "       I-gpe       0.71      0.67      0.69      4134\n",
      "       I-nat       0.00      0.00      0.00        83\n",
      "       I-org       0.73      0.39      0.51      5020\n",
      "       I-per       0.00      0.00      0.00        64\n",
      "       I-tim       0.49      0.44      0.46        48\n",
      "           O       1.00      1.00      1.00    970703\n",
      "\n",
      "    accuracy                           0.99   1231300\n",
      "   macro avg       0.63      0.47      0.51   1231300\n",
      "weighted avg       0.98      0.99      0.98   1231300\n",
      "\n"
     ]
    }
   ],
   "source": [
    "report = flat_classification_report(y_pred=pred_labels, y_true=test_labels)\n",
    "print(report)"
   ]
  },
  {
   "cell_type": "markdown",
   "metadata": {
    "colab_type": "text",
    "id": "zc8HZvirUcoV"
   },
   "source": [
    "#### 1.g Red más profunda o bidireccional\n",
    "\n",
    "Una pregunta natural que surge es saber que ocurre al aumentar la profundidad de la red, o por ejemplo porqué solo se recorre el _input_ en la dirección original. Considerando el tiempo acotado de este semestre, pueden elegir realizar una de las dos exploraciones solamente. \n",
    "\n",
    "* Profundidad: Entrene un par de redes con más capas LSTM y grafique como se comporta el desempeño a medida se aumenta la profundidad\n",
    "* Bidireccional: Varie la cantidad de unidades (a lo menos 4 valores distintos) de la capa LSTM y compare con la red utilizando capas LSTM bidireccionales (como muestra el código). Comente sobre el número de parámetros en ambos casos."
   ]
  },
  {
   "cell_type": "code",
   "execution_count": 0,
   "metadata": {
    "colab": {},
    "colab_type": "code",
    "id": "T5fmk3wJlVbZ"
   },
   "outputs": [],
   "source": [
    "def customUnits(value):\n",
    "  for i in range(value):\n",
    "    units = Sequential()\n",
    "\n",
    "    embedding_dim = 100\n",
    "    units.add(Embedding(input_dim=n_lemmas, output_dim=embedding_dim, input_length=max_len))\n",
    "\n",
    "    units.add(LSTM(units=2**(i+7),return_sequences=True)) # You can use CuDNNLSTM if you have a CUDA enabled GPU for faster performance\n",
    "\n",
    "    units.add(Dense(n_tags, activation='softmax'))\n",
    "\n",
    "    units.compile(loss='categorical_crossentropy', optimizer='adam', metrics=['accuracy'])\n",
    "\n",
    "    units.summary()\n",
    "    history = units.fit(x_tr,y_tr, validation_data=(x_val,y_val), epochs=10, batch_size=128)\n",
    "    test_pred = units.predict(x_val, verbose=1)   \n",
    "    pred_labels = pred2label(test_pred)\n",
    "    test_labels = pred2label(y_val)\n",
    "    print(\"F1-score: {:.1%}\".format(f1_score(test_labels, pred_labels)))\n",
    "    report = flat_classification_report(y_pred=pred_labels, y_true=test_labels)\n",
    "    print(report)"
   ]
  },
  {
   "cell_type": "code",
   "execution_count": 20,
   "metadata": {
    "colab": {
     "base_uri": "https://localhost:8080/",
     "height": 1000
    },
    "colab_type": "code",
    "id": "pT3o4G53qgH1",
    "outputId": "a4b52278-77d4-4222-8b3c-457a98ab4859"
   },
   "outputs": [
    {
     "name": "stdout",
     "output_type": "stream",
     "text": [
      "Model: \"sequential_4\"\n",
      "_________________________________________________________________\n",
      "Layer (type)                 Output Shape              Param #   \n",
      "=================================================================\n",
      "embedding_4 (Embedding)      (None, 140, 100)          2023900   \n",
      "_________________________________________________________________\n",
      "lstm_4 (LSTM)                (None, 140, 128)          117248    \n",
      "_________________________________________________________________\n",
      "dense_4 (Dense)              (None, 140, 18)           2322      \n",
      "=================================================================\n",
      "Total params: 2,143,470\n",
      "Trainable params: 2,143,470\n",
      "Non-trainable params: 0\n",
      "_________________________________________________________________\n",
      "Train on 26382 samples, validate on 8795 samples\n",
      "Epoch 1/10\n",
      "26382/26382 [==============================] - 61s 2ms/step - loss: 0.3848 - acc: 0.9318 - val_loss: 0.1565 - val_acc: 0.9672\n",
      "Epoch 2/10\n",
      "26382/26382 [==============================] - 60s 2ms/step - loss: 0.1096 - acc: 0.9715 - val_loss: 0.0781 - val_acc: 0.9788\n",
      "Epoch 3/10\n",
      "26382/26382 [==============================] - 59s 2ms/step - loss: 0.0609 - acc: 0.9834 - val_loss: 0.0512 - val_acc: 0.9863\n",
      "Epoch 4/10\n",
      "26382/26382 [==============================] - 60s 2ms/step - loss: 0.0418 - acc: 0.9887 - val_loss: 0.0419 - val_acc: 0.9883\n",
      "Epoch 5/10\n",
      "26382/26382 [==============================] - 59s 2ms/step - loss: 0.0344 - acc: 0.9901 - val_loss: 0.0394 - val_acc: 0.9886\n",
      "Epoch 6/10\n",
      "26382/26382 [==============================] - 59s 2ms/step - loss: 0.0305 - acc: 0.9909 - val_loss: 0.0378 - val_acc: 0.9887\n",
      "Epoch 7/10\n",
      "26382/26382 [==============================] - 59s 2ms/step - loss: 0.0282 - acc: 0.9914 - val_loss: 0.0365 - val_acc: 0.9891\n",
      "Epoch 8/10\n",
      "26382/26382 [==============================] - 60s 2ms/step - loss: 0.0263 - acc: 0.9918 - val_loss: 0.0364 - val_acc: 0.9892\n",
      "Epoch 9/10\n",
      "26382/26382 [==============================] - 60s 2ms/step - loss: 0.0250 - acc: 0.9921 - val_loss: 0.0359 - val_acc: 0.9894\n",
      "Epoch 10/10\n",
      "26382/26382 [==============================] - 60s 2ms/step - loss: 0.0238 - acc: 0.9924 - val_loss: 0.0370 - val_acc: 0.9894\n",
      "8795/8795 [==============================] - 26s 3ms/step\n",
      "F1-score: 94.8%\n"
     ]
    },
    {
     "name": "stderr",
     "output_type": "stream",
     "text": [
      "/usr/local/lib/python3.6/dist-packages/sklearn/metrics/_classification.py:1272: UndefinedMetricWarning: Precision and F-score are ill-defined and being set to 0.0 in labels with no predicted samples. Use `zero_division` parameter to control this behavior.\n",
      "  _warn_prf(average, modifier, msg_start, len(result))\n"
     ]
    },
    {
     "name": "stdout",
     "output_type": "stream",
     "text": [
      "              precision    recall  f1-score   support\n",
      "\n",
      "       B-art       0.92      0.80      0.85      5000\n",
      "       B-eve       0.00      0.00      0.00        66\n",
      "       B-geo       0.97      0.99      0.98    220977\n",
      "       B-gpe       0.80      0.83      0.82      9380\n",
      "       B-nat       0.78      0.60      0.68      1494\n",
      "       B-org       0.75      0.72      0.73      1828\n",
      "       B-per       0.93      0.91      0.92      4145\n",
      "       B-tim       0.75      0.44      0.55      4104\n",
      "       I-art       0.00      0.00      0.00       100\n",
      "       I-eve       0.78      0.15      0.25        96\n",
      "       I-geo       0.82      0.72      0.76      4058\n",
      "       I-gpe       0.85      0.83      0.84      4134\n",
      "       I-nat       0.00      0.00      0.00        83\n",
      "       I-org       0.72      0.47      0.57      5020\n",
      "       I-per       0.00      0.00      0.00        64\n",
      "       I-tim       0.00      0.00      0.00        48\n",
      "           O       1.00      1.00      1.00    970703\n",
      "\n",
      "    accuracy                           0.99   1231300\n",
      "   macro avg       0.59      0.50      0.53   1231300\n",
      "weighted avg       0.99      0.99      0.99   1231300\n",
      "\n",
      "Model: \"sequential_5\"\n",
      "_________________________________________________________________\n",
      "Layer (type)                 Output Shape              Param #   \n",
      "=================================================================\n",
      "embedding_5 (Embedding)      (None, 140, 100)          2023900   \n",
      "_________________________________________________________________\n",
      "lstm_5 (LSTM)                (None, 140, 256)          365568    \n",
      "_________________________________________________________________\n",
      "dense_5 (Dense)              (None, 140, 18)           4626      \n",
      "=================================================================\n",
      "Total params: 2,394,094\n",
      "Trainable params: 2,394,094\n",
      "Non-trainable params: 0\n",
      "_________________________________________________________________\n",
      "Train on 26382 samples, validate on 8795 samples\n",
      "Epoch 1/10\n",
      "26382/26382 [==============================] - 62s 2ms/step - loss: 0.3422 - acc: 0.9376 - val_loss: 0.1407 - val_acc: 0.9675\n",
      "Epoch 2/10\n",
      "26382/26382 [==============================] - 61s 2ms/step - loss: 0.0903 - acc: 0.9753 - val_loss: 0.0633 - val_acc: 0.9831\n",
      "Epoch 3/10\n",
      "26382/26382 [==============================] - 60s 2ms/step - loss: 0.0495 - acc: 0.9867 - val_loss: 0.0441 - val_acc: 0.9880\n",
      "Epoch 4/10\n",
      "26382/26382 [==============================] - 60s 2ms/step - loss: 0.0358 - acc: 0.9898 - val_loss: 0.0398 - val_acc: 0.9886\n",
      "Epoch 5/10\n",
      "26382/26382 [==============================] - 60s 2ms/step - loss: 0.0310 - acc: 0.9907 - val_loss: 0.0368 - val_acc: 0.9892\n",
      "Epoch 6/10\n",
      "26382/26382 [==============================] - 60s 2ms/step - loss: 0.0280 - acc: 0.9913 - val_loss: 0.0376 - val_acc: 0.9885\n",
      "Epoch 7/10\n",
      "26382/26382 [==============================] - 60s 2ms/step - loss: 0.0260 - acc: 0.9918 - val_loss: 0.0360 - val_acc: 0.9894\n",
      "Epoch 8/10\n",
      "26382/26382 [==============================] - 60s 2ms/step - loss: 0.0244 - acc: 0.9921 - val_loss: 0.0363 - val_acc: 0.9891\n",
      "Epoch 9/10\n",
      "26382/26382 [==============================] - 60s 2ms/step - loss: 0.0231 - acc: 0.9925 - val_loss: 0.0365 - val_acc: 0.9895\n",
      "Epoch 10/10\n",
      "26382/26382 [==============================] - 60s 2ms/step - loss: 0.0220 - acc: 0.9928 - val_loss: 0.0364 - val_acc: 0.9894\n",
      "8795/8795 [==============================] - 25s 3ms/step\n",
      "F1-score: 94.8%\n"
     ]
    },
    {
     "name": "stderr",
     "output_type": "stream",
     "text": [
      "/usr/local/lib/python3.6/dist-packages/sklearn/metrics/_classification.py:1272: UndefinedMetricWarning: Precision and F-score are ill-defined and being set to 0.0 in labels with no predicted samples. Use `zero_division` parameter to control this behavior.\n",
      "  _warn_prf(average, modifier, msg_start, len(result))\n"
     ]
    },
    {
     "name": "stdout",
     "output_type": "stream",
     "text": [
      "              precision    recall  f1-score   support\n",
      "\n",
      "       B-art       0.95      0.77      0.85      5000\n",
      "       B-eve       0.09      0.09      0.09        66\n",
      "       B-geo       0.97      0.99      0.98    220977\n",
      "       B-gpe       0.82      0.80      0.81      9380\n",
      "       B-nat       0.80      0.59      0.68      1494\n",
      "       B-org       0.77      0.71      0.74      1828\n",
      "       B-per       0.92      0.91      0.91      4145\n",
      "       B-tim       0.66      0.54      0.59      4104\n",
      "       I-art       0.00      0.00      0.00       100\n",
      "       I-eve       0.78      0.15      0.25        96\n",
      "       I-geo       0.80      0.76      0.78      4058\n",
      "       I-gpe       0.87      0.83      0.85      4134\n",
      "       I-nat       0.00      0.00      0.00        83\n",
      "       I-org       0.64      0.53      0.58      5020\n",
      "       I-per       0.00      0.00      0.00        64\n",
      "       I-tim       1.00      0.44      0.61        48\n",
      "           O       1.00      1.00      1.00    970703\n",
      "\n",
      "    accuracy                           0.99   1231300\n",
      "   macro avg       0.65      0.53      0.57   1231300\n",
      "weighted avg       0.99      0.99      0.99   1231300\n",
      "\n",
      "Model: \"sequential_6\"\n",
      "_________________________________________________________________\n",
      "Layer (type)                 Output Shape              Param #   \n",
      "=================================================================\n",
      "embedding_6 (Embedding)      (None, 140, 100)          2023900   \n",
      "_________________________________________________________________\n",
      "lstm_6 (LSTM)                (None, 140, 512)          1255424   \n",
      "_________________________________________________________________\n",
      "dense_6 (Dense)              (None, 140, 18)           9234      \n",
      "=================================================================\n",
      "Total params: 3,288,558\n",
      "Trainable params: 3,288,558\n",
      "Non-trainable params: 0\n",
      "_________________________________________________________________\n",
      "Train on 26382 samples, validate on 8795 samples\n",
      "Epoch 1/10\n",
      "26382/26382 [==============================] - 61s 2ms/step - loss: 0.2794 - acc: 0.9444 - val_loss: 0.1180 - val_acc: 0.9698\n",
      "Epoch 2/10\n",
      "26382/26382 [==============================] - 59s 2ms/step - loss: 0.0760 - acc: 0.9783 - val_loss: 0.0578 - val_acc: 0.9851\n",
      "Epoch 3/10\n",
      "26382/26382 [==============================] - 59s 2ms/step - loss: 0.0433 - acc: 0.9881 - val_loss: 0.0415 - val_acc: 0.9885\n",
      "Epoch 4/10\n",
      "26382/26382 [==============================] - 59s 2ms/step - loss: 0.0333 - acc: 0.9902 - val_loss: 0.0385 - val_acc: 0.9890\n",
      "Epoch 5/10\n",
      "26382/26382 [==============================] - 58s 2ms/step - loss: 0.0291 - acc: 0.9911 - val_loss: 0.0389 - val_acc: 0.9885\n",
      "Epoch 6/10\n",
      "26382/26382 [==============================] - 59s 2ms/step - loss: 0.0268 - acc: 0.9916 - val_loss: 0.0369 - val_acc: 0.9895\n",
      "Epoch 7/10\n",
      "26382/26382 [==============================] - 58s 2ms/step - loss: 0.0250 - acc: 0.9920 - val_loss: 0.0371 - val_acc: 0.9892\n",
      "Epoch 8/10\n",
      "26382/26382 [==============================] - 58s 2ms/step - loss: 0.0235 - acc: 0.9924 - val_loss: 0.0384 - val_acc: 0.9894\n",
      "Epoch 9/10\n",
      "26382/26382 [==============================] - 59s 2ms/step - loss: 0.0223 - acc: 0.9927 - val_loss: 0.0369 - val_acc: 0.9892\n",
      "Epoch 10/10\n",
      "26382/26382 [==============================] - 58s 2ms/step - loss: 0.0213 - acc: 0.9930 - val_loss: 0.0377 - val_acc: 0.9896\n",
      "8795/8795 [==============================] - 26s 3ms/step\n",
      "F1-score: 94.9%\n"
     ]
    },
    {
     "name": "stderr",
     "output_type": "stream",
     "text": [
      "/usr/local/lib/python3.6/dist-packages/sklearn/metrics/_classification.py:1272: UndefinedMetricWarning: Precision and F-score are ill-defined and being set to 0.0 in labels with no predicted samples. Use `zero_division` parameter to control this behavior.\n",
      "  _warn_prf(average, modifier, msg_start, len(result))\n"
     ]
    },
    {
     "name": "stdout",
     "output_type": "stream",
     "text": [
      "              precision    recall  f1-score   support\n",
      "\n",
      "       B-art       0.91      0.80      0.85      5000\n",
      "       B-eve       0.68      0.20      0.31        66\n",
      "       B-geo       0.97      0.99      0.98    220977\n",
      "       B-gpe       0.81      0.82      0.82      9380\n",
      "       B-nat       0.81      0.59      0.68      1494\n",
      "       B-org       0.83      0.66      0.74      1828\n",
      "       B-per       0.90      0.91      0.91      4145\n",
      "       B-tim       0.64      0.57      0.60      4104\n",
      "       I-art       0.00      0.00      0.00       100\n",
      "       I-eve       0.80      0.17      0.28        96\n",
      "       I-geo       0.79      0.76      0.77      4058\n",
      "       I-gpe       0.80      0.90      0.85      4134\n",
      "       I-nat       0.29      0.02      0.04        83\n",
      "       I-org       0.75      0.45      0.56      5020\n",
      "       I-per       0.00      0.00      0.00        64\n",
      "       I-tim       0.81      0.44      0.57        48\n",
      "           O       1.00      1.00      1.00    970703\n",
      "\n",
      "    accuracy                           0.99   1231300\n",
      "   macro avg       0.69      0.55      0.59   1231300\n",
      "weighted avg       0.99      0.99      0.99   1231300\n",
      "\n",
      "Model: \"sequential_7\"\n",
      "_________________________________________________________________\n",
      "Layer (type)                 Output Shape              Param #   \n",
      "=================================================================\n",
      "embedding_7 (Embedding)      (None, 140, 100)          2023900   \n",
      "_________________________________________________________________\n",
      "lstm_7 (LSTM)                (None, 140, 1024)         4608000   \n",
      "_________________________________________________________________\n",
      "dense_7 (Dense)              (None, 140, 18)           18450     \n",
      "=================================================================\n",
      "Total params: 6,650,350\n",
      "Trainable params: 6,650,350\n",
      "Non-trainable params: 0\n",
      "_________________________________________________________________\n",
      "Train on 26382 samples, validate on 8795 samples\n",
      "Epoch 1/10\n",
      "26382/26382 [==============================] - 66s 2ms/step - loss: 0.3293 - acc: 0.9166 - val_loss: 0.0988 - val_acc: 0.9744\n",
      "Epoch 2/10\n",
      "26382/26382 [==============================] - 63s 2ms/step - loss: 0.0781 - acc: 0.9784 - val_loss: 0.0666 - val_acc: 0.9819\n",
      "Epoch 3/10\n",
      "26382/26382 [==============================] - 63s 2ms/step - loss: 0.0527 - acc: 0.9859 - val_loss: 0.0496 - val_acc: 0.9864\n",
      "Epoch 4/10\n",
      "26382/26382 [==============================] - 63s 2ms/step - loss: 0.0395 - acc: 0.9891 - val_loss: 0.0414 - val_acc: 0.9880\n",
      "Epoch 5/10\n",
      "26382/26382 [==============================] - 64s 2ms/step - loss: 0.0327 - acc: 0.9903 - val_loss: 0.0382 - val_acc: 0.9887\n",
      "Epoch 6/10\n",
      "26382/26382 [==============================] - 64s 2ms/step - loss: 0.0290 - acc: 0.9910 - val_loss: 0.0373 - val_acc: 0.9892\n",
      "Epoch 7/10\n",
      "26382/26382 [==============================] - 63s 2ms/step - loss: 0.0270 - acc: 0.9915 - val_loss: 0.0361 - val_acc: 0.9891\n",
      "Epoch 8/10\n",
      "26382/26382 [==============================] - 64s 2ms/step - loss: 0.0254 - acc: 0.9918 - val_loss: 0.0365 - val_acc: 0.9890\n",
      "Epoch 9/10\n",
      "26382/26382 [==============================] - 63s 2ms/step - loss: 0.0242 - acc: 0.9921 - val_loss: 0.0358 - val_acc: 0.9893\n",
      "Epoch 10/10\n",
      "26382/26382 [==============================] - 64s 2ms/step - loss: 0.0233 - acc: 0.9923 - val_loss: 0.0368 - val_acc: 0.9895\n",
      "8795/8795 [==============================] - 25s 3ms/step\n",
      "F1-score: 94.8%\n"
     ]
    },
    {
     "name": "stderr",
     "output_type": "stream",
     "text": [
      "/usr/local/lib/python3.6/dist-packages/sklearn/metrics/_classification.py:1272: UndefinedMetricWarning: Precision and F-score are ill-defined and being set to 0.0 in labels with no predicted samples. Use `zero_division` parameter to control this behavior.\n",
      "  _warn_prf(average, modifier, msg_start, len(result))\n"
     ]
    },
    {
     "name": "stdout",
     "output_type": "stream",
     "text": [
      "              precision    recall  f1-score   support\n",
      "\n",
      "       B-art       0.92      0.80      0.86      5000\n",
      "       B-eve       0.06      0.12      0.08        66\n",
      "       B-geo       0.97      0.99      0.98    220977\n",
      "       B-gpe       0.81      0.82      0.81      9380\n",
      "       B-nat       0.86      0.55      0.67      1494\n",
      "       B-org       0.82      0.67      0.73      1828\n",
      "       B-per       0.93      0.91      0.92      4145\n",
      "       B-tim       0.69      0.48      0.56      4104\n",
      "       I-art       0.00      0.00      0.00       100\n",
      "       I-eve       0.72      0.14      0.23        96\n",
      "       I-geo       0.83      0.73      0.78      4058\n",
      "       I-gpe       0.87      0.82      0.85      4134\n",
      "       I-nat       0.25      0.02      0.04        83\n",
      "       I-org       0.64      0.52      0.57      5020\n",
      "       I-per       0.00      0.00      0.00        64\n",
      "       I-tim       0.86      0.52      0.65        48\n",
      "           O       1.00      1.00      1.00    970703\n",
      "\n",
      "    accuracy                           0.99   1231300\n",
      "   macro avg       0.66      0.53      0.57   1231300\n",
      "weighted avg       0.99      0.99      0.99   1231300\n",
      "\n"
     ]
    }
   ],
   "source": [
    "customUnits(4)"
   ]
  },
  {
   "cell_type": "code",
   "execution_count": 16,
   "metadata": {
    "colab": {
     "base_uri": "https://localhost:8080/",
     "height": 612
    },
    "colab_type": "code",
    "id": "64G_KilTUcoW",
    "outputId": "8cb16edb-6189-45a3-f018-07604be589e7"
   },
   "outputs": [
    {
     "name": "stdout",
     "output_type": "stream",
     "text": [
      "Model: \"sequential_3\"\n",
      "_________________________________________________________________\n",
      "Layer (type)                 Output Shape              Param #   \n",
      "=================================================================\n",
      "embedding_3 (Embedding)      (None, 140, 100)          2023900   \n",
      "_________________________________________________________________\n",
      "bidirectional_1 (Bidirection (None, 140, 256)          234496    \n",
      "_________________________________________________________________\n",
      "dense_3 (Dense)              (None, 140, 18)           4626      \n",
      "=================================================================\n",
      "Total params: 2,263,022\n",
      "Trainable params: 2,263,022\n",
      "Non-trainable params: 0\n",
      "_________________________________________________________________\n",
      "Train on 26382 samples, validate on 8795 samples\n",
      "Epoch 1/10\n",
      "26382/26382 [==============================] - 116s 4ms/step - loss: 0.3166 - acc: 0.9393 - val_loss: 0.1184 - val_acc: 0.9683\n",
      "Epoch 2/10\n",
      "26382/26382 [==============================] - 114s 4ms/step - loss: 0.0850 - acc: 0.9759 - val_loss: 0.0628 - val_acc: 0.9830\n",
      "Epoch 3/10\n",
      "26382/26382 [==============================] - 114s 4ms/step - loss: 0.0482 - acc: 0.9868 - val_loss: 0.0450 - val_acc: 0.9876\n",
      "Epoch 4/10\n",
      "26382/26382 [==============================] - 114s 4ms/step - loss: 0.0342 - acc: 0.9905 - val_loss: 0.0378 - val_acc: 0.9895\n",
      "Epoch 5/10\n",
      "26382/26382 [==============================] - 114s 4ms/step - loss: 0.0280 - acc: 0.9919 - val_loss: 0.0360 - val_acc: 0.9900\n",
      "Epoch 6/10\n",
      "26382/26382 [==============================] - 113s 4ms/step - loss: 0.0243 - acc: 0.9928 - val_loss: 0.0351 - val_acc: 0.9902\n",
      "Epoch 7/10\n",
      "26382/26382 [==============================] - 114s 4ms/step - loss: 0.0219 - acc: 0.9934 - val_loss: 0.0354 - val_acc: 0.9900\n",
      "Epoch 8/10\n",
      "26382/26382 [==============================] - 113s 4ms/step - loss: 0.0198 - acc: 0.9940 - val_loss: 0.0351 - val_acc: 0.9900\n",
      "Epoch 9/10\n",
      "26382/26382 [==============================] - 113s 4ms/step - loss: 0.0182 - acc: 0.9944 - val_loss: 0.0350 - val_acc: 0.9903\n",
      "Epoch 10/10\n",
      "26382/26382 [==============================] - 113s 4ms/step - loss: 0.0165 - acc: 0.9949 - val_loss: 0.0360 - val_acc: 0.9902\n"
     ]
    }
   ],
   "source": [
    "from keras.layers import Bidirectional\n",
    "from keras.models import Sequential\n",
    "from keras.layers import LSTM, Embedding, Dense\n",
    "\n",
    "model = Sequential()\n",
    "\n",
    "embedding_dim = 100\n",
    "model.add(Embedding(input_dim=n_lemmas, output_dim=embedding_dim, input_length=max_len))\n",
    "\n",
    "model.add(Bidirectional(LSTM(units=128,return_sequences=True)))\n",
    "\n",
    "model.add(Dense(n_tags, activation='softmax'))\n",
    "\n",
    "model.compile(loss='categorical_crossentropy', optimizer='adam', metrics=['accuracy'])\n",
    "\n",
    "model.summary()\n",
    "history = model.fit(x_tr,y_tr, validation_data=(x_val,y_val), epochs=10, batch_size=128)\n",
    "\n",
    " "
   ]
  },
  {
   "cell_type": "code",
   "execution_count": 18,
   "metadata": {
    "colab": {
     "base_uri": "https://localhost:8080/",
     "height": 513
    },
    "colab_type": "code",
    "id": "vBGKb1nOouS0",
    "outputId": "27c084c8-1f41-480e-c754-de7f26977441"
   },
   "outputs": [
    {
     "name": "stdout",
     "output_type": "stream",
     "text": [
      "8795/8795 [==============================] - 52s 6ms/step\n",
      "F1-score: 95.2%\n"
     ]
    },
    {
     "name": "stderr",
     "output_type": "stream",
     "text": [
      "/usr/local/lib/python3.6/dist-packages/sklearn/metrics/_classification.py:1272: UndefinedMetricWarning: Precision and F-score are ill-defined and being set to 0.0 in labels with no predicted samples. Use `zero_division` parameter to control this behavior.\n",
      "  _warn_prf(average, modifier, msg_start, len(result))\n"
     ]
    },
    {
     "name": "stdout",
     "output_type": "stream",
     "text": [
      "              precision    recall  f1-score   support\n",
      "\n",
      "       B-art       0.88      0.88      0.88      5000\n",
      "       B-eve       0.61      0.17      0.26        66\n",
      "       B-geo       0.98      0.99      0.98    220977\n",
      "       B-gpe       0.83      0.84      0.83      9380\n",
      "       B-nat       0.80      0.65      0.72      1494\n",
      "       B-org       0.72      0.73      0.73      1828\n",
      "       B-per       0.95      0.90      0.92      4145\n",
      "       B-tim       0.60      0.60      0.60      4104\n",
      "       I-art       0.17      0.01      0.02       100\n",
      "       I-eve       0.69      0.11      0.20        96\n",
      "       I-geo       0.83      0.76      0.80      4058\n",
      "       I-gpe       0.88      0.76      0.82      4134\n",
      "       I-nat       0.00      0.00      0.00        83\n",
      "       I-org       0.68      0.62      0.65      5020\n",
      "       I-per       0.00      0.00      0.00        64\n",
      "       I-tim       0.93      0.27      0.42        48\n",
      "           O       1.00      1.00      1.00    970703\n",
      "\n",
      "    accuracy                           0.99   1231300\n",
      "   macro avg       0.68      0.55      0.58   1231300\n",
      "weighted avg       0.99      0.99      0.99   1231300\n",
      "\n"
     ]
    }
   ],
   "source": [
    "from seqeval.metrics import precision_score, recall_score, f1_score, classification_report\n",
    "from  sklearn_crfsuite.metrics import flat_classification_report \n",
    "\n",
    "test_pred = model.predict(x_val, verbose=1)   \n",
    "pred_labels = pred2label(test_pred)\n",
    "test_labels = pred2label(y_val)\n",
    "print(\"F1-score: {:.1%}\".format(f1_score(test_labels, pred_labels)))\n",
    "report = flat_classification_report(y_pred=pred_labels, y_true=test_labels)\n",
    "print(report)"
   ]
  },
  {
   "cell_type": "markdown",
   "metadata": {
    "colab_type": "text",
    "id": "XVPeQaaxUcoZ"
   },
   "source": [
    "#### 1.h Dimensión del Embedding\n",
    "\n",
    "Como podrán haber notado, gran parte de los parámetros entrenables se encuentran en el embedding. Elija una de las redes entrenadas anteriormente y varíe la dimensión del embedding en un conjunto de potencias de 2 que le parezca razonable (a lo menos 6 valores). Comente sus observaciones."
   ]
  },
  {
   "cell_type": "code",
   "execution_count": 0,
   "metadata": {
    "colab": {},
    "colab_type": "code",
    "id": "8aKqe5nMUcoa"
   },
   "outputs": [],
   "source": [
    "from keras.layers import Conv1D, Embedding\n",
    "from keras.models import Sequential\n",
    "from keras.layers import Dense\n",
    "\n",
    "def customEmbedding(values):\n",
    "  val_acc_max = [] # maximo accuracy de validacion obtenido\n",
    "  acc_epoch = []    # accuracy de training obtenido en el mismo epoch que val_acc_max\n",
    "\n",
    "  for i in range(values):\n",
    "    conv = Sequential()\n",
    "\n",
    "    embedding_dim = 2**(i+5)\n",
    "    conv.add(Embedding(input_dim=n_lemmas, output_dim=embedding_dim, input_length=max_len))\n",
    "    conv.add(Conv1D(128, 5, activation='relu', padding='same'))\n",
    "    conv.add(Conv1D(128, 5, activation='relu', padding='same'))\n",
    "    conv.add(Dense(n_tags, activation=\"softmax\"))\n",
    "\n",
    "    conv.compile(loss='categorical_crossentropy', optimizer='adam', metrics=['accuracy'])\n",
    "\n",
    "    history = conv.fit(x_tr,y_tr, validation_data=(x_val,y_val), epochs=0, batch_size=128)\n",
    "    conv.summary()\n",
    "    history = conv.fit(x_tr,y_tr, validation_data=(x_val,y_val), epochs=10, batch_size=128)\n",
    "    val_acc_max.append(max(history.history['val_acc']))\n",
    "    acc_epoch.append(history.history['acc'][history.history['val_acc'].index(max(history.history['val_acc']))])\n",
    "  \n",
    "  plt.plot(val_acc_max,label=\"max val accuracy\")\n",
    "  plt.plot(acc_epoch,label=\"training accuracy\")\n",
    "  plt.legend(loc=\"upper left\")\n",
    "  plt.ylabel('accuracy')\n",
    "  plt.xlabel('2^{embedding dimension + 5}')\n",
    "  plt.plot"
   ]
  },
  {
   "cell_type": "code",
   "execution_count": 22,
   "metadata": {
    "colab": {
     "base_uri": "https://localhost:8080/",
     "height": 1000
    },
    "colab_type": "code",
    "id": "p--kfatr0oXb",
    "outputId": "ae74d080-2c4b-49d5-8dda-2b340c6da708"
   },
   "outputs": [
    {
     "name": "stdout",
     "output_type": "stream",
     "text": [
      "Train on 26382 samples, validate on 8795 samples\n",
      "Model: \"sequential_8\"\n",
      "_________________________________________________________________\n",
      "Layer (type)                 Output Shape              Param #   \n",
      "=================================================================\n",
      "embedding_8 (Embedding)      (None, 140, 32)           647648    \n",
      "_________________________________________________________________\n",
      "conv1d_1 (Conv1D)            (None, 140, 128)          20608     \n",
      "_________________________________________________________________\n",
      "conv1d_2 (Conv1D)            (None, 140, 128)          82048     \n",
      "_________________________________________________________________\n",
      "dense_8 (Dense)              (None, 140, 18)           2322      \n",
      "=================================================================\n",
      "Total params: 752,626\n",
      "Trainable params: 752,626\n",
      "Non-trainable params: 0\n",
      "_________________________________________________________________\n",
      "Train on 26382 samples, validate on 8795 samples\n",
      "Epoch 1/10\n",
      "26382/26382 [==============================] - 8s 318us/step - loss: 0.2873 - acc: 0.9614 - val_loss: 0.0789 - val_acc: 0.9762\n",
      "Epoch 2/10\n",
      "26382/26382 [==============================] - 2s 68us/step - loss: 0.0606 - acc: 0.9827 - val_loss: 0.0481 - val_acc: 0.9874\n",
      "Epoch 3/10\n",
      "26382/26382 [==============================] - 2s 68us/step - loss: 0.0357 - acc: 0.9902 - val_loss: 0.0360 - val_acc: 0.9898\n",
      "Epoch 4/10\n",
      "26382/26382 [==============================] - 2s 68us/step - loss: 0.0260 - acc: 0.9924 - val_loss: 0.0333 - val_acc: 0.9906\n",
      "Epoch 5/10\n",
      "26382/26382 [==============================] - 2s 67us/step - loss: 0.0215 - acc: 0.9936 - val_loss: 0.0333 - val_acc: 0.9906\n",
      "Epoch 6/10\n",
      "26382/26382 [==============================] - 2s 68us/step - loss: 0.0187 - acc: 0.9943 - val_loss: 0.0336 - val_acc: 0.9905\n",
      "Epoch 7/10\n",
      "26382/26382 [==============================] - 2s 69us/step - loss: 0.0165 - acc: 0.9949 - val_loss: 0.0353 - val_acc: 0.9907\n",
      "Epoch 8/10\n",
      "26382/26382 [==============================] - 2s 68us/step - loss: 0.0148 - acc: 0.9954 - val_loss: 0.0358 - val_acc: 0.9904\n",
      "Epoch 9/10\n",
      "26382/26382 [==============================] - 2s 68us/step - loss: 0.0134 - acc: 0.9958 - val_loss: 0.0378 - val_acc: 0.9904\n",
      "Epoch 10/10\n",
      "26382/26382 [==============================] - 2s 69us/step - loss: 0.0121 - acc: 0.9961 - val_loss: 0.0387 - val_acc: 0.9903\n",
      "Train on 26382 samples, validate on 8795 samples\n",
      "Model: \"sequential_9\"\n",
      "_________________________________________________________________\n",
      "Layer (type)                 Output Shape              Param #   \n",
      "=================================================================\n",
      "embedding_9 (Embedding)      (None, 140, 64)           1295296   \n",
      "_________________________________________________________________\n",
      "conv1d_3 (Conv1D)            (None, 140, 128)          41088     \n",
      "_________________________________________________________________\n",
      "conv1d_4 (Conv1D)            (None, 140, 128)          82048     \n",
      "_________________________________________________________________\n",
      "dense_9 (Dense)              (None, 140, 18)           2322      \n",
      "=================================================================\n",
      "Total params: 1,420,754\n",
      "Trainable params: 1,420,754\n",
      "Non-trainable params: 0\n",
      "_________________________________________________________________\n",
      "Train on 26382 samples, validate on 8795 samples\n",
      "Epoch 1/10\n",
      "26382/26382 [==============================] - 4s 150us/step - loss: 0.2614 - acc: 0.9651 - val_loss: 0.0675 - val_acc: 0.9796\n",
      "Epoch 2/10\n",
      "26382/26382 [==============================] - 2s 76us/step - loss: 0.0487 - acc: 0.9862 - val_loss: 0.0379 - val_acc: 0.9895\n",
      "Epoch 3/10\n",
      "26382/26382 [==============================] - 2s 76us/step - loss: 0.0282 - acc: 0.9918 - val_loss: 0.0325 - val_acc: 0.9906\n",
      "Epoch 4/10\n",
      "26382/26382 [==============================] - 2s 75us/step - loss: 0.0219 - acc: 0.9935 - val_loss: 0.0324 - val_acc: 0.9906\n",
      "Epoch 5/10\n",
      "26382/26382 [==============================] - 2s 76us/step - loss: 0.0184 - acc: 0.9943 - val_loss: 0.0331 - val_acc: 0.9909\n",
      "Epoch 6/10\n",
      "26382/26382 [==============================] - 2s 75us/step - loss: 0.0159 - acc: 0.9950 - val_loss: 0.0336 - val_acc: 0.9907\n",
      "Epoch 7/10\n",
      "26382/26382 [==============================] - 2s 76us/step - loss: 0.0138 - acc: 0.9956 - val_loss: 0.0350 - val_acc: 0.9905\n",
      "Epoch 8/10\n",
      "26382/26382 [==============================] - 2s 75us/step - loss: 0.0121 - acc: 0.9961 - val_loss: 0.0378 - val_acc: 0.9904\n",
      "Epoch 9/10\n",
      "26382/26382 [==============================] - 2s 77us/step - loss: 0.0108 - acc: 0.9965 - val_loss: 0.0385 - val_acc: 0.9903\n",
      "Epoch 10/10\n",
      "26382/26382 [==============================] - 2s 78us/step - loss: 0.0094 - acc: 0.9970 - val_loss: 0.0408 - val_acc: 0.9897\n",
      "Train on 26382 samples, validate on 8795 samples\n",
      "Model: \"sequential_10\"\n",
      "_________________________________________________________________\n",
      "Layer (type)                 Output Shape              Param #   \n",
      "=================================================================\n",
      "embedding_10 (Embedding)     (None, 140, 128)          2590592   \n",
      "_________________________________________________________________\n",
      "conv1d_5 (Conv1D)            (None, 140, 128)          82048     \n",
      "_________________________________________________________________\n",
      "conv1d_6 (Conv1D)            (None, 140, 128)          82048     \n",
      "_________________________________________________________________\n",
      "dense_10 (Dense)             (None, 140, 18)           2322      \n",
      "=================================================================\n",
      "Total params: 2,757,010\n",
      "Trainable params: 2,757,010\n",
      "Non-trainable params: 0\n",
      "_________________________________________________________________\n",
      "Train on 26382 samples, validate on 8795 samples\n",
      "Epoch 1/10\n",
      "26382/26382 [==============================] - 4s 166us/step - loss: 0.2237 - acc: 0.9657 - val_loss: 0.0612 - val_acc: 0.9817\n",
      "Epoch 2/10\n",
      "26382/26382 [==============================] - 2s 86us/step - loss: 0.0413 - acc: 0.9884 - val_loss: 0.0346 - val_acc: 0.9902\n",
      "Epoch 3/10\n",
      "26382/26382 [==============================] - 2s 84us/step - loss: 0.0255 - acc: 0.9925 - val_loss: 0.0321 - val_acc: 0.9905\n",
      "Epoch 4/10\n",
      "26382/26382 [==============================] - 2s 85us/step - loss: 0.0199 - acc: 0.9939 - val_loss: 0.0327 - val_acc: 0.9907\n",
      "Epoch 5/10\n",
      "26382/26382 [==============================] - 2s 85us/step - loss: 0.0165 - acc: 0.9949 - val_loss: 0.0332 - val_acc: 0.9906\n",
      "Epoch 6/10\n",
      "26382/26382 [==============================] - 2s 84us/step - loss: 0.0140 - acc: 0.9955 - val_loss: 0.0345 - val_acc: 0.9906\n",
      "Epoch 7/10\n",
      "26382/26382 [==============================] - 2s 85us/step - loss: 0.0119 - acc: 0.9962 - val_loss: 0.0362 - val_acc: 0.9903\n",
      "Epoch 8/10\n",
      "26382/26382 [==============================] - 2s 84us/step - loss: 0.0102 - acc: 0.9967 - val_loss: 0.0380 - val_acc: 0.9903\n",
      "Epoch 9/10\n",
      "26382/26382 [==============================] - 2s 84us/step - loss: 0.0089 - acc: 0.9971 - val_loss: 0.0405 - val_acc: 0.9899\n",
      "Epoch 10/10\n",
      "26382/26382 [==============================] - 2s 85us/step - loss: 0.0076 - acc: 0.9975 - val_loss: 0.0433 - val_acc: 0.9902\n",
      "Train on 26382 samples, validate on 8795 samples\n",
      "Model: \"sequential_11\"\n",
      "_________________________________________________________________\n",
      "Layer (type)                 Output Shape              Param #   \n",
      "=================================================================\n",
      "embedding_11 (Embedding)     (None, 140, 256)          5181184   \n",
      "_________________________________________________________________\n",
      "conv1d_7 (Conv1D)            (None, 140, 128)          163968    \n",
      "_________________________________________________________________\n",
      "conv1d_8 (Conv1D)            (None, 140, 128)          82048     \n",
      "_________________________________________________________________\n",
      "dense_11 (Dense)             (None, 140, 18)           2322      \n",
      "=================================================================\n",
      "Total params: 5,429,522\n",
      "Trainable params: 5,429,522\n",
      "Non-trainable params: 0\n",
      "_________________________________________________________________\n",
      "Train on 26382 samples, validate on 8795 samples\n",
      "Epoch 1/10\n",
      "26382/26382 [==============================] - 5s 191us/step - loss: 0.1939 - acc: 0.9712 - val_loss: 0.0491 - val_acc: 0.9866\n",
      "Epoch 2/10\n",
      "26382/26382 [==============================] - 3s 105us/step - loss: 0.0341 - acc: 0.9902 - val_loss: 0.0321 - val_acc: 0.9908\n",
      "Epoch 3/10\n",
      "26382/26382 [==============================] - 3s 105us/step - loss: 0.0227 - acc: 0.9931 - val_loss: 0.0311 - val_acc: 0.9910\n",
      "Epoch 4/10\n",
      "26382/26382 [==============================] - 3s 105us/step - loss: 0.0179 - acc: 0.9944 - val_loss: 0.0323 - val_acc: 0.9909\n",
      "Epoch 5/10\n",
      "26382/26382 [==============================] - 3s 104us/step - loss: 0.0146 - acc: 0.9953 - val_loss: 0.0334 - val_acc: 0.9906\n",
      "Epoch 6/10\n",
      "26382/26382 [==============================] - 3s 105us/step - loss: 0.0121 - acc: 0.9961 - val_loss: 0.0358 - val_acc: 0.9906\n",
      "Epoch 7/10\n",
      "26382/26382 [==============================] - 3s 105us/step - loss: 0.0099 - acc: 0.9968 - val_loss: 0.0384 - val_acc: 0.9905\n",
      "Epoch 8/10\n",
      "26382/26382 [==============================] - 3s 105us/step - loss: 0.0084 - acc: 0.9973 - val_loss: 0.0404 - val_acc: 0.9900\n",
      "Epoch 9/10\n",
      "26382/26382 [==============================] - 3s 105us/step - loss: 0.0070 - acc: 0.9977 - val_loss: 0.0439 - val_acc: 0.9902\n",
      "Epoch 10/10\n",
      "26382/26382 [==============================] - 3s 104us/step - loss: 0.0059 - acc: 0.9981 - val_loss: 0.0466 - val_acc: 0.9900\n",
      "Train on 26382 samples, validate on 8795 samples\n",
      "Model: \"sequential_12\"\n",
      "_________________________________________________________________\n",
      "Layer (type)                 Output Shape              Param #   \n",
      "=================================================================\n",
      "embedding_12 (Embedding)     (None, 140, 512)          10362368  \n",
      "_________________________________________________________________\n",
      "conv1d_9 (Conv1D)            (None, 140, 128)          327808    \n",
      "_________________________________________________________________\n",
      "conv1d_10 (Conv1D)           (None, 140, 128)          82048     \n",
      "_________________________________________________________________\n",
      "dense_12 (Dense)             (None, 140, 18)           2322      \n",
      "=================================================================\n",
      "Total params: 10,774,546\n",
      "Trainable params: 10,774,546\n",
      "Non-trainable params: 0\n",
      "_________________________________________________________________\n",
      "Train on 26382 samples, validate on 8795 samples\n",
      "Epoch 1/10\n",
      "26382/26382 [==============================] - 6s 231us/step - loss: 0.1637 - acc: 0.9706 - val_loss: 0.0391 - val_acc: 0.9892\n",
      "Epoch 2/10\n",
      "26382/26382 [==============================] - 4s 137us/step - loss: 0.0294 - acc: 0.9914 - val_loss: 0.0314 - val_acc: 0.9908\n",
      "Epoch 3/10\n",
      "26382/26382 [==============================] - 4s 138us/step - loss: 0.0205 - acc: 0.9937 - val_loss: 0.0311 - val_acc: 0.9910\n",
      "Epoch 4/10\n",
      "26382/26382 [==============================] - 4s 137us/step - loss: 0.0161 - acc: 0.9949 - val_loss: 0.0328 - val_acc: 0.9906\n",
      "Epoch 5/10\n",
      "26382/26382 [==============================] - 4s 137us/step - loss: 0.0128 - acc: 0.9959 - val_loss: 0.0342 - val_acc: 0.9906\n",
      "Epoch 6/10\n",
      "26382/26382 [==============================] - 4s 137us/step - loss: 0.0103 - acc: 0.9967 - val_loss: 0.0361 - val_acc: 0.9906\n",
      "Epoch 7/10\n",
      "26382/26382 [==============================] - 4s 137us/step - loss: 0.0083 - acc: 0.9973 - val_loss: 0.0391 - val_acc: 0.9905\n",
      "Epoch 8/10\n",
      "26382/26382 [==============================] - 4s 137us/step - loss: 0.0068 - acc: 0.9978 - val_loss: 0.0430 - val_acc: 0.9905\n",
      "Epoch 9/10\n",
      "26382/26382 [==============================] - 4s 137us/step - loss: 0.0056 - acc: 0.9982 - val_loss: 0.0450 - val_acc: 0.9901\n",
      "Epoch 10/10\n",
      "26382/26382 [==============================] - 4s 137us/step - loss: 0.0047 - acc: 0.9984 - val_loss: 0.0485 - val_acc: 0.9901\n",
      "Train on 26382 samples, validate on 8795 samples\n",
      "Model: \"sequential_13\"\n",
      "_________________________________________________________________\n",
      "Layer (type)                 Output Shape              Param #   \n",
      "=================================================================\n",
      "embedding_13 (Embedding)     (None, 140, 1024)         20724736  \n",
      "_________________________________________________________________\n",
      "conv1d_11 (Conv1D)           (None, 140, 128)          655488    \n",
      "_________________________________________________________________\n",
      "conv1d_12 (Conv1D)           (None, 140, 128)          82048     \n",
      "_________________________________________________________________\n",
      "dense_13 (Dense)             (None, 140, 18)           2322      \n",
      "=================================================================\n",
      "Total params: 21,464,594\n",
      "Trainable params: 21,464,594\n",
      "Non-trainable params: 0\n",
      "_________________________________________________________________\n",
      "Train on 26382 samples, validate on 8795 samples\n",
      "Epoch 1/10\n",
      "26382/26382 [==============================] - 8s 308us/step - loss: 0.1505 - acc: 0.9730 - val_loss: 0.0359 - val_acc: 0.9899\n",
      "Epoch 2/10\n",
      "26382/26382 [==============================] - 5s 203us/step - loss: 0.0273 - acc: 0.9919 - val_loss: 0.0313 - val_acc: 0.9909\n",
      "Epoch 3/10\n",
      "26382/26382 [==============================] - 5s 202us/step - loss: 0.0190 - acc: 0.9941 - val_loss: 0.0311 - val_acc: 0.9910\n",
      "Epoch 4/10\n",
      "26382/26382 [==============================] - 5s 202us/step - loss: 0.0146 - acc: 0.9953 - val_loss: 0.0327 - val_acc: 0.9909\n",
      "Epoch 5/10\n",
      "26382/26382 [==============================] - 5s 202us/step - loss: 0.0113 - acc: 0.9963 - val_loss: 0.0357 - val_acc: 0.9908\n",
      "Epoch 6/10\n",
      "26382/26382 [==============================] - 5s 202us/step - loss: 0.0089 - acc: 0.9971 - val_loss: 0.0376 - val_acc: 0.9904\n",
      "Epoch 7/10\n",
      "26382/26382 [==============================] - 5s 202us/step - loss: 0.0070 - acc: 0.9977 - val_loss: 0.0426 - val_acc: 0.9904\n",
      "Epoch 8/10\n",
      "26382/26382 [==============================] - 5s 202us/step - loss: 0.0055 - acc: 0.9982 - val_loss: 0.0444 - val_acc: 0.9903\n",
      "Epoch 9/10\n",
      "26382/26382 [==============================] - 5s 203us/step - loss: 0.0044 - acc: 0.9985 - val_loss: 0.0479 - val_acc: 0.9902\n",
      "Epoch 10/10\n",
      "26382/26382 [==============================] - 5s 202us/step - loss: 0.0037 - acc: 0.9988 - val_loss: 0.0519 - val_acc: 0.9902\n"
     ]
    },
    {
     "data": {
      "image/png": "[encoded data removed]",
      "text/plain": [
       "<Figure size 432x288 with 1 Axes>"
      ]
     },
     "metadata": {
      "tags": []
     },
     "output_type": "display_data"
    }
   ],
   "source": [
    "customEmbedding(6)"
   ]
  },
  {
   "cell_type": "markdown",
   "metadata": {
    "colab_type": "text",
    "id": "6ZNHM0liUcoe"
   },
   "source": [
    "#### 1.i Escribamos palabras - Datasest\n",
    "\n",
    "Ahora buscaremos otra aplicación a las redes recurrentes, predecir el caracter siguiente. Si logramos entrenar una red que sea buena en esta tarea, podremos escribir texto automáticamente, pues podemos, a partir de una frase, predecir el caracter siguiente, y luego introducir la nueva frase sin el primer caracter en la red nuevamente, e iterando así escribir automáticamente. Si bien las redes recurrentes son adecuadas para esta tarea, no pretendemos entrenar un _Shakespeare_ en esta tarea, sin embargo es interesante investigar qué tan verosimil o no puede lograr ser el texto generado. \n",
    "\n",
    "Para esto, primero crearmos nuestro nuevo dataset. Para esta tarea preferiremos unir todas las frases en un solo gran corpus y luego crear nuevas secuencias semi redundantes. Esto nos evita primero el problema de tener que hacer padding, pues crearemos todas las entradas iguales, pero también nos permite aprovechar mejormente el dataset, de cierta forma aumentando el número de datos. El _target_ en este caso será solo el caracter siguiente correspondiente a cada secuencia. \n",
    "\n",
    "En este item debe cargar el dataset, completando el código propuesto abajo. "
   ]
  },
  {
   "cell_type": "code",
   "execution_count": 0,
   "metadata": {
    "colab": {},
    "colab_type": "code",
    "id": "09TxuGb5Ucof"
   },
   "outputs": [],
   "source": [
    "df_w = pd.read_csv(os.path.join(\"data\",\"entity-annotated-corpus\",\"ner.csv\"), engine='python', error_bad_lines=False)\n",
    "\n",
    "df_w = df_w.dropna()[['word']]\n",
    "\n",
    "corpus = ' '.join(list(df_w.word.values)).lower()\n",
    "\n",
    "sentence_length = 40\n",
    "steps = 5\n",
    "\n",
    "sentences = []\n",
    "next_char = []\n",
    "for i in range(0,len(corpus) - sentence_length - 1 , steps):\n",
    "    sentences.append( # . . . )\n",
    "    next_char.append( # . . . )\n",
    "\n",
    "chars_to_code = {char:code for code, char in enumerate(set(corpus))}\n",
    "code_to_chars = {code:char for char,code in chars_to_code.items()}\n",
    "\n",
    "x = pd.np.array([[chars_to_code[char] for char in sentence] for sentence in sentences])\n",
    "# . . .\n",
    "y = to_categorical(y)"
   ]
  },
  {
   "cell_type": "markdown",
   "metadata": {
    "colab_type": "text",
    "id": "kIOuoDybUcoi"
   },
   "source": [
    "#### 1.j Escribamos palabras - Red\n",
    "\n",
    "Entrene ahora una red con estos datos utilizando GRU. El resto de la estructura queda a su elección. Evalue el desempeño de su red evaluando qué tan bien genera texto, puede utilizar las funciones propuestas como `callback` para ver como progresa su red. Pruebe a lo menos 2 estructuras distintas. \n",
    "\n",
    "Una vez esté satisfecho de su red, hagala escribir algunos textos a partir de textos semilla elegidos por usted. Describa sus observaciones. ¿Qué cree ocurriría si entrenamos la red con otro dataset?"
   ]
  },
  {
   "cell_type": "code",
   "execution_count": 0,
   "metadata": {
    "colab": {},
    "colab_type": "code",
    "id": "6qcqCMEfUcoj"
   },
   "outputs": [],
   "source": [
    "def predict_char(model, sentence):\n",
    "    x = [chars_to_code[char] for char in sentence]\n",
    "    x = pad_sequences([x], maxlen=sentence_length, padding='pre', value=0)\n",
    "    probas = model.predict(x)[0]\n",
    "    next_index = np.random.choice(len(chars_to_code), p=probas)\n",
    "    return code_to_chars[next_index]\n",
    "\n",
    "def on_epoch_end(epoch, logs):\n",
    "    print(f'\\n Generating random text for epoch: {epoch}')\n",
    "    start_index = random.randint(0,x.shape[0]-1)\n",
    "    sentence = ''.join([code_to_chars[code] for code in x[start_index]])\n",
    "    print('\\n Generating with seed: ' + sentence)\n",
    "    sys.stdout.write(sentence)\n",
    "    for i in range(400):\n",
    "        next_char = predict_char(char, sentence)\n",
    "        sentence = sentence[1:] + next_char #for next character\n",
    "        sys.stdout.write(next_char)\n",
    "        sys.stdout.flush()\n",
    "    return\n",
    "\n",
    "print_text_callback = LambdaCallback(on_epoch_end=on_epoch_end)\n",
    "\n",
    "# . . . \n",
    "\n",
    "character.fit(x,y, epochs=35, callbacks=[print_text_callback])"
   ]
  },
  {
   "cell_type": "markdown",
   "metadata": {
    "colab_type": "text",
    "id": "1gtrgBG1Ucom"
   },
   "source": [
    "# 2 - Autoencoders en Fashion MNIST\n",
    "\n",
    "Si bien las redes neuronales han tenido desempeños sorprendentes en muchas áreas donde antes solo un ser humano podía alcanzar buenos desempeños, uno de sus desventajas suele serla alta dimensionalidad de los espacios de hipótesis. En la práctica, esto implica que para aprender una tarea predictiva con alguna capacidad de generalización, se requieren grandes bases de datos etiquetadas. Esto implica un problema, considerando que al momento de buscar la base de datos, no se tiene a priori una manera de automatizar esta etiquetación. Esta necesidad de gran cantidad de trabajo de clasificación realizado por humanos, ha engendrado soluciones ingeniosas, como la aproximación de _Facebook_ hace algunos años de pedirle a los mismos usuarios que etiquetaran a las personas en sus fotos, o la solución de _Amazon_, _Mechanical Turk_, donde cualquier usuario puede realizar tareas repetitivas de clasificación a cambio de dinero real, o por otro lado cualquier persona puede comprar la etiquetación de una base de datos la cual realizan varias personas en cualquier parte del mundo. \n",
    "\n",
    "Otra aproximación, quizás aún más ingeniosa, para solucionar el problema de las etiquetas, es utilizar las bases de datos sin preocuparse de sus etiquetas. Esta aproximación de aprendizaje no supervisado tiene su representante en redes neuronales en los _Autoencoders_, redes que utilizan el mismo input como target y buscan representaciones de menor dimensionalidad al interior de la red. Estas redes han permitido el uso de cantidades masivas de datos para aprender de ellos sin necesidad de tener etiquetas. Durante esta pregunta veremos algunos de los aspectos y posibilidades básicas que nos presentan los _autoencoders_, utilizando una base de datos de imagenes de articulos de vestimenta, el Fashion MNIST. "
   ]
  },
  {
   "cell_type": "markdown",
   "metadata": {
    "colab_type": "text",
    "id": "vlnEwUxeUcon"
   },
   "source": [
    "### 2.a Carga de datos y visualizaciones\n",
    "Cargue los datos. Puede user las funciones de `keras.datasets` como muestra el código o descargarlo manualmente. \n",
    "\n",
    "Luego, visualice algunas imagenes de cada una de las catégorias junto con sus nombres (investigue un poco para encontrar la codificación de `y`). Note que las imagenes deben representarse en blanco y negro, puede usar `cmap='Greys'`. ¿Qué pares de categorías cree podrían ocasionar problemas al momento de clasificación? ¿Qué tan bien cree que se desempeñaría un humano en esta tarea?"
   ]
  },
  {
   "cell_type": "code",
   "execution_count": 0,
   "metadata": {
    "colab": {},
    "colab_type": "code",
    "id": "6ITS6QlZUcoo"
   },
   "outputs": [],
   "source": [
    "from keras.datasets import fashion_mnist\n",
    "(x_train,y_train),(x_val,y_val) = fashion_mnist.load_data()\n",
    "\n",
    "import matplotlib.pyplot as plt\n",
    "\n",
    "plt.imshow(# . . .)"
   ]
  },
  {
   "cell_type": "markdown",
   "metadata": {
    "colab_type": "text",
    "id": "trEOE3oDUcos"
   },
   "source": [
    "### 2.b Posibilidades de preprocesamiento y pequeños análisis. \n",
    "\n",
    "¿Cuáles son los rangos de valores de `x`? ¿Por qué?\n",
    "\n",
    "¿Las distintas clases de ejemplos están balanceadas?\n",
    "\n",
    "¿Considera necesario realizar un preprocesamiento? Escale los valores de `x` al intervalo $[0,1]$, y guarde el conjunto de datos original de igual manera que el escalado. ¿Se pierde información al realizar este preprocesamiento? \n",
    "\n",
    "Las primeras redes que entrenaremos utilizarán arquitecturas _fully connected_, por lo cual también es necesario transformar nuestras imagenes 2-dimensionales a vectores, como muestra el ejemplo de código."
   ]
  },
  {
   "cell_type": "code",
   "execution_count": 0,
   "metadata": {
    "colab": {},
    "colab_type": "code",
    "id": "1oXV2oRkUcot"
   },
   "outputs": [],
   "source": [
    "# . . . \n",
    "x_train_vector = x_train.reshape(-1,28*28)"
   ]
  },
  {
   "cell_type": "markdown",
   "metadata": {
    "colab_type": "text",
    "id": "MeXwnzvjUcox"
   },
   "source": [
    "### 2.c Primer Autoencoder\n",
    "\n",
    "Entrenaremos un primer autoencoder de una capa oculta, usando arquitectura densa. Para esto, utilize como guía los códigos presentados abajo. \n",
    "\n",
    "Utilice en primera instancia su conjunto de datos escalados. Considerando el intervalo de los datos escalados, ¿Qué función de activación correspondería a la capa de salida de la red? ¿Debería afectar la elección de la función de activación de la capa oculta? \n",
    "\n",
    "Entrene esta primera red utilizando pérdida _binary cross entropy_. Compare luego las imagenes originales con las imagenes reconstruidas, como muestra el código. ¿Qué le parece el desempeño de la red, logra aprender la tarea en su opinion? Grafique como varia la pérdida a lo largo del entrenamiento y visualice algunas imagenes reconstruidas. "
   ]
  },
  {
   "cell_type": "code",
   "execution_count": 0,
   "metadata": {
    "colab": {},
    "colab_type": "code",
    "id": "zci6J8pRUcoy"
   },
   "outputs": [],
   "source": [
    "from keras.layers import Dense\n",
    "from keras.models import Sequential\n",
    "\n",
    "autoencoder = Sequential()\n",
    "\n",
    "autoencoder.add(Dense(32,activation='relu')) # encoder\n",
    " \n",
    "autoencoder.add(Dense(28*28,activation= # . . . )) #decoder\n",
    "\n",
    "autoencoder.compile(# . . .\n",
    "    \n",
    "autoencoder.fit(x_tr,x_tr,epochs=50,validation_data=(x_val,x_val) # . . .\n",
    "    \n",
    "                \n",
    "plt.imshow(autoencoder.predict(x_val[i]).reshape(28,28),cmap='Greys')"
   ]
  },
  {
   "cell_type": "markdown",
   "metadata": {
    "colab_type": "text",
    "id": "dbDWiAkQUco0"
   },
   "source": [
    "### 2.d Sin escalar\n",
    "Entrene nuevamente la misma estructura de red pero esta vez utilizando los datos originales (sin escalar). ¿Qué función de activación debe utilizar para la capa de salida? ¿Le parece sea una buena aproximación comparando con las caracteristicas de la red anterior? \n",
    "\n",
    "Compare los desempeños viendo las imagenes reconstruidas. \n",
    "\n",
    "De aquí en adelante prefiera la versión de los datos escaladas para consistencia. "
   ]
  },
  {
   "cell_type": "code",
   "execution_count": 0,
   "metadata": {
    "colab": {},
    "colab_type": "code",
    "id": "scK-wEelUco1"
   },
   "outputs": [],
   "source": [
    "# do it yourself"
   ]
  },
  {
   "cell_type": "markdown",
   "metadata": {
    "colab_type": "text",
    "id": "4Wu-bIcqUco4"
   },
   "source": [
    "### 2.e Dimensionalidad\n",
    "\n",
    "Una forma de interpretar lo que realiza el autoencoder, es considerar que si el autoencoder hace bien su tarea, la información necesaria para reconstruir la imagen original se encuentra en la capa oculta, la cual tiene menor dimensionalidad que la imagen original. Uno puede considerar por lo tanto que la capa de _encoding_ esta comprimiendo la información contenida en la imagen, mientras la capa de _decoding_ hace el proceso contrario, descomprimiendola a su estado original lo mejor posible. \n",
    "\n",
    "Explore como cambia el desempeño de la red en cuestión frente a cambios en la dimensión de la capa oculta. Pruebe a lo menos 5 niveles de compresión distintos, incluyendo uno donde la capa oculta tenga $50\\%$ de ratio de compresión y otro donde la capa oculta tenga tan solo 2 neuronas. ¿Qué observa?"
   ]
  },
  {
   "cell_type": "code",
   "execution_count": 0,
   "metadata": {
    "colab": {},
    "colab_type": "code",
    "id": "Ubk0K285Uco5"
   },
   "outputs": [],
   "source": [
    "# do it yourself"
   ]
  },
  {
   "cell_type": "markdown",
   "metadata": {
    "colab_type": "text",
    "id": "A_qX1lXDUco8"
   },
   "source": [
    "### 2.f Deep autoencoder\n",
    "\n",
    "Pruebe ahora con una arquitectura ligeramente más profunda. Para esto utilice a lo menos 3 capas de encoding, es decir, 3 capas que progresivamente reduzcan la dimensionalidad de la representación hasta una dimensión objetivo inicialmente igual a la mejor obtenida en la pregunta anterior. Utilice igualmente a lo menos 2 capas de decoding, que se encarguen de aumentar la dimensionaliad de la representación hasta alcanzar la dimensión de la imagen original. Note que las primeras capas no necesariamente deben tener menor dimensionalidad que la imagen, la dimensión relevante es aquella de la última capa de encoding. \n",
    "\n",
    "¿Cómo aumenta el número de parámetros entrenables? ¿Aumenta el tamaño de la representación \"comprimida\"?\n",
    "\n",
    "Una vez esté satisfecho con su arquitectura profunda, varíe la dimensión objetivo de la última capa de encoding, realizando una exploración similar a la pregunta anterior. \n",
    "\n",
    "¿Puede obtener una representación de menor dimensionalidad que la encontrada en el item anterior sin perder calidad en las imagenes obtenidas?\n",
    "\n",
    "Utilice gráficos y muestre algunas imágenes reconstruidas para complementar sus comentarios. \n"
   ]
  },
  {
   "cell_type": "code",
   "execution_count": 0,
   "metadata": {
    "colab": {},
    "colab_type": "code",
    "id": "3DEvuyZuUco9"
   },
   "outputs": [],
   "source": [
    "# do it yourself"
   ]
  },
  {
   "cell_type": "code",
   "execution_count": 0,
   "metadata": {
    "colab": {},
    "colab_type": "code",
    "id": "fFrRThT_UcpA"
   },
   "outputs": [],
   "source": []
  },
  {
   "cell_type": "markdown",
   "metadata": {
    "colab_type": "text",
    "id": "Re3OmZPDUcpC"
   },
   "source": [
    "### 2.g Convolutional Autoencoder\n",
    "\n",
    "Como hemos hasta ahora  utilizado una arquitectura fully connected, nuestra red no toma en cuenta la infomación local contenida en la proximidad de un pixel en la imagen. Como vimos en la tarea anterior, esta información podría ser crucial al momento de procesar imágenes. \n",
    "\n",
    "En este item deberá implementar un autoencoder convolucional. La sección de encoding de la red se creará de igual manera que las redes convolucionales creadas en la tarea 1. Puede utilizar capas de Max Pooling o Strides mayores a 1 para reducir la dimensionalidad en esta etapa. Tenga en mente como varía la dimensión de la imagen a lo largo del proceso. \n",
    "\n",
    "Para luego recuperar la dimensionalidad de la imagen original debemos utilizar una capa llamada usualmente como \"Deconvolution Layer\". Esta capa realiza el proceso inverso que aquel realizado por una capa convolucional, por lo cual utilizando por ejemplo `stride=2` puede duplicar la dimensionalidad de su input. \n",
    "\n",
    "Puede realizar la profundidad que desee, pero tome en cuenta que una mayor profundidad de la sección convolucional permite a la red reducir dimensionalidad más lentamente, sin \"forzar\" la compresión de las características. Note que para reconstruir la dimensión original puede usar `output_padding` para corregir problemas de paridad, entre otros. \n",
    "\n",
    "Puede igualmente optar por usar algun número de capas densas en el cuello de botella del autoencoder, usando al comienzo de esta una capa `Flatten` y al final de ella una capa `Reshape` (`keras.layers.Reshape(target_shape)`) para recuperar la bidimensionalidad.\n",
    "\n",
    "¡No olvide que para entrenar esta red debe usar la versión bidimensional de los datos escalados!\n",
    "\n",
    "Visualice que tan bien se comporta la convolución, en terminos de la función de pérdida y visualizando las imagenes reconstruidas. Compárese con la red densa. "
   ]
  },
  {
   "cell_type": "code",
   "execution_count": 0,
   "metadata": {
    "colab": {},
    "colab_type": "code",
    "id": "u7hX-Au0UcpD"
   },
   "outputs": [],
   "source": [
    "autoencoder_conv.add(Deconvolution2D(64, 2, strides=2,activation='relu', padding='same'))\n",
    "autoencoder_conv.add(Deconvolution2D(1, 2, strides=2,activation='sigmoid', padding='same'))\n",
    "\n",
    "# . . ."
   ]
  },
  {
   "cell_type": "markdown",
   "metadata": {
    "colab_type": "text",
    "id": "4gv7NlnBUcpF"
   },
   "source": [
    "### 2.h Transfer Learning y reducción de dimensionalidad\n",
    "\n",
    "Como mencionamos inicialmente, una de las utilidades de los autoencoders corresponde a la no necesidad de tener etiquetas. En ese caso, podemos utilizar los autoencoders para extraer representaciones significativas de los ejemplos no etiquetados, y luego utilizar ese conocimiento para mejorar el desempeño de nuestros algoritmos. \n",
    "\n",
    "Para simular esta tarea supongamos que tenemos la misma base de datos original, sin embargo solo poseemos un pequeño porcentaje de las etiquetas del conjunto de entrenamiento, menos del $5\\%$ (considere que si tuviera que etiquetar manualmente incluso solo un $5\\%$ correspondería a 3000 imagenes por etiquetar!).\n",
    "\n",
    "Seleccione un subconjunto de datos correspondiente a menos del $5\\%$ de los datos y entrene un modelo predictivo para el problema de clasificación. Si bien la aproximación convolucional suele ser la mejor para este tipo de bases de datos, utilice arquitectura densa. \n",
    "\n",
    "Luego, utilizando el mejor autoencoder entrenado hasta ahora (o entrene uno nuevo si prefiere), utilize lo aprendido por la red sobre el conjunto de datos sin etiquetas para intentar aprender la relación suyaciente. Para esto, lo más fácil es primero preprocesar el conjunto `x` de entrenamiento, utilizando la sección de encoding de su autoencoder. Puede crear un nuevo modelo secuencial solo con las capas de encoding como se muestra en el código y luego usar el método `.predict` del modelo. Luego sobre estos datos preprocesados entrene un nuevo modelo predictivo fully connected. \n",
    "\n",
    "La otra opción sería crear un modelo cuya primeras capas correspondan a la sección de encoding del autoencoder y las últimas capas a su modelo denso, pero fijando el atributo `trainable` de las primeras capas como `False`, sin embargo esto resulta poco eficiente. \n",
    "\n",
    "\n",
    "Comente sus resultados basándose en métricas adecuadas. Comente igualmente sobre la dimensionalidad de las representaciones utilizadas por cada uno de los dos modelos entrenados en esta sección y el número de parametros _entrenables_ y totales del modelo (considerando el encoding). \n",
    "\n",
    "Considerando la dimensionalidad obtenida por el encoder, compare la calidad de la representación obtenida por el autoencoder frente a otras aproximaciones de reducción de dimensionalidad, como por ejemplo Principal Component Analysis (PCA). Para esto, transforme los datos de entrenamiento utilizando PCA con un número de componentes principales igual a la dimensión de la representación engendrada por su encoder. Compare el desempeño de un modelo determinado utilizando ambas representaciones. \n",
    "\n",
    "Comente sus resultados."
   ]
  },
  {
   "cell_type": "code",
   "execution_count": 0,
   "metadata": {
    "colab": {},
    "colab_type": "code",
    "id": "wGZ3gOtnUcpG"
   },
   "outputs": [],
   "source": [
    "encoder = Sequential()\n",
    "\n",
    "encoder.add(best_autoencoder.get_layer(index=0))\n",
    "\n",
    "# . . . add as many as you need\n",
    "\n",
    "encoder.predict( # . . .\n",
    "\n",
    "\n",
    "    \n",
    "    \n",
    "from sklearn.decomposition import PCA\n",
    "\n",
    "pca = PCA(n_components=d)\n",
    "\n",
    "# . . . fit and transform\n"
   ]
  },
  {
   "cell_type": "markdown",
   "metadata": {
    "colab_type": "text",
    "id": "sqVHsBUTUcpI"
   },
   "source": [
    "### 2.i Denoising Autoencoder \n",
    "\n",
    "Otra utilidad que se le ha dado a los autoencoders es la posibilidad de utilizarlos para separar ruido de información. Para entrenar tal tipo de modelo, la idea es simple: utilizar como datos de entrada imagenes a las cuales se les ha agregado artificialmente ruido y como objetivo la imagen original sin ruido. \n",
    "\n",
    "Entrene alguna arquitectura de autoencoder que le parezca apropiada para la tarea utilizando algún tipo de ruido aleatorio. Puede utilizar cambios en valores de pixeles aleatoriamente, o por ejemplo \"promediar\" ponderadamente la imagen original con alguna otra imagen del dataset ligeramente modificada. Puede utilizar las librerías `random` de `numpy` o utilizar por ejemplo el `ImageDataGenerator` que utilizamos en la tarea anterior para generar imágenes similares con las cuales \"sumar\" ruido. Sea creativo, puede crear el ruido que desee. Idealmente, considerando la naturaleza del problema que se buscaría modelar (eliminar ruido real de mediciones), la naturaleza del ruido agregado debe ser estocástica y no puede \"repetirse\" el mismo patron de ruido a lo largo de todo el entrenamiendo, es decir, si agregó un ruido estocástico a cada imagen del conjunto, este proceso debe iterarse igualmente luego de cada época de entrenamiento, para evitar que la red aprenda un patrón especifico de ruido, si no aprenda realmente a diferenciar ruido sin información de la información suyaciente a la imagen. \n",
    "\n",
    "Una vez esté satisfecho con la red, muestre ejemplos de la imagen con ruido, la imagen original y la imagen reconstruida. Pruebe igualmente entregarle a la red nuevas."
   ]
  },
  {
   "cell_type": "code",
   "execution_count": 0,
   "metadata": {
    "colab": {},
    "colab_type": "code",
    "id": "ADOwFwH8UcpJ"
   },
   "outputs": [],
   "source": [
    "from numpy.random import # . . .\n",
    "\n",
    "# . . .\n",
    "\n",
    "from keras.preprocessing.image import ImageDataGenerator"
   ]
  },
  {
   "cell_type": "markdown",
   "metadata": {
    "colab_type": "text",
    "id": "PIlMRCsmUcpM"
   },
   "source": [
    "### 2.j Generación de imágenes\n",
    "\n",
    "Otra utilización posible que podría darse, quizás, a los autoencoders, es utilizar los decoders para generar nuevas imagenes. La idea de esto sería considerar que la habilidad que tiene la sección decoder de generar una imagen a partir de una representación de menor dimensionalidad puede aprovecharse. \n",
    "\n",
    "Para esto, extraiga la sección de encoding y la sección de decoding de alguno de los autoencoders entrenados que prefiera. Obtenga los valores de la representación interna de las imagenes usando el encoder para calcularlos. Luego agréguele a esta representación algún ruido de su preferencia, y calcule la imagen resultante utilizando el decoder. ¿Qué observa? Muestre las imagenes obtenidas junto con otras imagenes de la misma categoría que la imagen que utilizó originalmente. Preube con distintos valores de ruido.\n",
    "\n",
    "Pruebe también, por ejemplo, calcular la imagen obtenida al promediar las representaciones comprimidas de varias (o todas) las imagenes de una clase. Utilice el encoder para generar imagenes a partir de otros valores que se les ocurran y especule sobre el por qué la imagen obtenida se asimila o no a las imagenes del dataset. "
   ]
  },
  {
   "cell_type": "code",
   "execution_count": 0,
   "metadata": {
    "colab": {},
    "colab_type": "code",
    "id": "WKM5QCbnUcpN"
   },
   "outputs": [],
   "source": [
    "# do it yourself"
   ]
  },
  {
   "cell_type": "markdown",
   "metadata": {
    "colab_type": "text",
    "id": "4glRJBpdUcpR"
   },
   "source": [
    "# 3 - GAN para MNIST \n",
    "\n",
    "Probablemente uno de los desarrollos recientes del area de las redes neuronales más interesantes son las GAN, o _Generative Adversarial Networks_. Estas han deslumbrado al mundo los últimos años generando resultados inesperados, como los llamados _deep fakes_ (https://www.youtube.com/watch?v=dh-QM54RuAs), caras no no existentes generadas artificialmente, entre muchas otras aplicaciones de las cuales las más creativas y divertidas son ampliamente divulgadas. Estos resultados nos dan cuenta que estas redes cuando son implementadas correctamente tienen la habilidad de realizar tareas muy especificas logrando desempeños que en logran incluso en algunos casos engañar a observadores humanos.\n",
    "\n",
    "<img src=\"https://pathmind.com/images/wiki/GANs.png\" background=\"white\">\n",
    "\n",
    "Dependiendo del problema que uno quiera resolver las GAN no requieren datos etiquetados. Esto lo logran gracias a su estructura adversarial, es decir, donde simultaneamente se entrenan dos redes, una especializada en generar datos y otra red especializada en discriminar datos verdaderos de datos falsos, en su configuración más simple al menos. En esta parte de la tarea deberan generar una red de este tipo que genere dígitos que aparenten ser hechos a mano. Para esto utilizaremos las imagenes de entrenamiento del dataset MNIST que ya conocen.\n",
    "\n",
    "A diferencia de otras preguntas, en esta deberán tener mayor iniciativa propia y solamente se presentará una estructura básica la cual ustedes deberán completar y ajustar para que el entrenamiento se realice bien. Además deberán:\n",
    "\n",
    "* Graficar alguna medida del desempeño tanto del generador como del disciminador (por ejemplo f1-score, precision and recall o accuracy) a lo largo del entrenamiento. ¿Variaciones en esta medidas representan mejoras en nuestra red?\n",
    "* Visualizar imagenes generadas por el generador a lo largo del entrenamiento y ver su evolución (idealmente graficar epocas representativas de etapas del entrenamiento)\n",
    "* Explicar el comportamiento de la evolución de ambos desempeños y por qué no necesariamente esos valores representan que la red alcance su cometido\n",
    "* Describir, teórica o práctiamente, que ocurriría si la red generadora no pudiera por algún motivo (divergencia en entrenamiento, excesivo _underfitting_, etc) generar imágenes razonables.\n",
    "* Describir la contraparte de lo que ocurriría si la red discriminadora no pudiera aprender a diferenciar imagenes reales de ruido aleatorio.\n",
    "* Una vez teniendo una red entrenada a completitud, muestre varias imagenes generadas. ¿Se logra obtener imagenes convincentes?\n",
    "* Igualmente con la red entrenada, guarde el ruido aleatorio que origina dos números reconocibles distintos. ¿Qué ocurre si vemos las imagenes generadas por el generador al entregarle puntos distribuidos linealmente entre los dos puntos?\n",
    "* Proponga o investigue como realizaría las siguientes tareas:\n",
    "    * A partir de una base de datos de imagenes RGB, entrenar una GAN que genere imágenes a color convincentes a partir de imagenes en blanco y negro, es decir que deduzca el color a partir de imagenes en blanco y negro.\n",
    "    * A partir de una base de datos de cuadros de paisajes reales y las fotos correspondientes al cuadro, entrenar una GAN que permita transformar fotografias a cuadros y viceversa (puede utilizar más de 2 redes)\n",
    "    * Proponga un problema que les parezca interesante y una estructura de GAN que le permitiría resolverlo\n",
    "    \n",
    "Esta pregunta si bien es libre, debe ser redactada de manera ordenada. La recomendación es separar tanto el código como las respuestas en varios bloques, y enunciar nuevamente las preguntas o redactar sus respuestas de manera que no quede duda a qué pregunta en particular estan respondiendo. El código de abajo está incompleto y es solo una guía (de todas formas la estructura y entrenamiento de la red \"funciona\", aunque se recomienda prueben pequeños cambios), puede crear funciones, cambiar nombres e incluso las redes mismas como estimen conveniente, la intención es que se aproximen a la exploración que deberán hacer si alguna vez les toca resolver un problema real con ANN y luego reportar sus resultados. \n",
    "\n",
    "<!-- glhf -->"
   ]
  },
  {
   "cell_type": "code",
   "execution_count": 0,
   "metadata": {
    "colab": {},
    "colab_type": "code",
    "id": "N-WRKn2rUcpR"
   },
   "outputs": [],
   "source": [
    "from keras.datasets import mnist\n",
    "\n",
    "(x,_),(_,_) = mnist.load_data()\n",
    "x = x.reshape((-1,28,28,1)).astype(np.float32)\n",
    "x = x/255\n",
    "\n",
    "\n",
    "generator_net = Sequential()\n",
    "\n",
    "generator_net.add(Dense(7*7*256, input_dim=100))\n",
    "generator_net.add(BatchNormalization(momentum=0.9))\n",
    "generator_net.add(LeakyReLU())\n",
    "generator_net.add(Reshape((7,7,256)))\n",
    "generator_net.add(Dropout(dropout_prob))\n",
    "\n",
    "generator_net.add(UpSampling2D())\n",
    "generator_net.add(Conv2D(128, 5, padding='same'))\n",
    "generator_net.add(BatchNormalization(momentum=0.9))\n",
    "generator_net.add(LeakyReLU())\n",
    "\n",
    "generator_net.add(UpSampling2D())\n",
    "generator_net.add(Conv2D(64, 5, padding='same'))\n",
    "generator_net.add(BatchNormalization(momentum=0.9))\n",
    "generator_net.add(LeakyReLU())\n",
    "\n",
    "generator_net.add(Conv2D(32, 5, padding='same'))\n",
    "generator_net.add(BatchNormalization(momentum=0.9))\n",
    "generator_net.add(LeakyReLU())\n",
    "\n",
    "generator_net.add(Conv2D(1, 5, padding='same'))\n",
    "generator_net.add(Activation('sigmoid'))\n",
    "\n",
    "\n",
    "discriminator_net = Sequential()\n",
    "\n",
    "discriminator_net.add(Conv2D(64, 5, strides=2, input_shape=input_shape, padding='same'))\n",
    "discriminator_net.add(LeakyReLU())\n",
    "\n",
    "discriminator_net.add(Conv2D(128, 5, strides=2, padding='same'))\n",
    "discriminator_net.add(LeakyReLU())\n",
    "discriminator_net.add(Dropout(dropout_prob))\n",
    "\n",
    "discriminator_net.add(Conv2D(256, 5, strides=2, padding='same'))\n",
    "discriminator_net.add(LeakyReLU())\n",
    "discriminator_net.add(Dropout(dropout_prob))\n",
    "\n",
    "discriminator_net.add(Conv2D(512, 5, strides=1, padding='same'))\n",
    "discriminator_net.add(LeakyReLU())\n",
    "discriminator_net.add(Dropout(dropout_prob))\n",
    "\n",
    "discriminator_net.add(Flatten())\n",
    "discriminator_net.add(Dense(1))\n",
    "discriminator_net.add(Activation('sigmoid'))\n",
    "\n",
    "optimizer_discriminator = RMSprop(lr=0.0008, clipvalue=1.0, decay=1e-10)\n",
    "discriminator = Sequential()\n",
    "discriminator.add(discriminator_net)\n",
    "discriminator.compile(loss='binary_crossentropy', optimizer = optimizer_discriminator, metrics=['accuracy'])\n",
    "\n",
    "optimizer_gan = Adam(lr=0.0004, clipvalue=1.0, decay=1e-10)\n",
    "gan = Sequential()\n",
    "gan.add(generator_net)\n",
    "for layer in discriminator_net.layers:\n",
    "    layer.trainable = False\n",
    "gan.add(discriminator_net)\n",
    "gan.compile(loss='binary_crossentropy', optimizer=optimizer_gan, metrics=['accuracy'])\n",
    "\n",
    "\n",
    "for i in range(total_epochs):\n",
    "    images_train = # select batch_size random images from x\n",
    "    \n",
    "    noise = # generate (batch_size,latent_dim) sized noise\n",
    "    images_fake = generator_net.predict(noise)\n",
    "\n",
    "    x_train = np.concatenate((images_train, images_fake))\n",
    "\n",
    "    response_dis = discriminator.train_on_batch(x_train, y)\n",
    "    response_gen = gan.train_on_batch(noise,y_gen)\n",
    "\n",
    "    if i%save_results_every==0:\n",
    "        # save accuracies and losses for plotting\n",
    "        \n",
    "        if i%plot_every==0:\n",
    "            # plot random generated images and losses and accuracies"
   ]
  }
 ],
 "metadata": {
  "accelerator": "GPU",
  "colab": {
   "machine_shape": "hm",
   "name": "Enunciado Tarea 2.ipynb",
   "provenance": []
  },
  "kernelspec": {
   "display_name": "Python 3",
   "language": "python",
   "name": "python3"
  },
  "language_info": {
   "codemirror_mode": {
    "name": "ipython",
    "version": 3
   },
   "file_extension": ".py",
   "mimetype": "text/x-python",
   "name": "python",
   "nbconvert_exporter": "python",
   "pygments_lexer": "ipython3",
   "version": "3.7.3"
  }
 },
 "nbformat": 4,
 "nbformat_minor": 1
}
