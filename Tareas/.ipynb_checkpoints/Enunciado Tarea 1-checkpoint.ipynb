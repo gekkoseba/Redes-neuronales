{
 "cells": [
  {
   "cell_type": "markdown",
   "metadata": {},
   "source": [
    "### <img src=\"http://www.exalumnos.usm.cl/wp-content/uploads/2015/06/Isotipo-Negro.gif\" title=\"Title text\" width=\"20%\" height=\"20%\" />\n",
    "\n",
    "\n",
    "<hr style=\"height:2px;border:none\"/>\n",
    "<h1 align='center'> INF-395/477 Redes Neuronales Artificiales - 2019-2 </h1>\n",
    "\n",
    "<H3 align='center'> Tarea 1  </H3>\n",
    "<hr style=\"height:2px;border:none\"/>\n",
    "\n",
    "**Temas**  \n",
    "* Manipulaciones en pandas y numpy, preprocesamientos\n",
    "* Redes Densas Feed Forward\n",
    "* Regularización y Dropout\n",
    "* Vanishing Gradient y Skip Connections\n",
    "* Learn Rate Decay\n",
    "* Optimizadores\n",
    "* Redes Convolucionales\n",
    "* Image Data Agumentation\n",
    "\n",
    "\n",
    "**Formalidades**  \n",
    "* Equipos de trabajo de 2 personas (*Ambos estudiantes deben estar preparados para presentar la tarea el día de la entrega*)\n",
    "* El entregable debe ser un _Jupyter Notebook_ incluyendo los códigos utilizados, los resultados, los gráficos realizados y comentarios. Debe seguir una estructura similar a un informe (se debe introducir los problemas a trabajar, presentar los resultados y discutirlos), se penalizará fuertemente ausencia de comentarios, explicaciones de gráficos, _etc_. Si lo prefiere puede entregar un _Jupyter Notebook_ por pregunta o uno por toda la tarea, con tal de que todos los entregables esten bien identificados y se encuentren en el mismo repositorio de _Github_.\n",
    "* Se debe preparar una presentación del trabajo realizado y sus hallazgos. El presentador será elegido aleatoriamente y deberá apoyarse en el _Jupyter Notebook_ que entregarán. \n",
    "* Formato de entrega: envı́o de link del repositorio en _Github_, al correo electrónico del ayudante (<alvaro.valderrama.13@sansano.usm.cl>), en copia al profesor (<cvalle@inf.utfsm.cl>).   Especificar el siguiente asunto: [INF-395/477-2019 Tarea 1]. Invitar como colaborador al usuario de github \"avalderr\" para poder acceder al repositorio en caso de ser privado.\n",
    "* Fecha de entrega y presentaciones: 22 de Noviembre. Hora límite de entrega: 23:59. Cualquier _commit_ luego de la hora límite no será evaluado. Se realizará descuento por atrasos en envío del mail igualmente.  \n",
    "\n",
    "<hr style=\"height:2px;border:none\"/>\n",
    "\n",
    "La tarea se divide en tres partes:\n",
    "\n",
    "* 1 - Redes Feed Forward para Airbnb\n",
    "* 2 - Reconocimiento de Imagenes en CIFAR10    \n",
    "* 3 - Reconocimiento de frutas y verduras\n",
    "\n",
    "La tarea tiene ejemplos de códigos con los cuales pueden guiarse en gran parte, sin embargo, solo son guias y pueden ser creativos al momento de resolver la tarea. Soluciones creativas o elegantes serán valoradas. También en algunas ocaciones se hacen elecciones arbitrarias, ustedes pueden realizar otras elecciones con tal de que haya una pequeña justificación de por qué su elección es mejor o equivalente.\n",
    "Recuerden intercalar su código con *comentarios* en celdas _Markdown_, con los comentarios de la pregunta y con cualquier analisis, fórmula (en $ \\LaTeX $) o explicación que les parezca relevante para justificar sus procedimientos. *No respondan las preguntas en comentarios en el código*.\n",
    "Noten que en general cuando se les pide elegir algo o proponer algo no se evaluará tanto la elección en si. En cambio la argumentación detrás de la elección será lo más ponderado.\n",
    "Si algun modelo se demora demasiado en correr en su maquina, no olvide que puede correr _Jupyter Notebooks_ en _Collab_ de Google, incluso con la opción de aceleración con GPU (particularmente útil para los modelos más grandes), esto puede ser relevante para las maquinas más lentas al momento de realizar exploraciones con _K-folds_ o las redes más grandes. Existe también la posibilidad de utilizar _Google Cloud Plataform_, donde tienen 300 dolares de prueba por un año y pueden comprar tiempo de procesamiento en maquinas aceleradas con GPU; maquinas ya configuradas para _deep leraning_ pueden encontrarse en el _Marketplace_."
   ]
  },
  {
   "cell_type": "markdown",
   "metadata": {},
   "source": [
    "_________________________"
   ]
  },
  {
   "cell_type": "markdown",
   "metadata": {},
   "source": [
    "# 1 - Redes Feed Forward para Airbnb\n",
    "\n",
    "De las redes neuronales artificiales más simples se encuentran las redes densas o _Feed Forward_, donde todas las neuronas de una capa estan conectadas a todos los inputs y envian su señal de activación a todas las neuronas de la siguiente capa. Estas redes, si bien son las más simples, suelen tener desempeños bastante buenos, y en muchas aplicaciones reales son utilizadas, ya sea por si solas o en combinación con otros modelos. Además, son las redes donde más facil se pueden observar muchos de los fenómenos que se han descubierto a lo largo de los años de desarrollo de esta area del conocimiento, tanto por ser de las redes vigentes más antiguas y por su estructura relativamente simple. En esta primera parte de la tarea exploraremos las redes densas y algunos de sus hiperparámetros más relevantes como la profundidad, el número de unidades; estudiaremos también algunos métodos de regularización y evidenciaremos el problema del _vanishing gradient_ y el _exploding gradient_, viendo también algunos optimizadores existentes. \n",
    "\n",
    "Para realizar esto, utilizaremos una base de datos de precios de inmuebles anunciados en Airbnb, la cual se encuentra disponible en _Kaggle_, en la siguiente URL: https://www.kaggle.com/stevezhenghp/airbnb-price-prediction. El dataset cuenta de casi mil registros, donde podemos encontrar el logaritmo del precio del anuncio, el tipo de propiedad, las amenidades disponibles, el número de personas que puede alojar, el número de baños, entre otros. \n",
    "Nuesta tarea durante esta pregunta será predecir el valor del logaritmo del precio del anuncio a partir de algunas de las otras variables presentes en el dataset. Para esto primero deberán preprocesar los datos para transformarlos a una forma que pueda ser utilizada por una red neuronal o eliminarlos en el caso que se estime conveniente. Una vez separados los datos de entrenamiento, validación y test, procederemos a entrenar diferentes modelos, comparandolos y evaluando sus desempeños. "
   ]
  },
  {
   "cell_type": "markdown",
   "metadata": {},
   "source": [
    "### 1.a Carga de datos y primeros analisis\n",
    "Cargue los datos en un _dataframe_ como muestra el código. Explore superficialmente los datos utilizando los metodos `.head`, `.describe` o `.info` del _DataFrame_."
   ]
  },
  {
   "cell_type": "code",
   "execution_count": 7,
   "metadata": {},
   "outputs": [
    {
     "data": {
      "text/html": [
       "<div>\n",
       "<style scoped>\n",
       "    .dataframe tbody tr th:only-of-type {\n",
       "        vertical-align: middle;\n",
       "    }\n",
       "\n",
       "    .dataframe tbody tr th {\n",
       "        vertical-align: top;\n",
       "    }\n",
       "\n",
       "    .dataframe thead th {\n",
       "        text-align: right;\n",
       "    }\n",
       "</style>\n",
       "<table border=\"1\" class=\"dataframe\">\n",
       "  <thead>\n",
       "    <tr style=\"text-align: right;\">\n",
       "      <th></th>\n",
       "      <th>id</th>\n",
       "      <th>log_price</th>\n",
       "      <th>property_type</th>\n",
       "      <th>room_type</th>\n",
       "      <th>amenities</th>\n",
       "      <th>accommodates</th>\n",
       "      <th>bathrooms</th>\n",
       "      <th>bed_type</th>\n",
       "      <th>cancellation_policy</th>\n",
       "      <th>cleaning_fee</th>\n",
       "      <th>...</th>\n",
       "      <th>latitude</th>\n",
       "      <th>longitude</th>\n",
       "      <th>name</th>\n",
       "      <th>neighbourhood</th>\n",
       "      <th>number_of_reviews</th>\n",
       "      <th>review_scores_rating</th>\n",
       "      <th>thumbnail_url</th>\n",
       "      <th>zipcode</th>\n",
       "      <th>bedrooms</th>\n",
       "      <th>beds</th>\n",
       "    </tr>\n",
       "  </thead>\n",
       "  <tbody>\n",
       "    <tr>\n",
       "      <td>0</td>\n",
       "      <td>6901257</td>\n",
       "      <td>5.010635</td>\n",
       "      <td>Apartment</td>\n",
       "      <td>Entire home/apt</td>\n",
       "      <td>{\"Wireless Internet\",\"Air conditioning\",Kitche...</td>\n",
       "      <td>3</td>\n",
       "      <td>1.0</td>\n",
       "      <td>Real Bed</td>\n",
       "      <td>strict</td>\n",
       "      <td>True</td>\n",
       "      <td>...</td>\n",
       "      <td>40.696524</td>\n",
       "      <td>-73.991617</td>\n",
       "      <td>Beautiful brownstone 1-bedroom</td>\n",
       "      <td>Brooklyn Heights</td>\n",
       "      <td>2</td>\n",
       "      <td>100.0</td>\n",
       "      <td>https://a0.muscache.com/im/pictures/6d7cbbf7-c...</td>\n",
       "      <td>11201</td>\n",
       "      <td>1.0</td>\n",
       "      <td>1.0</td>\n",
       "    </tr>\n",
       "    <tr>\n",
       "      <td>1</td>\n",
       "      <td>6304928</td>\n",
       "      <td>5.129899</td>\n",
       "      <td>Apartment</td>\n",
       "      <td>Entire home/apt</td>\n",
       "      <td>{\"Wireless Internet\",\"Air conditioning\",Kitche...</td>\n",
       "      <td>7</td>\n",
       "      <td>1.0</td>\n",
       "      <td>Real Bed</td>\n",
       "      <td>strict</td>\n",
       "      <td>True</td>\n",
       "      <td>...</td>\n",
       "      <td>40.766115</td>\n",
       "      <td>-73.989040</td>\n",
       "      <td>Superb 3BR Apt Located Near Times Square</td>\n",
       "      <td>Hell's Kitchen</td>\n",
       "      <td>6</td>\n",
       "      <td>93.0</td>\n",
       "      <td>https://a0.muscache.com/im/pictures/348a55fe-4...</td>\n",
       "      <td>10019</td>\n",
       "      <td>3.0</td>\n",
       "      <td>3.0</td>\n",
       "    </tr>\n",
       "    <tr>\n",
       "      <td>2</td>\n",
       "      <td>7919400</td>\n",
       "      <td>4.976734</td>\n",
       "      <td>Apartment</td>\n",
       "      <td>Entire home/apt</td>\n",
       "      <td>{TV,\"Cable TV\",\"Wireless Internet\",\"Air condit...</td>\n",
       "      <td>5</td>\n",
       "      <td>1.0</td>\n",
       "      <td>Real Bed</td>\n",
       "      <td>moderate</td>\n",
       "      <td>True</td>\n",
       "      <td>...</td>\n",
       "      <td>40.808110</td>\n",
       "      <td>-73.943756</td>\n",
       "      <td>The Garden Oasis</td>\n",
       "      <td>Harlem</td>\n",
       "      <td>10</td>\n",
       "      <td>92.0</td>\n",
       "      <td>https://a0.muscache.com/im/pictures/6fae5362-9...</td>\n",
       "      <td>10027</td>\n",
       "      <td>1.0</td>\n",
       "      <td>3.0</td>\n",
       "    </tr>\n",
       "    <tr>\n",
       "      <td>3</td>\n",
       "      <td>13418779</td>\n",
       "      <td>6.620073</td>\n",
       "      <td>House</td>\n",
       "      <td>Entire home/apt</td>\n",
       "      <td>{TV,\"Cable TV\",Internet,\"Wireless Internet\",Ki...</td>\n",
       "      <td>4</td>\n",
       "      <td>1.0</td>\n",
       "      <td>Real Bed</td>\n",
       "      <td>flexible</td>\n",
       "      <td>True</td>\n",
       "      <td>...</td>\n",
       "      <td>37.772004</td>\n",
       "      <td>-122.431619</td>\n",
       "      <td>Beautiful Flat in the Heart of SF!</td>\n",
       "      <td>Lower Haight</td>\n",
       "      <td>0</td>\n",
       "      <td>NaN</td>\n",
       "      <td>https://a0.muscache.com/im/pictures/72208dad-9...</td>\n",
       "      <td>94117.0</td>\n",
       "      <td>2.0</td>\n",
       "      <td>2.0</td>\n",
       "    </tr>\n",
       "    <tr>\n",
       "      <td>4</td>\n",
       "      <td>3808709</td>\n",
       "      <td>4.744932</td>\n",
       "      <td>Apartment</td>\n",
       "      <td>Entire home/apt</td>\n",
       "      <td>{TV,Internet,\"Wireless Internet\",\"Air conditio...</td>\n",
       "      <td>2</td>\n",
       "      <td>1.0</td>\n",
       "      <td>Real Bed</td>\n",
       "      <td>moderate</td>\n",
       "      <td>True</td>\n",
       "      <td>...</td>\n",
       "      <td>38.925627</td>\n",
       "      <td>-77.034596</td>\n",
       "      <td>Great studio in midtown DC</td>\n",
       "      <td>Columbia Heights</td>\n",
       "      <td>4</td>\n",
       "      <td>40.0</td>\n",
       "      <td>NaN</td>\n",
       "      <td>20009</td>\n",
       "      <td>0.0</td>\n",
       "      <td>1.0</td>\n",
       "    </tr>\n",
       "  </tbody>\n",
       "</table>\n",
       "<p>5 rows × 29 columns</p>\n",
       "</div>"
      ],
      "text/plain": [
       "         id  log_price property_type        room_type  \\\n",
       "0   6901257   5.010635     Apartment  Entire home/apt   \n",
       "1   6304928   5.129899     Apartment  Entire home/apt   \n",
       "2   7919400   4.976734     Apartment  Entire home/apt   \n",
       "3  13418779   6.620073         House  Entire home/apt   \n",
       "4   3808709   4.744932     Apartment  Entire home/apt   \n",
       "\n",
       "                                           amenities  accommodates  bathrooms  \\\n",
       "0  {\"Wireless Internet\",\"Air conditioning\",Kitche...             3        1.0   \n",
       "1  {\"Wireless Internet\",\"Air conditioning\",Kitche...             7        1.0   \n",
       "2  {TV,\"Cable TV\",\"Wireless Internet\",\"Air condit...             5        1.0   \n",
       "3  {TV,\"Cable TV\",Internet,\"Wireless Internet\",Ki...             4        1.0   \n",
       "4  {TV,Internet,\"Wireless Internet\",\"Air conditio...             2        1.0   \n",
       "\n",
       "   bed_type cancellation_policy  cleaning_fee  ...   latitude   longitude  \\\n",
       "0  Real Bed              strict          True  ...  40.696524  -73.991617   \n",
       "1  Real Bed              strict          True  ...  40.766115  -73.989040   \n",
       "2  Real Bed            moderate          True  ...  40.808110  -73.943756   \n",
       "3  Real Bed            flexible          True  ...  37.772004 -122.431619   \n",
       "4  Real Bed            moderate          True  ...  38.925627  -77.034596   \n",
       "\n",
       "                                       name     neighbourhood  \\\n",
       "0            Beautiful brownstone 1-bedroom  Brooklyn Heights   \n",
       "1  Superb 3BR Apt Located Near Times Square    Hell's Kitchen   \n",
       "2                          The Garden Oasis            Harlem   \n",
       "3        Beautiful Flat in the Heart of SF!      Lower Haight   \n",
       "4                Great studio in midtown DC  Columbia Heights   \n",
       "\n",
       "  number_of_reviews  review_scores_rating  \\\n",
       "0                 2                 100.0   \n",
       "1                 6                  93.0   \n",
       "2                10                  92.0   \n",
       "3                 0                   NaN   \n",
       "4                 4                  40.0   \n",
       "\n",
       "                                       thumbnail_url  zipcode bedrooms  beds  \n",
       "0  https://a0.muscache.com/im/pictures/6d7cbbf7-c...    11201      1.0   1.0  \n",
       "1  https://a0.muscache.com/im/pictures/348a55fe-4...    10019      3.0   3.0  \n",
       "2  https://a0.muscache.com/im/pictures/6fae5362-9...    10027      1.0   3.0  \n",
       "3  https://a0.muscache.com/im/pictures/72208dad-9...  94117.0      2.0   2.0  \n",
       "4                                                NaN    20009      0.0   1.0  \n",
       "\n",
       "[5 rows x 29 columns]"
      ]
     },
     "execution_count": 7,
     "metadata": {},
     "output_type": "execute_result"
    }
   ],
   "source": [
    "import pandas as pd\n",
    "def p2f(x):\n",
    "    if (x!=''):\n",
    "        return int(x.strip('%')) \n",
    "    else:\n",
    "        return 0\n",
    "    \n",
    "df_full = pd.read_csv(\"train.csv\",converters={'host_response_rate':p2f})\n",
    "\n",
    "df_full.head()"
   ]
  },
  {
   "cell_type": "code",
   "execution_count": 2,
   "metadata": {},
   "outputs": [
    {
     "data": {
      "text/html": [
       "<div>\n",
       "<style scoped>\n",
       "    .dataframe tbody tr th:only-of-type {\n",
       "        vertical-align: middle;\n",
       "    }\n",
       "\n",
       "    .dataframe tbody tr th {\n",
       "        vertical-align: top;\n",
       "    }\n",
       "\n",
       "    .dataframe thead th {\n",
       "        text-align: right;\n",
       "    }\n",
       "</style>\n",
       "<table border=\"1\" class=\"dataframe\">\n",
       "  <thead>\n",
       "    <tr style=\"text-align: right;\">\n",
       "      <th></th>\n",
       "      <th>id</th>\n",
       "      <th>log_price</th>\n",
       "      <th>accommodates</th>\n",
       "      <th>bathrooms</th>\n",
       "      <th>host_response_rate</th>\n",
       "      <th>latitude</th>\n",
       "      <th>longitude</th>\n",
       "      <th>number_of_reviews</th>\n",
       "      <th>review_scores_rating</th>\n",
       "      <th>bedrooms</th>\n",
       "      <th>beds</th>\n",
       "    </tr>\n",
       "  </thead>\n",
       "  <tbody>\n",
       "    <tr>\n",
       "      <td>count</td>\n",
       "      <td>7.411100e+04</td>\n",
       "      <td>74111.000000</td>\n",
       "      <td>74111.000000</td>\n",
       "      <td>73911.000000</td>\n",
       "      <td>74111.000000</td>\n",
       "      <td>74111.000000</td>\n",
       "      <td>74111.000000</td>\n",
       "      <td>74111.000000</td>\n",
       "      <td>57389.000000</td>\n",
       "      <td>74020.000000</td>\n",
       "      <td>73980.000000</td>\n",
       "    </tr>\n",
       "    <tr>\n",
       "      <td>mean</td>\n",
       "      <td>1.126662e+07</td>\n",
       "      <td>4.782069</td>\n",
       "      <td>3.155146</td>\n",
       "      <td>1.235263</td>\n",
       "      <td>71.055201</td>\n",
       "      <td>38.445958</td>\n",
       "      <td>-92.397525</td>\n",
       "      <td>20.900568</td>\n",
       "      <td>94.067365</td>\n",
       "      <td>1.265793</td>\n",
       "      <td>1.710868</td>\n",
       "    </tr>\n",
       "    <tr>\n",
       "      <td>std</td>\n",
       "      <td>6.081735e+06</td>\n",
       "      <td>0.717394</td>\n",
       "      <td>2.153589</td>\n",
       "      <td>0.582044</td>\n",
       "      <td>43.087044</td>\n",
       "      <td>3.080167</td>\n",
       "      <td>21.705322</td>\n",
       "      <td>37.828641</td>\n",
       "      <td>7.836556</td>\n",
       "      <td>0.852143</td>\n",
       "      <td>1.254142</td>\n",
       "    </tr>\n",
       "    <tr>\n",
       "      <td>min</td>\n",
       "      <td>3.440000e+02</td>\n",
       "      <td>0.000000</td>\n",
       "      <td>1.000000</td>\n",
       "      <td>0.000000</td>\n",
       "      <td>0.000000</td>\n",
       "      <td>33.338905</td>\n",
       "      <td>-122.511500</td>\n",
       "      <td>0.000000</td>\n",
       "      <td>20.000000</td>\n",
       "      <td>0.000000</td>\n",
       "      <td>0.000000</td>\n",
       "    </tr>\n",
       "    <tr>\n",
       "      <td>25%</td>\n",
       "      <td>6.261964e+06</td>\n",
       "      <td>4.317488</td>\n",
       "      <td>2.000000</td>\n",
       "      <td>1.000000</td>\n",
       "      <td>0.000000</td>\n",
       "      <td>34.127908</td>\n",
       "      <td>-118.342374</td>\n",
       "      <td>1.000000</td>\n",
       "      <td>92.000000</td>\n",
       "      <td>1.000000</td>\n",
       "      <td>1.000000</td>\n",
       "    </tr>\n",
       "    <tr>\n",
       "      <td>50%</td>\n",
       "      <td>1.225415e+07</td>\n",
       "      <td>4.709530</td>\n",
       "      <td>2.000000</td>\n",
       "      <td>1.000000</td>\n",
       "      <td>100.000000</td>\n",
       "      <td>40.662138</td>\n",
       "      <td>-76.996965</td>\n",
       "      <td>6.000000</td>\n",
       "      <td>96.000000</td>\n",
       "      <td>1.000000</td>\n",
       "      <td>1.000000</td>\n",
       "    </tr>\n",
       "    <tr>\n",
       "      <td>75%</td>\n",
       "      <td>1.640226e+07</td>\n",
       "      <td>5.220356</td>\n",
       "      <td>4.000000</td>\n",
       "      <td>1.000000</td>\n",
       "      <td>100.000000</td>\n",
       "      <td>40.746096</td>\n",
       "      <td>-73.954660</td>\n",
       "      <td>23.000000</td>\n",
       "      <td>100.000000</td>\n",
       "      <td>1.000000</td>\n",
       "      <td>2.000000</td>\n",
       "    </tr>\n",
       "    <tr>\n",
       "      <td>max</td>\n",
       "      <td>2.123090e+07</td>\n",
       "      <td>7.600402</td>\n",
       "      <td>16.000000</td>\n",
       "      <td>8.000000</td>\n",
       "      <td>100.000000</td>\n",
       "      <td>42.390437</td>\n",
       "      <td>-70.985047</td>\n",
       "      <td>605.000000</td>\n",
       "      <td>100.000000</td>\n",
       "      <td>10.000000</td>\n",
       "      <td>18.000000</td>\n",
       "    </tr>\n",
       "  </tbody>\n",
       "</table>\n",
       "</div>"
      ],
      "text/plain": [
       "                 id     log_price  accommodates     bathrooms  \\\n",
       "count  7.411100e+04  74111.000000  74111.000000  73911.000000   \n",
       "mean   1.126662e+07      4.782069      3.155146      1.235263   \n",
       "std    6.081735e+06      0.717394      2.153589      0.582044   \n",
       "min    3.440000e+02      0.000000      1.000000      0.000000   \n",
       "25%    6.261964e+06      4.317488      2.000000      1.000000   \n",
       "50%    1.225415e+07      4.709530      2.000000      1.000000   \n",
       "75%    1.640226e+07      5.220356      4.000000      1.000000   \n",
       "max    2.123090e+07      7.600402     16.000000      8.000000   \n",
       "\n",
       "       host_response_rate      latitude     longitude  number_of_reviews  \\\n",
       "count        74111.000000  74111.000000  74111.000000       74111.000000   \n",
       "mean            71.055201     38.445958    -92.397525          20.900568   \n",
       "std             43.087044      3.080167     21.705322          37.828641   \n",
       "min              0.000000     33.338905   -122.511500           0.000000   \n",
       "25%              0.000000     34.127908   -118.342374           1.000000   \n",
       "50%            100.000000     40.662138    -76.996965           6.000000   \n",
       "75%            100.000000     40.746096    -73.954660          23.000000   \n",
       "max            100.000000     42.390437    -70.985047         605.000000   \n",
       "\n",
       "       review_scores_rating      bedrooms          beds  \n",
       "count          57389.000000  74020.000000  73980.000000  \n",
       "mean              94.067365      1.265793      1.710868  \n",
       "std                7.836556      0.852143      1.254142  \n",
       "min               20.000000      0.000000      0.000000  \n",
       "25%               92.000000      1.000000      1.000000  \n",
       "50%               96.000000      1.000000      1.000000  \n",
       "75%              100.000000      1.000000      2.000000  \n",
       "max              100.000000     10.000000     18.000000  "
      ]
     },
     "execution_count": 2,
     "metadata": {},
     "output_type": "execute_result"
    }
   ],
   "source": [
    "df_full.describe()"
   ]
  },
  {
   "cell_type": "code",
   "execution_count": 3,
   "metadata": {},
   "outputs": [
    {
     "name": "stdout",
     "output_type": "stream",
     "text": [
      "<class 'pandas.core.frame.DataFrame'>\n",
      "RangeIndex: 74111 entries, 0 to 74110\n",
      "Data columns (total 29 columns):\n",
      "id                        74111 non-null int64\n",
      "log_price                 74111 non-null float64\n",
      "property_type             74111 non-null object\n",
      "room_type                 74111 non-null object\n",
      "amenities                 74111 non-null object\n",
      "accommodates              74111 non-null int64\n",
      "bathrooms                 73911 non-null float64\n",
      "bed_type                  74111 non-null object\n",
      "cancellation_policy       74111 non-null object\n",
      "cleaning_fee              74111 non-null bool\n",
      "city                      74111 non-null object\n",
      "description               74111 non-null object\n",
      "first_review              58247 non-null object\n",
      "host_has_profile_pic      73923 non-null object\n",
      "host_identity_verified    73923 non-null object\n",
      "host_response_rate        74111 non-null int64\n",
      "host_since                73923 non-null object\n",
      "instant_bookable          74111 non-null object\n",
      "last_review               58284 non-null object\n",
      "latitude                  74111 non-null float64\n",
      "longitude                 74111 non-null float64\n",
      "name                      74111 non-null object\n",
      "neighbourhood             67239 non-null object\n",
      "number_of_reviews         74111 non-null int64\n",
      "review_scores_rating      57389 non-null float64\n",
      "thumbnail_url             65895 non-null object\n",
      "zipcode                   73145 non-null object\n",
      "bedrooms                  74020 non-null float64\n",
      "beds                      73980 non-null float64\n",
      "dtypes: bool(1), float64(7), int64(4), object(17)\n",
      "memory usage: 15.9+ MB\n"
     ]
    }
   ],
   "source": [
    "df_full.info()"
   ]
  },
  {
   "cell_type": "markdown",
   "metadata": {},
   "source": [
    "Separaremos las columnas en distintas categorías pues deberan ser tratadas de maneras distintas. Las columnas \"others\" y \"categorical\" ya están separadas, complete las numéricas y las fechas.\n",
    "\n",
    "¿Qué particularidad tiene las columnas agrupadas en \"otros\" y porque esto nos complicará su utilización?"
   ]
  },
  {
   "cell_type": "code",
   "execution_count": 4,
   "metadata": {},
   "outputs": [
    {
     "data": {
      "text/plain": [
       "id                          int64\n",
       "log_price                 float64\n",
       "property_type              object\n",
       "room_type                  object\n",
       "amenities                  object\n",
       "accommodates                int64\n",
       "bathrooms                 float64\n",
       "bed_type                   object\n",
       "cancellation_policy        object\n",
       "cleaning_fee                 bool\n",
       "city                       object\n",
       "description                object\n",
       "first_review               object\n",
       "host_has_profile_pic       object\n",
       "host_identity_verified     object\n",
       "host_response_rate          int64\n",
       "host_since                 object\n",
       "instant_bookable           object\n",
       "last_review                object\n",
       "latitude                  float64\n",
       "longitude                 float64\n",
       "name                       object\n",
       "neighbourhood              object\n",
       "number_of_reviews           int64\n",
       "review_scores_rating      float64\n",
       "thumbnail_url              object\n",
       "zipcode                    object\n",
       "bedrooms                  float64\n",
       "beds                      float64\n",
       "dtype: object"
      ]
     },
     "execution_count": 4,
     "metadata": {},
     "output_type": "execute_result"
    }
   ],
   "source": [
    "df_full.dtypes"
   ]
  },
  {
   "cell_type": "code",
   "execution_count": 8,
   "metadata": {},
   "outputs": [
    {
     "name": "stdout",
     "output_type": "stream",
     "text": [
      "amenities\n",
      "description\n",
      "thumbnail_url\n",
      "name\n"
     ]
    }
   ],
   "source": [
    "other_col = df_full.columns[[4,11,25,21]]\n",
    "cat_col = df_full.columns[[0,2,3,7,8,9,10,13,14,17,22,26]]\n",
    "num_col = df_full.columns[[1,5,6,15,19,20,23,24]]\n",
    "date_col = df_full.columns[[12,16,18]]\n",
    "\n",
    "for col in df_full[other_col].columns:\n",
    "    print(col)"
   ]
  },
  {
   "cell_type": "markdown",
   "metadata": {},
   "source": [
    "**Respuesta**: A excepción de *amenities*, los datos agrupados en la categoría \"otros\" no entregan información útil para la predicción de *log_price*, ya que pueden ser muy diferentes entre sí y no debería haber un patrón entre ellos: Tanto el nombre como la descripción y el sitio web de la propiedad pueden ser arbitrarios."
   ]
  },
  {
   "cell_type": "markdown",
   "metadata": {},
   "source": [
    "Explore más en detalle la columna `amenities` y explique por qué sería interesante rescatar la información contenida en ella tomando en cuenta el problema en cuestión."
   ]
  },
  {
   "cell_type": "code",
   "execution_count": 71,
   "metadata": {},
   "outputs": [
    {
     "data": {
      "text/plain": [
       "0        {\"Wireless Internet\",\"Air conditioning\",Kitche...\n",
       "1        {\"Wireless Internet\",\"Air conditioning\",Kitche...\n",
       "2        {TV,\"Cable TV\",\"Wireless Internet\",\"Air condit...\n",
       "3        {TV,\"Cable TV\",Internet,\"Wireless Internet\",Ki...\n",
       "4        {TV,Internet,\"Wireless Internet\",\"Air conditio...\n",
       "                               ...                        \n",
       "74106                                                   {}\n",
       "74107    {TV,\"Cable TV\",Internet,\"Wireless Internet\",Ki...\n",
       "74108    {TV,Internet,\"Wireless Internet\",\"Air conditio...\n",
       "74109    {TV,\"Wireless Internet\",\"Air conditioning\",Kit...\n",
       "74110    {TV,Internet,\"Wireless Internet\",Kitchen,\"Free...\n",
       "Name: amenities, Length: 74111, dtype: object"
      ]
     },
     "execution_count": 71,
     "metadata": {},
     "output_type": "execute_result"
    }
   ],
   "source": [
    "df_full.amenities "
   ]
  },
  {
   "cell_type": "markdown",
   "metadata": {},
   "source": [
    "**Respuesta**: Dejando de lado los demás datos, tiene sentido pensar que una propiedad con una mayor cantidad de *amenities* tendrá un *log_price* más elevado que una propiedad con menos *amenities*. Esto mismo ocurre dentro de las mismas *amenities*, por ejemplo, sería lógico pensar que una propiedad con *TV* es más barata que una con piscina, por lo que sería importante considerar, luego del preprocesamiento correspondiente, este dato para las predicciones. "
   ]
  },
  {
   "cell_type": "markdown",
   "metadata": {},
   "source": [
    "### 1.b Amenities como categórica\n",
    "En esta pregunta extraeremos cada una de las `amenities` posibles y la representaremos como una columna categorica, es decir una columna con un 1 si la esa característica aparece como disponible en el anuncio y un 0 en caso contrario. \n",
    "Para esto primero extraiga un conjunto de todas las amenities posibles. Puede utilizar el método `.apply` de las `Series` de pandas para transformar las entradas de la columna a una lista de las _amenities_ como muestra el código. Luego puede usar un `set` para evitar repeticiones inecesarias."
   ]
  },
  {
   "cell_type": "code",
   "execution_count": 9,
   "metadata": {},
   "outputs": [
    {
     "name": "stdout",
     "output_type": "stream",
     "text": [
      "Hay un total de 131 amenities posibles\n"
     ]
    }
   ],
   "source": [
    "amenities_as_lists = df_full['amenities'].apply(lambda x: x.replace(\"{\",'').replace(\"}\",'').replace(\"\\\"\",'').split(','))\n",
    "amenities_set = set()\n",
    "amenities_list= []\n",
    "for lis in amenities_as_lists:\n",
    "    for element in lis:\n",
    "        amenities_set.add(element)\n",
    "        amenities_list.append(element)\n",
    "\n",
    "print(f\"Hay un total de {len(amenities_set)} amenities posibles\")"
   ]
  },
  {
   "cell_type": "markdown",
   "metadata": {},
   "source": [
    "Cuente la cantidad de apariciones de cada _amenity_ en el _dataset_. \n",
    "\n",
    "Claramente algunos valores tienen muy pocos ejemplos, lo cual tiene sentido considerando el problema. Optaremos por no considerar las amenities que aparezcan en menos de 1000 anuncios. \n",
    "\n",
    "Cree ahora nuevas columnas en el _DataFrame_, donde cada columna corresponda a una _amenity_ que cumpla el criterio y se represente binariamente, como muestra el esqueleto de código.\n",
    "\n",
    "Aprovecharemos de eliminar las otras columas `others` pues para el alcance de esta tarea no vale la pena considerarlas."
   ]
  },
  {
   "cell_type": "code",
   "execution_count": 10,
   "metadata": {},
   "outputs": [],
   "source": [
    "for i, amenity in enumerate(amenities_set):\n",
    "    if (amenities_list.count(amenity)>=1000):\n",
    "        df_full[str(amenity)] = df_full['amenities'].apply(lambda x: 1 if amenity in x else 0)\n",
    "        \n",
    "df= df_full.drop(columns=other_col)\n"
   ]
  },
  {
   "cell_type": "code",
   "execution_count": 18,
   "metadata": {},
   "outputs": [
    {
     "data": {
      "text/html": [
       "<div>\n",
       "<style scoped>\n",
       "    .dataframe tbody tr th:only-of-type {\n",
       "        vertical-align: middle;\n",
       "    }\n",
       "\n",
       "    .dataframe tbody tr th {\n",
       "        vertical-align: top;\n",
       "    }\n",
       "\n",
       "    .dataframe thead th {\n",
       "        text-align: right;\n",
       "    }\n",
       "</style>\n",
       "<table border=\"1\" class=\"dataframe\">\n",
       "  <thead>\n",
       "    <tr style=\"text-align: right;\">\n",
       "      <th></th>\n",
       "      <th>id</th>\n",
       "      <th>log_price</th>\n",
       "      <th>property_type</th>\n",
       "      <th>room_type</th>\n",
       "      <th>accommodates</th>\n",
       "      <th>bathrooms</th>\n",
       "      <th>bed_type</th>\n",
       "      <th>cancellation_policy</th>\n",
       "      <th>cleaning_fee</th>\n",
       "      <th>city</th>\n",
       "      <th>...</th>\n",
       "      <th>Family/kid friendly</th>\n",
       "      <th>Step-free access</th>\n",
       "      <th>Cat(s)</th>\n",
       "      <th>Free parking on premises</th>\n",
       "      <th>24-hour check-in</th>\n",
       "      <th>Pets live on this property</th>\n",
       "      <th>Pool</th>\n",
       "      <th>Room-darkening shades</th>\n",
       "      <th>Essentials</th>\n",
       "      <th>Private entrance</th>\n",
       "    </tr>\n",
       "  </thead>\n",
       "  <tbody>\n",
       "    <tr>\n",
       "      <td>0</td>\n",
       "      <td>6901257</td>\n",
       "      <td>5.010635</td>\n",
       "      <td>Apartment</td>\n",
       "      <td>Entire home/apt</td>\n",
       "      <td>3</td>\n",
       "      <td>1.0</td>\n",
       "      <td>Real Bed</td>\n",
       "      <td>strict</td>\n",
       "      <td>True</td>\n",
       "      <td>NYC</td>\n",
       "      <td>...</td>\n",
       "      <td>1</td>\n",
       "      <td>0</td>\n",
       "      <td>0</td>\n",
       "      <td>0</td>\n",
       "      <td>0</td>\n",
       "      <td>0</td>\n",
       "      <td>0</td>\n",
       "      <td>0</td>\n",
       "      <td>1</td>\n",
       "      <td>0</td>\n",
       "    </tr>\n",
       "    <tr>\n",
       "      <td>1</td>\n",
       "      <td>6304928</td>\n",
       "      <td>5.129899</td>\n",
       "      <td>Apartment</td>\n",
       "      <td>Entire home/apt</td>\n",
       "      <td>7</td>\n",
       "      <td>1.0</td>\n",
       "      <td>Real Bed</td>\n",
       "      <td>strict</td>\n",
       "      <td>True</td>\n",
       "      <td>NYC</td>\n",
       "      <td>...</td>\n",
       "      <td>1</td>\n",
       "      <td>0</td>\n",
       "      <td>0</td>\n",
       "      <td>0</td>\n",
       "      <td>0</td>\n",
       "      <td>0</td>\n",
       "      <td>0</td>\n",
       "      <td>0</td>\n",
       "      <td>1</td>\n",
       "      <td>0</td>\n",
       "    </tr>\n",
       "    <tr>\n",
       "      <td>2</td>\n",
       "      <td>7919400</td>\n",
       "      <td>4.976734</td>\n",
       "      <td>Apartment</td>\n",
       "      <td>Entire home/apt</td>\n",
       "      <td>5</td>\n",
       "      <td>1.0</td>\n",
       "      <td>Real Bed</td>\n",
       "      <td>moderate</td>\n",
       "      <td>True</td>\n",
       "      <td>NYC</td>\n",
       "      <td>...</td>\n",
       "      <td>1</td>\n",
       "      <td>0</td>\n",
       "      <td>0</td>\n",
       "      <td>0</td>\n",
       "      <td>0</td>\n",
       "      <td>0</td>\n",
       "      <td>0</td>\n",
       "      <td>0</td>\n",
       "      <td>1</td>\n",
       "      <td>0</td>\n",
       "    </tr>\n",
       "    <tr>\n",
       "      <td>3</td>\n",
       "      <td>13418779</td>\n",
       "      <td>6.620073</td>\n",
       "      <td>House</td>\n",
       "      <td>Entire home/apt</td>\n",
       "      <td>4</td>\n",
       "      <td>1.0</td>\n",
       "      <td>Real Bed</td>\n",
       "      <td>flexible</td>\n",
       "      <td>True</td>\n",
       "      <td>SF</td>\n",
       "      <td>...</td>\n",
       "      <td>0</td>\n",
       "      <td>0</td>\n",
       "      <td>0</td>\n",
       "      <td>0</td>\n",
       "      <td>0</td>\n",
       "      <td>0</td>\n",
       "      <td>0</td>\n",
       "      <td>0</td>\n",
       "      <td>1</td>\n",
       "      <td>0</td>\n",
       "    </tr>\n",
       "    <tr>\n",
       "      <td>4</td>\n",
       "      <td>3808709</td>\n",
       "      <td>4.744932</td>\n",
       "      <td>Apartment</td>\n",
       "      <td>Entire home/apt</td>\n",
       "      <td>2</td>\n",
       "      <td>1.0</td>\n",
       "      <td>Real Bed</td>\n",
       "      <td>moderate</td>\n",
       "      <td>True</td>\n",
       "      <td>DC</td>\n",
       "      <td>...</td>\n",
       "      <td>0</td>\n",
       "      <td>0</td>\n",
       "      <td>0</td>\n",
       "      <td>0</td>\n",
       "      <td>0</td>\n",
       "      <td>0</td>\n",
       "      <td>0</td>\n",
       "      <td>0</td>\n",
       "      <td>1</td>\n",
       "      <td>0</td>\n",
       "    </tr>\n",
       "  </tbody>\n",
       "</table>\n",
       "<p>5 rows × 94 columns</p>\n",
       "</div>"
      ],
      "text/plain": [
       "         id  log_price property_type        room_type  accommodates  \\\n",
       "0   6901257   5.010635     Apartment  Entire home/apt             3   \n",
       "1   6304928   5.129899     Apartment  Entire home/apt             7   \n",
       "2   7919400   4.976734     Apartment  Entire home/apt             5   \n",
       "3  13418779   6.620073         House  Entire home/apt             4   \n",
       "4   3808709   4.744932     Apartment  Entire home/apt             2   \n",
       "\n",
       "   bathrooms  bed_type cancellation_policy  cleaning_fee city  ...  \\\n",
       "0        1.0  Real Bed              strict          True  NYC  ...   \n",
       "1        1.0  Real Bed              strict          True  NYC  ...   \n",
       "2        1.0  Real Bed            moderate          True  NYC  ...   \n",
       "3        1.0  Real Bed            flexible          True   SF  ...   \n",
       "4        1.0  Real Bed            moderate          True   DC  ...   \n",
       "\n",
       "  Family/kid friendly Step-free access Cat(s)  Free parking on premises  \\\n",
       "0                   1                0      0                         0   \n",
       "1                   1                0      0                         0   \n",
       "2                   1                0      0                         0   \n",
       "3                   0                0      0                         0   \n",
       "4                   0                0      0                         0   \n",
       "\n",
       "  24-hour check-in Pets live on this property Pool  Room-darkening shades  \\\n",
       "0                0                          0    0                      0   \n",
       "1                0                          0    0                      0   \n",
       "2                0                          0    0                      0   \n",
       "3                0                          0    0                      0   \n",
       "4                0                          0    0                      0   \n",
       "\n",
       "   Essentials Private entrance  \n",
       "0           1                0  \n",
       "1           1                0  \n",
       "2           1                0  \n",
       "3           1                0  \n",
       "4           1                0  \n",
       "\n",
       "[5 rows x 94 columns]"
      ]
     },
     "execution_count": 18,
     "metadata": {},
     "output_type": "execute_result"
    }
   ],
   "source": [
    "df.head()"
   ]
  },
  {
   "cell_type": "markdown",
   "metadata": {},
   "source": [
    "### 1.c Otras variables categoricas\n",
    "Para cada una de las variables categoricas, cuente cuantos valores únicos tiene en el dataset. ¿Cuales la llaman la atención y por qué? ¿Tiene esto sentido con la naturaleza del problema?\n",
    "\n",
    "Eliminaremos las variables `id` pues solo sirve para identificar cada anuncio y la variable `zipcode` pues representa una información similar a la de `neighbourhood` y en la realidad los usuarios se interesan más por la segunda que por la primera. \n",
    "\n",
    "Cuente cuantos valores tiene cada clase de algunas variables categóricas que le interesen, usando el metodo `.value_counts` de las `Series`.\n",
    "\n",
    "Contaremos también los valores NA (valores ausentes o corrompidos) en todo el dataset con el código dentro del `print`. Eliminaremos todos aquellas variables que tengan más de un 10% de valores ausentes, es decir las 4 columnas presentes en el código. Para evitar problemas más adelante, complete el resto de los valores ausentes con el valor 0, usando el metodo `.fillna`"
   ]
  },
  {
   "cell_type": "code",
   "execution_count": 11,
   "metadata": {},
   "outputs": [
    {
     "name": "stdout",
     "output_type": "stream",
     "text": [
      "review_scores_rating                          16722\n",
      "first_review                                  15864\n",
      "last_review                                   15827\n",
      "neighbourhood                                  6872\n",
      "zipcode                                         966\n",
      "                                              ...  \n",
      "Microwave                                         0\n",
      "Wheelchair accessible                             0\n",
      "Cable TV                                          0\n",
      "translation missing: en.hosting_amenity_49        0\n",
      "id                                                0\n",
      "Length: 94, dtype: int64\n"
     ]
    }
   ],
   "source": [
    "\n",
    "\n",
    "print(df.isna().sum().sort_values(ascending=False))\n",
    "\n",
    "df = df.drop(columns=['host_response_rate','review_scores_rating', 'first_review', 'last_review','id','zipcode','host_since'])\n",
    "df.fillna(0, inplace=True)\n",
    "\n"
   ]
  },
  {
   "cell_type": "code",
   "execution_count": 12,
   "metadata": {},
   "outputs": [
    {
     "name": "stdout",
     "output_type": "stream",
     "text": [
      "property_type: 4 valores únicos\n",
      "room_type: 0 valores únicos\n",
      "bed_type: 0 valores únicos\n",
      "cancellation_policy: 0 valores únicos\n",
      "cleaning_fee: 0 valores únicos\n",
      "city: 0 valores únicos\n",
      "host_has_profile_pic: 0 valores únicos\n",
      "host_identity_verified: 0 valores únicos\n",
      "instant_bookable: 0 valores únicos\n",
      "neighbourhood: 48 valores únicos\n"
     ]
    }
   ],
   "source": [
    "for col in df_full[cat_col].columns:\n",
    "    if col in ['id','zipcode']:\n",
    "        continue\n",
    "    else:\n",
    "        count = 0\n",
    "        for val in (df[col].value_counts()):\n",
    "            if (val==1):\n",
    "                count+= 1\n",
    "        print(str(col) + \": \" + str(count) + \" valores únicos\")"
   ]
  },
  {
   "cell_type": "markdown",
   "metadata": {},
   "source": [
    "**Respuesta**: Llama la atención que haya 4 tipos de propiedad que no se repiten en ningún otro anuncio, los cuales más abajo se puede ver que corresponden a una isla, un faro, un estacionamiento y una casa particular. Dejando de lado la casa particular, que está escrita en un idioma distinto al de los otros datos del dataframe, llama la atención que hayan avisos de arriendo de un faro o de una isla. Los demás valores corresponden con la naturaleza del problema: tiene sentido que al ser pocas ciudades haya una gran cantidad de avisos en cada locación; tiene sentido que no haya políticas de cancelación únicas o que haya varios vecindarios donde no haya otro aviso, por mencionar algunos ejemplos."
   ]
  },
  {
   "cell_type": "code",
   "execution_count": 13,
   "metadata": {},
   "outputs": [
    {
     "name": "stdout",
     "output_type": "stream",
     "text": [
      "Apartment             49003\n",
      "House                 16511\n",
      "Condominium            2658\n",
      "Townhouse              1692\n",
      "Loft                   1244\n",
      "Other                   607\n",
      "Guesthouse              498\n",
      "Bed & Breakfast         462\n",
      "Bungalow                366\n",
      "Villa                   179\n",
      "Dorm                    142\n",
      "Guest suite             123\n",
      "Camper/RV                94\n",
      "Timeshare                77\n",
      "Cabin                    72\n",
      "In-law                   71\n",
      "Hostel                   70\n",
      "Boutique hotel           69\n",
      "Boat                     65\n",
      "Serviced apartment       21\n",
      "Tent                     18\n",
      "Castle                   13\n",
      "Vacation home            11\n",
      "Yurt                      9\n",
      "Hut                       8\n",
      "Treehouse                 7\n",
      "Chalet                    6\n",
      "Earth House               4\n",
      "Tipi                      3\n",
      "Cave                      2\n",
      "Train                     2\n",
      "Island                    1\n",
      "Parking Space             1\n",
      "Lighthouse                1\n",
      "Casa particular           1\n",
      "Name: property_type, dtype: int64\n",
      "==============================\n",
      "Entire home/apt    41310\n",
      "Private room       30638\n",
      "Shared room         2163\n",
      "Name: room_type, dtype: int64\n",
      "==============================\n",
      "NYC        32349\n",
      "LA         22453\n",
      "SF          6434\n",
      "DC          5688\n",
      "Chicago     3719\n",
      "Boston      3468\n",
      "Name: city, dtype: int64\n",
      "==============================\n"
     ]
    }
   ],
   "source": [
    "for col in ['property_type','room_type','city']:\n",
    "    print(df[col].value_counts())\n",
    "    print(\"==============================\")"
   ]
  },
  {
   "cell_type": "markdown",
   "metadata": {},
   "source": [
    "Ahora transformaremos todas las variables categoricas restantes a una representación en _one hot vector_. Para esto podemos utilizar la función `to_categorical` propuesta por keras. Puede apoyarse de las lineas de código abajo. No olvide eliminar las columnas originales del _dataframe_.\n",
    "\n",
    "Por último, en este caso optaremos por eliminar las columnas correspondientes a alguna fecha, pues no resultan significativas para el problema y la cantidad de variables disponibles son suficientes para hacer una exploración de las redes densas. "
   ]
  },
  {
   "cell_type": "code",
   "execution_count": 67,
   "metadata": {},
   "outputs": [
    {
     "data": {
      "text/plain": [
       "id                          int64\n",
       "room_type                  object\n",
       "accommodates                int64\n",
       "host_identity_verified     object\n",
       "host_response_rate          int64\n",
       "                           ...   \n",
       "host_since_3082           float32\n",
       "host_since_3083           float32\n",
       "host_since_3084           float32\n",
       "host_since_3085           float32\n",
       "host_since_3086           float32\n",
       "Length: 6564, dtype: object"
      ]
     },
     "execution_count": 67,
     "metadata": {},
     "output_type": "execute_result"
    }
   ],
   "source": [
    "df.dtypes"
   ]
  },
  {
   "cell_type": "code",
   "execution_count": 14,
   "metadata": {},
   "outputs": [],
   "source": [
    "from keras.utils.np_utils import to_categorical\n",
    "\n",
    "aux=df\n",
    "\n",
    "for col in df.columns[[1,2,5,6,7,8,9,10,11,14]]:\n",
    "    onehot = to_categorical(df[col].astype('category').cat.codes)\n",
    "    aux[[col + '_' + str(i) for i in range(onehot.shape[1])]] = pd.DataFrame(onehot)\n",
    "df=aux   \n",
    "df=df.drop(columns = df.columns[[1,2,5,6,7,8,9,10,11,14]])\n"
   ]
  },
  {
   "cell_type": "code",
   "execution_count": 66,
   "metadata": {},
   "outputs": [
    {
     "data": {
      "text/plain": [
       "id                          int64\n",
       "room_type                  object\n",
       "accommodates                int64\n",
       "host_identity_verified     object\n",
       "host_response_rate          int64\n",
       "                           ...   \n",
       "host_since_3082           float32\n",
       "host_since_3083           float32\n",
       "host_since_3084           float32\n",
       "host_since_3085           float32\n",
       "host_since_3086           float32\n",
       "Length: 6564, dtype: object"
      ]
     },
     "execution_count": 66,
     "metadata": {},
     "output_type": "execute_result"
    }
   ],
   "source": [
    "df.dtypes"
   ]
  },
  {
   "cell_type": "markdown",
   "metadata": {},
   "source": [
    "### 1.d Estandarización y Train Test Split\n",
    "En esta pregunta nos ocuparemos de separar el _dataset_ en los conjuntos de entrenamiento, validación y test y estandarizar los datos. Para esto puede utilizar la librería sklearn, en particular las funciones `StandarScaler` y `train_test_split`.\n",
    "\n",
    "Para esto separe primero el dataset en $X$ e $Y$. Luego separe los datos considerando un $70\\%$ de ellos para entrenamiento, un $20\\%$ para validación y un $10\\%$ para test. Finalmente ajuste los _scalers_ con los datos de entrenamiento y transforme los datos. \n",
    "\n",
    "- ¿Qué operación matemática realiza `StandarScaler` al momento de tranformar los datos? \n",
    "\n",
    "**Respuesta**:\n",
    "- ¿Por qué debemos transformar los datos de validación y de test con el _scaler_ ajustado a los datos de entrenamiento? \n",
    "\n",
    "**Respuesta**:\n",
    "- ¿Qué estamos tratando de representar en esta separación en conjuntos de entrenamiento, validación y test?\n",
    "\n",
    "**Respuesta**:"
   ]
  },
  {
   "cell_type": "code",
   "execution_count": 15,
   "metadata": {},
   "outputs": [],
   "source": [
    "import numpy as np\n",
    "from sklearn.model_selection import train_test_split\n",
    "from sklearn.preprocessing import StandardScaler\n",
    "\n",
    "x=df.drop(columns=['log_price'])\n",
    "y=df['log_price']\n",
    "x_tr, x_test, y_tr, y_test  = train_test_split(x, y, test_size=0.1, random_state=1)\n",
    "x_tr, x_val, y_tr, y_val = train_test_split(x_tr, y_tr, test_size=0.2/0.9, random_state=1)\n",
    "y_tr=np.array(y_tr)\n",
    "y_val=np.array(y_val)\n",
    "y_test=np.array(y_test)\n",
    "scaler_x = StandardScaler()\n",
    "scaler_x.fit(x_tr)\n",
    "x_tr = scaler_x.transform(x_tr)\n",
    "x_val = scaler_x.transform(x_val)\n",
    "x_test = scaler_x.transform(x_test)"
   ]
  },
  {
   "cell_type": "markdown",
   "metadata": {},
   "source": [
    "### 1.e Primera Red\n",
    "En esta pregunta construiremos y entrenaremos una primera red neuronal. Para esto utilizaremos la librería keras que se ocupa de crear, compilar y entrenar los modelos de manera simple. Esta libreria puede conectarse a distintos _backend_ que proveen el _framework_ para realizar efectivamente las operaciones necesarias por la red. Los más usuales son _TensorFlow_ y _Theano_, sin embargo en el último tiempo _TensorFlow_ ha tenido una gran adopción por diversos motivos, por lo cual la recomendación es instalar y utilizar TensorFlow. Keras se encargará por lo tanto de crear los modelos y al momento de compilarlos se instanciaran estos en una sesión de TensorFlow. \n",
    "\n",
    "Esta primera red será una red de una capa oculta con $256$ neuronas, activación ReLu. Para esta red y todas las demas utilizaremos la función de pérdida _Mean Square Error_ para obtener resultados comparables entre distintos modelos. Para entrenar esta red utilizaremos Gradiente Descendente Estocástico con un _Learn Rate_ de 0.002. Finalmente entrenaremos esta red por unas 20 _epochs_. \n",
    "\n",
    "Construya la red basandose en el código y la documentación de keras. "
   ]
  },
  {
   "cell_type": "code",
   "execution_count": 78,
   "metadata": {},
   "outputs": [],
   "source": [
    "from keras.optimizers import SGD\n",
    "from keras.models import Sequential\n",
    "from keras.layers import Dense\n",
    "\n",
    "ANN = Sequential()\n",
    "\n",
    "# Hidden Layer\n",
    "ANN.add(\n",
    "    Dense(\n",
    "        units = 256, \n",
    "        activation = 'relu'\n",
    "    )\n",
    ")\n",
    "\n",
    "# Output Layer\n",
    "ANN.add(\n",
    "    Dense(\n",
    "       units = 1\n",
    "        # no need for activation (i.e. linear activation) considering the range of the output... \n",
    "    )\n",
    ")\n",
    "\n",
    "ANN.compile(\n",
    "    optimizer=SGD(lr=0.002),\n",
    "    loss='mse')"
   ]
  },
  {
   "cell_type": "markdown",
   "metadata": {},
   "source": [
    "Una forma fácil de instanciar la red es la propuesta en el codigo abajo, es decir entrenar la red por 0 _epochs_. Una red instanciada nos permite utilizar el método `.summary` para ver su número de parametros y los tamaños de cada capa. \n",
    "\n",
    "Explique el número de parámetros presentes en esta red, es decir: ¿Cómo a partir de la dimensión del _Input_ y el número de neuronas obtenemos ese número de parámetros?"
   ]
  },
  {
   "cell_type": "code",
   "execution_count": 83,
   "metadata": {
    "scrolled": false
   },
   "outputs": [
    {
     "name": "stdout",
     "output_type": "stream",
     "text": [
      "Model: \"sequential_1\"\n",
      "_________________________________________________________________\n",
      "Layer (type)                 Output Shape              Param #   \n",
      "=================================================================\n",
      "dense_1 (Dense)              (None, 256)               194816    \n",
      "_________________________________________________________________\n",
      "dense_2 (Dense)              (None, 1)                 257       \n",
      "=================================================================\n",
      "Total params: 195,073\n",
      "Trainable params: 195,073\n",
      "Non-trainable params: 0\n",
      "_________________________________________________________________\n"
     ]
    }
   ],
   "source": [
    "ANN.fit(x_tr, y_tr, epochs=0)\n",
    "ANN.summary()"
   ]
  },
  {
   "cell_type": "markdown",
   "metadata": {},
   "source": [
    "Entrene la red por 20 _epochs_, guardando el `history` que retorna el metodo `.fit`.\n",
    "\n",
    "Grafique como varian los errores de validación y de entrenamiento a lo largo de las _epochs_. Comente."
   ]
  },
  {
   "cell_type": "code",
   "execution_count": 50,
   "metadata": {},
   "outputs": [
    {
     "name": "stdout",
     "output_type": "stream",
     "text": [
      "Train on 51876 samples, validate on 14823 samples\n",
      "Epoch 1/20\n",
      "51876/51876 [==============================] - 4s 84us/step - loss: 2.1834 - val_loss: 36.1881\n",
      "Epoch 2/20\n",
      "51876/51876 [==============================] - 4s 84us/step - loss: 0.6514 - val_loss: 0.5975\n",
      "Epoch 3/20\n",
      "51876/51876 [==============================] - 4s 86us/step - loss: 0.4317 - val_loss: 0.2894\n",
      "Epoch 4/20\n",
      "51876/51876 [==============================] - 4s 83us/step - loss: 0.2839 - val_loss: 0.2154\n",
      "Epoch 5/20\n",
      "51876/51876 [==============================] - 4s 82us/step - loss: 0.2414 - val_loss: 0.2166\n",
      "Epoch 6/20\n",
      "51876/51876 [==============================] - 4s 86us/step - loss: 0.2040 - val_loss: 0.1902\n",
      "Epoch 7/20\n",
      "51876/51876 [==============================] - 4s 81us/step - loss: 0.1919 - val_loss: 0.1897\n",
      "Epoch 8/20\n",
      "51876/51876 [==============================] - 5s 88us/step - loss: 0.1840 - val_loss: 0.1865\n",
      "Epoch 9/20\n",
      "51876/51876 [==============================] - 4s 77us/step - loss: 0.1800 - val_loss: 0.1913\n",
      "Epoch 10/20\n",
      "51876/51876 [==============================] - 4s 77us/step - loss: 0.1768 - val_loss: 0.1893\n",
      "Epoch 11/20\n",
      "51876/51876 [==============================] - 5s 92us/step - loss: 0.1751 - val_loss: 0.1817\n",
      "Epoch 12/20\n",
      "51876/51876 [==============================] - 4s 79us/step - loss: 0.1752 - val_loss: 0.1804\n",
      "Epoch 13/20\n",
      "51876/51876 [==============================] - 4s 78us/step - loss: 0.1728 - val_loss: 0.1776\n",
      "Epoch 14/20\n",
      "51876/51876 [==============================] - 4s 80us/step - loss: 0.1701 - val_loss: 0.1771\n",
      "Epoch 15/20\n",
      "51876/51876 [==============================] - 4s 79us/step - loss: 0.1689 - val_loss: 0.1764\n",
      "Epoch 16/20\n",
      "51876/51876 [==============================] - 4s 79us/step - loss: 0.1681 - val_loss: 0.1760\n",
      "Epoch 17/20\n",
      "51876/51876 [==============================] - 4s 80us/step - loss: 0.1671 - val_loss: 0.1840\n",
      "Epoch 18/20\n",
      "51876/51876 [==============================] - 4s 80us/step - loss: 0.1663 - val_loss: 0.1752\n",
      "Epoch 19/20\n",
      "51876/51876 [==============================] - 4s 87us/step - loss: 0.1651 - val_loss: 0.1804\n",
      "Epoch 20/20\n",
      "51876/51876 [==============================] - 4s 81us/step - loss: 0.1643 - val_loss: 0.1735\n"
     ]
    }
   ],
   "source": [
    "history = ANN.fit(x_tr, y_tr, epochs=20, validation_data=(x_val,y_val))"
   ]
  },
  {
   "cell_type": "code",
   "execution_count": 51,
   "metadata": {},
   "outputs": [
    {
     "data": {
      "text/plain": [
       "<function matplotlib.pyplot.plot(*args, scalex=True, scaley=True, data=None, **kwargs)>"
      ]
     },
     "execution_count": 51,
     "metadata": {},
     "output_type": "execute_result"
    },
    {
     "data": {
      "image/png": "[encoded data removed]",
      "text/plain": [
       "<Figure size 432x288 with 1 Axes>"
      ]
     },
     "metadata": {
      "needs_background": "light"
     },
     "output_type": "display_data"
    }
   ],
   "source": [
    "import matplotlib.pyplot as plt\n",
    "plt.plot(history.history[\"loss\"],label=\"training loss\")\n",
    "plt.plot(history.history[\"val_loss\"],label=\"val loss\")\n",
    "plt.legend(loc=\"upper left\")\n",
    "plt.ylabel('loss')\n",
    "plt.xlabel('epoch')\n",
    "plt.plot"
   ]
  },
  {
   "cell_type": "markdown",
   "metadata": {},
   "source": [
    "Cree y entrene nuevamente la red, esta vez cambiando el _learn rate_ utilizado para el SGD. Pruebe a lo menos dos valores mayores y dos valores menores al elegido anteriormente. Note que para valores mayores al propuesto puede comenzar a observar fenómeno de divergencia, por lo cual es recomendable agregarle a la red un _calback_, es decir una función que verifica estados y comportamientos de la red mientras se entrena, en particular `TerminateOnNaN`, el cual interrumpirá el proceso de entrenamiento si encuentra un valor NaN. \n",
    "\n",
    "Grafique el comportamiento de los errores de validación y entrenamiento para a lo menos un valor mayor y uno menor al original y comente."
   ]
  },
  {
   "cell_type": "code",
   "execution_count": 57,
   "metadata": {},
   "outputs": [],
   "source": [
    "from keras.callbacks import TerminateOnNaN\n",
    "\n",
    "def red(learn):\n",
    "    ANN = Sequential()\n",
    "    ANN.add(\n",
    "        Dense(\n",
    "            units = 256, \n",
    "            activation = 'relu'\n",
    "        )\n",
    "    )\n",
    "    ANN.add(\n",
    "        Dense(\n",
    "           units = 1\n",
    "        )\n",
    "    )\n",
    "    ANN.compile(\n",
    "        optimizer=SGD(lr=learn),\n",
    "        loss='mse')\n",
    "    history = ANN.fit(x_tr, y_tr, epochs=20, validation_data=(x_val,y_val),\n",
    "             callbacks=[TerminateOnNaN()]\n",
    "        )\n",
    "    if (len(history.history[\"loss\"])==20):\n",
    "        plt.plot(history.history[\"loss\"],label=\"training loss\")\n",
    "        plt.plot(history.history[\"val_loss\"],label=\"val loss\")\n",
    "        plt.legend(loc=\"upper left\")\n",
    "        plt.ylabel('loss')\n",
    "        plt.xlabel('epoch')\n",
    "        plt.plot"
   ]
  },
  {
   "cell_type": "code",
   "execution_count": 58,
   "metadata": {},
   "outputs": [
    {
     "name": "stdout",
     "output_type": "stream",
     "text": [
      "Train on 51876 samples, validate on 14823 samples\n",
      "Epoch 1/20\n",
      "51876/51876 [==============================] - 4s 81us/step - loss: 2.3720 - val_loss: 3.0993\n",
      "Epoch 2/20\n",
      "51876/51876 [==============================] - 5s 90us/step - loss: 0.9331 - val_loss: 0.5467\n",
      "Epoch 3/20\n",
      "51876/51876 [==============================] - 5s 94us/step - loss: 0.3535 - val_loss: 0.2413\n",
      "Epoch 4/20\n",
      "51876/51876 [==============================] - 4s 82us/step - loss: 0.2277 - val_loss: 0.2179\n",
      "Epoch 5/20\n",
      "51876/51876 [==============================] - 4s 84us/step - loss: 0.2085 - val_loss: 0.2098\n",
      "Epoch 6/20\n",
      "51876/51876 [==============================] - 4s 86us/step - loss: 0.2009 - val_loss: 0.2034\n",
      "Epoch 7/20\n",
      "51876/51876 [==============================] - 4s 76us/step - loss: 0.1954 - val_loss: 0.2003\n",
      "Epoch 8/20\n",
      "51876/51876 [==============================] - 4s 82us/step - loss: 0.1915 - val_loss: 0.1979\n",
      "Epoch 9/20\n",
      "51876/51876 [==============================] - 4s 80us/step - loss: 0.1881 - val_loss: 0.1947\n",
      "Epoch 10/20\n",
      "51876/51876 [==============================] - 4s 80us/step - loss: 0.1853 - val_loss: 0.1927\n",
      "Epoch 11/20\n",
      "51876/51876 [==============================] - 4s 83us/step - loss: 0.1829 - val_loss: 0.1919\n",
      "Epoch 12/20\n",
      "51876/51876 [==============================] - 4s 79us/step - loss: 0.1806 - val_loss: 0.1922\n",
      "Epoch 13/20\n",
      "51876/51876 [==============================] - 6s 109us/step - loss: 0.1790 - val_loss: 0.1877\n",
      "Epoch 14/20\n",
      "51876/51876 [==============================] - 5s 89us/step - loss: 0.1773 - val_loss: 0.1868\n",
      "Epoch 15/20\n",
      "51876/51876 [==============================] - 5s 90us/step - loss: 0.1755 - val_loss: 0.1859\n",
      "Epoch 16/20\n",
      "51876/51876 [==============================] - 5s 90us/step - loss: 0.1743 - val_loss: 0.1869\n",
      "Epoch 17/20\n",
      "51876/51876 [==============================] - 4s 83us/step - loss: 0.1729 - val_loss: 0.1855\n",
      "Epoch 18/20\n",
      "51876/51876 [==============================] - 5s 96us/step - loss: 0.1717 - val_loss: 0.1826\n",
      "Epoch 19/20\n",
      "51876/51876 [==============================] - 4s 75us/step - loss: 0.1704 - val_loss: 0.1840\n",
      "Epoch 20/20\n",
      "51876/51876 [==============================] - 4s 73us/step - loss: 0.1695 - val_loss: 0.1833\n"
     ]
    },
    {
     "data": {
      "image/png": "[encoded data removed]",
      "text/plain": [
       "<Figure size 432x288 with 1 Axes>"
      ]
     },
     "metadata": {
      "needs_background": "light"
     },
     "output_type": "display_data"
    }
   ],
   "source": [
    "red(0.001)#2 veces menor"
   ]
  },
  {
   "cell_type": "code",
   "execution_count": 59,
   "metadata": {},
   "outputs": [
    {
     "name": "stdout",
     "output_type": "stream",
     "text": [
      "Train on 51876 samples, validate on 14823 samples\n",
      "Epoch 1/20\n",
      "51876/51876 [==============================] - 4s 77us/step - loss: 5.1001 - val_loss: 1.1466\n",
      "Epoch 2/20\n",
      "51876/51876 [==============================] - 4s 77us/step - loss: 0.6483 - val_loss: 0.4219\n",
      "Epoch 3/20\n",
      "51876/51876 [==============================] - 4s 77us/step - loss: 0.3616 - val_loss: 0.3447\n",
      "Epoch 4/20\n",
      "51876/51876 [==============================] - 4s 78us/step - loss: 0.3182 - val_loss: 0.3236\n",
      "Epoch 5/20\n",
      "51876/51876 [==============================] - 4s 76us/step - loss: 0.2997 - val_loss: 0.3104\n",
      "Epoch 6/20\n",
      "51876/51876 [==============================] - 4s 73us/step - loss: 0.2872 - val_loss: 0.3010\n",
      "Epoch 7/20\n",
      "51876/51876 [==============================] - 4s 75us/step - loss: 0.2773 - val_loss: 0.2923\n",
      "Epoch 8/20\n",
      "51876/51876 [==============================] - 4s 77us/step - loss: 0.2690 - val_loss: 0.2851\n",
      "Epoch 9/20\n",
      "51876/51876 [==============================] - 4s 77us/step - loss: 0.2620 - val_loss: 0.2795\n",
      "Epoch 10/20\n",
      "51876/51876 [==============================] - 4s 77us/step - loss: 0.2558 - val_loss: 0.2747\n",
      "Epoch 11/20\n",
      "51876/51876 [==============================] - 4s 75us/step - loss: 0.2504 - val_loss: 0.2698\n",
      "Epoch 12/20\n",
      "51876/51876 [==============================] - 4s 74us/step - loss: 0.2455 - val_loss: 0.2662\n",
      "Epoch 13/20\n",
      "51876/51876 [==============================] - 4s 76us/step - loss: 0.2412 - val_loss: 0.2623\n",
      "Epoch 14/20\n",
      "51876/51876 [==============================] - 4s 79us/step - loss: 0.2372 - val_loss: 0.2596\n",
      "Epoch 15/20\n",
      "51876/51876 [==============================] - 4s 75us/step - loss: 0.2335 - val_loss: 0.2571\n",
      "Epoch 16/20\n",
      "51876/51876 [==============================] - 4s 81us/step - loss: 0.2301 - val_loss: 0.2539\n",
      "Epoch 17/20\n",
      "51876/51876 [==============================] - 5s 87us/step - loss: 0.2270 - val_loss: 0.2514\n",
      "Epoch 18/20\n",
      "51876/51876 [==============================] - 4s 81us/step - loss: 0.2240 - val_loss: 0.2491\n",
      "Epoch 19/20\n",
      "51876/51876 [==============================] - 4s 80us/step - loss: 0.2212 - val_loss: 0.2470\n",
      "Epoch 20/20\n",
      "51876/51876 [==============================] - 4s 84us/step - loss: 0.2187 - val_loss: 0.2451\n"
     ]
    },
    {
     "data": {
      "image/png": "[encoded data removed]",
      "text/plain": [
       "<Figure size 432x288 with 1 Axes>"
      ]
     },
     "metadata": {
      "needs_background": "light"
     },
     "output_type": "display_data"
    }
   ],
   "source": [
    "red(0.0002)#10 veces menor"
   ]
  },
  {
   "cell_type": "code",
   "execution_count": 60,
   "metadata": {},
   "outputs": [
    {
     "name": "stdout",
     "output_type": "stream",
     "text": [
      "Train on 51876 samples, validate on 14823 samples\n",
      "Epoch 1/20\n",
      "51876/51876 [==============================] - 4s 86us/step - loss: 2.2696 - val_loss: 0.6615\n",
      "Epoch 2/20\n",
      "17216/51876 [========>.....................] - ETA: 2s - loss: 81.4354Batch 547: Invalid loss, terminating training\n"
     ]
    }
   ],
   "source": [
    "red(0.004)#2 veces mayor"
   ]
  },
  {
   "cell_type": "code",
   "execution_count": 61,
   "metadata": {},
   "outputs": [
    {
     "name": "stdout",
     "output_type": "stream",
     "text": [
      "Train on 51876 samples, validate on 14823 samples\n",
      "Epoch 1/20\n",
      "   32/51876 [..............................] - ETA: 50s - loss: 25.4092Batch 9: Invalid loss, terminating training\n"
     ]
    }
   ],
   "source": [
    "red(0.02)#10 veces mayor"
   ]
  },
  {
   "cell_type": "markdown",
   "metadata": {},
   "source": [
    "### 1.f Activación y regularizadores $l$1 $l$2\n",
    "En esta pregunta se les propone explorar distintas funciones de activación o de regularización usual. Por lo extenso de la tarea se les propone elegir una de las dos exploraciones. En ambos casos deben entrenar la misma red entrenada anteriormente utilizando gradiente descendente con algun _learn rate_ que les parezca adecuado luego de la exploración en la pregunta anterior. \n",
    "\n",
    "* En caso de elegir explorar distintas funciones de activación, cambie la activación de la capa oculta sucesivamente por: tangente hiperbólica, _Leaky ReLu_, _softmax_, sigmoidea y lineal. Para esto puede basarse en el código presentado abajo y la documentación de keras. Para la activación _Leaky ReLu_ pruebe cambiar el parámetro de la red. Describa sus resultados y si observa diferencias entre las redes. \n",
    "\n",
    "* En caso de elegir explorar las funciones de regularización usual, agregue regularización $l$1 o $l$2 a la capa oculta y pruebe cambiar la tasa de regularización, reportando sus resultados. ¿Qué ocurre si la regularización es muy alta o muy baja? Una vez satisfecho con una tasa de regularización, aplique la regularización a la capa de salida y luego a ambas capas. \n",
    "\n",
    "**Independiente de la opción elegida**, comente sobre los siguientes temas:\n",
    "\n",
    "¿Cual es el interez de tener activaciones no lineales? ¿Le parece buena opción la activación sigmoidea para la capa oculta? ¿Qué pasaría si usaramos esta activación en la capa de salida? \n",
    "\n",
    "¿Cual es la intención de la regularización en general? En particular, ¿Que restricción implicita imponen las regularizaciones $l$1 o $l$2 sobre los pesos de la capa en la cual se aplican? Apoyese de ecuaciones. "
   ]
  },
  {
   "cell_type": "code",
   "execution_count": 65,
   "metadata": {},
   "outputs": [],
   "source": [
    "# activations\n",
    "def redActFun(fun):\n",
    "    print(fun+\"\\n\")\n",
    "    ANN = Sequential()\n",
    "    ANN.add(\n",
    "        Dense(\n",
    "            units = 256, \n",
    "            activation = fun\n",
    "        )\n",
    "    )\n",
    "    ANN.add(\n",
    "        Dense(\n",
    "           units = 1\n",
    "        )\n",
    "    )\n",
    "    ANN.compile(\n",
    "        optimizer=SGD(lr=0.002),\n",
    "        loss='mse')\n",
    "    history = ANN.fit(x_tr, y_tr, epochs=20, validation_data=(x_val,y_val),\n",
    "             callbacks=[TerminateOnNaN()])\n",
    "    if (len(history.history[\"loss\"])==20):\n",
    "        plt.plot(history.history[\"loss\"],label=\"training loss\")\n",
    "        plt.plot(history.history[\"val_loss\"],label=\"val loss\")\n",
    "        plt.legend(loc=\"upper left\")\n",
    "        plt.ylabel('loss')\n",
    "        plt.xlabel('epoch')\n",
    "        plt.plot\n",
    "# regularizer\n",
    "#from keras.regularizers import l1, l2\n",
    "#model.add(\n",
    "#    Dense( # . . .\n",
    "#          activity_regularizer=l2(0.001)\n",
    "#         )\n",
    "#)"
   ]
  },
  {
   "cell_type": "code",
   "execution_count": 66,
   "metadata": {},
   "outputs": [
    {
     "name": "stdout",
     "output_type": "stream",
     "text": [
      "softmax\n",
      "\n",
      "Train on 51876 samples, validate on 14823 samples\n",
      "Epoch 1/20\n",
      "51876/51876 [==============================] - 5s 87us/step - loss: 2.2771 - val_loss: 0.5100\n",
      "Epoch 2/20\n",
      "51876/51876 [==============================] - 4s 86us/step - loss: 0.5149 - val_loss: 0.5094\n",
      "Epoch 3/20\n",
      "51876/51876 [==============================] - 4s 84us/step - loss: 0.5142 - val_loss: 0.5086\n",
      "Epoch 4/20\n",
      "51876/51876 [==============================] - 4s 86us/step - loss: 0.5134 - val_loss: 0.5079\n",
      "Epoch 5/20\n",
      "51876/51876 [==============================] - 4s 86us/step - loss: 0.5126 - val_loss: 0.5071\n",
      "Epoch 6/20\n",
      "51876/51876 [==============================] - 4s 82us/step - loss: 0.5118 - val_loss: 0.5062\n",
      "Epoch 7/20\n",
      "51876/51876 [==============================] - 4s 82us/step - loss: 0.5110 - val_loss: 0.5054\n",
      "Epoch 8/20\n",
      "51876/51876 [==============================] - 4s 83us/step - loss: 0.5102 - val_loss: 0.5047\n",
      "Epoch 9/20\n",
      "51876/51876 [==============================] - 4s 83us/step - loss: 0.5093 - val_loss: 0.5038\n",
      "Epoch 10/20\n",
      "51876/51876 [==============================] - 4s 83us/step - loss: 0.5084 - val_loss: 0.5029\n",
      "Epoch 11/20\n",
      "51876/51876 [==============================] - 4s 83us/step - loss: 0.5075 - val_loss: 0.5020\n",
      "Epoch 12/20\n",
      "51876/51876 [==============================] - 4s 86us/step - loss: 0.5065 - val_loss: 0.5009\n",
      "Epoch 13/20\n",
      "51876/51876 [==============================] - 4s 81us/step - loss: 0.5055 - val_loss: 0.4998\n",
      "Epoch 14/20\n",
      "51876/51876 [==============================] - 4s 85us/step - loss: 0.5044 - val_loss: 0.4987\n",
      "Epoch 15/20\n",
      "51876/51876 [==============================] - 4s 85us/step - loss: 0.5033 - val_loss: 0.4976\n",
      "Epoch 16/20\n",
      "51876/51876 [==============================] - 5s 91us/step - loss: 0.5020 - val_loss: 0.4965\n",
      "Epoch 17/20\n",
      "51876/51876 [==============================] - 4s 81us/step - loss: 0.5007 - val_loss: 0.4952\n",
      "Epoch 18/20\n",
      "51876/51876 [==============================] - 4s 80us/step - loss: 0.4994 - val_loss: 0.4936\n",
      "Epoch 19/20\n",
      "51876/51876 [==============================] - 4s 80us/step - loss: 0.4979 - val_loss: 0.4920\n",
      "Epoch 20/20\n",
      "51876/51876 [==============================] - 5s 92us/step - loss: 0.4962 - val_loss: 0.4903\n"
     ]
    },
    {
     "data": {
      "image/png": "[encoded data removed]",
      "text/plain": [
       "<Figure size 432x288 with 1 Axes>"
      ]
     },
     "metadata": {
      "needs_background": "light"
     },
     "output_type": "display_data"
    }
   ],
   "source": [
    "redActFun(\"softmax\")"
   ]
  },
  {
   "cell_type": "code",
   "execution_count": 67,
   "metadata": {},
   "outputs": [
    {
     "name": "stdout",
     "output_type": "stream",
     "text": [
      "sigmoid\n",
      "\n",
      "Train on 51876 samples, validate on 14823 samples\n",
      "Epoch 1/20\n",
      "51876/51876 [==============================] - 4s 79us/step - loss: 0.3760 - val_loss: 0.2354\n",
      "Epoch 2/20\n",
      "51876/51876 [==============================] - 4s 77us/step - loss: 0.2156 - val_loss: 0.2138\n",
      "Epoch 3/20\n",
      "51876/51876 [==============================] - 4s 82us/step - loss: 0.1951 - val_loss: 0.1887\n",
      "Epoch 4/20\n",
      "51876/51876 [==============================] - 4s 82us/step - loss: 0.1872 - val_loss: 0.1835\n",
      "Epoch 5/20\n",
      "51876/51876 [==============================] - 4s 73us/step - loss: 0.1831 - val_loss: 0.1802\n",
      "Epoch 6/20\n",
      "51876/51876 [==============================] - 4s 72us/step - loss: 0.1810 - val_loss: 0.1781\n",
      "Epoch 7/20\n",
      "51876/51876 [==============================] - 4s 74us/step - loss: 0.1796 - val_loss: 0.1917\n",
      "Epoch 8/20\n",
      "51876/51876 [==============================] - 5s 88us/step - loss: 0.1785 - val_loss: 0.1769\n",
      "Epoch 9/20\n",
      "51876/51876 [==============================] - 4s 76us/step - loss: 0.1779 - val_loss: 0.1766\n",
      "Epoch 10/20\n",
      "51876/51876 [==============================] - 4s 75us/step - loss: 0.1772 - val_loss: 0.1761\n",
      "Epoch 11/20\n",
      "51876/51876 [==============================] - 4s 74us/step - loss: 0.1767 - val_loss: 0.1768\n",
      "Epoch 12/20\n",
      "51876/51876 [==============================] - 4s 78us/step - loss: 0.1765 - val_loss: 0.1822\n",
      "Epoch 13/20\n",
      "51876/51876 [==============================] - 5s 92us/step - loss: 0.1761 - val_loss: 0.1760\n",
      "Epoch 14/20\n",
      "51876/51876 [==============================] - 5s 88us/step - loss: 0.1758 - val_loss: 0.1780\n",
      "Epoch 15/20\n",
      "51876/51876 [==============================] - 4s 86us/step - loss: 0.1756 - val_loss: 0.1754\n",
      "Epoch 16/20\n",
      "51876/51876 [==============================] - 4s 79us/step - loss: 0.1754 - val_loss: 0.1793\n",
      "Epoch 17/20\n",
      "51876/51876 [==============================] - 5s 89us/step - loss: 0.1752 - val_loss: 0.1766\n",
      "Epoch 18/20\n",
      "51876/51876 [==============================] - 4s 81us/step - loss: 0.1750 - val_loss: 0.1755\n",
      "Epoch 19/20\n",
      "51876/51876 [==============================] - 4s 81us/step - loss: 0.1748 - val_loss: 0.1760\n",
      "Epoch 20/20\n",
      "51876/51876 [==============================] - 4s 79us/step - loss: 0.1746 - val_loss: 0.1827\n"
     ]
    },
    {
     "data": {
      "image/png": "[encoded data removed]",
      "text/plain": [
       "<Figure size 432x288 with 1 Axes>"
      ]
     },
     "metadata": {
      "needs_background": "light"
     },
     "output_type": "display_data"
    }
   ],
   "source": [
    "redActFun(\"sigmoid\")"
   ]
  },
  {
   "cell_type": "code",
   "execution_count": 68,
   "metadata": {},
   "outputs": [
    {
     "name": "stdout",
     "output_type": "stream",
     "text": [
      "linear\n",
      "\n",
      "Train on 51876 samples, validate on 14823 samples\n",
      "Epoch 1/20\n",
      "51876/51876 [==============================] - 4s 77us/step - loss: 3.5345 - val_loss: 2.6164\n",
      "Epoch 2/20\n",
      " 8000/51876 [===>..........................] - ETA: 3s - loss: 49.3323Batch 255: Invalid loss, terminating training\n"
     ]
    },
    {
     "name": "stderr",
     "output_type": "stream",
     "text": [
      "C:\\ProgramData\\Anaconda3\\lib\\site-packages\\keras\\utils\\generic_utils.py:367: RuntimeWarning: invalid value encountered in multiply\n",
      "  self._values[k][0] += v * (current - self._seen_so_far)\n",
      "C:\\ProgramData\\Anaconda3\\lib\\site-packages\\keras\\utils\\generic_utils.py:367: RuntimeWarning: invalid value encountered in double_scalars\n",
      "  self._values[k][0] += v * (current - self._seen_so_far)\n"
     ]
    }
   ],
   "source": [
    "redActFun(\"linear\")"
   ]
  },
  {
   "cell_type": "code",
   "execution_count": 69,
   "metadata": {},
   "outputs": [],
   "source": [
    "from keras.layers import LeakyReLU\n",
    "def redLeaky(alph):\n",
    "    ANN = Sequential()\n",
    "    ANN.add(\n",
    "        Dense(\n",
    "            units = 256\n",
    "        )\n",
    "    )\n",
    "    ANN.add(\n",
    "        LeakyReLU(alpha=alph)\n",
    "        )\n",
    "    ANN.add(\n",
    "        Dense(\n",
    "           units = 1\n",
    "        )\n",
    "    )\n",
    "    ANN.compile(\n",
    "        optimizer=SGD(lr=0.002),\n",
    "        loss='mse')\n",
    "    history = ANN.fit(x_tr, y_tr, epochs=20, validation_data=(x_val,y_val),\n",
    "             callbacks=[TerminateOnNaN()])\n",
    "    if (len(history.history[\"loss\"])==20):\n",
    "        plt.plot(history.history[\"loss\"],label=\"training loss\")\n",
    "        plt.plot(history.history[\"val_loss\"],label=\"val loss\")\n",
    "        plt.legend(loc=\"upper left\")\n",
    "        plt.ylabel('loss')\n",
    "        plt.xlabel('epoch')\n",
    "        plt.plot"
   ]
  },
  {
   "cell_type": "code",
   "execution_count": 70,
   "metadata": {},
   "outputs": [
    {
     "name": "stdout",
     "output_type": "stream",
     "text": [
      "Train on 51876 samples, validate on 14823 samples\n",
      "Epoch 1/20\n",
      "51876/51876 [==============================] - 4s 81us/step - loss: 2.2214 - val_loss: 2.1501\n",
      "Epoch 2/20\n",
      "51876/51876 [==============================] - 4s 80us/step - loss: 0.6186 - val_loss: 0.3884\n",
      "Epoch 3/20\n",
      "51876/51876 [==============================] - 4s 80us/step - loss: 0.3709 - val_loss: 0.2871\n",
      "Epoch 4/20\n",
      "51876/51876 [==============================] - 4s 82us/step - loss: 0.2509 - val_loss: 0.2092\n",
      "Epoch 5/20\n",
      "51876/51876 [==============================] - 4s 81us/step - loss: 0.2057 - val_loss: 0.1924\n",
      "Epoch 6/20\n",
      "51876/51876 [==============================] - 4s 77us/step - loss: 0.1888 - val_loss: 0.1874\n",
      "Epoch 7/20\n",
      "51876/51876 [==============================] - 4s 81us/step - loss: 0.1831 - val_loss: 0.1817\n",
      "Epoch 8/20\n",
      "51876/51876 [==============================] - 4s 82us/step - loss: 0.1807 - val_loss: 0.1818\n",
      "Epoch 9/20\n",
      "51876/51876 [==============================] - 4s 78us/step - loss: 0.1806 - val_loss: 0.1837\n",
      "Epoch 10/20\n",
      "51876/51876 [==============================] - 4s 78us/step - loss: 0.1778 - val_loss: 0.1817\n",
      "Epoch 11/20\n",
      "51876/51876 [==============================] - 4s 80us/step - loss: 0.1762 - val_loss: 0.1949\n",
      "Epoch 12/20\n",
      "51876/51876 [==============================] - 4s 80us/step - loss: 0.1737 - val_loss: 0.1776\n",
      "Epoch 13/20\n",
      "51876/51876 [==============================] - 4s 86us/step - loss: 0.1720 - val_loss: 0.1762\n",
      "Epoch 14/20\n",
      "51876/51876 [==============================] - 4s 84us/step - loss: 0.1709 - val_loss: 0.1739\n",
      "Epoch 15/20\n",
      "51876/51876 [==============================] - 4s 77us/step - loss: 0.1698 - val_loss: 0.1778\n",
      "Epoch 16/20\n",
      "51876/51876 [==============================] - 4s 80us/step - loss: 0.1689 - val_loss: 0.1738\n",
      "Epoch 17/20\n",
      "51876/51876 [==============================] - 4s 79us/step - loss: 0.1680 - val_loss: 0.1744\n",
      "Epoch 18/20\n",
      "51876/51876 [==============================] - 4s 77us/step - loss: 0.1674 - val_loss: 0.1729\n",
      "Epoch 19/20\n",
      "51876/51876 [==============================] - 4s 80us/step - loss: 0.1668 - val_loss: 0.1719\n",
      "Epoch 20/20\n",
      "51876/51876 [==============================] - 4s 78us/step - loss: 0.1666 - val_loss: 0.1733\n"
     ]
    },
    {
     "data": {
      "image/png": "[encoded data removed]",
      "text/plain": [
       "<Figure size 432x288 with 1 Axes>"
      ]
     },
     "metadata": {
      "needs_background": "light"
     },
     "output_type": "display_data"
    }
   ],
   "source": [
    "redLeaky(0.05)"
   ]
  },
  {
   "cell_type": "code",
   "execution_count": 71,
   "metadata": {},
   "outputs": [
    {
     "name": "stdout",
     "output_type": "stream",
     "text": [
      "Train on 51876 samples, validate on 14823 samples\n",
      "Epoch 1/20\n",
      "51876/51876 [==============================] - 4s 82us/step - loss: 2.1379 - val_loss: 1.6059\n",
      "Epoch 2/20\n",
      "51876/51876 [==============================] - 4s 79us/step - loss: 0.6341 - val_loss: 0.4428\n",
      "Epoch 3/20\n",
      "51876/51876 [==============================] - 4s 85us/step - loss: 0.3349 - val_loss: 0.2666\n",
      "Epoch 4/20\n",
      "51876/51876 [==============================] - 5s 88us/step - loss: 0.2302 - val_loss: 0.2359\n",
      "Epoch 5/20\n",
      "51876/51876 [==============================] - 4s 86us/step - loss: 0.2107 - val_loss: 0.2000\n",
      "Epoch 6/20\n",
      "51876/51876 [==============================] - 5s 89us/step - loss: 0.1994 - val_loss: 0.1959\n",
      "Epoch 7/20\n",
      "51876/51876 [==============================] - 5s 95us/step - loss: 0.1889 - val_loss: 0.1902\n",
      "Epoch 8/20\n",
      "51876/51876 [==============================] - 5s 92us/step - loss: 0.1814 - val_loss: 0.1856\n",
      "Epoch 9/20\n",
      "51876/51876 [==============================] - 5s 89us/step - loss: 0.1780 - val_loss: 0.1808\n",
      "Epoch 10/20\n",
      "51876/51876 [==============================] - 4s 86us/step - loss: 0.1759 - val_loss: 0.1962\n",
      "Epoch 11/20\n",
      "51876/51876 [==============================] - 5s 88us/step - loss: 0.1739 - val_loss: 0.1801\n",
      "Epoch 12/20\n",
      "51876/51876 [==============================] - 4s 81us/step - loss: 0.1722 - val_loss: 0.1783\n",
      "Epoch 13/20\n",
      "51876/51876 [==============================] - 4s 84us/step - loss: 0.1714 - val_loss: 0.1794\n",
      "Epoch 14/20\n",
      "51876/51876 [==============================] - 4s 84us/step - loss: 0.1697 - val_loss: 0.1767\n",
      "Epoch 15/20\n",
      "51876/51876 [==============================] - 4s 83us/step - loss: 0.1686 - val_loss: 0.1820\n",
      "Epoch 16/20\n",
      "51876/51876 [==============================] - 4s 80us/step - loss: 0.1677 - val_loss: 0.1744\n",
      "Epoch 17/20\n",
      "51876/51876 [==============================] - 4s 79us/step - loss: 0.1670 - val_loss: 0.1756\n",
      "Epoch 18/20\n",
      "51876/51876 [==============================] - 4s 83us/step - loss: 0.1665 - val_loss: 0.1741\n",
      "Epoch 19/20\n",
      "51876/51876 [==============================] - 4s 84us/step - loss: 0.1646 - val_loss: 0.1746\n",
      "Epoch 20/20\n",
      "51876/51876 [==============================] - 5s 88us/step - loss: 0.1645 - val_loss: 0.1746\n"
     ]
    },
    {
     "data": {
      "image/png": "[encoded data removed]",
      "text/plain": [
       "<Figure size 432x288 with 1 Axes>"
      ]
     },
     "metadata": {
      "needs_background": "light"
     },
     "output_type": "display_data"
    }
   ],
   "source": [
    "redLeaky(0.005)"
   ]
  },
  {
   "cell_type": "code",
   "execution_count": 72,
   "metadata": {},
   "outputs": [
    {
     "name": "stdout",
     "output_type": "stream",
     "text": [
      "Train on 51876 samples, validate on 14823 samples\n",
      "Epoch 1/20\n",
      "51876/51876 [==============================] - 4s 81us/step - loss: 2.5351 - val_loss: 2.1772\n",
      "Epoch 2/20\n",
      "51876/51876 [==============================] - 4s 80us/step - loss: 0.9067 - val_loss: 0.7507\n",
      "Epoch 3/20\n",
      "51876/51876 [==============================] - 4s 79us/step - loss: 0.7078 - val_loss: 0.5458\n",
      "Epoch 4/20\n",
      "51876/51876 [==============================] - 4s 82us/step - loss: 0.6362 - val_loss: 0.6581\n",
      "Epoch 5/20\n",
      "51876/51876 [==============================] - 4s 80us/step - loss: 0.4601 - val_loss: 0.4069\n",
      "Epoch 6/20\n",
      "51876/51876 [==============================] - 4s 81us/step - loss: 0.4255 - val_loss: 0.3110\n",
      "Epoch 7/20\n",
      "51876/51876 [==============================] - 4s 78us/step - loss: 0.2717 - val_loss: 0.2449\n",
      "Epoch 8/20\n",
      "51876/51876 [==============================] - 4s 79us/step - loss: 0.2977 - val_loss: 0.6593\n",
      "Epoch 9/20\n",
      "51876/51876 [==============================] - 4s 78us/step - loss: 0.5115 - val_loss: 0.3526\n",
      "Epoch 10/20\n",
      "51876/51876 [==============================] - 4s 80us/step - loss: 0.2706 - val_loss: 0.2294\n",
      "Epoch 11/20\n",
      "51876/51876 [==============================] - 4s 78us/step - loss: 0.2169 - val_loss: 0.1873\n",
      "Epoch 12/20\n",
      "51876/51876 [==============================] - 4s 82us/step - loss: 0.2004 - val_loss: 0.2109\n",
      "Epoch 13/20\n",
      "51876/51876 [==============================] - 4s 81us/step - loss: 0.1909 - val_loss: 0.1779\n",
      "Epoch 14/20\n",
      "51876/51876 [==============================] - 4s 84us/step - loss: 0.1842 - val_loss: 0.1780\n",
      "Epoch 15/20\n",
      "51876/51876 [==============================] - 4s 84us/step - loss: 0.1769 - val_loss: 0.1718\n",
      "Epoch 16/20\n",
      "51876/51876 [==============================] - 4s 78us/step - loss: 0.1768 - val_loss: 0.1774\n",
      "Epoch 17/20\n",
      "51876/51876 [==============================] - 4s 81us/step - loss: 0.1759 - val_loss: 0.1731\n",
      "Epoch 18/20\n",
      "51876/51876 [==============================] - 4s 79us/step - loss: 0.1759 - val_loss: 0.1721\n",
      "Epoch 19/20\n",
      "51876/51876 [==============================] - 4s 81us/step - loss: 0.1753 - val_loss: 0.1723\n",
      "Epoch 20/20\n",
      "51876/51876 [==============================] - 4s 84us/step - loss: 0.1746 - val_loss: 0.1767\n"
     ]
    },
    {
     "data": {
      "image/png": "[encoded data removed]",
      "text/plain": [
       "<Figure size 432x288 with 1 Axes>"
      ]
     },
     "metadata": {
      "needs_background": "light"
     },
     "output_type": "display_data"
    }
   ],
   "source": [
    "redLeakyeakyeaky(0.5)"
   ]
  },
  {
   "cell_type": "markdown",
   "metadata": {},
   "source": [
    "### 1.g Exploración del Número de neuronas\n",
    "\n",
    "Ahora probaremos cambiando el número de neuronas en la capa oculta. Para esto, entrenen la red que estimen conveniente luego de la pregunta anterior, variando el numero de nuronas. Deben explorar a lo menos 10 número de neuronas distintos. Una recomendación sería por ejemplo explorar numero de neuronas en potencias de 2. \n",
    "\n",
    "Para cada red entrenada, recuperen el mejor error de validación y el error de entrenamiento en la _epoch_ donde se obtuvo tal error de validación. Grafique como se comportan ambos errores a medida crece el número de neuronas y comente. "
   ]
  },
  {
   "cell_type": "code",
   "execution_count": 92,
   "metadata": {},
   "outputs": [],
   "source": [
    "import numpy as np\n",
    "def redNumero(exp):\n",
    "    \n",
    "    train_error = np.zeros(exp)\n",
    "    val_error = np.zeros(exp)\n",
    "\n",
    "    for n_units in range(4,exp+1):\n",
    "        ANN = Sequential()\n",
    "        ANN.add(\n",
    "            Dense(\n",
    "                units = 2**n_units, \n",
    "            )\n",
    "        )\n",
    "        ANN.add(\n",
    "            LeakyReLU(alpha=0.05)\n",
    "        )\n",
    "        ANN.add(\n",
    "            Dense(\n",
    "               units = 1\n",
    "            )\n",
    "        )\n",
    "        ANN.compile(\n",
    "            optimizer=SGD(lr=0.002),\n",
    "            loss='mse')\n",
    "        history = ANN.fit(x_tr, y_tr, epochs=20, validation_data=(x_val,y_val),verbose=0)\n",
    "        val_error[n_units-1] = min(history.history['val_loss'])\n",
    "        train_error[n_units-1] = history.history['loss'][np.argmin(history.history['val_loss'])] \n",
    "        \n",
    "    plt.plot(train_error,label=\"training error\")\n",
    "    plt.plot(val_error,label=\"val error\")\n",
    "    plt.legend(loc=\"upper left\")\n",
    "    plt.ylabel('error')\n",
    "    plt.xlabel('n_neuronas (potencia de 2)')\n",
    "    plt.plot"
   ]
  },
  {
   "cell_type": "code",
   "execution_count": 93,
   "metadata": {},
   "outputs": [
    {
     "data": {
      "image/png": "[encoded data removed]",
      "text/plain": [
       "<Figure size 432x288 with 1 Axes>"
      ]
     },
     "metadata": {
      "needs_background": "light"
     },
     "output_type": "display_data"
    }
   ],
   "source": [
    "redNumero(10)"
   ]
  },
  {
   "cell_type": "markdown",
   "metadata": {},
   "source": [
    "### 1.h Dropout\n",
    "Como seguramente constataron en la pregunta anterior, un numero demasiado grande de parámetros en el modelo puede llevarnos a observar el fenomeno de _overfitting_. Una aproximación a este fenómeno que ha dado excelente resultado en redes neuronales es el método _dropout_, donde estocásticamente se desactivan una fracción de las neuronas al momento del entrenamiento, así efectivamente reduciendo el tamaño del modelo que se entrena en cada iteración e implicitamente obteniendo modelos más robustos por el simple hecho que al momento de entrenar nunca se entrena el \"mismo\" modelo. \n",
    "\n",
    "Según lo aprendido en el ramo, ¿en qué consiste el fenómeno de _overfitting_? ¿Por qué modelos más grandes suelen presentar el fenómeno? \n",
    "\n",
    "Entrene la mejor red obtenida en la pregunta anterior agregando una capa de _Dropout_ con parámetro $0.5$ inmediatamente luego de la capa oculta. Repita luego el proceso con una red con el doble de neuronas. Note que el agregar una capa _dropout_ hará que la red entrene más lento, por lo cual es recomendable aumentar el numero de _epochs_ para entrenar la red a completitud. \n",
    "\n",
    "¿Qué observa al agregar _dropout_? Comente y compare con sus resultados anteriores. "
   ]
  },
  {
   "cell_type": "code",
   "execution_count": 98,
   "metadata": {},
   "outputs": [
    {
     "name": "stdout",
     "output_type": "stream",
     "text": [
      "Train on 51876 samples, validate on 14823 samples\n",
      "Epoch 1/25\n",
      "51876/51876 [==============================] - 3s 66us/step - loss: 2.2414 - val_loss: 0.2961\n",
      "Epoch 2/25\n",
      "51876/51876 [==============================] - 3s 63us/step - loss: 0.3762 - val_loss: 0.2764\n",
      "Epoch 3/25\n",
      "51876/51876 [==============================] - 3s 58us/step - loss: 0.3420 - val_loss: 0.2520\n",
      "Epoch 4/25\n",
      "51876/51876 [==============================] - 3s 60us/step - loss: 0.3230 - val_loss: 0.2475\n",
      "Epoch 5/25\n",
      "51876/51876 [==============================] - 3s 60us/step - loss: 0.3127 - val_loss: 0.2320\n",
      "Epoch 6/25\n",
      "51876/51876 [==============================] - 3s 59us/step - loss: 0.3044 - val_loss: 0.2256\n",
      "Epoch 7/25\n",
      "51876/51876 [==============================] - 3s 54us/step - loss: 0.2994 - val_loss: 0.2202\n",
      "Epoch 8/25\n",
      "51876/51876 [==============================] - 3s 60us/step - loss: 0.2925 - val_loss: 0.2291\n",
      "Epoch 9/25\n",
      "51876/51876 [==============================] - 3s 51us/step - loss: 0.2879 - val_loss: 0.2125\n",
      "Epoch 10/25\n",
      "51876/51876 [==============================] - 3s 49us/step - loss: 0.2845 - val_loss: 0.2122 ETA: 0s - loss: 0.285 - ETA: 0s - loss: 0.28 - ETA: 0s - loss:\n",
      "Epoch 11/25\n",
      "51876/51876 [==============================] - 3s 50us/step - loss: 0.2808 - val_loss: 0.2103\n",
      "Epoch 12/25\n",
      "51876/51876 [==============================] - 3s 51us/step - loss: 0.2761 - val_loss: 0.2032\n",
      "Epoch 13/25\n",
      "51876/51876 [==============================] - 3s 49us/step - loss: 0.2724 - val_loss: 0.2082TA: 0\n",
      "Epoch 14/25\n",
      "51876/51876 [==============================] - 3s 51us/step - loss: 0.2731 - val_loss: 0.2132\n",
      "Epoch 15/25\n",
      "51876/51876 [==============================] - 3s 49us/step - loss: 0.2684 - val_loss: 0.1992\n",
      "Epoch 16/25\n",
      "51876/51876 [==============================] - 3s 49us/step - loss: 0.2646 - val_loss: 0.2068 ETA: 0s - loss: 0.26\n",
      "Epoch 17/25\n",
      "51876/51876 [==============================] - 3s 49us/step - loss: 0.2630 - val_loss: 0.1975\n",
      "Epoch 18/25\n",
      "51876/51876 [==============================] - 3s 49us/step - loss: 0.2647 - val_loss: 0.1909\n",
      "Epoch 19/25\n",
      "51876/51876 [==============================] - 3s 49us/step - loss: 0.2579 - val_loss: 0.1909\n",
      "Epoch 20/25\n",
      "51876/51876 [==============================] - 3s 50us/step - loss: 0.2585 - val_loss: 0.1987- loss: 0.\n",
      "Epoch 21/25\n",
      "51876/51876 [==============================] - 3s 49us/step - loss: 0.2591 - val_loss: 0.1963\n",
      "Epoch 22/25\n",
      "51876/51876 [==============================] - 3s 49us/step - loss: 0.2538 - val_loss: 0.1874oss:\n",
      "Epoch 23/25\n",
      "51876/51876 [==============================] - 3s 49us/step - loss: 0.2571 - val_loss: 0.1937: 0s - loss:  - ETA: 0s - loss: 0.25\n",
      "Epoch 24/25\n",
      "51876/51876 [==============================] - 3s 49us/step - loss: 0.2533 - val_loss: 0.1837- loss\n",
      "Epoch 25/25\n",
      "51876/51876 [==============================] - 3s 49us/step - loss: 0.2537 - val_loss: 0.1840\n"
     ]
    }
   ],
   "source": [
    "from keras.layers import Dropout\n",
    "\n",
    "\n",
    "ANN = Sequential()\n",
    "ANN.add(\n",
    "    Dense(\n",
    "        units = 8, \n",
    "    )\n",
    ")\n",
    "ANN.add(\n",
    "    LeakyReLU(alpha=0.05)\n",
    ")\n",
    "ANN.add(Dropout(0.5))\n",
    "ANN.add(\n",
    "    Dense(\n",
    "       units = 1\n",
    "    )\n",
    ")\n",
    "ANN.compile(\n",
    "    optimizer=SGD(lr=0.002),\n",
    "    loss='mse')\n",
    "history = ANN.fit(x_tr, y_tr, epochs=25, validation_data=(x_val,y_val))"
   ]
  },
  {
   "cell_type": "code",
   "execution_count": 99,
   "metadata": {},
   "outputs": [
    {
     "name": "stdout",
     "output_type": "stream",
     "text": [
      "Train on 51876 samples, validate on 14823 samples\n",
      "Epoch 1/30\n",
      "51876/51876 [==============================] - 3s 58us/step - loss: 2.2108 - val_loss: 0.2910\n",
      "Epoch 2/30\n",
      "51876/51876 [==============================] - 3s 54us/step - loss: 0.3715 - val_loss: 0.2512\n",
      "Epoch 3/30\n",
      "51876/51876 [==============================] - 3s 55us/step - loss: 0.3300 - val_loss: 0.2328\n",
      "Epoch 4/30\n",
      "51876/51876 [==============================] - 3s 56us/step - loss: 0.3104 - val_loss: 0.2259\n",
      "Epoch 5/30\n",
      "51876/51876 [==============================] - 3s 55us/step - loss: 0.2863 - val_loss: 0.2156\n",
      "Epoch 6/30\n",
      "51876/51876 [==============================] - 3s 58us/step - loss: 0.2814 - val_loss: 0.2180\n",
      "Epoch 7/30\n",
      "51876/51876 [==============================] - 3s 56us/step - loss: 0.2684 - val_loss: 0.2095\n",
      "Epoch 8/30\n",
      "51876/51876 [==============================] - 3s 57us/step - loss: 0.2704 - val_loss: 0.2048\n",
      "Epoch 9/30\n",
      "51876/51876 [==============================] - 3s 61us/step - loss: 0.2656 - val_loss: 0.1997\n",
      "Epoch 10/30\n",
      "51876/51876 [==============================] - 3s 60us/step - loss: 0.2582 - val_loss: 0.1993\n",
      "Epoch 11/30\n",
      "51876/51876 [==============================] - 3s 57us/step - loss: 0.2563 - val_loss: 0.1938\n",
      "Epoch 12/30\n",
      "51876/51876 [==============================] - 3s 56us/step - loss: 0.2605 - val_loss: 0.1980\n",
      "Epoch 13/30\n",
      "51876/51876 [==============================] - 3s 56us/step - loss: 0.2496 - val_loss: 0.1947\n",
      "Epoch 14/30\n",
      "51876/51876 [==============================] - 3s 56us/step - loss: 0.2547 - val_loss: 0.1964\n",
      "Epoch 15/30\n",
      "51876/51876 [==============================] - 3s 57us/step - loss: 0.2473 - val_loss: 0.1931\n",
      "Epoch 16/30\n",
      "51876/51876 [==============================] - 3s 56us/step - loss: 0.2420 - val_loss: 0.1870\n",
      "Epoch 17/30\n",
      "51876/51876 [==============================] - 3s 62us/step - loss: 0.2548 - val_loss: 0.2283\n",
      "Epoch 18/30\n",
      "51876/51876 [==============================] - 3s 55us/step - loss: 0.2466 - val_loss: 0.1896\n",
      "Epoch 19/30\n",
      "51876/51876 [==============================] - 3s 56us/step - loss: 0.2476 - val_loss: 0.1858\n",
      "Epoch 20/30\n",
      "51876/51876 [==============================] - 3s 55us/step - loss: 0.2411 - val_loss: 0.1860\n",
      "Epoch 21/30\n",
      "51876/51876 [==============================] - 3s 55us/step - loss: 0.2376 - val_loss: 0.1873\n",
      "Epoch 22/30\n",
      "51876/51876 [==============================] - 3s 55us/step - loss: 0.2360 - val_loss: 0.1866\n",
      "Epoch 23/30\n",
      "51876/51876 [==============================] - 3s 57us/step - loss: 0.2389 - val_loss: 0.1913\n",
      "Epoch 24/30\n",
      "51876/51876 [==============================] - 3s 57us/step - loss: 0.2359 - val_loss: 0.1898\n",
      "Epoch 25/30\n",
      "51876/51876 [==============================] - 3s 56us/step - loss: 0.2328 - val_loss: 0.1814\n",
      "Epoch 26/30\n",
      "51876/51876 [==============================] - 3s 55us/step - loss: 0.2334 - val_loss: 0.1835\n",
      "Epoch 27/30\n",
      "51876/51876 [==============================] - 3s 60us/step - loss: 0.2328 - val_loss: 0.1813\n",
      "Epoch 28/30\n",
      "51876/51876 [==============================] - 3s 58us/step - loss: 0.2360 - val_loss: 0.1818\n",
      "Epoch 29/30\n",
      "51876/51876 [==============================] - 3s 57us/step - loss: 0.2370 - val_loss: 0.1824\n",
      "Epoch 30/30\n",
      "51876/51876 [==============================] - 3s 57us/step - loss: 0.2362 - val_loss: 0.1868\n"
     ]
    }
   ],
   "source": [
    "ANN = Sequential()\n",
    "ANN.add(\n",
    "    Dense(\n",
    "        units = 16, \n",
    "    )\n",
    ")\n",
    "ANN.add(\n",
    "    LeakyReLU(alpha=0.05)\n",
    ")\n",
    "ANN.add(Dropout(0.5))\n",
    "ANN.add(\n",
    "    Dense(\n",
    "       units = 1\n",
    "    )\n",
    ")\n",
    "ANN.compile(\n",
    "    optimizer=SGD(lr=0.002),\n",
    "    loss='mse')\n",
    "history = ANN.fit(x_tr, y_tr, epochs=30, validation_data=(x_val,y_val))"
   ]
  },
  {
   "cell_type": "markdown",
   "metadata": {},
   "source": [
    "### 1.i Extreme Learning Machine\n",
    "\n",
    "Otra aproximación para obtener modelos grandes que no sobreajustan es la implementada por _ELM_. Explique en qué consiste la idea de _ELM_ y porqué esto podría evitar sobreajuste a pesar de utilizar modelos con gran número de parámetros. \n",
    "\n",
    "Entrene una _ELM_ de una capa fija y una capa oculta, la primera con un número relativamente grande y la segunda con un número relativamente pequeño. Puede utilizar los valores propuestos en el código u otros que le parezcan convenientes. \n",
    "\n",
    "Comente sobre el número total de parámetros y el número de parametros entrenables con respecto a los modelos anteriores. ¿Cómo se desempeña la red? ¿El número elevado de parámetros totales implica necesariamente _overfitting_?"
   ]
  },
  {
   "cell_type": "code",
   "execution_count": 101,
   "metadata": {},
   "outputs": [
    {
     "name": "stdout",
     "output_type": "stream",
     "text": [
      "Train on 51876 samples, validate on 14823 samples\n",
      "Epoch 1/20\n",
      "51876/51876 [==============================] - 10s 200us/step - loss: 1.6344 - val_loss: 0.2556\n",
      "Epoch 2/20\n",
      "51876/51876 [==============================] - 11s 206us/step - loss: 0.2202 - val_loss: 0.1949\n",
      "Epoch 3/20\n",
      "51876/51876 [==============================] - 12s 237us/step - loss: 0.1984 - val_loss: 0.2049\n",
      "Epoch 4/20\n",
      "51876/51876 [==============================] - 11s 216us/step - loss: 0.1898 - val_loss: 0.1916\n",
      "Epoch 5/20\n",
      "51876/51876 [==============================] - 10s 189us/step - loss: 0.1854 - val_loss: 0.1845\n",
      "Epoch 6/20\n",
      "51876/51876 [==============================] - 11s 218us/step - loss: 0.1819 - val_loss: 0.1816\n",
      "Epoch 7/20\n",
      "51876/51876 [==============================] - 10s 197us/step - loss: 0.1793 - val_loss: 0.1809\n",
      "Epoch 8/20\n",
      "51876/51876 [==============================] - 9s 176us/step - loss: 0.1768 - val_loss: 0.1793\n",
      "Epoch 9/20\n",
      "51876/51876 [==============================] - 10s 200us/step - loss: 0.1748 - val_loss: 0.1769\n",
      "Epoch 10/20\n",
      "51876/51876 [==============================] - 9s 171us/step - loss: 0.1730 - val_loss: 0.1765\n",
      "Epoch 11/20\n",
      "51876/51876 [==============================] - 9s 173us/step - loss: 0.1714 - val_loss: 0.1803\n",
      "Epoch 12/20\n",
      "51876/51876 [==============================] - 9s 174us/step - loss: 0.1702 - val_loss: 0.1760\n",
      "Epoch 13/20\n",
      "51876/51876 [==============================] - 9s 174us/step - loss: 0.1689 - val_loss: 0.1738\n",
      "Epoch 14/20\n",
      "51876/51876 [==============================] - 9s 176us/step - loss: 0.1676 - val_loss: 0.1747\n",
      "Epoch 15/20\n",
      "51876/51876 [==============================] - 11s 220us/step - loss: 0.1664 - val_loss: 0.3015\n",
      "Epoch 16/20\n",
      "51876/51876 [==============================] - 10s 200us/step - loss: 0.1658 - val_loss: 0.1745\n",
      "Epoch 17/20\n",
      "51876/51876 [==============================] - 10s 194us/step - loss: 0.1644 - val_loss: 0.1772\n",
      "Epoch 18/20\n",
      "51876/51876 [==============================] - 11s 220us/step - loss: 0.1638 - val_loss: 0.2100\n",
      "Epoch 19/20\n",
      "51876/51876 [==============================] - 13s 247us/step - loss: 0.1629 - val_loss: 0.1739\n",
      "Epoch 20/20\n",
      "51876/51876 [==============================] - 10s 196us/step - loss: 0.1619 - val_loss: 0.1709\n"
     ]
    }
   ],
   "source": [
    "model=Sequential()\n",
    "\n",
    "model.add(\n",
    "    Dense(units=5000,\n",
    "          activation='relu',\n",
    "         )\n",
    ")\n",
    "\n",
    "model.add(Dense(units=32, activation='relu'))\n",
    "\n",
    "model.add(Dense(1))\n",
    "\n",
    "model.layers[0].trainable = False\n",
    "\n",
    "model.compile(\n",
    "    optimizer=SGD(lr=0.002),\n",
    "    loss='mse')\n",
    "\n",
    "history = model.fit(x_tr, y_tr, epochs=20, validation_data=(x_val,y_val))"
   ]
  },
  {
   "cell_type": "markdown",
   "metadata": {},
   "source": [
    "### 1.j Learning Rate Decay\n",
    "Ahora entrenaremos un modelo manejando manualmente el _learn rate_. Para esto utilizaremos el _callback_ `LearningRateScheduler`. Este _callback_ nos permitirá implementar una función que maneje el _learn rate_ de nuestro modelo. \n",
    "\n",
    "Escriba una función que reciba la epoca actual y retorne un _learn rate_ lr. El lr inicial debe ser igual o mayor a alguno que haya dado buenos resultados en las preguntas anteriores. La función debe dividir por 2 el lr cada 10 _epochs_. Además ponga como restricción que el lr no debe ser menor a $5\\times 10^{-5}$, es decir si el valor obtenido es menor a  $5\\times 10^{-5}$, la función retorna  $5\\times 10^{-5}$.\n",
    "\n",
    "Entrene su red preferida de las preguntas anteriores con esta modificación, grafique los errores a lo largo del entrenamiento y comente. Según lo visto en el ramo, ¿por qué podría ser util disminuir el _learn rate_ a medida se avanza en el aprendizaje de la red?"
   ]
  },
  {
   "cell_type": "code",
   "execution_count": 102,
   "metadata": {},
   "outputs": [
    {
     "name": "stdout",
     "output_type": "stream",
     "text": [
      "Train on 51876 samples, validate on 14823 samples\n",
      "Epoch 1/20\n",
      "51876/51876 [==============================] - 11s 212us/step - loss: 2.0584 - val_loss: 0.4121\n",
      "Epoch 2/20\n",
      "51876/51876 [==============================] - 10s 189us/step - loss: 0.2800 - val_loss: 0.2255\n",
      "Epoch 3/20\n",
      "51876/51876 [==============================] - 10s 188us/step - loss: 0.2197 - val_loss: 0.2080\n",
      "Epoch 4/20\n",
      "51876/51876 [==============================] - 10s 186us/step - loss: 0.2062 - val_loss: 0.2026\n",
      "Epoch 5/20\n",
      "51876/51876 [==============================] - 11s 206us/step - loss: 0.1994 - val_loss: 0.2215\n",
      "Epoch 6/20\n",
      "51876/51876 [==============================] - 10s 201us/step - loss: 0.1948 - val_loss: 0.2318\n",
      "Epoch 7/20\n",
      "51876/51876 [==============================] - 11s 213us/step - loss: 0.1911 - val_loss: 0.1905\n",
      "Epoch 8/20\n",
      "51876/51876 [==============================] - 11s 205us/step - loss: 0.1875 - val_loss: 0.1929\n",
      "Epoch 9/20\n",
      "51876/51876 [==============================] - 10s 191us/step - loss: 0.1847 - val_loss: 0.1936\n",
      "Epoch 10/20\n",
      "51876/51876 [==============================] - 10s 194us/step - loss: 0.1820 - val_loss: 0.1858\n",
      "Epoch 11/20\n",
      "51876/51876 [==============================] - 10s 193us/step - loss: 0.1776 - val_loss: 0.1850\n",
      "Epoch 12/20\n",
      "51876/51876 [==============================] - 9s 183us/step - loss: 0.1764 - val_loss: 0.1842\n",
      "Epoch 13/20\n",
      "51876/51876 [==============================] - 10s 199us/step - loss: 0.1754 - val_loss: 0.1836\n",
      "Epoch 14/20\n",
      "51876/51876 [==============================] - 11s 209us/step - loss: 0.1745 - val_loss: 0.1830\n",
      "Epoch 15/20\n",
      "51876/51876 [==============================] - 9s 180us/step - loss: 0.1736 - val_loss: 0.1840\n",
      "Epoch 16/20\n",
      "51876/51876 [==============================] - 9s 178us/step - loss: 0.1729 - val_loss: 0.1851\n",
      "Epoch 17/20\n",
      "51876/51876 [==============================] - 11s 220us/step - loss: 0.1721 - val_loss: 0.1917\n",
      "Epoch 18/20\n",
      "51876/51876 [==============================] - 12s 227us/step - loss: 0.1714 - val_loss: 0.1819\n",
      "Epoch 19/20\n",
      "51876/51876 [==============================] - 12s 224us/step - loss: 0.1707 - val_loss: 0.1808\n",
      "Epoch 20/20\n",
      "51876/51876 [==============================] - 12s 231us/step - loss: 0.1700 - val_loss: 0.1802\n"
     ]
    }
   ],
   "source": [
    "from keras.callbacks import LearningRateScheduler\n",
    "\n",
    "def step_decay(epoch,lr):\n",
    "    if(epoch%10==0):\n",
    "        if (lr<5*10**(-5)):\n",
    "            return lr\n",
    "        else: \n",
    "            return lr/2\n",
    "    return lr\n",
    "\n",
    "schedule = LearningRateScheduler(step_decay)\n",
    "\n",
    "model=Sequential()\n",
    "\n",
    "model.add(\n",
    "    Dense(units=5000,\n",
    "          activation='relu',\n",
    "         )\n",
    ")\n",
    "\n",
    "model.add(Dense(units=32, activation='relu'))\n",
    "\n",
    "model.add(Dense(1))\n",
    "\n",
    "model.layers[0].trainable = False\n",
    "\n",
    "model.compile(\n",
    "    optimizer=SGD(lr=0.002),\n",
    "    loss='mse')\n",
    "\n",
    "history = model.fit(x_tr, y_tr, epochs=20, validation_data=(x_val,y_val),callbacks=[schedule])\n"
   ]
  },
  {
   "cell_type": "markdown",
   "metadata": {},
   "source": [
    "### 1.k Vanishing Gradient\n",
    "\n",
    "El fenómeno del _vanishing gradient_ es el rápido decaimiento del paso de _Backpropagation_ al avanzar por las capas. A lo largo de la tarea solo hemos entrenado capas con una red oculta, de igual forma que la comunidad cientifica realizo por largo tiempo, por el problema del _vanishing gradient_ y por el teorema de aproximación universal que resumidamente demuestra que una red de una sola capa puede aproximar una amplia familia de funciones. \n",
    "\n",
    "En esta pregunta entrenaremos una red neuronal profunda sin implementar ninguno de los dispositivos que permiten hoy en día sortear el problema del _vanishing gradient_, para ponerlo en evidencia. Para esto construya una red con 6 capas ocultas, con la siguiente lista de numero de neuronas: $256$ $256$ $128$ $128$ $32$ y $32$, o con valores similares. De tal manera obtendrá un valor de parámetros relativamente comparable a los valores utilizados en las primeras redes. \n",
    "\n",
    "Grafique un histograma con los pesos de las 6 capas densas de la red sin entrenar, entrenela a completitud con el método que estime conveniente y luego grafique nuevamente los histogramas para las 6 capas. Comente lo que observa. \n",
    "\n",
    "Luego, pruebe cambiar la inizialización de los pesos de la capa densa, puede revisar la documentación de keras para ver las opciones existentes a parte de `glorot_uniform` por defecto. ¿Se logra solucionar el problema? \n",
    "\n",
    "Por último, pruebe aumentar la tasa de aprendizaje para ver si logra hacer que el paso de _backpropagation_ alcance las capas que anteriormente no se entrenaban. ¿Qué observa en este caso? "
   ]
  },
  {
   "cell_type": "code",
   "execution_count": 173,
   "metadata": {},
   "outputs": [
    {
     "name": "stdout",
     "output_type": "stream",
     "text": [
      "Train on 51876 samples, validate on 14823 samples\n"
     ]
    },
    {
     "data": {
      "image/png": "[encoded data removed]",
      "text/plain": [
       "<Figure size 432x288 with 1 Axes>"
      ]
     },
     "metadata": {
      "needs_background": "light"
     },
     "output_type": "display_data"
    }
   ],
   "source": [
    "\n",
    "model=Sequential()\n",
    "\n",
    "model.add(Dense(units=256, activation='relu'))\n",
    "model.add(Dense(units=256, activation='relu'))\n",
    "model.add(Dense(units=128, activation='relu'))\n",
    "model.add(Dense(units=128, activation='relu'))\n",
    "model.add(Dense(units=32, activation='relu'))\n",
    "model.add(Dense(units=32, activation='relu'))\n",
    "model.add(Dense(1))\n",
    "model.compile(optimizer=SGD(lr=0.002),loss='mse')\n",
    "model.fit(x_tr, y_tr, epochs=0, validation_data=(x_val,y_val))\n",
    "for i in range (5):\n",
    "    layer_kernel_weights = model.get_layer(index=i).get_weights()[0].reshape(model.get_layer(index=i).get_weights()[0].size,1)\n",
    "    layer_bias_weight = model.get_layer(index=i).get_weights()[1]\n",
    "    name='layer'+str(i)\n",
    "    plt.hist(layer_kernel_weights,label=name)\n",
    "    plt.legend()"
   ]
  },
  {
   "cell_type": "code",
   "execution_count": 174,
   "metadata": {},
   "outputs": [
    {
     "name": "stdout",
     "output_type": "stream",
     "text": [
      "Train on 51876 samples, validate on 14823 samples\n",
      "Epoch 1/20\n",
      "51876/51876 [==============================] - 8s 162us/step - loss: 0.7207 - val_loss: 0.2213\n",
      "Epoch 2/20\n",
      "51876/51876 [==============================] - 6s 118us/step - loss: 0.2084 - val_loss: 0.2118\n",
      "Epoch 3/20\n",
      "51876/51876 [==============================] - 6s 119us/step - loss: 0.1887 - val_loss: 0.1920\n",
      "Epoch 4/20\n",
      "51876/51876 [==============================] - 6s 114us/step - loss: 0.1787 - val_loss: 0.1867\n",
      "Epoch 5/20\n",
      "51876/51876 [==============================] - 6s 111us/step - loss: 0.1711 - val_loss: 0.2465\n",
      "Epoch 6/20\n",
      "51876/51876 [==============================] - 6s 114us/step - loss: 0.1662 - val_loss: 0.2223\n",
      "Epoch 7/20\n",
      "51876/51876 [==============================] - 6s 111us/step - loss: 0.1613 - val_loss: 0.1787\n",
      "Epoch 8/20\n",
      "51876/51876 [==============================] - 6s 111us/step - loss: 0.1576 - val_loss: 0.1785\n",
      "Epoch 9/20\n",
      "51876/51876 [==============================] - 6s 113us/step - loss: 0.1541 - val_loss: 0.1905\n",
      "Epoch 10/20\n",
      "51876/51876 [==============================] - 6s 113us/step - loss: 0.1508 - val_loss: 0.1763\n",
      "Epoch 11/20\n",
      "51876/51876 [==============================] - 6s 111us/step - loss: 0.1478 - val_loss: 0.1788\n",
      "Epoch 12/20\n",
      "51876/51876 [==============================] - 6s 114us/step - loss: 0.1450 - val_loss: 0.1768\n",
      "Epoch 13/20\n",
      "51876/51876 [==============================] - 6s 112us/step - loss: 0.1422 - val_loss: 0.1747\n",
      "Epoch 14/20\n",
      "51876/51876 [==============================] - 6s 112us/step - loss: 0.1396 - val_loss: 0.1737\n",
      "Epoch 15/20\n",
      "51876/51876 [==============================] - 6s 111us/step - loss: 0.1371 - val_loss: 0.1756\n",
      "Epoch 16/20\n",
      "51876/51876 [==============================] - 6s 112us/step - loss: 0.1348 - val_loss: 0.1753\n",
      "Epoch 17/20\n",
      "51876/51876 [==============================] - 6s 113us/step - loss: 0.1325 - val_loss: 0.1752\n",
      "Epoch 18/20\n",
      "51876/51876 [==============================] - 6s 112us/step - loss: 0.1302 - val_loss: 0.1775\n",
      "Epoch 19/20\n",
      "51876/51876 [==============================] - 6s 112us/step - loss: 0.1280 - val_loss: 0.1788\n",
      "Epoch 20/20\n",
      "51876/51876 [==============================] - 6s 112us/step - loss: 0.1260 - val_loss: 0.1779\n"
     ]
    },
    {
     "data": {
      "image/png": "[encoded data removed]",
      "text/plain": [
       "<Figure size 432x288 with 1 Axes>"
      ]
     },
     "metadata": {
      "needs_background": "light"
     },
     "output_type": "display_data"
    }
   ],
   "source": [
    "model.fit(x_tr, y_tr, epochs=20, validation_data=(x_val,y_val))\n",
    "for i in range (5):\n",
    "    layer_kernel_weights = model.get_layer(index=i).get_weights()[0].reshape(model.get_layer(index=i).get_weights()[0].size,1)\n",
    "    layer_bias_weight = model.get_layer(index=i).get_weights()[1]\n",
    "    name='layer'+str(i)\n",
    "    plt.hist(layer_kernel_weights,label=name)\n",
    "    plt.legend()"
   ]
  },
  {
   "cell_type": "markdown",
   "metadata": {},
   "source": [
    "Probando con RandomUniform"
   ]
  },
  {
   "cell_type": "code",
   "execution_count": 179,
   "metadata": {},
   "outputs": [
    {
     "name": "stdout",
     "output_type": "stream",
     "text": [
      "Train on 51876 samples, validate on 14823 samples\n"
     ]
    },
    {
     "data": {
      "image/png": "[encoded data removed]",
      "text/plain": [
       "<Figure size 432x288 with 1 Axes>"
      ]
     },
     "metadata": {
      "needs_background": "light"
     },
     "output_type": "display_data"
    }
   ],
   "source": [
    "model=Sequential()\n",
    "\n",
    "model.add(Dense(units=256, activation='relu',kernel_initializer='RandomUniform'))\n",
    "model.add(Dense(units=256, activation='relu',kernel_initializer='RandomUniform'))\n",
    "model.add(Dense(units=128, activation='relu',kernel_initializer='RandomUniform'))\n",
    "model.add(Dense(units=128, activation='relu',kernel_initializer='RandomUniform'))\n",
    "model.add(Dense(units=32, activation='relu',kernel_initializer='RandomUniform'))\n",
    "model.add(Dense(units=32, activation='relu',kernel_initializer='RandomUniform'))\n",
    "model.add(Dense(1))\n",
    "model.compile(optimizer=SGD(lr=0.002),loss='mse')\n",
    "model.fit(x_tr, y_tr, epochs=0, validation_data=(x_val,y_val))\n",
    "for i in range (5):\n",
    "    layer_kernel_weights = model.get_layer(index=i).get_weights()[0].reshape(model.get_layer(index=i).get_weights()[0].size,1)\n",
    "    layer_bias_weight = model.get_layer(index=i).get_weights()[1]\n",
    "    name='layer'+str(i)\n",
    "    plt.hist(layer_kernel_weights,label=name)\n",
    "    plt.legend()"
   ]
  },
  {
   "cell_type": "code",
   "execution_count": 180,
   "metadata": {},
   "outputs": [
    {
     "name": "stdout",
     "output_type": "stream",
     "text": [
      "Train on 51876 samples, validate on 14823 samples\n",
      "Epoch 1/20\n",
      "51876/51876 [==============================] - 7s 132us/step - loss: 1.1255 - val_loss: 0.5115\n",
      "Epoch 2/20\n",
      "51876/51876 [==============================] - 7s 126us/step - loss: 0.5166 - val_loss: 0.5108\n",
      "Epoch 3/20\n",
      "51876/51876 [==============================] - 6s 125us/step - loss: 0.5156 - val_loss: 0.5107\n",
      "Epoch 4/20\n",
      "51876/51876 [==============================] - 6s 123us/step - loss: 0.5141 - val_loss: 0.5076\n",
      "Epoch 5/20\n",
      "51876/51876 [==============================] - 6s 125us/step - loss: 0.5098 - val_loss: 0.5003\n",
      "Epoch 6/20\n",
      "51876/51876 [==============================] - 6s 123us/step - loss: 0.4692 - val_loss: 0.3658\n",
      "Epoch 7/20\n",
      "51876/51876 [==============================] - 6s 120us/step - loss: 0.2498 - val_loss: 0.1998\n",
      "Epoch 8/20\n",
      "51876/51876 [==============================] - 6s 123us/step - loss: 0.1928 - val_loss: 0.1862\n",
      "Epoch 9/20\n",
      "51876/51876 [==============================] - 7s 126us/step - loss: 0.1818 - val_loss: 0.1775\n",
      "Epoch 10/20\n",
      "51876/51876 [==============================] - 7s 131us/step - loss: 0.1769 - val_loss: 0.1747\n",
      "Epoch 11/20\n",
      "51876/51876 [==============================] - 6s 121us/step - loss: 0.1735 - val_loss: 0.1730\n",
      "Epoch 12/20\n",
      "51876/51876 [==============================] - 6s 122us/step - loss: 0.1707 - val_loss: 0.1716\n",
      "Epoch 13/20\n",
      "51876/51876 [==============================] - 7s 130us/step - loss: 0.1686 - val_loss: 0.1718\n",
      "Epoch 14/20\n",
      "51876/51876 [==============================] - 7s 129us/step - loss: 0.1667 - val_loss: 0.1731\n",
      "Epoch 15/20\n",
      "51876/51876 [==============================] - 6s 123us/step - loss: 0.1648 - val_loss: 0.1684\n",
      "Epoch 16/20\n",
      "51876/51876 [==============================] - 7s 131us/step - loss: 0.1632 - val_loss: 0.1686\n",
      "Epoch 17/20\n",
      "51876/51876 [==============================] - 6s 124us/step - loss: 0.1614 - val_loss: 0.1677\n",
      "Epoch 18/20\n",
      "51876/51876 [==============================] - 7s 131us/step - loss: 0.1602 - val_loss: 0.1664\n",
      "Epoch 19/20\n",
      "51876/51876 [==============================] - 6s 121us/step - loss: 0.1585 - val_loss: 0.1676\n",
      "Epoch 20/20\n",
      "51876/51876 [==============================] - 7s 131us/step - loss: 0.1572 - val_loss: 0.1675\n"
     ]
    },
    {
     "data": {
      "image/png": "[encoded data removed]",
      "text/plain": [
       "<Figure size 432x288 with 1 Axes>"
      ]
     },
     "metadata": {
      "needs_background": "light"
     },
     "output_type": "display_data"
    }
   ],
   "source": [
    "model.fit(x_tr, y_tr, epochs=20, validation_data=(x_val,y_val))\n",
    "for i in range (5):\n",
    "    layer_kernel_weights = model.get_layer(index=i).get_weights()[0].reshape(model.get_layer(index=i).get_weights()[0].size,1)\n",
    "    layer_bias_weight = model.get_layer(index=i).get_weights()[1]\n",
    "    name='layer'+str(i)\n",
    "    plt.hist(layer_kernel_weights,label=name)\n",
    "    plt.legend()"
   ]
  },
  {
   "cell_type": "markdown",
   "metadata": {},
   "source": [
    "Probando con he_uniform"
   ]
  },
  {
   "cell_type": "code",
   "execution_count": 175,
   "metadata": {},
   "outputs": [
    {
     "name": "stdout",
     "output_type": "stream",
     "text": [
      "Train on 51876 samples, validate on 14823 samples\n"
     ]
    },
    {
     "data": {
      "image/png": "[encoded data removed]",
      "text/plain": [
       "<Figure size 432x288 with 1 Axes>"
      ]
     },
     "metadata": {
      "needs_background": "light"
     },
     "output_type": "display_data"
    }
   ],
   "source": [
    "model=Sequential()\n",
    "\n",
    "model.add(Dense(units=256, activation='relu',kernel_initializer='he_uniform'))\n",
    "model.add(Dense(units=256, activation='relu',kernel_initializer='he_uniform'))\n",
    "model.add(Dense(units=128, activation='relu',kernel_initializer='he_uniform'))\n",
    "model.add(Dense(units=128, activation='relu',kernel_initializer='he_uniform'))\n",
    "model.add(Dense(units=32, activation='relu',kernel_initializer='he_uniform'))\n",
    "model.add(Dense(units=32, activation='relu',kernel_initializer='he_uniform'))\n",
    "model.add(Dense(1))\n",
    "model.compile(optimizer=SGD(lr=0.002),loss='mse')\n",
    "model.fit(x_tr, y_tr, epochs=0, validation_data=(x_val,y_val))\n",
    "for i in range (5):\n",
    "    layer_kernel_weights = model.get_layer(index=i).get_weights()[0].reshape(model.get_layer(index=i).get_weights()[0].size,1)\n",
    "    layer_bias_weight = model.get_layer(index=i).get_weights()[1]\n",
    "    name='layer'+str(i)\n",
    "    plt.hist(layer_kernel_weights,label=name)\n",
    "    plt.legend()"
   ]
  },
  {
   "cell_type": "code",
   "execution_count": 176,
   "metadata": {},
   "outputs": [
    {
     "name": "stdout",
     "output_type": "stream",
     "text": [
      "Train on 51876 samples, validate on 14823 samples\n",
      "Epoch 1/20\n",
      "51876/51876 [==============================] - 6s 115us/step - loss: 0.8904 - val_loss: 0.2592\n",
      "Epoch 2/20\n",
      "51876/51876 [==============================] - 6s 113us/step - loss: 0.2292 - val_loss: 0.2153\n",
      "Epoch 3/20\n",
      "51876/51876 [==============================] - 6s 113us/step - loss: 0.1994 - val_loss: 0.2029\n",
      "Epoch 4/20\n",
      "51876/51876 [==============================] - 6s 113us/step - loss: 0.1819 - val_loss: 0.1957\n",
      "Epoch 5/20\n",
      "51876/51876 [==============================] - 6s 113us/step - loss: 0.1717 - val_loss: 0.2176\n",
      "Epoch 6/20\n",
      "51876/51876 [==============================] - 6s 112us/step - loss: 0.1647 - val_loss: 0.1965\n",
      "Epoch 7/20\n",
      "51876/51876 [==============================] - 6s 112us/step - loss: 0.1586 - val_loss: 0.1903\n",
      "Epoch 8/20\n",
      "51876/51876 [==============================] - 6s 112us/step - loss: 0.1538 - val_loss: 0.1891\n",
      "Epoch 9/20\n",
      "51876/51876 [==============================] - 6s 113us/step - loss: 0.1494 - val_loss: 0.1892\n",
      "Epoch 10/20\n",
      "51876/51876 [==============================] - 6s 114us/step - loss: 0.1456 - val_loss: 0.1863\n",
      "Epoch 11/20\n",
      "51876/51876 [==============================] - 6s 113us/step - loss: 0.1419 - val_loss: 0.1884\n",
      "Epoch 12/20\n",
      "51876/51876 [==============================] - 6s 114us/step - loss: 0.1385 - val_loss: 0.1882\n",
      "Epoch 13/20\n",
      "51876/51876 [==============================] - 6s 112us/step - loss: 0.1354 - val_loss: 0.1895\n",
      "Epoch 14/20\n",
      "51876/51876 [==============================] - 6s 113us/step - loss: 0.1325 - val_loss: 0.1887\n",
      "Epoch 15/20\n",
      "51876/51876 [==============================] - 6s 113us/step - loss: 0.1295 - val_loss: 0.1933\n",
      "Epoch 16/20\n",
      "51876/51876 [==============================] - 6s 113us/step - loss: 0.1268 - val_loss: 0.1868\n",
      "Epoch 17/20\n",
      "51876/51876 [==============================] - 6s 113us/step - loss: 0.1242 - val_loss: 0.1877\n",
      "Epoch 18/20\n",
      "51876/51876 [==============================] - 6s 115us/step - loss: 0.1220 - val_loss: 0.1879\n",
      "Epoch 19/20\n",
      "51876/51876 [==============================] - 6s 113us/step - loss: 0.1195 - val_loss: 0.1891\n",
      "Epoch 20/20\n",
      "51876/51876 [==============================] - 6s 113us/step - loss: 0.1171 - val_loss: 0.1891\n"
     ]
    },
    {
     "data": {
      "image/png": "[encoded data removed]",
      "text/plain": [
       "<Figure size 432x288 with 1 Axes>"
      ]
     },
     "metadata": {
      "needs_background": "light"
     },
     "output_type": "display_data"
    }
   ],
   "source": [
    "model.fit(x_tr, y_tr, epochs=20, validation_data=(x_val,y_val))\n",
    "for i in range (5):\n",
    "    layer_kernel_weights = model.get_layer(index=i).get_weights()[0].reshape(model.get_layer(index=i).get_weights()[0].size,1)\n",
    "    layer_bias_weight = model.get_layer(index=i).get_weights()[1]\n",
    "    name='layer'+str(i)\n",
    "    plt.hist(layer_kernel_weights,label=name)\n",
    "    plt.legend()"
   ]
  },
  {
   "cell_type": "markdown",
   "metadata": {},
   "source": [
    "Probando con he_normal"
   ]
  },
  {
   "cell_type": "code",
   "execution_count": 177,
   "metadata": {},
   "outputs": [
    {
     "name": "stdout",
     "output_type": "stream",
     "text": [
      "Train on 51876 samples, validate on 14823 samples\n"
     ]
    },
    {
     "data": {
      "image/png": "[encoded data removed]",
      "text/plain": [
       "<Figure size 432x288 with 1 Axes>"
      ]
     },
     "metadata": {
      "needs_background": "light"
     },
     "output_type": "display_data"
    }
   ],
   "source": [
    "model=Sequential()\n",
    "\n",
    "model.add(Dense(units=256, activation='relu',kernel_initializer='he_normal'))\n",
    "model.add(Dense(units=256, activation='relu',kernel_initializer='he_normal'))\n",
    "model.add(Dense(units=128, activation='relu',kernel_initializer='he_normal'))\n",
    "model.add(Dense(units=128, activation='relu',kernel_initializer='he_normal'))\n",
    "model.add(Dense(units=32, activation='relu',kernel_initializer='he_normal'))\n",
    "model.add(Dense(units=32, activation='relu',kernel_initializer='he_normal'))\n",
    "model.add(Dense(1))\n",
    "model.compile(optimizer=SGD(lr=0.002),loss='mse')\n",
    "model.fit(x_tr, y_tr, epochs=0, validation_data=(x_val,y_val))\n",
    "for i in range (5):\n",
    "    layer_kernel_weights = model.get_layer(index=i).get_weights()[0].reshape(model.get_layer(index=i).get_weights()[0].size,1)\n",
    "    layer_bias_weight = model.get_layer(index=i).get_weights()[1]\n",
    "    name='layer'+str(i)\n",
    "    plt.hist(layer_kernel_weights,label=name)\n",
    "    plt.legend()"
   ]
  },
  {
   "cell_type": "code",
   "execution_count": 178,
   "metadata": {},
   "outputs": [
    {
     "name": "stdout",
     "output_type": "stream",
     "text": [
      "Train on 51876 samples, validate on 14823 samples\n",
      "Epoch 1/20\n",
      "51876/51876 [==============================] - 6s 113us/step - loss: 1.0988 - val_loss: 0.2586\n",
      "Epoch 2/20\n",
      "51876/51876 [==============================] - 6s 110us/step - loss: 0.2319 - val_loss: 0.2186\n",
      "Epoch 3/20\n",
      "51876/51876 [==============================] - 6s 110us/step - loss: 0.2021 - val_loss: 0.2002\n",
      "Epoch 4/20\n",
      "51876/51876 [==============================] - 6s 110us/step - loss: 0.1854 - val_loss: 0.2105\n",
      "Epoch 5/20\n",
      "51876/51876 [==============================] - 6s 112us/step - loss: 0.1749 - val_loss: 0.2056\n",
      "Epoch 6/20\n",
      "51876/51876 [==============================] - 6s 111us/step - loss: 0.1679 - val_loss: 0.1932\n",
      "Epoch 7/20\n",
      "51876/51876 [==============================] - 6s 111us/step - loss: 0.1622 - val_loss: 0.1921\n",
      "Epoch 8/20\n",
      "51876/51876 [==============================] - 6s 114us/step - loss: 0.1575 - val_loss: 0.1856\n",
      "Epoch 9/20\n",
      "51876/51876 [==============================] - 6s 110us/step - loss: 0.1532 - val_loss: 0.1916\n",
      "Epoch 10/20\n",
      "51876/51876 [==============================] - 6s 110us/step - loss: 0.1495 - val_loss: 0.1856\n",
      "Epoch 11/20\n",
      "51876/51876 [==============================] - 6s 112us/step - loss: 0.1462 - val_loss: 0.1857\n",
      "Epoch 12/20\n",
      "51876/51876 [==============================] - 6s 110us/step - loss: 0.1430 - val_loss: 0.1933\n",
      "Epoch 13/20\n",
      "51876/51876 [==============================] - 6s 111us/step - loss: 0.1402 - val_loss: 0.1841\n",
      "Epoch 14/20\n",
      "51876/51876 [==============================] - 6s 110us/step - loss: 0.1372 - val_loss: 0.1855\n",
      "Epoch 15/20\n",
      "51876/51876 [==============================] - 6s 110us/step - loss: 0.1345 - val_loss: 0.1840\n",
      "Epoch 16/20\n",
      "51876/51876 [==============================] - 6s 111us/step - loss: 0.1321 - val_loss: 0.1866\n",
      "Epoch 17/20\n",
      "51876/51876 [==============================] - 6s 110us/step - loss: 0.1295 - val_loss: 0.1842\n",
      "Epoch 18/20\n",
      "51876/51876 [==============================] - 6s 122us/step - loss: 0.1270 - val_loss: 0.1845\n",
      "Epoch 19/20\n",
      "51876/51876 [==============================] - 6s 115us/step - loss: 0.1245 - val_loss: 0.1848\n",
      "Epoch 20/20\n",
      "51876/51876 [==============================] - 6s 114us/step - loss: 0.1226 - val_loss: 0.2139\n"
     ]
    },
    {
     "data": {
      "image/png": "[encoded data removed]",
      "text/plain": [
       "<Figure size 432x288 with 1 Axes>"
      ]
     },
     "metadata": {
      "needs_background": "light"
     },
     "output_type": "display_data"
    }
   ],
   "source": [
    "model.fit(x_tr, y_tr, epochs=20, validation_data=(x_val,y_val))\n",
    "for i in range (5):\n",
    "    layer_kernel_weights = model.get_layer(index=i).get_weights()[0].reshape(model.get_layer(index=i).get_weights()[0].size,1)\n",
    "    layer_bias_weight = model.get_layer(index=i).get_weights()[1]\n",
    "    name='layer'+str(i)\n",
    "    plt.hist(layer_kernel_weights,label=name)\n",
    "    plt.legend()"
   ]
  },
  {
   "cell_type": "markdown",
   "metadata": {},
   "source": [
    "Cambiando Learning Rate"
   ]
  },
  {
   "cell_type": "code",
   "execution_count": 181,
   "metadata": {},
   "outputs": [
    {
     "name": "stdout",
     "output_type": "stream",
     "text": [
      "Train on 51876 samples, validate on 14823 samples\n",
      "Epoch 1/20\n",
      "51876/51876 [==============================] - 7s 129us/step - loss: 0.5845 - val_loss: 0.2271\n",
      "Epoch 2/20\n",
      "51876/51876 [==============================] - 6s 124us/step - loss: 0.1914 - val_loss: 0.1904\n",
      "Epoch 3/20\n",
      "51876/51876 [==============================] - 6s 119us/step - loss: 0.1760 - val_loss: 0.2065\n",
      "Epoch 4/20\n",
      "51876/51876 [==============================] - 6s 119us/step - loss: 0.1670 - val_loss: 0.1783\n",
      "Epoch 5/20\n",
      "51876/51876 [==============================] - 6s 115us/step - loss: 0.1602 - val_loss: 0.1786\n",
      "Epoch 6/20\n",
      "51876/51876 [==============================] - 6s 116us/step - loss: 0.1544 - val_loss: 0.1747\n",
      "Epoch 7/20\n",
      "51876/51876 [==============================] - 6s 116us/step - loss: 0.1497 - val_loss: 0.1768\n",
      "Epoch 8/20\n",
      "51876/51876 [==============================] - 6s 115us/step - loss: 0.1452 - val_loss: 0.1886\n",
      "Epoch 9/20\n",
      "51876/51876 [==============================] - 6s 115us/step - loss: 0.1407 - val_loss: 0.1779\n",
      "Epoch 10/20\n",
      "51876/51876 [==============================] - 6s 119us/step - loss: 0.1371 - val_loss: 0.1788\n",
      "Epoch 11/20\n",
      "51876/51876 [==============================] - 6s 121us/step - loss: 0.1332 - val_loss: 0.2002\n",
      "Epoch 12/20\n",
      "51876/51876 [==============================] - 6s 125us/step - loss: 0.1301 - val_loss: 0.1747\n",
      "Epoch 13/20\n",
      "51876/51876 [==============================] - 6s 115us/step - loss: 0.1262 - val_loss: 0.1767\n",
      "Epoch 14/20\n",
      "51876/51876 [==============================] - 6s 115us/step - loss: 0.1229 - val_loss: 0.1772\n",
      "Epoch 15/20\n",
      "51876/51876 [==============================] - 7s 126us/step - loss: 0.1198 - val_loss: 0.2440\n",
      "Epoch 16/20\n",
      "51876/51876 [==============================] - 7s 133us/step - loss: 0.1168 - val_loss: 0.1793\n",
      "Epoch 17/20\n",
      "51876/51876 [==============================] - 6s 114us/step - loss: 0.1134 - val_loss: 0.1807\n",
      "Epoch 18/20\n",
      "51876/51876 [==============================] - 6s 119us/step - loss: 0.1101 - val_loss: 0.3072\n",
      "Epoch 19/20\n",
      "51876/51876 [==============================] - 6s 122us/step - loss: 0.1072 - val_loss: 0.2293\n",
      "Epoch 20/20\n",
      "51876/51876 [==============================] - 7s 138us/step - loss: 0.1049 - val_loss: 0.2027\n"
     ]
    },
    {
     "data": {
      "image/png": "[encoded data removed]",
      "text/plain": [
       "<Figure size 432x288 with 1 Axes>"
      ]
     },
     "metadata": {
      "needs_background": "light"
     },
     "output_type": "display_data"
    }
   ],
   "source": [
    "model=Sequential()\n",
    "\n",
    "model.add(Dense(units=256, activation='relu'))\n",
    "model.add(Dense(units=256, activation='relu'))\n",
    "model.add(Dense(units=128, activation='relu'))\n",
    "model.add(Dense(units=128, activation='relu'))\n",
    "model.add(Dense(units=32, activation='relu'))\n",
    "model.add(Dense(units=32, activation='relu'))\n",
    "model.add(Dense(1))\n",
    "model.compile(optimizer=SGD(lr=0.002*2),loss='mse')\n",
    "model.fit(x_tr, y_tr, epochs=20, validation_data=(x_val,y_val))\n",
    "for i in range (5):\n",
    "    layer_kernel_weights = model.get_layer(index=i).get_weights()[0].reshape(model.get_layer(index=i).get_weights()[0].size,1)\n",
    "    layer_bias_weight = model.get_layer(index=i).get_weights()[1]\n",
    "    name='layer'+str(i)\n",
    "    plt.hist(layer_kernel_weights,label=name)\n",
    "    plt.legend()"
   ]
  },
  {
   "cell_type": "code",
   "execution_count": 184,
   "metadata": {},
   "outputs": [
    {
     "name": "stdout",
     "output_type": "stream",
     "text": [
      "Train on 51876 samples, validate on 14823 samples\n",
      "Epoch 1/20\n",
      "51876/51876 [==============================] - 7s 127us/step - loss: 0.3978 - val_loss: 0.2102\n",
      "Epoch 2/20\n",
      "51876/51876 [==============================] - 7s 125us/step - loss: 0.1828 - val_loss: 0.1913\n",
      "Epoch 3/20\n",
      "51876/51876 [==============================] - 7s 125us/step - loss: 0.1683 - val_loss: 0.1768\n",
      "Epoch 4/20\n",
      "51876/51876 [==============================] - 6s 124us/step - loss: 0.1581 - val_loss: 0.1752\n",
      "Epoch 5/20\n",
      "51876/51876 [==============================] - 6s 124us/step - loss: 0.1508 - val_loss: 0.1862\n",
      "Epoch 6/20\n",
      "51876/51876 [==============================] - 6s 123us/step - loss: 0.1447 - val_loss: 0.1740\n",
      "Epoch 7/20\n",
      "51876/51876 [==============================] - 6s 123us/step - loss: 0.1387 - val_loss: 0.1757\n",
      "Epoch 8/20\n",
      "51876/51876 [==============================] - 6s 120us/step - loss: 0.1337 - val_loss: 0.1768\n",
      "Epoch 9/20\n",
      "51876/51876 [==============================] - 6s 118us/step - loss: 0.1286 - val_loss: 0.1775\n",
      "Epoch 10/20\n",
      "51876/51876 [==============================] - 6s 117us/step - loss: 0.1243 - val_loss: 0.1780\n",
      "Epoch 11/20\n",
      "51876/51876 [==============================] - 6s 118us/step - loss: 0.1193 - val_loss: 0.1789\n",
      "Epoch 12/20\n",
      "51876/51876 [==============================] - 6s 117us/step - loss: 0.1148 - val_loss: 0.1867\n",
      "Epoch 13/20\n",
      "51876/51876 [==============================] - 6s 118us/step - loss: 0.1100 - val_loss: 0.1822\n",
      "Epoch 14/20\n",
      "51876/51876 [==============================] - 6s 118us/step - loss: 0.1063 - val_loss: 0.1921\n",
      "Epoch 15/20\n",
      "51876/51876 [==============================] - 6s 117us/step - loss: 0.1017 - val_loss: 0.1873\n",
      "Epoch 16/20\n",
      "51876/51876 [==============================] - 7s 126us/step - loss: 0.0983 - val_loss: 0.1996\n",
      "Epoch 17/20\n",
      "51876/51876 [==============================] - 7s 129us/step - loss: 0.0950 - val_loss: 0.1895\n",
      "Epoch 18/20\n",
      "51876/51876 [==============================] - 6s 112us/step - loss: 0.0906 - val_loss: 0.1933\n",
      "Epoch 19/20\n",
      "51876/51876 [==============================] - 6s 112us/step - loss: 0.0873 - val_loss: 0.2030\n",
      "Epoch 20/20\n",
      "51876/51876 [==============================] - 6s 108us/step - loss: 0.0908 - val_loss: 0.2029\n"
     ]
    },
    {
     "data": {
      "image/png": "[encoded data removed]",
      "text/plain": [
       "<Figure size 432x288 with 1 Axes>"
      ]
     },
     "metadata": {
      "needs_background": "light"
     },
     "output_type": "display_data"
    }
   ],
   "source": [
    "model=Sequential()\n",
    "\n",
    "model.add(Dense(units=256, activation='relu'))\n",
    "model.add(Dense(units=256, activation='relu'))\n",
    "model.add(Dense(units=128, activation='relu'))\n",
    "model.add(Dense(units=128, activation='relu'))\n",
    "model.add(Dense(units=32, activation='relu'))\n",
    "model.add(Dense(units=32, activation='relu'))\n",
    "model.add(Dense(1))\n",
    "model.compile(optimizer=SGD(lr=0.002*4),loss='mse')\n",
    "model.fit(x_tr, y_tr, epochs=20, validation_data=(x_val,y_val))\n",
    "for i in range (5):\n",
    "    layer_kernel_weights = model.get_layer(index=i).get_weights()[0].reshape(model.get_layer(index=i).get_weights()[0].size,1)\n",
    "    layer_bias_weight = model.get_layer(index=i).get_weights()[1]\n",
    "    name='layer'+str(i)\n",
    "    plt.hist(layer_kernel_weights,label=name)\n",
    "    plt.legend()"
   ]
  },
  {
   "cell_type": "code",
   "execution_count": 186,
   "metadata": {},
   "outputs": [
    {
     "name": "stdout",
     "output_type": "stream",
     "text": [
      "Train on 51876 samples, validate on 14823 samples\n",
      "Epoch 1/20\n",
      "51876/51876 [==============================] - 6s 122us/step - loss: 0.3626 - val_loss: 0.2062\n",
      "Epoch 2/20\n",
      "51876/51876 [==============================] - 6s 124us/step - loss: 0.1775 - val_loss: 0.1762\n",
      "Epoch 3/20\n",
      "51876/51876 [==============================] - 6s 108us/step - loss: 0.1644 - val_loss: 0.1737\n",
      "Epoch 4/20\n",
      "51876/51876 [==============================] - 7s 128us/step - loss: 0.1552 - val_loss: 0.1806\n",
      "Epoch 5/20\n",
      "51876/51876 [==============================] - 6s 118us/step - loss: 0.1470 - val_loss: 0.2088\n",
      "Epoch 6/20\n",
      "51876/51876 [==============================] - 6s 121us/step - loss: 0.1398 - val_loss: 0.1703\n",
      "Epoch 7/20\n",
      "51876/51876 [==============================] - 6s 125us/step - loss: 0.1337 - val_loss: 0.1810\n",
      "Epoch 8/20\n",
      "51876/51876 [==============================] - 6s 120us/step - loss: 0.1280 - val_loss: 0.1742\n",
      "Epoch 9/20\n",
      "51876/51876 [==============================] - 6s 124us/step - loss: 0.1217 - val_loss: 0.1800\n",
      "Epoch 10/20\n",
      "51876/51876 [==============================] - 6s 119us/step - loss: 0.1150 - val_loss: 0.1812\n",
      "Epoch 11/20\n",
      "51876/51876 [==============================] - 6s 122us/step - loss: 0.1101 - val_loss: 0.1886\n",
      "Epoch 12/20\n",
      "51876/51876 [==============================] - 6s 122us/step - loss: 0.1056 - val_loss: 0.2391\n",
      "Epoch 13/20\n",
      "51876/51876 [==============================] - 6s 120us/step - loss: 0.1004 - val_loss: 0.2044\n",
      "Epoch 14/20\n",
      "51876/51876 [==============================] - 6s 124us/step - loss: 0.0944 - val_loss: 0.2029\n",
      "Epoch 15/20\n",
      "51876/51876 [==============================] - 7s 128us/step - loss: 0.0897 - val_loss: 0.2653\n",
      "Epoch 16/20\n",
      "51876/51876 [==============================] - 6s 117us/step - loss: 0.0856 - val_loss: 0.4445\n",
      "Epoch 17/20\n",
      "51876/51876 [==============================] - 6s 118us/step - loss: 0.0809 - val_loss: 0.2314\n",
      "Epoch 18/20\n",
      "51876/51876 [==============================] - 6s 119us/step - loss: 0.0763 - val_loss: 0.2638\n",
      "Epoch 19/20\n",
      "51876/51876 [==============================] - 6s 118us/step - loss: 0.0719 - val_loss: 0.2063\n",
      "Epoch 20/20\n",
      "51876/51876 [==============================] - 6s 119us/step - loss: 0.0674 - val_loss: 0.2166\n"
     ]
    },
    {
     "data": {
      "image/png": "[encoded data removed]",
      "text/plain": [
       "<Figure size 432x288 with 1 Axes>"
      ]
     },
     "metadata": {
      "needs_background": "light"
     },
     "output_type": "display_data"
    }
   ],
   "source": [
    "model=Sequential()\n",
    "\n",
    "model.add(Dense(units=256, activation='relu'))\n",
    "model.add(Dense(units=256, activation='relu'))\n",
    "model.add(Dense(units=128, activation='relu'))\n",
    "model.add(Dense(units=128, activation='relu'))\n",
    "model.add(Dense(units=32, activation='relu'))\n",
    "model.add(Dense(units=32, activation='relu'))\n",
    "model.add(Dense(1))\n",
    "model.compile(optimizer=SGD(lr=0.002*8),loss='mse')\n",
    "model.fit(x_tr, y_tr, epochs=20, validation_data=(x_val,y_val),callbacks=[TerminateOnNaN()])\n",
    "for i in range (5):\n",
    "    layer_kernel_weights = model.get_layer(index=i).get_weights()[0].reshape(model.get_layer(index=i).get_weights()[0].size,1)\n",
    "    layer_bias_weight = model.get_layer(index=i).get_weights()[1]\n",
    "    name='layer'+str(i)\n",
    "    plt.hist(layer_kernel_weights,label=name)\n",
    "    plt.legend()"
   ]
  },
  {
   "cell_type": "markdown",
   "metadata": {},
   "source": [
    "### 1.l Otros Optimizadores\n",
    "\n",
    "Finalmente, utilizando la estructura de red que mejor se haya desempeñado a lo largo de la tarea, entrene esta red utilizando un optimizador distinto al gradiente descendente vainilla. Pruebe al menos 2 optimizadores implementados en keras (puede utilizar Adam, AdaGrad, AdaDelta, RMSprop, entre otros) o modificar los parámetros que no hemos utilizado del gradiente descendente (momentum, momentum de Nesterov...).\n",
    "\n",
    "Note que por las inicializaciones por defecto de los pesos de las capas y la naturaleza de los datos en cuestión, puede ocurrir que para los valores defecto de algunos optimizadores la red diverga en las primeras iteraciones. Para fijar los parámeros de los optimizadores debe importarlos desde `keras.optimizers` y pasar el objeto con los parámetros deseados al método `.compile` de su modelo. En cambio si con los valores usuales basta, algunos optimizadores pueden pasarse como `string` a `.compile`.\n",
    "\n",
    "Compare como se desempeñan estos optimizadores con la versión utilizada anteriormente, considerando los tiempos de entrenamiento, la velocidad de convergencia y el desempeño final alcanzado. Apoyese de gráficos. "
   ]
  },
  {
   "cell_type": "code",
   "execution_count": 190,
   "metadata": {},
   "outputs": [
    {
     "name": "stdout",
     "output_type": "stream",
     "text": [
      "tiempo=118.8894784450531\n",
      "val_loss=0.16435797919013403\n",
      "train_loss=0.15600286518261716\n"
     ]
    }
   ],
   "source": [
    "import time\n",
    "model=Sequential()\n",
    "a=time.time()\n",
    "model.add(Dense(units=256, activation='relu',kernel_initializer='RandomUniform'))\n",
    "model.add(Dense(units=256, activation='relu',kernel_initializer='RandomUniform'))\n",
    "model.add(Dense(units=128, activation='relu',kernel_initializer='RandomUniform'))\n",
    "model.add(Dense(units=128, activation='relu',kernel_initializer='RandomUniform'))\n",
    "model.add(Dense(units=32, activation='relu',kernel_initializer='RandomUniform'))\n",
    "model.add(Dense(units=32, activation='relu',kernel_initializer='RandomUniform'))\n",
    "model.add(Dense(1))\n",
    "model.compile(optimizer=SGD(lr=0.002),loss='mse')\n",
    "history=model.fit(x_tr, y_tr, epochs=20, validation_data=(x_val,y_val),verbose=0)\n",
    "b=time.time()\n",
    "print(\"tiempo=\"+str(b-a))\n",
    "print(\"val_loss=\"+str(min(history.history['val_loss'])))\n",
    "print(\"train_loss=\"+str(history.history['loss'][np.argmin(history.history['val_loss'])]))"
   ]
  },
  {
   "cell_type": "code",
   "execution_count": 194,
   "metadata": {},
   "outputs": [
    {
     "name": "stdout",
     "output_type": "stream",
     "text": [
      "tiempo=128.4365999698639\n",
      "val_loss=0.16852026136599194\n",
      "train_loss=0.1421592524936567\n"
     ]
    }
   ],
   "source": [
    "from keras.optimizers import Adagrad\n",
    "model=Sequential()\n",
    "a=time.time()\n",
    "model.add(Dense(units=256, activation='relu',kernel_initializer='RandomUniform'))\n",
    "model.add(Dense(units=256, activation='relu',kernel_initializer='RandomUniform'))\n",
    "model.add(Dense(units=128, activation='relu',kernel_initializer='RandomUniform'))\n",
    "model.add(Dense(units=128, activation='relu',kernel_initializer='RandomUniform'))\n",
    "model.add(Dense(units=32, activation='relu',kernel_initializer='RandomUniform'))\n",
    "model.add(Dense(units=32, activation='relu',kernel_initializer='RandomUniform'))\n",
    "model.add(Dense(1))\n",
    "model.compile(optimizer=Adagrad(lr=0.002),loss='mse')\n",
    "history=model.fit(x_tr, y_tr, epochs=20, validation_data=(x_val,y_val),verbose=0)\n",
    "b=time.time()\n",
    "print(\"tiempo=\"+str(b-a))\n",
    "print(\"val_loss=\"+str(min(history.history['val_loss'])))\n",
    "print(\"train_loss=\"+str(history.history['loss'][np.argmin(history.history['val_loss'])]))"
   ]
  },
  {
   "cell_type": "code",
   "execution_count": 195,
   "metadata": {},
   "outputs": [
    {
     "name": "stdout",
     "output_type": "stream",
     "text": [
      "tiempo=150.10462927818298\n",
      "val_loss=0.16427975000690082\n",
      "train_loss=0.16575371549688167\n"
     ]
    }
   ],
   "source": [
    "from keras.optimizers import Adam\n",
    "model=Sequential()\n",
    "a=time.time()\n",
    "model.add(Dense(units=256, activation='relu',kernel_initializer='RandomUniform'))\n",
    "model.add(Dense(units=256, activation='relu',kernel_initializer='RandomUniform'))\n",
    "model.add(Dense(units=128, activation='relu',kernel_initializer='RandomUniform'))\n",
    "model.add(Dense(units=128, activation='relu',kernel_initializer='RandomUniform'))\n",
    "model.add(Dense(units=32, activation='relu',kernel_initializer='RandomUniform'))\n",
    "model.add(Dense(units=32, activation='relu',kernel_initializer='RandomUniform'))\n",
    "model.add(Dense(1))\n",
    "model.compile(optimizer=Adam(lr=0.002),loss='mse')\n",
    "history=model.fit(x_tr, y_tr, epochs=20, validation_data=(x_val,y_val),verbose=0)\n",
    "b=time.time()\n",
    "print(\"tiempo=\"+str(b-a))\n",
    "print(\"val_loss=\"+str(min(history.history['val_loss'])))\n",
    "print(\"train_loss=\"+str(history.history['loss'][np.argmin(history.history['val_loss'])]))"
   ]
  },
  {
   "cell_type": "code",
   "execution_count": 197,
   "metadata": {},
   "outputs": [
    {
     "name": "stdout",
     "output_type": "stream",
     "text": [
      "tiempo=164.15278100967407\n",
      "val_loss=0.16605260462656538\n",
      "train_loss=0.11939529522854744\n"
     ]
    }
   ],
   "source": [
    "from keras.optimizers import Adamax\n",
    "model=Sequential()\n",
    "a=time.time()\n",
    "model.add(Dense(units=256, activation='relu',kernel_initializer='RandomUniform'))\n",
    "model.add(Dense(units=256, activation='relu',kernel_initializer='RandomUniform'))\n",
    "model.add(Dense(units=128, activation='relu',kernel_initializer='RandomUniform'))\n",
    "model.add(Dense(units=128, activation='relu',kernel_initializer='RandomUniform'))\n",
    "model.add(Dense(units=32, activation='relu',kernel_initializer='RandomUniform'))\n",
    "model.add(Dense(units=32, activation='relu',kernel_initializer='RandomUniform'))\n",
    "model.add(Dense(1))\n",
    "model.compile(optimizer=Adamax(lr=0.002),loss='mse')\n",
    "history=model.fit(x_tr, y_tr, epochs=20, validation_data=(x_val,y_val),verbose=0)\n",
    "b=time.time()\n",
    "print(\"tiempo=\"+str(b-a))\n",
    "print(\"val_loss=\"+str(min(history.history['val_loss'])))\n",
    "print(\"train_loss=\"+str(history.history['loss'][np.argmin(history.history['val_loss'])]))"
   ]
  },
  {
   "cell_type": "code",
   "execution_count": 198,
   "metadata": {},
   "outputs": [
    {
     "name": "stdout",
     "output_type": "stream",
     "text": [
      "tiempo=168.4810585975647\n",
      "val_loss=0.21404545143541195\n",
      "train_loss=0.21806996528107214\n"
     ]
    }
   ],
   "source": [
    "from keras.optimizers import Adadelta\n",
    "model=Sequential()\n",
    "a=time.time()\n",
    "model.add(Dense(units=256, activation='relu',kernel_initializer='RandomUniform'))\n",
    "model.add(Dense(units=256, activation='relu',kernel_initializer='RandomUniform'))\n",
    "model.add(Dense(units=128, activation='relu',kernel_initializer='RandomUniform'))\n",
    "model.add(Dense(units=128, activation='relu',kernel_initializer='RandomUniform'))\n",
    "model.add(Dense(units=32, activation='relu',kernel_initializer='RandomUniform'))\n",
    "model.add(Dense(units=32, activation='relu',kernel_initializer='RandomUniform'))\n",
    "model.add(Dense(1))\n",
    "model.compile(optimizer=Adadelta(lr=0.002),loss='mse')\n",
    "history=model.fit(x_tr, y_tr, epochs=20, validation_data=(x_val,y_val),verbose=0)\n",
    "b=time.time()\n",
    "print(\"tiempo=\"+str(b-a))\n",
    "print(\"val_loss=\"+str(min(history.history['val_loss'])))\n",
    "print(\"train_loss=\"+str(history.history['loss'][np.argmin(history.history['val_loss'])]))"
   ]
  },
  {
   "cell_type": "code",
   "execution_count": 199,
   "metadata": {},
   "outputs": [
    {
     "name": "stdout",
     "output_type": "stream",
     "text": [
      "tiempo=141.13389897346497\n",
      "val_loss=0.160103549938899\n",
      "train_loss=0.17300381522049182\n"
     ]
    }
   ],
   "source": [
    "from keras.optimizers import RMSprop\n",
    "model=Sequential()\n",
    "a=time.time()\n",
    "model.add(Dense(units=256, activation='relu',kernel_initializer='RandomUniform'))\n",
    "model.add(Dense(units=256, activation='relu',kernel_initializer='RandomUniform'))\n",
    "model.add(Dense(units=128, activation='relu',kernel_initializer='RandomUniform'))\n",
    "model.add(Dense(units=128, activation='relu',kernel_initializer='RandomUniform'))\n",
    "model.add(Dense(units=32, activation='relu',kernel_initializer='RandomUniform'))\n",
    "model.add(Dense(units=32, activation='relu',kernel_initializer='RandomUniform'))\n",
    "model.add(Dense(1))\n",
    "model.compile(optimizer=RMSprop(lr=0.002),loss='mse')\n",
    "history=model.fit(x_tr, y_tr, epochs=20, validation_data=(x_val,y_val),verbose=0)\n",
    "b=time.time()\n",
    "print(\"tiempo=\"+str(b-a))\n",
    "print(\"val_loss=\"+str(min(history.history['val_loss'])))\n",
    "print(\"train_loss=\"+str(history.history['loss'][np.argmin(history.history['val_loss'])]))"
   ]
  },
  {
   "cell_type": "markdown",
   "metadata": {},
   "source": [
    "### 1.m Testing \n",
    "\n",
    "Finalmente, luego de entrenar todos estos modelos estamos en condiciones de probar que tan bien fue nuestro desempeño. Para esto utilice el modelo en el cual obtuvo el mejor desempeño en validación y calcule el error cuadrático medio de la predicción realizada sobre el _Test set_. Para puede utilizar el metodo `.predict` de su modelo. \n",
    "\n",
    "¿Qué tan bien se desempeñaría su modelo en un caso real en vista de lo anterior? Si su curiosidad es suficiente, puede calcular el error real de su modelo transformando nuevamente el _target_ y su predicción a la escala original (utilizando su `scaler`) y tranformando a precio aplicando exponenciación (pues Y estaba espresado en escala logaritmica)."
   ]
  },
  {
   "cell_type": "code",
   "execution_count": 219,
   "metadata": {},
   "outputs": [
    {
     "name": "stdout",
     "output_type": "stream",
     "text": [
      "Train on 51876 samples, validate on 14823 samples\n",
      "Epoch 1/20\n",
      "51876/51876 [==============================] - 8s 156us/step - loss: 0.7864 - val_loss: 0.5785\n",
      "Epoch 2/20\n",
      "51876/51876 [==============================] - 7s 140us/step - loss: 0.2245 - val_loss: 0.1698\n",
      "Epoch 3/20\n",
      "51876/51876 [==============================] - 8s 150us/step - loss: 0.1812 - val_loss: 0.2316\n",
      "Epoch 4/20\n",
      "51876/51876 [==============================] - 7s 140us/step - loss: 0.1712 - val_loss: 0.1890\n",
      "Epoch 5/20\n",
      "51876/51876 [==============================] - 8s 145us/step - loss: 0.1628 - val_loss: 0.1666\n",
      "Epoch 6/20\n",
      "51876/51876 [==============================] - 7s 144us/step - loss: 0.1556 - val_loss: 0.1661\n",
      "Epoch 7/20\n",
      "51876/51876 [==============================] - 7s 143us/step - loss: 0.1513 - val_loss: 0.1984\n",
      "Epoch 8/20\n",
      "51876/51876 [==============================] - 8s 151us/step - loss: 0.1470 - val_loss: 0.1679\n",
      "Epoch 9/20\n",
      "51876/51876 [==============================] - 7s 144us/step - loss: 0.1415 - val_loss: 0.1733\n",
      "Epoch 10/20\n",
      "51876/51876 [==============================] - 7s 142us/step - loss: 0.1365 - val_loss: 0.1628\n",
      "Epoch 11/20\n",
      "51876/51876 [==============================] - 7s 142us/step - loss: 0.1317 - val_loss: 0.1757\n",
      "Epoch 12/20\n",
      "51876/51876 [==============================] - 7s 142us/step - loss: 0.1275 - val_loss: 0.1685\n",
      "Epoch 13/20\n",
      "51876/51876 [==============================] - 7s 127us/step - loss: 0.1220 - val_loss: 0.1691\n",
      "Epoch 14/20\n",
      "51876/51876 [==============================] - 7s 132us/step - loss: 0.1165 - val_loss: 0.2049\n",
      "Epoch 15/20\n",
      "51876/51876 [==============================] - 7s 126us/step - loss: 0.1118 - val_loss: 0.1774\n",
      "Epoch 16/20\n",
      "51876/51876 [==============================] - 7s 126us/step - loss: 0.1079 - val_loss: 0.1894\n",
      "Epoch 17/20\n",
      "51876/51876 [==============================] - 7s 129us/step - loss: 0.1039 - val_loss: 0.1983\n",
      "Epoch 18/20\n",
      "51876/51876 [==============================] - 7s 127us/step - loss: 0.0992 - val_loss: 0.2078\n",
      "Epoch 19/20\n",
      "51876/51876 [==============================] - 7s 131us/step - loss: 0.0953 - val_loss: 0.1948\n",
      "Epoch 20/20\n",
      "51876/51876 [==============================] - 7s 126us/step - loss: 0.0921 - val_loss: 0.1936\n"
     ]
    }
   ],
   "source": [
    "model=Sequential()\n",
    "model.add(Dense(units=256, activation='relu',kernel_initializer='RandomUniform'))\n",
    "model.add(Dense(units=256, activation='relu',kernel_initializer='RandomUniform'))\n",
    "model.add(Dense(units=128, activation='relu',kernel_initializer='RandomUniform'))\n",
    "model.add(Dense(units=128, activation='relu',kernel_initializer='RandomUniform'))\n",
    "model.add(Dense(units=32, activation='relu',kernel_initializer='RandomUniform'))\n",
    "model.add(Dense(units=32, activation='relu',kernel_initializer='RandomUniform'))\n",
    "model.add(Dense(1))\n",
    "model.compile(optimizer=RMSprop(lr=0.002),loss='mse')\n",
    "history=model.fit(x_tr, y_tr, epochs=20, validation_data=(x_val,y_val))\n"
   ]
  },
  {
   "cell_type": "markdown",
   "metadata": {},
   "source": [
    "Se puede ver que el modelo está sobreajustando aproximadamente desde la séptima iteración, por lo que bajaremos la cantidad de epochs."
   ]
  },
  {
   "cell_type": "code",
   "execution_count": 227,
   "metadata": {},
   "outputs": [
    {
     "name": "stdout",
     "output_type": "stream",
     "text": [
      "Train on 51876 samples, validate on 14823 samples\n",
      "Epoch 1/7\n",
      "51876/51876 [==============================] - 7s 140us/step - loss: 0.7971 - val_loss: 0.2013\n",
      "Epoch 2/7\n",
      "51876/51876 [==============================] - 8s 146us/step - loss: 0.1943 - val_loss: 0.1702\n",
      "Epoch 3/7\n",
      "51876/51876 [==============================] - 7s 138us/step - loss: 0.1755 - val_loss: 0.1804\n",
      "Epoch 4/7\n",
      "51876/51876 [==============================] - 7s 139us/step - loss: 0.1671 - val_loss: 0.2256\n",
      "Epoch 5/7\n",
      "51876/51876 [==============================] - 7s 136us/step - loss: 0.1610 - val_loss: 0.1590\n",
      "Epoch 6/7\n",
      "51876/51876 [==============================] - 7s 139us/step - loss: 0.1552 - val_loss: 0.1581\n",
      "Epoch 7/7\n",
      "51876/51876 [==============================] - 7s 140us/step - loss: 0.1487 - val_loss: 0.1654\n"
     ]
    }
   ],
   "source": [
    "model=Sequential()\n",
    "model.add(Dense(units=256, activation='relu',kernel_initializer='RandomUniform'))\n",
    "model.add(Dense(units=256, activation='relu',kernel_initializer='RandomUniform'))\n",
    "model.add(Dense(units=128, activation='relu',kernel_initializer='RandomUniform'))\n",
    "model.add(Dense(units=128, activation='relu',kernel_initializer='RandomUniform'))\n",
    "model.add(Dense(units=32, activation='relu',kernel_initializer='RandomUniform'))\n",
    "model.add(Dense(units=32, activation='relu',kernel_initializer='RandomUniform'))\n",
    "model.add(Dense(1))\n",
    "model.compile(optimizer=RMSprop(lr=0.002),loss='mse')\n",
    "history=model.fit(x_tr, y_tr, epochs=7, validation_data=(x_val,y_val))"
   ]
  },
  {
   "cell_type": "code",
   "execution_count": 228,
   "metadata": {},
   "outputs": [],
   "source": [
    "y_predict=model.predict(x_test)"
   ]
  },
  {
   "cell_type": "code",
   "execution_count": 229,
   "metadata": {},
   "outputs": [
    {
     "data": {
      "text/plain": [
       "0.17191779099911908"
      ]
     },
     "execution_count": 229,
     "metadata": {},
     "output_type": "execute_result"
    }
   ],
   "source": [
    "from sklearn.metrics import mean_squared_error\n",
    "mean_squared_error(y_predict,y_test)"
   ]
  },
  {
   "cell_type": "markdown",
   "metadata": {},
   "source": [
    "# 2 - Reconocimiento de Imagenes en CIFAR10\n",
    "\n",
    "Una de las areas donde las redes neuronales han obtenido desempeños decisivamente superiores al resto de los métodos existentes en su momento es en el reconocimiento de imagenes. La capacidad de las redes convolucionaes de aprender y extraer patrones sobre patrones hasta obtener caracteristicas de alto nivel representativas de atributos buscados en las imaganes ha permitido en desempeños superiores a los obtenidos por otros métodos de aprendizaje automatico o inteligencia aritificial, e incluso en algunos casos a el desempeño humano. \n",
    "\n",
    "Una de las tareas usuales que se pueden resolver con redes neuronales convolucionales es la clasificación de imágenes. Uno de los _datasets_ más extendidos en la literatura para esta terea es el CIFAR10, el cual se compone de 50000 imagenes de entrenamiento de 10 clases distintas. El _dataset_ tiene un tamaño suficiente para lograr entrenar redes relativamente grandes y permite una buena introducción a este ampio campo, sobretodo por su facilidad de utilización y preprocesamiento prácticamente nulo. Durante esta pregunta utilizaremos este _dataset_ para explorar los conceptos básicos de redes convolucionales y algunas luces de problemas de clasificación. \n",
    "\n",
    "Note que el entrenamiento de redes convolucionales se beneficia particularmente del uso de unidades de procesamiento gráfico, por lo cual podría ser recomendable utilizarlas en caso de disponer, o considerar correr los codigos completos una vez verificado su funcionamiento en una sesión de Collab acelerada por GPU, entre otras opciones de GPU en la nube existentes. "
   ]
  },
  {
   "cell_type": "markdown",
   "metadata": {},
   "source": [
    "### 2.a Carga de datos y visualizaciones\n",
    "Cargue los datos como muestra el código siguiente. Como pueden ver el dataset es tan utilizado que funciones para cargarlo vienen implementadas en keras. \n",
    "\n",
    "Luego, visualice algunas imagenes de cada una de las catégorias junto con sus nombres (puede encontrar los nombres de las categorías en el siguiente link https://www.cs.toronto.edu/~kriz/cifar.html). ¿Qué pares de categorías cree podrían ocasionar problemas al momento de clasificación? ¿Qué tan bien cree que se desempeñaría un humano en esta tarea?"
   ]
  },
  {
   "cell_type": "code",
   "execution_count": 47,
   "metadata": {},
   "outputs": [
    {
     "data": {
      "image/png": "[encoded data removed]",
      "text/plain": [
       "<Figure size 432x288 with 10 Axes>"
      ]
     },
     "metadata": {
      "needs_background": "light"
     },
     "output_type": "display_data"
    }
   ],
   "source": [
    "from keras.datasets import cifar10\n",
    "(x_tr,y_tr),(x_val,y_val) = cifar10.load_data()\n",
    "\n",
    "names = ['airplane','automobile','bird','cat','deer','dog','frog','horse','ship','truck'] #según el orden de la página web\n",
    "\n",
    "import matplotlib.pyplot as plt\n",
    "\n",
    "fig, axs = plt.subplots(2,5)\n",
    "axs[0,0].imshow(x_tr[0])\n",
    "axs[0,0].text(1.5, 2.2, names[y_tr[0][0]], bbox={'facecolor': 'white', 'pad': 3})\n",
    "axs[0,1].imshow(x_tr[343])\n",
    "axs[0,1].text(1.5, 2.2, names[y_tr[343][0]], bbox={'facecolor': 'white', 'pad': 3})\n",
    "axs[0,2].imshow(x_tr[100])\n",
    "axs[0,2].text(1.5, 2.2, names[y_tr[100][0]], bbox={'facecolor': 'white', 'pad': 3})\n",
    "axs[0,3].imshow(x_tr[999])\n",
    "axs[0,3].text(1.5, 2.2, names[y_tr[999][0]], bbox={'facecolor': 'white', 'pad': 3})\n",
    "axs[0,4].imshow(x_tr[883])\n",
    "axs[0,4].text(1.5, 2.2, names[y_tr[883][0]], bbox={'facecolor': 'white', 'pad': 3})\n",
    "axs[1,0].imshow(x_tr[230])\n",
    "axs[1,0].text(1.5, 2.2, names[y_tr[230][0]], bbox={'facecolor': 'white', 'pad': 3})\n",
    "axs[1,1].imshow(x_tr[2021])\n",
    "axs[1,1].text(0, 2.2, names[y_tr[2021][0]], bbox={'facecolor': 'white', 'pad': 3})\n",
    "axs[1,2].imshow(x_tr[17])\n",
    "axs[1,2].text(1.5, 2.2, names[y_tr[17][0]], bbox={'facecolor': 'white', 'pad': 3})\n",
    "axs[1,3].imshow(x_tr[120])\n",
    "axs[1,3].text(1.5, 2.2, names[y_tr[120][0]], bbox={'facecolor': 'white', 'pad': 3})\n",
    "axs[1,4].imshow(x_tr[201])\n",
    "axs[1,4].text(1.5, 2.2, names[y_tr[201][0]], bbox={'facecolor': 'white', 'pad': 3})\n",
    "plt.show()"
   ]
  },
  {
   "cell_type": "markdown",
   "metadata": {},
   "source": [
    "**Respuesta**: Respecto a los potenciales problemas de clasificación, esto podría ocurrir entre categorías que compartan ciertas características, como por ejemplo entre automóviles y camiones, que a pesar de ser distintos en tamaño y forma, desde cierto ángulo un automóvil grande o camioneta podrían verse parecidos a un camión. De la misma manera, esto podría ocurrir entre especies que puedan parecerse, como por ejemplo entre ciervos y caballos, que si bien son distinguibles fácilmente por humanos, con el ruido o varianza suficiente podría causar resultados erróneos.\n",
    "\n",
    "Respecto al desempeño humano versus los algoritmos de reconocimientos existentes para esta tarea, consideramos que para esta tarea específica, en la que hay un número relativamente pequeño de categorías pre establecidas, un humano debería desempeñarse de mejor forma, considerando que no sería necesaria una etapa de entrenamiento (asumiendo que en sus primeros años de vida aprendió a identificar y diferenciar estas categorías). Ahora bien, podrían existir casos en los que \"la máquina\" obtenga mejores resultados, como para imágenes pixeladas, borrosas o que no estén tan claras, que sean de un tamaño muy pequeño, o que una persona no sea capaz de distinguirlas por algún problema a la vista, variables que no representarían un impedimento para los algoritmos. "
   ]
  },
  {
   "cell_type": "markdown",
   "metadata": {},
   "source": [
    "### 2.b Ligero preprocesamiento\n",
    "\n",
    "Este _dataset_ viene tan bien preprocesado, con las clases balanceadas, el set de validación a parte y todas las imagenes de la misma dimensión que no será necesario gran preprocesamiento. Simplementen transformaremos la escala de las imagenes, de $[0,255]$ a $[-1,1]$. Para esto simplemente se puede realizar las operaciones aritmeticas que \n",
    "muestran en el código.\n",
    "\n",
    "¿Perdemos información con este preprocesamiento? ¿Qué representa cada uno de los valores de la tupla `x_tr.shape`? \n",
    "\n",
    "**Respuesta**: Matemáticamente no debería perderse información, ya que bastaría con realizar la operación inversa (multiplicar por $127.5$ y sumar $1$) para recuperar los valores originales. En cuanto a la visualización, efectivamente se pierde bastante información y los colores tienden a volverse monocromáticos. Una prueba de esto es que si se ejecuta por segunda vez el código de la celda la imagen se volverá totalmente negra. `x_tr.shape` retorna la siguiente tupla: $(50000, 32, 32, 3)$. Con respecto a los valores de la tupla: El primer número representa la cantidad de imágenes que componen el dataframe, los 2 siguientes números representan las dimensiones de cada imagen y el último representa los 3 canales RGB, que son los canales correspondientes a los colores primarios que componen una imagen digital (R = red, G = green, B = blue)\n",
    "\n",
    "¿Podemos considerar los valores de $y$ como valores numéricos o debemos transformarlos de alguna forma? \n",
    "\n",
    "**Respuesta**: No hay problema en seguir utilizando los valores numéricos de $y$ en la resolución del problema, ya que cada número representa la categoría correspondiente a la imagen; pero para hacer más cómoda la visualización de los resultados, se puede usar el valor de $y$ como índice del arreglo `names` definido en la pregunta 2.a.\n",
    "\n",
    "Utilice la función `to_categorical` de keras para transformar $y$ a _encodding_ _one hot vector_. ¿Cómo se transformo el `.shape` de $y$?\n",
    "\n",
    "**Respuesta**: Para ambos $y$, el de training y el de validación, el `.shape` pasó de ser de una sola columna (que correspondía al valor de la categoría a la que pertenece una imagen $x$) a una matriz con la misma cantidad de filas y 10 columnas, transformándose en una matriz con tantas columnas como categorías existan, donde cada fila sólo tiene un valor $1$ en la columna que corresponde a la categoría de la imagen."
   ]
  },
  {
   "cell_type": "code",
   "execution_count": 48,
   "metadata": {},
   "outputs": [
    {
     "name": "stderr",
     "output_type": "stream",
     "text": [
      "Clipping input data to the valid range for imshow with RGB data ([0..1] for floats or [0..255] for integers).\n"
     ]
    },
    {
     "name": "stdout",
     "output_type": "stream",
     "text": [
      "(50000, 32, 32, 3)\n"
     ]
    },
    {
     "data": {
      "text/plain": [
       "Text(1.5, 2.2, 'frog')"
      ]
     },
     "execution_count": 48,
     "metadata": {},
     "output_type": "execute_result"
    },
    {
     "data": {
      "image/png": "[encoded data removed]",
      "text/plain": [
       "<Figure size 432x288 with 1 Axes>"
      ]
     },
     "metadata": {
      "needs_background": "light"
     },
     "output_type": "display_data"
    }
   ],
   "source": [
    "x_tr = x_tr/127.5 - 1\n",
    "x_val = x_val/127.5 - 1\n",
    "print(x_tr.shape)\n",
    "\n",
    "fig, ax = plt.subplots(1)\n",
    "ax.imshow(x_tr[0])\n",
    "ax.text(1.5, 2.2, names[y_tr[0][0]], bbox={'facecolor': 'white', 'pad': 3})"
   ]
  },
  {
   "cell_type": "code",
   "execution_count": 49,
   "metadata": {},
   "outputs": [
    {
     "name": "stdout",
     "output_type": "stream",
     "text": [
      ".shape antiguos\n",
      "(50000, 1)\n",
      "(10000, 1)\n",
      ".shape nuevos\n",
      "(50000, 10)\n",
      "(10000, 10)\n"
     ]
    }
   ],
   "source": [
    "from keras.utils.np_utils import to_categorical\n",
    "\n",
    "print(\".shape antiguos\")\n",
    "print(y_tr.shape)\n",
    "print(y_val.shape)\n",
    "\n",
    "y_tr = to_categorical(y_tr,10)\n",
    "y_val = to_categorical(y_val,10)\n",
    "\n",
    "print(\".shape nuevos\")\n",
    "print(y_tr.shape)\n",
    "print(y_val.shape)\n",
    "\n"
   ]
  },
  {
   "cell_type": "markdown",
   "metadata": {},
   "source": [
    "### 2.c Primera red Convolucional\n",
    "\n",
    "Entrenaremos una primera red convolucional sobre los datos, con la mayoría de los parámetros por defecto. Cree primero la red siguiendo la estructura $C\\times P\\times C\\times P \\times D$ donde $C$ representa una capa convolucional, $P$ una capa de _Max pooling_ y $D$ una capa densa. Note que antes de la capa densa debe agregar una capa _Flatten_ que transforma los filtros a vectores que luego pueden ser utilizados por la capa densa. \n",
    "\n",
    "Para los parámetros de las capas, fijaremos ambas capas convolucionales con 128 filtros de $3\\times 3$ sin _stride_ y _padding 'same'_ (es decir agregaremos 0 a los bordes de la imagen de tal manera que se preserve la dimiensión de la imagen al atravesar la capa; y las capas de _pooling_ tendrán tamaño y _stride_ $2\\times 2$, como muestra el código. Note que al igual que en la pregunta 1, el modelo en este caso es `Sequential`, pues los valores de una capa se pasan secuencialmente a la siguiente. \n",
    "\n",
    "Utilice el método `.summary` del modelo para ver la cantidad de parámetros y las dimensiones de los outputs de cada capa (note que como en la primera capa especificamos el `input_shape` podemos llamar el método antes de compilar el modelo o de pasarle datos. Justifique el número parámetros y el _Output Shape_ de cada capa en función de la estructura de la red y lo aprendido en clases. \n",
    "\n",
    "¿Por qué la capa de salida debe tener 10 neuronas? ¿Qué operación efectua la activación _SoftMax_? ¿Qué representaría en terminos del problema el vector de salida de la red?"
   ]
  },
  {
   "cell_type": "code",
   "execution_count": null,
   "metadata": {},
   "outputs": [],
   "source": [
    "from keras.models import Sequential\n",
    "from keras.layers import Dense, Flatten\n",
    "from keras.layers import Conv2D, MaxPooling2D\n",
    "\n",
    "# . . .\n",
    "\n",
    "model.add(Conv2D(filters=64,\n",
    "                 kernel_size=(2, 2),\n",
    "                 padding='same',\n",
    "                 activation='relu',\n",
    "                 input_shape=x_tr.shape[1:]))\n",
    "model.add(MaxPooling2D(pool_size=(2, 2)))\n",
    "\n",
    "# . . . \n",
    "\n",
    "model.add(Flatten())\n",
    "model.add(Dense(# . . . ))\n",
    "    \n",
    "model.add(Dense(units=10, activation='softmax')) # output\n",
    "\n",
    "    \n",
    "# summary\n",
    "    "
   ]
  },
  {
   "cell_type": "markdown",
   "metadata": {},
   "source": [
    "### 2.d Primer entrenamiento\n",
    "\n",
    "Compile la red definida en el item anterior. Para esta pregunta puede usar los optimizadores configurados por defecto, y debe usar como _loss_ _Categorical Crossentropy_. ¿Por qué preferimos medir _crossentropy_ y no por ejemplo _MSE_ en este problema? Mida igualmente el _accuracy_ como se muestra en el código. \n",
    "\n",
    "Entrene la red hasta observar convergencia (al rededor de 20 _epochs_ usualmente) recuperando su `history`. Grafique como varia el _accuracy_ en entrenamiento y validación a lo largo del aprendizaje. ¿Qué valor representa el _accuracy_? ¿Le parece buena medida de desempeño para este problema?"
   ]
  },
  {
   "cell_type": "code",
   "execution_count": null,
   "metadata": {},
   "outputs": [],
   "source": [
    "\n",
    "model.compile(optimizer='adam',loss='categorical_crossentropy',metrics=['accuracy'])\n",
    "\n",
    "# fit. Don't forget to add validation data"
   ]
  },
  {
   "cell_type": "markdown",
   "metadata": {},
   "source": [
    "### 2.e Bloque $C\\times C\\times P$\n",
    "\n",
    "Una practica usual en redes convolucionales es apilar más de un filtro convolucional antes de aplicar _pooling_. La idea detras de esto es darle mas \"espacio\" a la red para aprender los patrones relevantes antes de realizar el subsampleo mediante el _pooling_. En el caso de este _dataset_ también nos permite agregar más capas convolucionales sin reducir tan fuertemente la dimensión de las imagenes filtradas. Incluso muchos investigadores optan por agregar más de una capa densa el final de la red, para dar aún más libertad al modelo, pues las restricciones impuestas sobre los parámetros por la estructura convolucional parecieran restringir lo suficiente al modelo y más libertad en las capas finales no pareciera implicar un _overfitting_ tan fuerte como sería por ejemplo en una red _Fully Connected_.\n",
    "\n",
    "Cree y entrene una red, utilizando dos bloques de dos capas convolucionales y una de _maxpool_ y luego dos capas densas, es decir $C\\times C\\times P \\times C\\times C\\times P\\times D \\times D$. Utilice $128$ filtros $3\\times 3$ en las dos primeras convolucionales y $64$ filtros $3\\times 3$ en las dos siguientes. Ambas capas de _maxpool_ utilice tamaño y _stride_ $2\\times 2$. \n",
    "\n",
    "Comente como se compara el desempeño con las redes anteriores. Apoyese de gráficos y valores numéricos. "
   ]
  },
  {
   "cell_type": "code",
   "execution_count": null,
   "metadata": {},
   "outputs": [],
   "source": [
    "# do it yourself"
   ]
  },
  {
   "cell_type": "markdown",
   "metadata": {},
   "source": [
    "### 2.f Exploración de profundidad\n",
    "\n",
    "Por comodidad preferiremos quedarnos con la estructura en bloques del item anterior. En esta pregunta deberan explorar que ocurre a medida uno cambia la profundidad de la red. Para esto, entrene redes con distinto numero de bloques. Debe a lo menos entrenar una red por cada numero de bloques entre 1 y 5 bloques (¿qué particularidad tiene la red con 5 bloques? ¿Puede entrenar una más profunda?). También si lo desea puede entrenar una red con \"0\" bloques, es decir una red densa como las de la pregunta 1. \n",
    "\n",
    "Comente sobre los casos extremos (0 bloques y 5 bloques), ya sea a partir de lo aprendido en clases o lo que observa al momento de entrenar las redes. ¿Le parece alguno de los dós sea buena aproximación para reconocimiento de imagenes? Para cada red recupere `history` y grafique el valor del mejor _accuracy_ en validación y el _accuracy_ sobre entrenamiento en el mismo _epoch_ en función de la profundidad de la red, similar al procedimiento realizado en 1.g.\n",
    "\n",
    "Queda a su discreción los parámetros de cada capa convolucional, pueden utilizar el número de filtros que estimen convenientes, solo no utilicen _stride_, y en caso de utilizar alguna regla para el número de filtros, que tal regla sea la misma para todas las profundidades (pueden ver dos posibles ejemplos en el código propuesto abajo). Para las capas de _MaxPool_ utilicen las que aparecen en el código.\n",
    "\n",
    "Para ahorrar tiempo, si observa que una red no converge, puede detener anticipadamente el entrenamiento. Para esto es recomendable usar el _Callback_ de keras `EarlyStopping` el cual deben agregar al momento de utilizar el método `.fit` (ejemplo similar en 1.e), sin embargo asegurese de ponerle _patience_ de a lo menos 3, pues como podrá observar algunas redes empeoran su desempeño en algunas _epochs_ para luego seguir mejorando. Puede elegir monitorear la métrica que estime conveniente para esta pregunta. "
   ]
  },
  {
   "cell_type": "code",
   "execution_count": null,
   "metadata": {},
   "outputs": [],
   "source": [
    "\n",
    "for block_num # . . . \n",
    "\n",
    "    # create model\n",
    "\n",
    "    for i in range(block_num):\n",
    "        \n",
    "        model.add(Conv2D(128, (3,3),padding='same',activation='relu'))\n",
    "        model.add(Conv2D(128, (3,3), padding='same', activation='relu'))\n",
    "        model.add(MaxPooling2D(pool_size=(2, 2)))\n",
    "\n",
    "        # or for instance\n",
    "        \n",
    "        model.add(Conv2D(int(128/(i+2)), (3,3),padding='same',activation='relu'))\n",
    "        model.add(Conv2D(int(128/(i+2)), (3,3), padding='same', activation='relu'))\n",
    "        model.add(MaxPooling2D(pool_size=(2, 2)))\n",
    "        \n",
    "    # flatten\n",
    "    # dense's\n",
    "    # compile\n",
    "    # train and save results"
   ]
  },
  {
   "cell_type": "markdown",
   "metadata": {},
   "source": [
    "### 2.g Exploración libre\n",
    "\n",
    "Como probablemente ya habrán notado, la cantidad de hiperparámetros que se pueden fijar y explorar en una red convolucional es enorme. A parte de poder modificar la arquitectura de la red y su tamaño o profundidad, pueden en cada una de las capas modificar el número de filtros, el tamaño de los filtros; agregar _stride_, cambiar las activaciones, cambiar el _padding_, cambiar los tamaños de los _MaxPool_ o sus _strides_ o incluso modificar las capas densas al final de la red. \n",
    "\n",
    "Por motivos de tiempo y con la esperanza de que la tarea no sea más tediosa de lo necesario, en vez de pedir explorar cada uno de estos parámetros, se les propone elegir una exploración de la siguiente lista. Debe realizar la exploración exahustivamente, comentar sus resultados apoyandose de gráficos y su conocimiento teórico cuando sea apropiado. Independiente de la exploración elegida debe responder las preguntas finales. \n",
    "\n",
    "Para todas las exploraciones utilice como _template_ la mejor red entrenada hasta ahora y modifique el parámetro relevante. Si utiliza otra red, justifique brévemente su elección. \n",
    "\n",
    "**Exploraciones posibles (Elija 1)**\n",
    "* Tamaño de los filtros: Manteniendo el filtro cuadrado, explore cambiar el tamaño de filtro de alguna(s) capas convolucionales. Debe explorar a lo menos valores de $1\\times 1$ hasta $9\\times 9$, por lo cual debe asegurarse realizar la exploración en una capa donde las dimensiones de los filtros de la capa anterior (o el Input de la capa) se lo permita. \n",
    "* Exploración del número de filtros: Explore variando el número de filtros de alguna(s) capas. Se recomienda explorar en potencias de 2, y debe explorar a lo menos 10 valores distintos.\n",
    "* Neuronas capa Densa: realice una exploración del número de neuronas de alguna o ambas de las capas densas. Debe explorar a lo menos 10 combinaciones distintas. Puede dejar una de las dos capas fijas y variar la otra siguiendo potencias de 2 por ejemplo. Tenga cuidado con la explosión del número de parámetros. \n",
    "* Pooling: Pruebe cambiar el tamaño de los _MaxPool_ entre $2\\times 2$ a $6\\times 6$. Pruebe también cambiando todas las capas por `AveragePooling2D`, realizando la misma exploración que con _MaxPool_.\n",
    "* Pooling \"convolucional\": Una aproximación posible para reemplazar las capas de _maxpool_ es utilizando capas convolucionales con kernel $2\\times 2$ y _stride_ $2\\times 2$. Pruebe reemplazando las capas _maxpool_ por este tipo de capas, luego pruebe una mezcla de ambas, luego pruebe simplemente eliminando las capas de _pooling_ y agregandole _stride_ a la segunda capa de cada bloque (con _kernel size_ $2\\times 2$ y $3 \\times 3$). Pruebe finalmente cambiando las funciones de activación de las capas donde se realiza la disminución de dimensión, probando a lo menos activación lineal, sigmoidea y tangente hiperbólica.\n",
    "\n",
    "**Preguntas (respondalas todas)**:\n",
    "* ¿A que equivaldría utilizar tamaño de kernel $1 \\times 1$?\n",
    "* ¿Por qué si cambiamos el número de filtros de una capa también modificamos el número de parámetros de la siguiente capa?\n",
    "* ¿En su opinión, qué metodo resumen mejor la información de una capa, _maxpool_ o _averagepool_'\n",
    "* ¿Que tipo de patrones esperaría usted que se extraigan mejor con un kernel no cuadrado (por ejemplo $3\\times 2$)? Apoyese de un ejemplo pequeño o una explique el fenómeno llevandolo al \"extremo\" (e.g. $1\\times 3$)"
   ]
  },
  {
   "cell_type": "code",
   "execution_count": null,
   "metadata": {},
   "outputs": [],
   "source": [
    "# do it yourself"
   ]
  },
  {
   "cell_type": "markdown",
   "metadata": {},
   "source": [
    "### 2.h Dropout\n",
    "Como vimos en la pregunta 1, _dropout_ es una técnica de regularización muy util para evitar overfitting. En el caso de convolucionales, aplicaremos _dropout_ en las capas densas al final. ¿Cree que es una buena idea aplicar _dropout_ en las capas convolucionales? ¿Por qué?\n",
    "\n",
    "Entrene la mejor red que ha entrenado hasta ahora, agregando _dropout_ en a lo menos una de las capas densas. Donde aplique _dropout_ aumente el número de neuronas. Utilice parámetro 0.5. Reporte sus resultados apoyandose de gráficos. Recuerde que las redes con _dropout_ toman más tiempo en entrenar."
   ]
  },
  {
   "cell_type": "code",
   "execution_count": null,
   "metadata": {},
   "outputs": [],
   "source": [
    "from keras.layers import Dropout\n",
    "\n",
    "# . . . \n",
    "\n",
    "model.add(Dropout(0.5))\n",
    "\n",
    "# . . ."
   ]
  },
  {
   "cell_type": "markdown",
   "metadata": {},
   "source": [
    "### 2.i Data Augmentation\n",
    "\n",
    "Otra manera de evitar sobreajuste y mejorar los desempeños de una red convolucionar es usar aumentación de datos. La idea detras de este método es un hecho muy simple: si rotamos ligeramente una foto por ejemplo de un caballo, seguirá siendo de un caballo. Lo mismo si la movemos ligeramente hacia algun lado, hacia arriba, _etc_.\n",
    "\n",
    "Keras trae implementado un generador de imagenes aumentadas, puede basarse en el código abajo para utilizarlo, aunque si lo desea o estima conveniente puede cambiar alguno de los parametros. Entrene a completitud la mejor red que obtuvo a lo largo de toda la tarea. ¿Qué tanto mejora el desempeño de la red utilizando aumentación de datos? "
   ]
  },
  {
   "cell_type": "code",
   "execution_count": null,
   "metadata": {},
   "outputs": [],
   "source": [
    "from keras.preprocessing.image import ImageDataGenerator\n",
    "\n",
    "datagen = ImageDataGenerator(\n",
    "    featurewise_center=False,\n",
    "    samplewise_center=False,\n",
    "    featurewise_std_normalization=False,\n",
    "    samplewise_std_normalization=False,\n",
    "    zca_whitening=False,\n",
    "    rotation_range=0,\n",
    "    width_shift_range=0.1,\n",
    "    height_shift_range=0.1,\n",
    "    brightness_range=None,\n",
    "    shear_range=0.0,\n",
    "    zoom_range=0.1,\n",
    "    channel_shift_range=0.0,\n",
    "    fill_mode='constant',\n",
    "    cval=0.0,\n",
    "    horizontal_flip=True,\n",
    "    vertical_flip=False,\n",
    "    rescale=None)\n",
    "\n",
    "datagen.fit(x_tr)\n",
    "\n",
    "# . . . \n",
    "\n",
    "history = model.fit_generator(datagen.flow(x_tr, y_tr, batch_size=32),\n",
    "                    epochs=50,\n",
    "                    verbose=2,\n",
    "                    callbacks=callbacks,\n",
    "                    validation_data=(x_val,y_val),\n",
    "                    validation_freq=1,\n",
    "                    shuffle=True)\n",
    "\n",
    "# . . ."
   ]
  },
  {
   "cell_type": "markdown",
   "metadata": {},
   "source": [
    "### 2.j Matriz de Confusión\n",
    "\n",
    "Si bien el _accuracy_ nos ha acompañado toda la pregunta para evaluar el desempeño de nuestras redes de forma fácilmente interpretable, no considera por ejemplo si una gran parte de los errores provienen de una sola clase, o si alguna clase se logra clasificar perfectamente. Una manera de visualizar fácilmente esta métrica más granular, es utilizando la matriz de confusión. Investigue y explique brévemente en qué consiste una matriz de confusión (puede explicar el caso binario donde solo hay dos clases).\n",
    "\n",
    "Luego, apoyándose en los códigos de abajo, visualizaremos la matriz de confusión del modelo que mejor se desempeñó a lo largo de toda la tarea. \n",
    "\n",
    "- ¿Algo le llama la atención? \n",
    "- ¿Qué clases se confunden más entre si?\n",
    "- ¿Coincidió esto con sus predicciones al inicio de la tarea? \n",
    "\n",
    "Igual de la misma forma que en 2.a, visualice algunas imagenes mal clasificadas por su modelo. \n",
    "- ¿Le parece razonable que el modelo no las clasifique bien?"
   ]
  },
  {
   "cell_type": "code",
   "execution_count": null,
   "metadata": {},
   "outputs": [],
   "source": [
    "from sklearn.metrics import confusion_matrix\n",
    "# Puede usar libreria seaborn para realizar facilmente heatmaps anotados: \n",
    "import seaborn as sns\n",
    "# . . .\n",
    "sns.heatmap( confusion_matrix(y_val # . . . ))"
   ]
  },
  {
   "cell_type": "markdown",
   "metadata": {},
   "source": [
    "### 2.k Visualizaciones\n",
    "\n",
    "Ahora, si bien vemos que nuestras redes se han comportado relativamente bien en esta tarea, no podríamos decir exactamente por qué. Una forma de acercarnos a entende aproximadamente que está haciendo la red es visualizando los pesos y viendo como se transforma una imagen a medida pasa por la red. \n",
    "\n",
    "Utilizando su red de mejor desempeño, represente gráficamente los pesos de las distintas capas, a lo menos de la primera y la última capa convolucional. Recuerde que puede obtener los pesos de una capa como se presenta en el item 1.k, teniendo atención que en este caso los pesos se presentarán como un array de los kernels.\n",
    "\n",
    "Luego, de alguna clase elija unas imagenes al azar y grafíque los filtros que la red extrae a partir de la imagen a lo largo que esta pasa por las capas. Puede utilizar la función propuesta abajo para obtener el modelo truncado, luego con `.predict` obtendrá la imagen filtrada que busca. Nuevamente ponga énfasis en la primera y ultima capa. Elija otra clase y repita el proceso. Comente. "
   ]
  },
  {
   "cell_type": "code",
   "execution_count": null,
   "metadata": {},
   "outputs": [],
   "source": [
    "def get_n_layers(max_layer, original_model):\n",
    "    truncated_model = Sequential()\n",
    "    for layer in range(max_layer):\n",
    "        truncated_model.add(original_model.get_layer(index=lay))\n",
    "    return truncated_model"
   ]
  },
  {
   "cell_type": "markdown",
   "metadata": {},
   "source": [
    "# 3 - Reconocimiento de frutas y verduras\n",
    "\n",
    "Si bien CIFAR10 es una buenisima herramienta para introducirse a las redes neuronales convolucionales, sin embargo varias características de CIFAR10 lo hacen estar un poco alejado de la realidad del reconocimiento de imagenes hoy en día. Por ejemplo, como pudieron notar en la pregunta anterior, la resolución de $32\\times 32$ es a penas suficiente para reconocer el objeto. Además 10 clases es relativamente poco comparado con los modelos del estado del arte, que obtienen resultado decentes en problemas con miles de categorías. Otra cosa que podrían haber notado, es que las redes entrenadas no tenían mucho problema en diferenciar clases \"más\" distintas que otras (por ejemplo, que cree que hubiera pasado si hubieramos truncado el _dataset_ para solo contener la clase caballo y avión, ¿cree que los desempeños serían los mismos?), mientras que en categorías más \"cercanas\" (como perro, gato y caballo) los desempeños eran relativamente peores. Es por esto que muchos _datasets_ utilizados en el estado del arte incluyen no solo variedad entre sus categorías, si no tambien categorías similares, que podrían agruparse en categorías de mayor gerarquía incluso. \n",
    "\n",
    "En esta pregunta, intentaremos de realizar un analisis sobre un _dataset_ un poco más realista, donde encontrará algunos de los problemas asociados a trabajar con gran número de imagenes. Originalmente se consideró trabajar con uno de los _dataset_ usuales en el estado del arte, el Caltech256, sin embargo por motivos de tiempo se prefirió este _dataset_ donde las imagenes vienen todas en el mismo formato ($100\\times 100$) y no tendrémos que realizar preprocesamiento más acabados como aquellos que necesitaríamos con Caltech. El _dataset_ en cuestión corresponde a un problema de reconocimiento de frutas y verduras, disponible en el siguiente link de _kaggle_ https://www.kaggle.com/moltean/fruits o en el siguiente repositorio https://github.com/Horea94/Fruit-Images-Dataset. Este _dataset_ contiene miles de imagenes de 120 frutas y verduras diferentes clasificadas por variedades. Intentaremos resolver este problema utilizando las 120 clases, notando que si bien el hecho de acortarse a un campo semantico en particular (i.e. frutas y verduras) permitirá que nuestro algoritmo se especialice más en la detección de las diferencias entre sus categorías, también implica que las diferencias seran más pequeñas que lo que serían en un _dataset_ más variado. Luego intentaremos resolver el problema utilizando categorías más amplias, donde no se distinga entre variedades de la misma fruta, y veremos en qué tarea tenemos mejor desempeño. "
   ]
  },
  {
   "cell_type": "markdown",
   "metadata": {},
   "source": [
    "### 3.a Carga y preprocesamiento de Imagenes\n",
    "\n",
    "Lea la descripción del dataset para familiarizarse con la estructura donde se guardan las imagenes y como deberemos cargarlas recordando la categoría de cada una. \n",
    "\n",
    "Cargue todas las imagenes junto con sus categorías a un _DataFrame_. Note que esto puede tomar bastante tiempo por la cantidad de imagenes. El código propuesto utiliza la librería Pillow, sin embargo pueden usar el método que prefieran, incluso pueden no basarse para nada en el código propuesto. Aprovecharemos la separación de _Training_ y _Test_ de _dataset_, y utilizaremos el primero para entrenamiento y el segundo para validación. \n",
    "\n",
    "Esta vez optaremos por dejar los valores entre $[-127, 128]$ para poder utilizar un encoding `uint8` en `numpy` lo cual reducirá drásticamente el uso de memoria al momento de cargar los datos. Separe luego los arrays de inputs y outputs de nuestro modelo, sin olvidar transformar las categorías del _target_ a _one hot vector_ como aprendió en el resto de la tarea. \n",
    "\n",
    "Si lo desea, podría ser recomendable guardar los datos preprocesados utiizando la función `np.save` para ahorrarse el tiempo de computo que requiere esta operación en caso de que tuviera que correr varias veces esta pregunta. \n",
    "\n",
    "Visualice alguna de las imagenes en `image_list`. Verifique que los datos se hayan cargado bien viendo los `shape` de los arrays o con algun otro indicador que le dé algo de confianza. Utilice `matplotlib.pyplot.imshow` con algunos ejemplos de los _arrays_ para verificar que no se haya perdido información y que la carga de datos se realizó correctamente. "
   ]
  },
  {
   "cell_type": "code",
   "execution_count": null,
   "metadata": {},
   "outputs": [],
   "source": [
    "import PIL.Image\n",
    "# . . .\n",
    "# note that the folders have been modified from the original, you have to modify them to coincide with yours\n",
    "base_path = os.getcwd()\n",
    "data_path = os.path.join(base_path, \"data\", \"fruits\",train_or_test) \n",
    "categories = os.listdir(data_path)\n",
    "\n",
    "image_list = []\n",
    "\n",
    "df = pd.DataFrame(columns=['x','y'])\n",
    "for cat in categories:\n",
    "    image_files = os.listdir(os.path.join(data_path, cat))\n",
    "    for image_path in image_files:\n",
    "        if '.jpg' in image_path: # to avoid unpleseant surprises\n",
    "            full_path = os.path.join(data_path, cat, image_path)\n",
    "            im = PIL.Image.open(full_path)\n",
    "            arr = np.asarray(im)\n",
    "            df = df.append({'x':arr, 'y':cat}, ignore_index=True)\n",
    "    image_list.append(im)\n",
    "    \n",
    "# . . .\n",
    "# . . . \n",
    "# you may need np.concatenate when defining x_tr in order not to have an array of arrays"
   ]
  },
  {
   "cell_type": "markdown",
   "metadata": {},
   "source": [
    "### 3.b Primera red\n",
    "Entrene una primera red que alcance un _accuracy_ sobre validación de a lo menos un $80\\%$\n",
    "\n",
    "Puede utilizar todos los conceptos aprendidos en la tarea anterior, aunque la recomendación es dejar _Data Augmentation_ para una última iteración, una vez ya hayamos encontrado una estructura que se comporte relativamente bien. Una arquitectura relativamente buena podria ser una basada en los bloques definidos en el item 2.e, con al rededor de 5 bloques. Si desea aumentar la profundidad de su red sientase libre utilizar otras estructuras con menos _MaxPool_. Note que la nueva base de datos permite crear redes más profundas de todas  formas, pues no se alcanza el limite impuesto por la dimensión de las imagenes tan pronto. \n",
    "\n",
    "Reporte el resultado de un par de redes, comentando por qué realizo ajustes a ellas. Note que estos entrenamiento implican calculos con grandes cantidades de datos y probablemente sea recomendarlo correrlos en _hardware_ acelerado por GPU. "
   ]
  },
  {
   "cell_type": "markdown",
   "metadata": {},
   "source": [
    "### 3.c Batch Normalization\n",
    "Una manera propuesta de mejorar los desempeños de las redes en general, que funciona bastante bien en tareas de reconocimiento de imagenes es _Batch Normalization_. Segun su conocimiento teórico y investigación, ¿Qué realiza _Batch Normalization_ en términos matemáticos? En terminos de aprendizaje, ¿qué evita la utilización de _Batch Normalization_?\n",
    "\n",
    "Entren nuevamente su red preferida de la pregunta anterior, agregando capas de _Batch Normalization_ luego de cada capa de _MaxPool_. Comente sus resultados. \n",
    "\n",
    "¿Mejoran los desempeños de la red agregando _Batch Normalization_? ¿Existe diferencias entre una capa de _batch normalization_ justo antes o justo despues de una capa de _MaxPool_ en términos numéricos? ¿Opina lo mismo en términos de aprendizaje? Discuta. "
   ]
  },
  {
   "cell_type": "markdown",
   "metadata": {},
   "source": [
    "### 3.d Skip Connections\n",
    "Otra manera de mejorar los resultados de las redes, sobretodo de las redes profundas donde se observa el problema de _vanishing gradient_ son las relativamente nuevas _skip connections_ o redes residuales. En vez de preocuparse de como manejar los pesos de la red para permitir que el gradiente no explote o no desaparezca, se permite al gradiente \"pasar\" sin ser modificado, agregando conecciones con pesos fijos entre capas de distintas profundidades, en la practica permitiendo a la señar \"saltarse\" las capas intermedias. Esta idea ha permitido desarrollos como los de ResNet, llegando a profundidades de cientos de capas y aún logrando aprendizaje. \n",
    "\n",
    "Para implementar estas ideas debemos utilizar la API funcional de Keras al momento de construir los modelos. Algo que debemos notar es que la mayoría de los objetos de keras pueden ser llamados como funciones, y al momento de hacerlo con objetos `layers` es equivalente a conectarlos, por lo cual si hacemos `x(y)` retornamos un objeto con la capa `y` conectada a la capa `x`. \n",
    "\n",
    "Basandose en el código mostrado abajo, implemente una ResNet de su gusto, puede agregar _Skip conections_ a una red utilizada anteriormente o crear una nueva. Con estas redes debería lograr facilmente un _accuracy_ de al menos $90\\%$\n",
    "\n",
    "Comente sus resultados. "
   ]
  },
  {
   "cell_type": "code",
   "execution_count": null,
   "metadata": {},
   "outputs": [],
   "source": [
    "x = Input(x_tr.shape[1:])\n",
    "\n",
    "y = Conv2D(64, (3,3),padding='same',activation='relu')(x)\n",
    "y = Conv2D(64, (3,3),padding='same',activation='relu')(y)\n",
    "\n",
    "z = concatenate([x, y])\n",
    "\n",
    "z = MaxPooling2D(pool_size=(2, 2))(z)\n",
    "\n",
    "y = Conv2D(64, (3,3),padding='same',activation='relu')(z)\n",
    "y = Conv2D(64, (3,3),padding='same',activation='relu')(y)\n",
    "\n",
    "z = concatenate([z, y])\n",
    "\n",
    "# . . .\n",
    "\n",
    "\n",
    "# . . . \n",
    "\n",
    "\n",
    "out = Dense(120, activation='softmax')(z)\n",
    "\n",
    "res_mod = Model(inputs=x, output=out)"
   ]
  },
  {
   "cell_type": "markdown",
   "metadata": {},
   "source": [
    "### 3.e Red Final \n",
    "\n",
    "De todas las redes entrenadas anteriormente, elija la con mejor desempeño y entrenela utizando aumentación de datos como aprendió en las preguntas anteriores. ¿Mejora el desempeño de la red? "
   ]
  },
  {
   "cell_type": "markdown",
   "metadata": {},
   "source": [
    "### 3.f Modelo para frutas\n",
    "Repita la el item anterior, pero esta vez sobre el problema de clasificación de las frutas y verduras independiente de sus variedades. Para esto deberá cargar nuevamente los datos, esta vez transformando las categorías que originalmente eran un `string` a la primera palabra del string. Así al momento de hacer el paso a categorías y _one hot vector_, todas las imagenes con la misma fruta o verdura quedarán en la misma categoría. \n",
    "\n",
    "- ¿Cómo se desempeña el modelo esta vez? \n",
    "- ¿_A priori_ cuál habría considerado el problema más dificil para un modelo de aprendizaje de máquinas? Discuta. "
   ]
  },
  {
   "cell_type": "code",
   "execution_count": null,
   "metadata": {},
   "outputs": [],
   "source": []
  }
 ],
 "metadata": {
  "kernelspec": {
   "display_name": "Python 3",
   "language": "python",
   "name": "python3"
  },
  "language_info": {
   "codemirror_mode": {
    "name": "ipython",
    "version": 3
   },
   "file_extension": ".py",
   "mimetype": "text/x-python",
   "name": "python",
   "nbconvert_exporter": "python",
   "pygments_lexer": "ipython3",
   "version": "3.7.4"
  }
 },
 "nbformat": 4,
 "nbformat_minor": 4
}
